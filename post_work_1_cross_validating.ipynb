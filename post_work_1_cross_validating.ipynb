{
 "cells": [
  {
   "cell_type": "markdown",
   "metadata": {},
   "source": [
    "# Cross-validation"
   ]
  },
  {
   "cell_type": "code",
   "execution_count": 1,
   "metadata": {},
   "outputs": [
    {
     "name": "stderr",
     "output_type": "stream",
     "text": [
      "/opt/anaconda3/envs/recsys/lib/python3.11/site-packages/requests/__init__.py:86: RequestsDependencyWarning: Unable to find acceptable character detection dependency (chardet or charset_normalizer).\n",
      "  warnings.warn(\n"
     ]
    }
   ],
   "source": [
    "from datetime import timedelta\n",
    "import numpy as np\n",
    "import polars as pl\n",
    "import pandas as pd\n",
    "\n",
    "\n",
    "from tools import load_data_actions, generate_lightfm_recs_mapper, recall_at\n",
    "from tqdm import tqdm\n",
    "\n",
    "from rectools import Columns\n",
    "\n",
    "from sklearn.model_selection import train_test_split\n",
    "from sklearn.utils import shuffle\n",
    "from sklearn.metrics import roc_auc_score\n",
    "\n",
    "import mlflow\n",
    "from mlflow.models import infer_signature\n",
    "\n",
    "SEED = 42\n",
    "top_N = 40\n",
    "DATA_DIR = 'data/'"
   ]
  },
  {
   "cell_type": "code",
   "execution_count": 11,
   "metadata": {},
   "outputs": [],
   "source": [
    "def dataframe2rectools(df):\n",
    "    return (\n",
    "        df[[\"cookie\", \"node\", \"event_date\"]]\n",
    "        .with_columns(pl.lit(1).alias('weight'))\n",
    "        .rename({\n",
    "            \"cookie\": Columns.User,\n",
    "            \"node\": Columns.Item,\n",
    "            \"weight\": Columns.Weight,\n",
    "            \"event_date\": Columns.Datetime,\n",
    "        })\n",
    "    ).to_pandas()\n",
    "\n",
    "def cast_int_dtypes(df):\n",
    "    columns = [\"cookie\", \"node\"]\n",
    "    for col in columns:\n",
    "        df = df.with_columns(pl.col(col).cast(pl.Int64))\n",
    "    return df"
   ]
  },
  {
   "cell_type": "code",
   "execution_count": 12,
   "metadata": {},
   "outputs": [],
   "source": [
    "# Base\n",
    "# ------ downloading\n",
    "df_test_users = pl.read_parquet(f'{DATA_DIR}/test_users.pq')\n",
    "df_clickstream = pl.read_parquet(f'{DATA_DIR}/clickstream.pq')\n",
    "df_cat_features = pl.read_parquet(f'{DATA_DIR}/cat_features_preproc_20.pq')\n",
    "df_text_features = pl.read_parquet(f'{DATA_DIR}/text_features.pq')\n",
    "df_event = pl.read_parquet(f'{DATA_DIR}/events.pq')\n",
    "\n",
    "# train-validation split\n",
    "df_train, df_eval = load_data_actions(df_clickstream, df_event)\n",
    "\n",
    "# train-validation postprocessing\n",
    "df_train = cast_int_dtypes(df_train)\n",
    "df_eval = cast_int_dtypes(df_eval)"
   ]
  },
  {
   "cell_type": "code",
   "execution_count": null,
   "metadata": {},
   "outputs": [
    {
     "name": "stderr",
     "output_type": "stream",
     "text": [
      "/var/folders/1v/2njvtrl903s020_gk0tw647c0000gn/T/ipykernel_79525/3680953557.py:31: UserWarning: `to_struct()` should be passed a list of field names to avoid query errors in subsequent operations (e.g. <struct operation> not supported for dtype Unknown)\n",
      "  item_features = item_features.with_columns(pl.col(\"mean_title_projection\").list.to_struct()).unnest(\"mean_title_projection\")\n"
     ]
    }
   ],
   "source": [
    "# item features\n",
    "# ------ mean text features\n",
    "mean_by_cat = (\n",
    "    df_text_features\n",
    "    .join(df_cat_features[\"item\", \"node\"], on=\"item\", how=\"left\")\n",
    "    .to_pandas()\n",
    "    .groupby(\"node\")[\"title_projection\"]\n",
    "    .apply(lambda vs: np.mean(np.stack(vs.values), axis=0).tolist())\n",
    "    .reset_index(name=\"mean_title_projection\")\n",
    ")\n",
    "# ------ additional features\n",
    "addit_features = pl.read_parquet(DATA_DIR+\"cat_features_preproc_20.pq\")\n",
    "atr_cols = [i for i in addit_features.columns if \"attr\" in i]\n",
    "addit_features = (\n",
    "    addit_features.group_by(\"node\")\n",
    "    .agg([pl.col(atr).mean() for atr in atr_cols])\n",
    ")\n",
    "# ------ concatination\n",
    "item_features = pl.DataFrame(mean_by_cat)\n",
    "item_features = item_features.with_columns(pl.col(\"mean_title_projection\").list.to_struct()).unnest(\"mean_title_projection\")\n",
    "item_features = item_features.join(addit_features, how=\"left\", on=\"node\")\n",
    "item_features = item_features.rename({\"id\": \"node\"})"
   ]
  },
  {
   "cell_type": "code",
   "execution_count": 22,
   "metadata": {},
   "outputs": [],
   "source": [
    "# Candidates from 1st steps\n",
    "candidates_ALS = pl.read_csv('data/first_stage_candidates_ALS_200.csv')\n",
    "candidates_ANN = pl.read_csv('data/first_stage_prediction_ANN_40.csv')\n",
    "candidates_BM25 = pl.read_csv('data/first_stage_prediction_BM25_40.csv')\n",
    "\n",
    "candidates = pl.concat([candidates_ALS, candidates_BM25, candidates_ANN])\n",
    "candidates = candidates.unique(subset=[\"cookie\", \"node\"], maintain_order=True)\n",
    "candidates = candidates.with_columns(\n",
    "    pl.col(\"cookie\").cum_count().over(\"cookie\").alias(\"rank\").cast(pl.Int64)\n",
    ")"
   ]
  },
  {
   "cell_type": "code",
   "execution_count": 25,
   "metadata": {},
   "outputs": [
    {
     "data": {
      "text/html": [
       "<div><style>\n",
       ".dataframe > thead > tr,\n",
       ".dataframe > tbody > tr {\n",
       "  text-align: right;\n",
       "  white-space: pre-wrap;\n",
       "}\n",
       "</style>\n",
       "<small>shape: (47_261, 5)</small><table border=\"1\" class=\"dataframe\"><thead><tr><th>cookie</th><th>node</th><th>rank</th><th>event</th><th>target</th></tr><tr><td>i64</td><td>i64</td><td>i64</td><td>i64</td><td>i32</td></tr></thead><tbody><tr><td>0</td><td>130589</td><td>103</td><td>19</td><td>1</td></tr><tr><td>2</td><td>151577</td><td>1</td><td>19</td><td>1</td></tr><tr><td>3</td><td>214377</td><td>2</td><td>5</td><td>1</td></tr><tr><td>19</td><td>196680</td><td>20</td><td>4</td><td>1</td></tr><tr><td>22</td><td>48366</td><td>177</td><td>5</td><td>1</td></tr><tr><td>&hellip;</td><td>&hellip;</td><td>&hellip;</td><td>&hellip;</td><td>&hellip;</td></tr><tr><td>149375</td><td>80256</td><td>216</td><td>5</td><td>1</td></tr><tr><td>149424</td><td>166419</td><td>225</td><td>13</td><td>1</td></tr><tr><td>149539</td><td>166425</td><td>243</td><td>10</td><td>1</td></tr><tr><td>149554</td><td>166443</td><td>252</td><td>10</td><td>1</td></tr><tr><td>149769</td><td>166419</td><td>212</td><td>10</td><td>1</td></tr></tbody></table></div>"
      ],
      "text/plain": [
       "shape: (47_261, 5)\n",
       "┌────────┬────────┬──────┬───────┬────────┐\n",
       "│ cookie ┆ node   ┆ rank ┆ event ┆ target │\n",
       "│ ---    ┆ ---    ┆ ---  ┆ ---   ┆ ---    │\n",
       "│ i64    ┆ i64    ┆ i64  ┆ i64   ┆ i32    │\n",
       "╞════════╪════════╪══════╪═══════╪════════╡\n",
       "│ 0      ┆ 130589 ┆ 103  ┆ 19    ┆ 1      │\n",
       "│ 2      ┆ 151577 ┆ 1    ┆ 19    ┆ 1      │\n",
       "│ 3      ┆ 214377 ┆ 2    ┆ 5     ┆ 1      │\n",
       "│ 19     ┆ 196680 ┆ 20   ┆ 4     ┆ 1      │\n",
       "│ 22     ┆ 48366  ┆ 177  ┆ 5     ┆ 1      │\n",
       "│ …      ┆ …      ┆ …    ┆ …     ┆ …      │\n",
       "│ 149375 ┆ 80256  ┆ 216  ┆ 5     ┆ 1      │\n",
       "│ 149424 ┆ 166419 ┆ 225  ┆ 13    ┆ 1      │\n",
       "│ 149539 ┆ 166425 ┆ 243  ┆ 10    ┆ 1      │\n",
       "│ 149554 ┆ 166443 ┆ 252  ┆ 10    ┆ 1      │\n",
       "│ 149769 ┆ 166419 ┆ 212  ┆ 10    ┆ 1      │\n",
       "└────────┴────────┴──────┴───────┴────────┘"
      ]
     },
     "execution_count": 25,
     "metadata": {},
     "output_type": "execute_result"
    }
   ],
   "source": [
    "# Consructing dataframes for learning\n",
    "# ------ positive interactions\n",
    "pos = (\n",
    "    candidates\n",
    "    .join(\n",
    "        df_eval,\n",
    "        on=['cookie', 'node'],\n",
    "        how='inner'\n",
    "    )\n",
    "    .with_columns(\n",
    "        pl.lit(1).alias(\"target\")\n",
    "    )\n",
    ")\n",
    "\n",
    "# ------ negative interactions\n",
    "neg = (\n",
    "    candidates\n",
    "    .join(\n",
    "        df_eval,\n",
    "        on=['cookie', 'node'],\n",
    "        how='left'\n",
    "    )\n",
    ")"
   ]
  },
  {
   "cell_type": "code",
   "execution_count": 26,
   "metadata": {},
   "outputs": [
    {
     "data": {
      "text/html": [
       "<div><style>\n",
       ".dataframe > thead > tr,\n",
       ".dataframe > tbody > tr {\n",
       "  text-align: right;\n",
       "  white-space: pre-wrap;\n",
       "}\n",
       "</style>\n",
       "<small>shape: (156_112, 3)</small><table border=\"1\" class=\"dataframe\"><thead><tr><th>cookie</th><th>node</th><th>event</th></tr><tr><td>i64</td><td>i64</td><td>i64</td></tr></thead><tbody><tr><td>124778</td><td>1919</td><td>10</td></tr><tr><td>30307</td><td>170828</td><td>10</td></tr><tr><td>127744</td><td>152471</td><td>5</td></tr><tr><td>41231</td><td>260627</td><td>10</td></tr><tr><td>142925</td><td>259422</td><td>13</td></tr><tr><td>&hellip;</td><td>&hellip;</td><td>&hellip;</td></tr><tr><td>18852</td><td>122277</td><td>10</td></tr><tr><td>17398</td><td>227560</td><td>15</td></tr><tr><td>133802</td><td>57955</td><td>14</td></tr><tr><td>115448</td><td>214221</td><td>5</td></tr><tr><td>138767</td><td>232050</td><td>10</td></tr></tbody></table></div>"
      ],
      "text/plain": [
       "shape: (156_112, 3)\n",
       "┌────────┬────────┬───────┐\n",
       "│ cookie ┆ node   ┆ event │\n",
       "│ ---    ┆ ---    ┆ ---   │\n",
       "│ i64    ┆ i64    ┆ i64   │\n",
       "╞════════╪════════╪═══════╡\n",
       "│ 124778 ┆ 1919   ┆ 10    │\n",
       "│ 30307  ┆ 170828 ┆ 10    │\n",
       "│ 127744 ┆ 152471 ┆ 5     │\n",
       "│ 41231  ┆ 260627 ┆ 10    │\n",
       "│ 142925 ┆ 259422 ┆ 13    │\n",
       "│ …      ┆ …      ┆ …     │\n",
       "│ 18852  ┆ 122277 ┆ 10    │\n",
       "│ 17398  ┆ 227560 ┆ 15    │\n",
       "│ 133802 ┆ 57955  ┆ 14    │\n",
       "│ 115448 ┆ 214221 ┆ 5     │\n",
       "│ 138767 ┆ 232050 ┆ 10    │\n",
       "└────────┴────────┴───────┘"
      ]
     },
     "execution_count": 26,
     "metadata": {},
     "output_type": "execute_result"
    }
   ],
   "source": [
    "df_eval"
   ]
  },
  {
   "cell_type": "code",
   "execution_count": null,
   "metadata": {},
   "outputs": [
    {
     "name": "stdout",
     "output_type": "stream",
     "text": [
      "(47261, 5)\n",
      "(413161, 5)\n"
     ]
    }
   ],
   "source": [
    "# positive interactions\n",
    "pos = candidates.merge(\n",
    "    df_eval,\n",
    "    on=['cookie', 'node'],\n",
    "    how='inner'\n",
    "    )\n",
    "\n",
    "pos.loc[:, 'target'] = 1\n",
    "print(pos.shape)\n",
    "# negative interactions\n",
    "neg = candidates.set_index(['cookie', 'node'])\\\n",
    "        .join(df_eval.set_index(['cookie', 'node']))\n",
    "\n",
    "neg = neg[neg['event'].isnull()].reset_index()\n",
    "neg = neg.sample(frac=0.03)\n",
    "neg.loc[:, 'target'] = 0\n",
    "\n",
    "print(neg.shape)\n",
    "\n",
    "\n",
    "# train test\n",
    "ctb_train_users, ctb_test_users = train_test_split(\n",
    "    df_eval['cookie'].unique(),\n",
    "    random_state=SEED,\n",
    "    test_size=0.2\n",
    "    )\n",
    "# train eval\n",
    "# ctb_train_users, ctb_eval_users = train_test_split(\n",
    "#     ctb_train_users,\n",
    "#     random_state=SEED,\n",
    "#     test_size=0.1\n",
    "#     )\n",
    "\n",
    "select_col = [\"cookie\", \"node\", \"rank\", 'target']\n",
    "\n",
    "\n",
    "# Catboost train\n",
    "ctb_train = shuffle(\n",
    "    pd.concat([\n",
    "        pos[pos['cookie'].isin(ctb_train_users)],\n",
    "        neg[neg['cookie'].isin(ctb_train_users)]\n",
    "])[select_col]\n",
    ")\n",
    "# Catboost test\n",
    "ctb_test = shuffle(\n",
    "    pd.concat([\n",
    "        pos[pos['cookie'].isin(ctb_test_users)],\n",
    "        neg[neg['cookie'].isin(ctb_test_users)]\n",
    "])[select_col]\n",
    ")\n",
    "# # for early stopping\n",
    "# ctb_eval = shuffle(\n",
    "#     pd.concat([\n",
    "#         pos[pos['cookie'].isin(ctb_eval_users)],\n",
    "#         neg[neg['cookie'].isin(ctb_eval_users)]\n",
    "# ])[select_col]\n",
    "# )"
   ]
  },
  {
   "cell_type": "code",
   "execution_count": null,
   "metadata": {},
   "outputs": [
    {
     "data": {
      "text/plain": [
       "(target\n",
       " 0    0.897621\n",
       " 1    0.102379\n",
       " Name: proportion, dtype: float64,\n",
       " target\n",
       " 0    0.896279\n",
       " 1    0.103721\n",
       " Name: proportion, dtype: float64)"
      ]
     },
     "metadata": {},
     "output_type": "display_data"
    }
   ],
   "source": [
    "ctb_train['target'].value_counts(normalize=True), ctb_test['target'].value_counts(normalize=True)"
   ]
  },
  {
   "cell_type": "code",
   "execution_count": null,
   "metadata": {},
   "outputs": [
    {
     "ename": "AttributeError",
     "evalue": "'DataFrame' object has no attribute 'to_pandas'",
     "output_type": "error",
     "traceback": [
      "\u001b[31m---------------------------------------------------------------------------\u001b[39m\n",
      "\u001b[31mAttributeError\u001b[39m                            Traceback (most recent call last)\n",
      "\u001b[32m/var/folders/1v/2njvtrl903s020_gk0tw647c0000gn/T/ipykernel_79525/818693123.py\u001b[39m in \u001b[36m?\u001b[39m\u001b[34m()\u001b[39m\n",
      "\u001b[32m----> \u001b[39m\u001b[32m1\u001b[39m item_features = item_features.to_pandas()\n",
      "\u001b[32m      2\u001b[39m user_col = [\u001b[33m'cookie'\u001b[39m]\n",
      "\u001b[32m      3\u001b[39m item_col = item_features.columns\n",
      "\u001b[32m      4\u001b[39m \n",
      "\n",
      "\u001b[32m/opt/anaconda3/envs/recsys/lib/python3.11/site-packages/pandas/core/generic.py\u001b[39m in \u001b[36m?\u001b[39m\u001b[34m(self, name)\u001b[39m\n",
      "\u001b[32m   6295\u001b[39m             \u001b[38;5;28;01mand\u001b[39;00m name \u001b[38;5;28;01mnot\u001b[39;00m \u001b[38;5;28;01min\u001b[39;00m self._accessors\n",
      "\u001b[32m   6296\u001b[39m             \u001b[38;5;28;01mand\u001b[39;00m self._info_axis._can_hold_identifiers_and_holds_name(name)\n",
      "\u001b[32m   6297\u001b[39m         ):\n",
      "\u001b[32m   6298\u001b[39m             \u001b[38;5;28;01mreturn\u001b[39;00m self[name]\n",
      "\u001b[32m-> \u001b[39m\u001b[32m6299\u001b[39m         \u001b[38;5;28;01mreturn\u001b[39;00m object.__getattribute__(self, name)\n",
      "\n",
      "\u001b[31mAttributeError\u001b[39m: 'DataFrame' object has no attribute 'to_pandas'"
     ]
    }
   ],
   "source": [
    "item_features = item_features.to_pandas()\n",
    "user_col = ['cookie']\n",
    "item_col = item_features.columns\n",
    "\n",
    "train_feat = (\n",
    "    ctb_train\n",
    "    # .merge(\n",
    "    #     users[user_col],\n",
    "    #     on=['user_id'],\n",
    "    #     how='left')\n",
    "    .merge(\n",
    "        item_features[item_col],\n",
    "        on=['node'],\n",
    "        how='left')\n",
    ")\n",
    "# eval_feat = (\n",
    "#     ctb_eval\n",
    "#     # .merge(\n",
    "#     #     users[user_col],\n",
    "#     #     on=['user_id'],\n",
    "#     #     how='left')\n",
    "#     .merge(\n",
    "#         item_features[item_col],\n",
    "#         on=['node'],\n",
    "#         how='left')\n",
    "# )\n",
    "test_feat = (\n",
    "    ctb_test\n",
    "    # .merge(\n",
    "    #     users[user_col],\n",
    "    #     on=['user_id'],\n",
    "    #     how='left')\n",
    "    .merge(\n",
    "        item_features[item_col],\n",
    "        on=['node'],\n",
    "        how='left'\n",
    "        )\n",
    ")\n",
    "train_feat.isna().sum().sum(), test_feat.isna().sum().sum()"
   ]
  },
  {
   "cell_type": "code",
   "execution_count": null,
   "metadata": {},
   "outputs": [],
   "source": [
    "train_feat = train_feat.sort_values(by=[\"cookie\", \"target\", \"rank\"], ascending=[True, False, True])\n",
    "# eval_feat = eval_feat.sort_values(by=[\"cookie\", \"target\", \"rank\"], ascending=[True, False, True])\n",
    "test_feat = test_feat.sort_values(by=[\"cookie\", \"target\", \"rank\"], ascending=[True, False, True])"
   ]
  },
  {
   "cell_type": "code",
   "execution_count": null,
   "metadata": {},
   "outputs": [
    {
     "data": {
      "text/plain": [
       "((368512, 85), (368512, 1), (91910, 85), (91910,))"
      ]
     },
     "metadata": {},
     "output_type": "display_data"
    }
   ],
   "source": [
    "drop_col = ['cookie', 'node']\n",
    "target_col = ['target']\n",
    "cat_col = [f\"field_{i}\" for i in range(64)]\n",
    "\n",
    "X_train, y_train = train_feat.drop(drop_col + target_col, axis=1), train_feat[target_col]\n",
    "train_cookies = train_feat[\"cookie\"]\n",
    "# X_val, y_val = eval_feat.drop(drop_col + target_col, axis=1), eval_feat[target_col]\n",
    "# val_cookies = eval_feat[\"cookie\"]\n",
    "X_test, y_test = test_feat.drop(drop_col + target_col, axis=1), test_feat['target']\n",
    "test_cookies = test_feat[\"cookie\"]\n",
    "X_train.shape, y_train.shape, X_test.shape, y_test.shape"
   ]
  },
  {
   "cell_type": "code",
   "execution_count": null,
   "metadata": {},
   "outputs": [],
   "source": [
    "from catboost import Pool\n",
    "train_pool = Pool(\n",
    "    data=X_train,\n",
    "    label=y_train,\n",
    "    group_id=train_cookies,\n",
    "    cat_features=[\"rank\"]\n",
    ")\n",
    "# val_pool = Pool(\n",
    "#     data=X_val,\n",
    "#     label=y_val,\n",
    "#     group_id=val_cookies\n",
    "# )\n",
    "test_pool = Pool(\n",
    "    data=X_test,\n",
    "    label=y_test,\n",
    "    group_id=test_cookies,\n",
    "    cat_features=[\"rank\"]\n",
    ")"
   ]
  },
  {
   "cell_type": "code",
   "execution_count": null,
   "metadata": {},
   "outputs": [],
   "source": [
    "from catboost import CatBoostClassifier, CatBoostRanker\n",
    "from copy import deepcopy\n",
    "\n",
    "# параметры для обучения\n",
    "est_params = {\n",
    "  'subsample': 0.9,\n",
    "  'max_depth': 4,\n",
    "  'n_estimators': 5000,\n",
    "  'learning_rate': 0.03,\n",
    "  'thread_count': 20,\n",
    "  'random_state': SEED,\n",
    "  'verbose': 200,\n",
    "#   \"loss_function\":'YetiRankPairwise',\n",
    "#  \"eval_metric\":'NDCG'\n",
    "}\n",
    "\n",
    "ctb_model = CatBoostClassifier(**est_params)\n",
    "\n",
    "\n",
    "default_parameters = {\n",
    "    'iterations': 5000,\n",
    "    'custom_metric': ['NDCG', 'AUC'],\n",
    "    'verbose': 100,\n",
    "    # \"loss_function\":'YetiRankPairwise',\n",
    "    'thread_count': 20,\n",
    "    'learning_rate': 0.1,\n",
    "    'max_depth': 4,\n",
    "    'random_seed': SEED,\n",
    "}\n",
    "\n",
    "parameters = {}\n",
    "\n",
    "def fit_model(loss_function, additional_params=None, train_pool=None, test_pool=None):\n",
    "    parameters = deepcopy(default_parameters)\n",
    "    parameters['loss_function'] = loss_function\n",
    "    parameters['train_dir'] = loss_function\n",
    "\n",
    "    if additional_params is not None:\n",
    "        parameters.update(additional_params)\n",
    "\n",
    "    model = CatBoostRanker(**parameters)\n",
    "    model.fit(train_pool, eval_set=test_pool, plot=True, early_stopping_rounds=100,)\n",
    "\n",
    "    return model"
   ]
  },
  {
   "cell_type": "code",
   "execution_count": null,
   "metadata": {},
   "outputs": [
    {
     "name": "stderr",
     "output_type": "stream",
     "text": [
      "/opt/anaconda3/envs/recsys/lib/python3.11/site-packages/catboost/core.py:6402: RuntimeWarning: Regression loss ('RMSE') ignores an important ranking parameter 'group_id'\n",
      "  warnings.warn(\"Regression loss ('{}') ignores an important ranking parameter 'group_id'\".format(loss_function), RuntimeWarning)\n"
     ]
    },
    {
     "data": {
      "application/vnd.jupyter.widget-view+json": {
       "model_id": "dc20c15f62ab4b31af7f29fb157d3e05",
       "version_major": 2,
       "version_minor": 0
      },
      "text/plain": [
       "MetricVisualizer(layout=Layout(align_self='stretch', height='500px'))"
      ]
     },
     "metadata": {},
     "output_type": "display_data"
    },
    {
     "name": "stdout",
     "output_type": "stream",
     "text": [
      "0:\tlearn: 0.3014027\ttest: 0.3031835\tbest: 0.3031835 (0)\ttotal: 26ms\tremaining: 2m 9s\n",
      "100:\tlearn: 0.2891574\ttest: 0.2908572\tbest: 0.2908572 (100)\ttotal: 2.62s\tremaining: 2m 7s\n",
      "200:\tlearn: 0.2878517\ttest: 0.2898062\tbest: 0.2898062 (200)\ttotal: 5.09s\tremaining: 2m 1s\n",
      "300:\tlearn: 0.2870966\ttest: 0.2893645\tbest: 0.2893645 (300)\ttotal: 7.66s\tremaining: 1m 59s\n",
      "400:\tlearn: 0.2865652\ttest: 0.2891557\tbest: 0.2891557 (400)\ttotal: 10.2s\tremaining: 1m 57s\n",
      "500:\tlearn: 0.2861316\ttest: 0.2890014\tbest: 0.2890014 (500)\ttotal: 12.7s\tremaining: 1m 54s\n",
      "600:\tlearn: 0.2857741\ttest: 0.2889353\tbest: 0.2889353 (600)\ttotal: 15.3s\tremaining: 1m 51s\n",
      "700:\tlearn: 0.2854879\ttest: 0.2888529\tbest: 0.2888529 (700)\ttotal: 17.8s\tremaining: 1m 49s\n",
      "800:\tlearn: 0.2852241\ttest: 0.2887887\tbest: 0.2887887 (800)\ttotal: 20.5s\tremaining: 1m 47s\n",
      "900:\tlearn: 0.2849846\ttest: 0.2887726\tbest: 0.2887686 (846)\ttotal: 23s\tremaining: 1m 44s\n",
      "1000:\tlearn: 0.2847254\ttest: 0.2887414\tbest: 0.2887405 (950)\ttotal: 25.5s\tremaining: 1m 41s\n",
      "1100:\tlearn: 0.2845239\ttest: 0.2887213\tbest: 0.2887172 (1094)\ttotal: 28s\tremaining: 1m 39s\n",
      "1200:\tlearn: 0.2843094\ttest: 0.2887129\tbest: 0.2887097 (1186)\ttotal: 30.4s\tremaining: 1m 36s\n",
      "1300:\tlearn: 0.2841160\ttest: 0.2887157\tbest: 0.2887097 (1207)\ttotal: 32.8s\tremaining: 1m 33s\n",
      "Stopped by overfitting detector  (100 iterations wait)\n",
      "\n",
      "bestTest = 0.2887096759\n",
      "bestIteration = 1207\n",
      "\n",
      "Shrink model to first 1208 iterations.\n"
     ]
    }
   ],
   "source": [
    "model = fit_model(\n",
    "    'RMSE',\n",
    "    {'custom_metric': ['PrecisionAt:top=40', 'RecallAt:top=40', 'MAP:top=40', 'AUC']},\n",
    "    train_pool=train_pool,\n",
    "    test_pool=test_pool\n",
    "    )"
   ]
  },
  {
   "cell_type": "code",
   "execution_count": null,
   "metadata": {},
   "outputs": [],
   "source": [
    "from catboost import CatBoostClassifier, CatBoostRanker\n",
    "from catboost import Pool\n",
    "# параметры для обучения\n",
    "est_params = {\n",
    "    'subsample': 0.9,\n",
    "    'max_depth': 4,\n",
    "    'n_estimators': 5000,\n",
    "    'learning_rate': 0.03,\n",
    "    'thread_count': 20,\n",
    "    'random_state': SEED,\n",
    "    'verbose': 200,\n",
    "    \"loss_function\": 'YetiRank',\n",
    "}\n",
    "def fit_model(train_pool, df_eval, parameters=None):\n",
    "    model = CatBoostRanker(**parameters)\n",
    "    model.fit(train_pool)\n",
    "    return model\n",
    "\n"
   ]
  },
  {
   "cell_type": "code",
   "execution_count": null,
   "metadata": {},
   "outputs": [],
   "source": [
    "mlflow.set_tracking_uri(\"http://127.0.0.1:5000\")\n",
    "mlflow.set_experiment(\"avito_cup_pers_recs\")\n",
    "with mlflow.start_run():\n",
    "    roc_auc = roc_auc_score(y_test, y_pred)\n",
    "\n",
    "    mlflow.log_params(model.get_all_params())\n",
    "    mlflow.log_metric(\"roc_auc\", roc_auc)\n",
    "\n",
    "    mlflow.set_tag(\"Training Info\", \"Final CatboostRanker model of competition\")\n",
    "\n",
    "    model_info = mlflow.catboost.log_model(\n",
    "        model,\n",
    "        \"ctb_model_ranker\",\n",
    "        signature=signature,\n",
    "        registered_model_name=\"comp-final-ranker\",\n",
    "        )\n",
    "\n",
    "    print(f\"ROC AUC score = {roc_auc:.4f}\")"
   ]
  }
 ],
 "metadata": {
  "kernelspec": {
   "display_name": "recsys",
   "language": "python",
   "name": "python3"
  },
  "language_info": {
   "codemirror_mode": {
    "name": "ipython",
    "version": 3
   },
   "file_extension": ".py",
   "mimetype": "text/x-python",
   "name": "python",
   "nbconvert_exporter": "python",
   "pygments_lexer": "ipython3",
   "version": "3.11.11"
  }
 },
 "nbformat": 4,
 "nbformat_minor": 2
}
