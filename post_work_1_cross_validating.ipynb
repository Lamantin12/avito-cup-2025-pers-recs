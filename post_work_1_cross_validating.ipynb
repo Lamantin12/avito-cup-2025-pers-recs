{
 "cells": [
  {
   "cell_type": "markdown",
   "metadata": {},
   "source": [
    "# Cross-validation"
   ]
  },
  {
   "cell_type": "code",
   "execution_count": 69,
   "metadata": {
    "ExecuteTime": {
     "end_time": "2025-06-12T09:20:43.780253Z",
     "start_time": "2025-06-12T09:20:43.773663Z"
    }
   },
   "outputs": [],
   "source": [
    "from datetime import timedelta\n",
    "import numpy as np\n",
    "import polars as pl\n",
    "import pandas as pd\n",
    "\n",
    "\n",
    "from tools import load_data_actions, generate_lightfm_recs_mapper, recall_at\n",
    "from tqdm import tqdm\n",
    "\n",
    "from rectools import Columns\n",
    "\n",
    "from sklearn.model_selection import train_test_split, KFold\n",
    "from sklearn.utils import shuffle\n",
    "from sklearn.metrics import roc_auc_score\n",
    "\n",
    "import mlflow\n",
    "from mlflow.models import infer_signature \n",
    "\n",
    "from catboost import Pool, CatBoostRanker\n",
    "\n",
    "SEED = 42\n",
    "top_N = 40\n",
    "DATA_DIR = 'data/'"
   ]
  },
  {
   "cell_type": "code",
   "execution_count": 3,
   "metadata": {
    "ExecuteTime": {
     "end_time": "2025-06-12T09:20:45.789271Z",
     "start_time": "2025-06-12T09:20:45.783443Z"
    }
   },
   "outputs": [],
   "source": [
    "def dataframe2rectools(df):\n",
    "    return (\n",
    "        df[[\"cookie\", \"node\", \"event_date\"]]\n",
    "        .with_columns(pl.lit(1).alias('weight'))\n",
    "        .rename({\n",
    "            \"cookie\": Columns.User,\n",
    "            \"node\": Columns.Item,\n",
    "            \"weight\": Columns.Weight,\n",
    "            \"event_date\": Columns.Datetime,\n",
    "        })\n",
    "    ).to_pandas()\n",
    "\n",
    "def cast_int_dtypes(df):\n",
    "    columns = [\"cookie\", \"node\"]\n",
    "    for col in columns:\n",
    "        df = df.with_columns(pl.col(col).cast(pl.Int64))\n",
    "    return df"
   ]
  },
  {
   "cell_type": "code",
   "execution_count": 4,
   "metadata": {
    "ExecuteTime": {
     "end_time": "2025-06-12T09:21:08.006657Z",
     "start_time": "2025-06-12T09:21:01.809425Z"
    }
   },
   "outputs": [],
   "source": [
    "# Base\n",
    "# ------ downloading\n",
    "df_test_users = pl.read_parquet(f'{DATA_DIR}/test_users.pq')\n",
    "df_clickstream = pl.read_parquet(f'{DATA_DIR}/clickstream.pq')\n",
    "df_cat_features = pl.read_parquet(f'{DATA_DIR}/cat_features_preproc_20.pq')\n",
    "df_text_features = pl.read_parquet(f'{DATA_DIR}/text_features.pq')\n",
    "df_event = pl.read_parquet(f'{DATA_DIR}/events.pq')\n",
    "\n",
    "# train-validation split\n",
    "df_train, df_eval = load_data_actions(df_clickstream, df_event)\n",
    "\n",
    "# train-validation postprocessing\n",
    "df_train = cast_int_dtypes(df_train)\n",
    "df_eval = cast_int_dtypes(df_eval)"
   ]
  },
  {
   "cell_type": "code",
   "execution_count": 7,
   "metadata": {
    "ExecuteTime": {
     "start_time": "2025-06-12T09:21:29.972362Z"
    },
    "jupyter": {
     "is_executing": true
    }
   },
   "outputs": [
    {
     "name": "stderr",
     "output_type": "stream",
     "text": [
      "/var/folders/1v/2njvtrl903s020_gk0tw647c0000gn/T/ipykernel_1215/2199896430.py:20: UserWarning: `to_struct()` should be passed a list of field names to avoid query errors in subsequent operations (e.g. <struct operation> not supported for dtype Unknown)\n",
      "  item_features = item_features.with_columns(pl.col(\"mean_title_projection\").list.to_struct()).unnest(\"mean_title_projection\")\n"
     ]
    }
   ],
   "source": [
    "# item features\n",
    "# ------ mean text features\n",
    "mean_by_cat = (\n",
    "    df_text_features\n",
    "    .join(df_cat_features[\"item\", \"node\"], on=\"item\", how=\"left\")\n",
    "    .to_pandas()\n",
    "    .groupby(\"node\")[\"title_projection\"]\n",
    "    .apply(lambda vs: np.mean(np.stack(vs.values), axis=0).tolist())\n",
    "    .reset_index(name=\"mean_title_projection\")\n",
    ")\n",
    "# ------ additional features\n",
    "addit_features = pl.read_parquet(DATA_DIR+\"cat_features_preproc_20.pq\")\n",
    "atr_cols = [i for i in addit_features.columns if \"attr\" in i]\n",
    "addit_features = (\n",
    "    addit_features.group_by(\"node\")\n",
    "    .agg([pl.col(atr).mean() for atr in atr_cols])\n",
    ")\n",
    "# ------ concatination\n",
    "item_features = pl.DataFrame(mean_by_cat)\n",
    "item_features = item_features.with_columns(pl.col(\"mean_title_projection\").list.to_struct()).unnest(\"mean_title_projection\")\n",
    "item_features = item_features.join(addit_features, how=\"left\", on=\"node\")"
   ]
  },
  {
   "cell_type": "code",
   "execution_count": 8,
   "metadata": {},
   "outputs": [],
   "source": [
    "# Candidates from 1st steps\n",
    "candidates_ALS = pl.read_csv('data/first_stage_candidates_ALS_200.csv')\n",
    "candidates_ANN = pl.read_csv('data/first_stage_prediction_ANN_40.csv')\n",
    "candidates_BM25 = pl.read_csv('data/first_stage_prediction_BM25_40.csv')\n",
    "\n",
    "candidates = pl.concat([candidates_ALS, candidates_BM25, candidates_ANN])\n",
    "candidates = candidates.unique(subset=[\"cookie\", \"node\"], maintain_order=True)\n",
    "candidates = candidates.with_columns(\n",
    "    pl.col(\"cookie\").cum_count().over(\"cookie\").alias(\"rank\").cast(pl.Int64)\n",
    ")"
   ]
  },
  {
   "cell_type": "code",
   "execution_count": 41,
   "metadata": {},
   "outputs": [],
   "source": [
    "# Consructing dataframes for learning\n",
    "select_col = [\"cookie\", \"node\", \"rank\", 'target']\n",
    "# ------ positive interactions\n",
    "pos = (\n",
    "    candidates\n",
    "    .join(\n",
    "        df_eval,\n",
    "        on=['cookie', 'node'],\n",
    "        how='inner'\n",
    "    )\n",
    "    .with_columns(\n",
    "        pl.lit(1).alias(\"target\")\n",
    "    )\n",
    "    .select(select_col)\n",
    ")\n",
    "\n",
    "# ------ negative interactions\n",
    "neg = (\n",
    "    candidates\n",
    "    .join(\n",
    "        df_eval,\n",
    "        on=['cookie', 'node'],\n",
    "        how='left'\n",
    "    )\n",
    "    .filter(pl.col(\"event\").is_null())\n",
    "    .with_columns(\n",
    "        pl.lit(0).alias(\"target\")\n",
    "    )\n",
    "    .sample(fraction=0.03)\n",
    "    .select(select_col)\n",
    ")"
   ]
  },
  {
   "cell_type": "code",
   "execution_count": 102,
   "metadata": {},
   "outputs": [
    {
     "name": "stdout",
     "output_type": "stream",
     "text": [
      "0\n",
      "Groupwise loss function. OneHotMaxSize set to 10\n",
      "0:\ttotal: 24.2ms\tremaining: 7.26s\n"
     ]
    },
    {
     "ename": "KeyboardInterrupt",
     "evalue": "",
     "output_type": "error",
     "traceback": [
      "\u001b[31m---------------------------------------------------------------------------\u001b[39m",
      "\u001b[31mKeyboardInterrupt\u001b[39m                         Traceback (most recent call last)",
      "\u001b[36mCell\u001b[39m\u001b[36m \u001b[39m\u001b[32mIn[102]\u001b[39m\u001b[32m, line 41\u001b[39m\n\u001b[32m     33\u001b[39m train_pool = Pool(\n\u001b[32m     34\u001b[39m     data=X_train.to_pandas(),\n\u001b[32m     35\u001b[39m     label=y_train.to_pandas(),\n\u001b[32m     36\u001b[39m     group_id=train_cookies.to_pandas(),\n\u001b[32m     37\u001b[39m     cat_features=[\u001b[33m\"\u001b[39m\u001b[33mrank\u001b[39m\u001b[33m\"\u001b[39m]\n\u001b[32m     38\u001b[39m )\n\u001b[32m     40\u001b[39m model = CatBoostRanker(**parameters)\n\u001b[32m---> \u001b[39m\u001b[32m41\u001b[39m \u001b[43mmodel\u001b[49m\u001b[43m.\u001b[49m\u001b[43mfit\u001b[49m\u001b[43m(\u001b[49m\u001b[43mtrain_pool\u001b[49m\u001b[43m)\u001b[49m\n\u001b[32m     42\u001b[39m pred_scores = model.predict(X_val[X_train.columns].to_pandas())\n\u001b[32m     43\u001b[39m prediction = X_val.with_columns(pl.Series(\u001b[33m\"\u001b[39m\u001b[33mscore\u001b[39m\u001b[33m\"\u001b[39m, pred_scores)).sort(by=[\u001b[33m\"\u001b[39m\u001b[33mcookie\u001b[39m\u001b[33m\"\u001b[39m, \u001b[33m\"\u001b[39m\u001b[33mscore\u001b[39m\u001b[33m\"\u001b[39m], descending=[\u001b[38;5;28;01mTrue\u001b[39;00m, \u001b[38;5;28;01mFalse\u001b[39;00m])\n",
      "\u001b[36mFile \u001b[39m\u001b[32m/opt/anaconda3/envs/recsys/lib/python3.11/site-packages/catboost/core.py:6283\u001b[39m, in \u001b[36mCatBoostRanker.fit\u001b[39m\u001b[34m(self, X, y, group_id, cat_features, text_features, embedding_features, pairs, graph, sample_weight, group_weight, subgroup_id, pairs_weight, baseline, use_best_model, eval_set, verbose, logging_level, plot, plot_file, column_description, verbose_eval, metric_period, silent, early_stopping_rounds, save_snapshot, snapshot_file, snapshot_interval, init_model, callbacks, log_cout, log_cerr)\u001b[39m\n\u001b[32m   6280\u001b[39m \u001b[38;5;28;01mif\u001b[39;00m \u001b[33m'\u001b[39m\u001b[33mloss_function\u001b[39m\u001b[33m'\u001b[39m \u001b[38;5;129;01min\u001b[39;00m params:\n\u001b[32m   6281\u001b[39m     CatBoostRanker._check_is_compatible_loss(params[\u001b[33m'\u001b[39m\u001b[33mloss_function\u001b[39m\u001b[33m'\u001b[39m])\n\u001b[32m-> \u001b[39m\u001b[32m6283\u001b[39m \u001b[38;5;28;43mself\u001b[39;49m\u001b[43m.\u001b[49m\u001b[43m_fit\u001b[49m\u001b[43m(\u001b[49m\u001b[43mX\u001b[49m\u001b[43m,\u001b[49m\u001b[43m \u001b[49m\u001b[43my\u001b[49m\u001b[43m,\u001b[49m\u001b[43m \u001b[49m\u001b[43mcat_features\u001b[49m\u001b[43m,\u001b[49m\u001b[43m \u001b[49m\u001b[43mtext_features\u001b[49m\u001b[43m,\u001b[49m\u001b[43m \u001b[49m\u001b[43membedding_features\u001b[49m\u001b[43m,\u001b[49m\u001b[43m \u001b[49m\u001b[43mpairs\u001b[49m\u001b[43m,\u001b[49m\u001b[43m \u001b[49m\u001b[43mgraph\u001b[49m\u001b[43m,\u001b[49m\n\u001b[32m   6284\u001b[39m \u001b[43m          \u001b[49m\u001b[43msample_weight\u001b[49m\u001b[43m,\u001b[49m\u001b[43m \u001b[49m\u001b[43mgroup_id\u001b[49m\u001b[43m,\u001b[49m\u001b[43m \u001b[49m\u001b[43mgroup_weight\u001b[49m\u001b[43m,\u001b[49m\u001b[43m \u001b[49m\u001b[43msubgroup_id\u001b[49m\u001b[43m,\u001b[49m\u001b[43m \u001b[49m\u001b[43mpairs_weight\u001b[49m\u001b[43m,\u001b[49m\u001b[43m \u001b[49m\u001b[43mbaseline\u001b[49m\u001b[43m,\u001b[49m\u001b[43m \u001b[49m\u001b[43muse_best_model\u001b[49m\u001b[43m,\u001b[49m\n\u001b[32m   6285\u001b[39m \u001b[43m          \u001b[49m\u001b[43meval_set\u001b[49m\u001b[43m,\u001b[49m\u001b[43m \u001b[49m\u001b[43mverbose\u001b[49m\u001b[43m,\u001b[49m\u001b[43m \u001b[49m\u001b[43mlogging_level\u001b[49m\u001b[43m,\u001b[49m\u001b[43m \u001b[49m\u001b[43mplot\u001b[49m\u001b[43m,\u001b[49m\u001b[43m \u001b[49m\u001b[43mplot_file\u001b[49m\u001b[43m,\u001b[49m\u001b[43m \u001b[49m\u001b[43mcolumn_description\u001b[49m\u001b[43m,\u001b[49m\u001b[43m \u001b[49m\u001b[43mverbose_eval\u001b[49m\u001b[43m,\u001b[49m\u001b[43m \u001b[49m\u001b[43mmetric_period\u001b[49m\u001b[43m,\u001b[49m\n\u001b[32m   6286\u001b[39m \u001b[43m          \u001b[49m\u001b[43msilent\u001b[49m\u001b[43m,\u001b[49m\u001b[43m \u001b[49m\u001b[43mearly_stopping_rounds\u001b[49m\u001b[43m,\u001b[49m\u001b[43m \u001b[49m\u001b[43msave_snapshot\u001b[49m\u001b[43m,\u001b[49m\u001b[43m \u001b[49m\u001b[43msnapshot_file\u001b[49m\u001b[43m,\u001b[49m\u001b[43m \u001b[49m\u001b[43msnapshot_interval\u001b[49m\u001b[43m,\u001b[49m\u001b[43m \u001b[49m\u001b[43minit_model\u001b[49m\u001b[43m,\u001b[49m\u001b[43m \u001b[49m\u001b[43mcallbacks\u001b[49m\u001b[43m,\u001b[49m\u001b[43m \u001b[49m\u001b[43mlog_cout\u001b[49m\u001b[43m,\u001b[49m\u001b[43m \u001b[49m\u001b[43mlog_cerr\u001b[49m\u001b[43m)\u001b[49m\n\u001b[32m   6287\u001b[39m \u001b[38;5;28;01mreturn\u001b[39;00m \u001b[38;5;28mself\u001b[39m\n",
      "\u001b[36mFile \u001b[39m\u001b[32m/opt/anaconda3/envs/recsys/lib/python3.11/site-packages/catboost/core.py:2410\u001b[39m, in \u001b[36mCatBoost._fit\u001b[39m\u001b[34m(self, X, y, cat_features, text_features, embedding_features, pairs, graph, sample_weight, group_id, group_weight, subgroup_id, pairs_weight, baseline, use_best_model, eval_set, verbose, logging_level, plot, plot_file, column_description, verbose_eval, metric_period, silent, early_stopping_rounds, save_snapshot, snapshot_file, snapshot_interval, init_model, callbacks, log_cout, log_cerr)\u001b[39m\n\u001b[32m   2407\u001b[39m allow_clear_pool = train_params[\u001b[33m\"\u001b[39m\u001b[33mallow_clear_pool\u001b[39m\u001b[33m\"\u001b[39m]\n\u001b[32m   2409\u001b[39m \u001b[38;5;28;01mwith\u001b[39;00m plot_wrapper(plot, plot_file, \u001b[33m'\u001b[39m\u001b[33mTraining plots\u001b[39m\u001b[33m'\u001b[39m, [_get_train_dir(\u001b[38;5;28mself\u001b[39m.get_params())]):\n\u001b[32m-> \u001b[39m\u001b[32m2410\u001b[39m     \u001b[38;5;28;43mself\u001b[39;49m\u001b[43m.\u001b[49m\u001b[43m_train\u001b[49m\u001b[43m(\u001b[49m\n\u001b[32m   2411\u001b[39m \u001b[43m        \u001b[49m\u001b[43mtrain_pool\u001b[49m\u001b[43m,\u001b[49m\n\u001b[32m   2412\u001b[39m \u001b[43m        \u001b[49m\u001b[43mtrain_params\u001b[49m\u001b[43m[\u001b[49m\u001b[33;43m\"\u001b[39;49m\u001b[33;43meval_sets\u001b[39;49m\u001b[33;43m\"\u001b[39;49m\u001b[43m]\u001b[49m\u001b[43m,\u001b[49m\n\u001b[32m   2413\u001b[39m \u001b[43m        \u001b[49m\u001b[43mparams\u001b[49m\u001b[43m,\u001b[49m\n\u001b[32m   2414\u001b[39m \u001b[43m        \u001b[49m\u001b[43mallow_clear_pool\u001b[49m\u001b[43m,\u001b[49m\n\u001b[32m   2415\u001b[39m \u001b[43m        \u001b[49m\u001b[43mtrain_params\u001b[49m\u001b[43m[\u001b[49m\u001b[33;43m\"\u001b[39;49m\u001b[33;43minit_model\u001b[39;49m\u001b[33;43m\"\u001b[39;49m\u001b[43m]\u001b[49m\n\u001b[32m   2416\u001b[39m \u001b[43m    \u001b[49m\u001b[43m)\u001b[49m\n\u001b[32m   2418\u001b[39m \u001b[38;5;66;03m# Have property feature_importance possibly set\u001b[39;00m\n\u001b[32m   2419\u001b[39m loss = \u001b[38;5;28mself\u001b[39m._object._get_loss_function_name()\n",
      "\u001b[36mFile \u001b[39m\u001b[32m/opt/anaconda3/envs/recsys/lib/python3.11/site-packages/catboost/core.py:1790\u001b[39m, in \u001b[36m_CatBoostBase._train\u001b[39m\u001b[34m(self, train_pool, test_pool, params, allow_clear_pool, init_model)\u001b[39m\n\u001b[32m   1789\u001b[39m \u001b[38;5;28;01mdef\u001b[39;00m\u001b[38;5;250m \u001b[39m\u001b[34m_train\u001b[39m(\u001b[38;5;28mself\u001b[39m, train_pool, test_pool, params, allow_clear_pool, init_model):\n\u001b[32m-> \u001b[39m\u001b[32m1790\u001b[39m     \u001b[38;5;28;43mself\u001b[39;49m\u001b[43m.\u001b[49m\u001b[43m_object\u001b[49m\u001b[43m.\u001b[49m\u001b[43m_train\u001b[49m\u001b[43m(\u001b[49m\u001b[43mtrain_pool\u001b[49m\u001b[43m,\u001b[49m\u001b[43m \u001b[49m\u001b[43mtest_pool\u001b[49m\u001b[43m,\u001b[49m\u001b[43m \u001b[49m\u001b[43mparams\u001b[49m\u001b[43m,\u001b[49m\u001b[43m \u001b[49m\u001b[43mallow_clear_pool\u001b[49m\u001b[43m,\u001b[49m\u001b[43m \u001b[49m\u001b[43minit_model\u001b[49m\u001b[43m.\u001b[49m\u001b[43m_object\u001b[49m\u001b[43m \u001b[49m\u001b[38;5;28;43;01mif\u001b[39;49;00m\u001b[43m \u001b[49m\u001b[43minit_model\u001b[49m\u001b[43m \u001b[49m\u001b[38;5;28;43;01melse\u001b[39;49;00m\u001b[43m \u001b[49m\u001b[38;5;28;43;01mNone\u001b[39;49;00m\u001b[43m)\u001b[49m\n\u001b[32m   1791\u001b[39m     \u001b[38;5;28mself\u001b[39m._set_trained_model_attributes()\n",
      "\u001b[36mFile \u001b[39m\u001b[32m_catboost.pyx:5023\u001b[39m, in \u001b[36m_catboost._CatBoost._train\u001b[39m\u001b[34m()\u001b[39m\n",
      "\u001b[36mFile \u001b[39m\u001b[32m_catboost.pyx:5072\u001b[39m, in \u001b[36m_catboost._CatBoost._train\u001b[39m\u001b[34m()\u001b[39m\n",
      "\u001b[31mKeyboardInterrupt\u001b[39m: "
     ]
    }
   ],
   "source": [
    "kfold = KFold(n_splits=5)\n",
    "drop_col = ['cookie', 'node']\n",
    "target_col = ['target']\n",
    "cat_col = [f\"field_{i}\" for i in range(64)]\n",
    "\n",
    "parameters = {\n",
    "    'subsample': 0.9,\n",
    "    'max_depth': 4,\n",
    "    'n_estimators': 301,\n",
    "    'learning_rate': 0.03,\n",
    "    'thread_count': 20,\n",
    "    'random_state': SEED,\n",
    "    'verbose': 300,\n",
    "    'loss_function': 'YetiRank',  \n",
    "    \"eval_metric\":'AUC'\n",
    "}\n",
    "\n",
    "for fold_num, (train_u, valid_u) in enumerate(kfold.split(df_eval.select('cookie').unique())):\n",
    "    X_train = pl.concat([\n",
    "        pos.filter(pl.col(\"cookie\").is_in(train_u)), neg.filter(pl.col(\"cookie\").is_in(train_u))\n",
    "        ]).sample(fraction=1, shuffle=True).sort(by=\"cookie\")\n",
    "    X_val = pl.concat([\n",
    "        pos.filter(pl.col(\"cookie\").is_in(valid_u)), neg.filter(pl.col(\"cookie\").is_in(valid_u))\n",
    "        ]).sample(fraction=1, shuffle=True).sort(by=\"cookie\")\n",
    "    \n",
    "    print(sum(X_train[\"cookie\"].unique().is_in(X_val[\"cookie\"].unique())))\n",
    "    train_cookies = X_train.select(\"cookie\")\n",
    "    X_train, y_train = X_train.drop(drop_col + target_col), X_train.select(target_col)\n",
    "\n",
    "    val_cookies = X_val.select(\"cookie\")\n",
    "    y_val = X_val.select(target_col)\n",
    "\n",
    "    train_pool = Pool(\n",
    "        data=X_train.to_pandas(),\n",
    "        label=y_train.to_pandas(),\n",
    "        group_id=train_cookies.to_pandas(),\n",
    "        cat_features=[\"rank\"]\n",
    "    )\n",
    "\n",
    "    model = CatBoostRanker(**parameters)\n",
    "    model.fit(train_pool)\n",
    "    pred_scores = model.predict(X_val[X_train.columns].to_pandas())\n",
    "    prediction = X_val.with_columns(pl.Series(\"score\", pred_scores)).sort(by=[\"cookie\", \"score\"], descending=[True, False])\n",
    "    boost_recall = recall_at(df_eval.filter(pl.col(\"cookie\").is_in(valid_u)), prediction, k=40)\n",
    "    print(boost_recall)\n",
    "    pass"
   ]
  },
  {
   "cell_type": "code",
   "execution_count": 99,
   "metadata": {},
   "outputs": [
    {
     "data": {
      "text/html": [
       "<div><style>\n",
       ".dataframe > thead > tr,\n",
       ".dataframe > tbody > tr {\n",
       "  text-align: right;\n",
       "  white-space: pre-wrap;\n",
       "}\n",
       "</style>\n",
       "<small>shape: (11_229, 2)</small><table border=\"1\" class=\"dataframe\"><thead><tr><th>cookie</th><th>node</th></tr><tr><td>i64</td><td>i64</td></tr></thead><tbody><tr><td>7427</td><td>87062</td></tr><tr><td>9869</td><td>2103</td></tr><tr><td>5632</td><td>106609</td></tr><tr><td>9312</td><td>214324</td></tr><tr><td>10537</td><td>120269</td></tr><tr><td>&hellip;</td><td>&hellip;</td></tr><tr><td>3601</td><td>280663</td></tr><tr><td>1916</td><td>120267</td></tr><tr><td>10633</td><td>214510</td></tr><tr><td>2386</td><td>195618</td></tr><tr><td>10772</td><td>153007</td></tr></tbody></table></div>"
      ],
      "text/plain": [
       "shape: (11_229, 2)\n",
       "┌────────┬────────┐\n",
       "│ cookie ┆ node   │\n",
       "│ ---    ┆ ---    │\n",
       "│ i64    ┆ i64    │\n",
       "╞════════╪════════╡\n",
       "│ 7427   ┆ 87062  │\n",
       "│ 9869   ┆ 2103   │\n",
       "│ 5632   ┆ 106609 │\n",
       "│ 9312   ┆ 214324 │\n",
       "│ 10537  ┆ 120269 │\n",
       "│ …      ┆ …      │\n",
       "│ 3601   ┆ 280663 │\n",
       "│ 1916   ┆ 120267 │\n",
       "│ 10633  ┆ 214510 │\n",
       "│ 2386   ┆ 195618 │\n",
       "│ 10772  ┆ 153007 │\n",
       "└────────┴────────┘"
      ]
     },
     "execution_count": 99,
     "metadata": {},
     "output_type": "execute_result"
    }
   ],
   "source": [
    "df_eval['cookie', 'node'].unique().join(prediction, on='cookie', how='semi')"
   ]
  },
  {
   "cell_type": "code",
   "execution_count": 95,
   "metadata": {},
   "outputs": [
    {
     "data": {
      "text/html": [
       "<div><style>\n",
       ".dataframe > thead > tr,\n",
       ".dataframe > tbody > tr {\n",
       "  text-align: right;\n",
       "  white-space: pre-wrap;\n",
       "}\n",
       "</style>\n",
       "<small>shape: (156_112, 2)</small><table border=\"1\" class=\"dataframe\"><thead><tr><th>cookie</th><th>node</th></tr><tr><td>i64</td><td>i64</td></tr></thead><tbody><tr><td>54891</td><td>214235</td></tr><tr><td>106413</td><td>214232</td></tr><tr><td>125508</td><td>200252</td></tr><tr><td>89409</td><td>153140</td></tr><tr><td>68029</td><td>194770</td></tr><tr><td>&hellip;</td><td>&hellip;</td></tr><tr><td>68388</td><td>60158</td></tr><tr><td>145483</td><td>85872</td></tr><tr><td>21282</td><td>198912</td></tr><tr><td>6435</td><td>312140</td></tr><tr><td>80716</td><td>62569</td></tr></tbody></table></div>"
      ],
      "text/plain": [
       "shape: (156_112, 2)\n",
       "┌────────┬────────┐\n",
       "│ cookie ┆ node   │\n",
       "│ ---    ┆ ---    │\n",
       "│ i64    ┆ i64    │\n",
       "╞════════╪════════╡\n",
       "│ 54891  ┆ 214235 │\n",
       "│ 106413 ┆ 214232 │\n",
       "│ 125508 ┆ 200252 │\n",
       "│ 89409  ┆ 153140 │\n",
       "│ 68029  ┆ 194770 │\n",
       "│ …      ┆ …      │\n",
       "│ 68388  ┆ 60158  │\n",
       "│ 145483 ┆ 85872  │\n",
       "│ 21282  ┆ 198912 │\n",
       "│ 6435   ┆ 312140 │\n",
       "│ 80716  ┆ 62569  │\n",
       "└────────┴────────┘"
      ]
     },
     "execution_count": 95,
     "metadata": {},
     "output_type": "execute_result"
    }
   ],
   "source": [
    "df_eval['cookie', 'node'].unique()"
   ]
  },
  {
   "cell_type": "code",
   "execution_count": 96,
   "metadata": {},
   "outputs": [
    {
     "data": {
      "text/html": [
       "<div><style>\n",
       ".dataframe > thead > tr,\n",
       ".dataframe > tbody > tr {\n",
       "  text-align: right;\n",
       "  white-space: pre-wrap;\n",
       "}\n",
       "</style>\n",
       "<small>shape: (33_493, 5)</small><table border=\"1\" class=\"dataframe\"><thead><tr><th>cookie</th><th>node</th><th>rank</th><th>target</th><th>score</th></tr><tr><td>i64</td><td>i64</td><td>i64</td><td>i32</td><td>f64</td></tr></thead><tbody><tr><td>0</td><td>264373</td><td>223</td><td>0</td><td>-0.383472</td></tr><tr><td>0</td><td>130802</td><td>2</td><td>0</td><td>1.946676</td></tr><tr><td>0</td><td>117531</td><td>55</td><td>0</td><td>0.363641</td></tr><tr><td>0</td><td>259469</td><td>208</td><td>0</td><td>-0.654767</td></tr><tr><td>0</td><td>115715</td><td>14</td><td>0</td><td>1.058767</td></tr><tr><td>&hellip;</td><td>&hellip;</td><td>&hellip;</td><td>&hellip;</td><td>&hellip;</td></tr><tr><td>11012</td><td>136804</td><td>171</td><td>0</td><td>-0.383472</td></tr><tr><td>11012</td><td>259473</td><td>221</td><td>0</td><td>-0.654767</td></tr><tr><td>11012</td><td>214231</td><td>119</td><td>0</td><td>0.07932</td></tr><tr><td>11012</td><td>122326</td><td>26</td><td>1</td><td>0.769831</td></tr><tr><td>11012</td><td>120275</td><td>117</td><td>0</td><td>0.07932</td></tr></tbody></table></div>"
      ],
      "text/plain": [
       "shape: (33_493, 5)\n",
       "┌────────┬────────┬──────┬────────┬───────────┐\n",
       "│ cookie ┆ node   ┆ rank ┆ target ┆ score     │\n",
       "│ ---    ┆ ---    ┆ ---  ┆ ---    ┆ ---       │\n",
       "│ i64    ┆ i64    ┆ i64  ┆ i32    ┆ f64       │\n",
       "╞════════╪════════╪══════╪════════╪═══════════╡\n",
       "│ 0      ┆ 264373 ┆ 223  ┆ 0      ┆ -0.383472 │\n",
       "│ 0      ┆ 130802 ┆ 2    ┆ 0      ┆ 1.946676  │\n",
       "│ 0      ┆ 117531 ┆ 55   ┆ 0      ┆ 0.363641  │\n",
       "│ 0      ┆ 259469 ┆ 208  ┆ 0      ┆ -0.654767 │\n",
       "│ 0      ┆ 115715 ┆ 14   ┆ 0      ┆ 1.058767  │\n",
       "│ …      ┆ …      ┆ …    ┆ …      ┆ …         │\n",
       "│ 11012  ┆ 136804 ┆ 171  ┆ 0      ┆ -0.383472 │\n",
       "│ 11012  ┆ 259473 ┆ 221  ┆ 0      ┆ -0.654767 │\n",
       "│ 11012  ┆ 214231 ┆ 119  ┆ 0      ┆ 0.07932   │\n",
       "│ 11012  ┆ 122326 ┆ 26   ┆ 1      ┆ 0.769831  │\n",
       "│ 11012  ┆ 120275 ┆ 117  ┆ 0      ┆ 0.07932   │\n",
       "└────────┴────────┴──────┴────────┴───────────┘"
      ]
     },
     "execution_count": 96,
     "metadata": {},
     "output_type": "execute_result"
    }
   ],
   "source": [
    "prediction"
   ]
  },
  {
   "cell_type": "code",
   "execution_count": 94,
   "metadata": {},
   "outputs": [
    {
     "data": {
      "text/plain": [
       "0.3295400209841646"
      ]
     },
     "execution_count": 94,
     "metadata": {},
     "output_type": "execute_result"
    }
   ],
   "source": [
    "recall_at(df_eval['cookie', 'node'].unique().join(prediction, on='cookie', how='semi'), prediction, k=40)"
   ]
  },
  {
   "cell_type": "code",
   "execution_count": null,
   "metadata": {},
   "outputs": [
    {
     "data": {
      "text/html": [
       "<div><style>\n",
       ".dataframe > thead > tr,\n",
       ".dataframe > tbody > tr {\n",
       "  text-align: right;\n",
       "  white-space: pre-wrap;\n",
       "}\n",
       "</style>\n",
       "<small>shape: (33_493, 4)</small><table border=\"1\" class=\"dataframe\"><thead><tr><th>cookie</th><th>node</th><th>rank</th><th>target</th></tr><tr><td>i64</td><td>i64</td><td>i64</td><td>i32</td></tr></thead><tbody><tr><td>10388</td><td>130608</td><td>205</td><td>0</td></tr><tr><td>656</td><td>155883</td><td>221</td><td>0</td></tr><tr><td>4048</td><td>153184</td><td>222</td><td>0</td></tr><tr><td>8287</td><td>221240</td><td>13</td><td>0</td></tr><tr><td>3301</td><td>214253</td><td>149</td><td>0</td></tr><tr><td>&hellip;</td><td>&hellip;</td><td>&hellip;</td><td>&hellip;</td></tr><tr><td>9771</td><td>28803</td><td>121</td><td>0</td></tr><tr><td>1584</td><td>116139</td><td>156</td><td>0</td></tr><tr><td>1120</td><td>1900</td><td>225</td><td>1</td></tr><tr><td>9676</td><td>196903</td><td>54</td><td>0</td></tr><tr><td>10723</td><td>64745</td><td>223</td><td>0</td></tr></tbody></table></div>"
      ],
      "text/plain": [
       "shape: (33_493, 4)\n",
       "┌────────┬────────┬──────┬────────┐\n",
       "│ cookie ┆ node   ┆ rank ┆ target │\n",
       "│ ---    ┆ ---    ┆ ---  ┆ ---    │\n",
       "│ i64    ┆ i64    ┆ i64  ┆ i32    │\n",
       "╞════════╪════════╪══════╪════════╡\n",
       "│ 10388  ┆ 130608 ┆ 205  ┆ 0      │\n",
       "│ 656    ┆ 155883 ┆ 221  ┆ 0      │\n",
       "│ 4048   ┆ 153184 ┆ 222  ┆ 0      │\n",
       "│ 8287   ┆ 221240 ┆ 13   ┆ 0      │\n",
       "│ 3301   ┆ 214253 ┆ 149  ┆ 0      │\n",
       "│ …      ┆ …      ┆ …    ┆ …      │\n",
       "│ 9771   ┆ 28803  ┆ 121  ┆ 0      │\n",
       "│ 1584   ┆ 116139 ┆ 156  ┆ 0      │\n",
       "│ 1120   ┆ 1900   ┆ 225  ┆ 1      │\n",
       "│ 9676   ┆ 196903 ┆ 54   ┆ 0      │\n",
       "│ 10723  ┆ 64745  ┆ 223  ┆ 0      │\n",
       "└────────┴────────┴──────┴────────┘"
      ]
     },
     "execution_count": 79,
     "metadata": {},
     "output_type": "execute_result"
    }
   ],
   "source": [
    "X_val"
   ]
  },
  {
   "cell_type": "code",
   "execution_count": 84,
   "metadata": {},
   "outputs": [
    {
     "data": {
      "text/html": [
       "<div>\n",
       "<style scoped>\n",
       "    .dataframe tbody tr th:only-of-type {\n",
       "        vertical-align: middle;\n",
       "    }\n",
       "\n",
       "    .dataframe tbody tr th {\n",
       "        vertical-align: top;\n",
       "    }\n",
       "\n",
       "    .dataframe thead th {\n",
       "        text-align: right;\n",
       "    }\n",
       "</style>\n",
       "<table border=\"1\" class=\"dataframe\">\n",
       "  <thead>\n",
       "    <tr style=\"text-align: right;\">\n",
       "      <th></th>\n",
       "      <th>cookie</th>\n",
       "    </tr>\n",
       "  </thead>\n",
       "  <tbody>\n",
       "    <tr>\n",
       "      <th>0</th>\n",
       "      <td>16107</td>\n",
       "    </tr>\n",
       "    <tr>\n",
       "      <th>1</th>\n",
       "      <td>13254</td>\n",
       "    </tr>\n",
       "    <tr>\n",
       "      <th>2</th>\n",
       "      <td>49013</td>\n",
       "    </tr>\n",
       "    <tr>\n",
       "      <th>3</th>\n",
       "      <td>11795</td>\n",
       "    </tr>\n",
       "    <tr>\n",
       "      <th>4</th>\n",
       "      <td>42017</td>\n",
       "    </tr>\n",
       "    <tr>\n",
       "      <th>...</th>\n",
       "      <td>...</td>\n",
       "    </tr>\n",
       "    <tr>\n",
       "      <th>135489</th>\n",
       "      <td>47471</td>\n",
       "    </tr>\n",
       "    <tr>\n",
       "      <th>135490</th>\n",
       "      <td>44330</td>\n",
       "    </tr>\n",
       "    <tr>\n",
       "      <th>135491</th>\n",
       "      <td>53430</td>\n",
       "    </tr>\n",
       "    <tr>\n",
       "      <th>135492</th>\n",
       "      <td>15633</td>\n",
       "    </tr>\n",
       "    <tr>\n",
       "      <th>135493</th>\n",
       "      <td>15135</td>\n",
       "    </tr>\n",
       "  </tbody>\n",
       "</table>\n",
       "<p>135494 rows × 1 columns</p>\n",
       "</div>"
      ],
      "text/plain": [
       "        cookie\n",
       "0        16107\n",
       "1        13254\n",
       "2        49013\n",
       "3        11795\n",
       "4        42017\n",
       "...        ...\n",
       "135489   47471\n",
       "135490   44330\n",
       "135491   53430\n",
       "135492   15633\n",
       "135493   15135\n",
       "\n",
       "[135494 rows x 1 columns]"
      ]
     },
     "execution_count": 84,
     "metadata": {},
     "output_type": "execute_result"
    }
   ],
   "source": [
    "train_cookies.to_pandas()"
   ]
  },
  {
   "cell_type": "code",
   "execution_count": null,
   "metadata": {},
   "outputs": [
    {
     "name": "stdout",
     "output_type": "stream",
     "text": [
      "(47261, 5)\n",
      "(413161, 5)\n"
     ]
    }
   ],
   "source": [
    "# positive interactions\n",
    "pos = candidates.merge(\n",
    "    df_eval,\n",
    "    on=['cookie', 'node'],\n",
    "    how='inner'\n",
    "    )\n",
    "\n",
    "pos.loc[:, 'target'] = 1\n",
    "print(pos.shape)\n",
    "# negative interactions\n",
    "neg = candidates.set_index(['cookie', 'node'])\\\n",
    "        .join(df_eval.set_index(['cookie', 'node']))\n",
    "\n",
    "neg = neg[neg['event'].isnull()].reset_index()\n",
    "neg = neg.sample(frac=0.03)\n",
    "neg.loc[:, 'target'] = 0\n",
    "\n",
    "print(neg.shape)\n",
    "\n",
    "\n",
    "# train test\n",
    "ctb_train_users, ctb_test_users = train_test_split(\n",
    "    df_eval['cookie'].unique(),\n",
    "    random_state=SEED,\n",
    "    test_size=0.2\n",
    "    )\n",
    "# train eval\n",
    "# ctb_train_users, ctb_eval_users = train_test_split(\n",
    "#     ctb_train_users,\n",
    "#     random_state=SEED,\n",
    "#     test_size=0.1\n",
    "#     )\n",
    "\n",
    "select_col = [\"cookie\", \"node\", \"rank\", 'target']\n",
    "\n",
    "\n",
    "# Catboost train\n",
    "ctb_train = shuffle(\n",
    "    pd.concat([\n",
    "        pos[pos['cookie'].isin(ctb_train_users)],\n",
    "        neg[neg['cookie'].isin(ctb_train_users)]\n",
    "])[select_col]\n",
    ")\n",
    "# Catboost test\n",
    "ctb_test = shuffle(\n",
    "    pd.concat([\n",
    "        pos[pos['cookie'].isin(ctb_test_users)],\n",
    "        neg[neg['cookie'].isin(ctb_test_users)]\n",
    "])[select_col]\n",
    ")\n",
    "# # for early stopping\n",
    "# ctb_eval = shuffle(\n",
    "#     pd.concat([\n",
    "#         pos[pos['cookie'].isin(ctb_eval_users)],\n",
    "#         neg[neg['cookie'].isin(ctb_eval_users)]\n",
    "# ])[select_col]\n",
    "# )"
   ]
  },
  {
   "cell_type": "code",
   "execution_count": null,
   "metadata": {},
   "outputs": [
    {
     "data": {
      "text/plain": [
       "(target\n",
       " 0    0.897621\n",
       " 1    0.102379\n",
       " Name: proportion, dtype: float64,\n",
       " target\n",
       " 0    0.896279\n",
       " 1    0.103721\n",
       " Name: proportion, dtype: float64)"
      ]
     },
     "metadata": {},
     "output_type": "display_data"
    }
   ],
   "source": [
    "ctb_train['target'].value_counts(normalize=True), ctb_test['target'].value_counts(normalize=True)"
   ]
  },
  {
   "cell_type": "code",
   "execution_count": null,
   "metadata": {},
   "outputs": [
    {
     "ename": "AttributeError",
     "evalue": "'DataFrame' object has no attribute 'to_pandas'",
     "output_type": "error",
     "traceback": [
      "\u001b[31m---------------------------------------------------------------------------\u001b[39m\n",
      "\u001b[31mAttributeError\u001b[39m                            Traceback (most recent call last)\n",
      "\u001b[32m/var/folders/1v/2njvtrl903s020_gk0tw647c0000gn/T/ipykernel_79525/818693123.py\u001b[39m in \u001b[36m?\u001b[39m\u001b[34m()\u001b[39m\n",
      "\u001b[32m----> \u001b[39m\u001b[32m1\u001b[39m item_features = item_features.to_pandas()\n",
      "\u001b[32m      2\u001b[39m user_col = [\u001b[33m'cookie'\u001b[39m]\n",
      "\u001b[32m      3\u001b[39m item_col = item_features.columns\n",
      "\u001b[32m      4\u001b[39m \n",
      "\n",
      "\u001b[32m/opt/anaconda3/envs/recsys/lib/python3.11/site-packages/pandas/core/generic.py\u001b[39m in \u001b[36m?\u001b[39m\u001b[34m(self, name)\u001b[39m\n",
      "\u001b[32m   6295\u001b[39m             \u001b[38;5;28;01mand\u001b[39;00m name \u001b[38;5;28;01mnot\u001b[39;00m \u001b[38;5;28;01min\u001b[39;00m self._accessors\n",
      "\u001b[32m   6296\u001b[39m             \u001b[38;5;28;01mand\u001b[39;00m self._info_axis._can_hold_identifiers_and_holds_name(name)\n",
      "\u001b[32m   6297\u001b[39m         ):\n",
      "\u001b[32m   6298\u001b[39m             \u001b[38;5;28;01mreturn\u001b[39;00m self[name]\n",
      "\u001b[32m-> \u001b[39m\u001b[32m6299\u001b[39m         \u001b[38;5;28;01mreturn\u001b[39;00m object.__getattribute__(self, name)\n",
      "\n",
      "\u001b[31mAttributeError\u001b[39m: 'DataFrame' object has no attribute 'to_pandas'"
     ]
    }
   ],
   "source": [
    "item_features = item_features.to_pandas()\n",
    "user_col = ['cookie']\n",
    "item_col = item_features.columns\n",
    "\n",
    "train_feat = (\n",
    "    ctb_train\n",
    "    # .merge(\n",
    "    #     users[user_col],\n",
    "    #     on=['user_id'],\n",
    "    #     how='left')\n",
    "    .merge(\n",
    "        item_features[item_col],\n",
    "        on=['node'],\n",
    "        how='left')\n",
    ")\n",
    "# eval_feat = (\n",
    "#     ctb_eval\n",
    "#     # .merge(\n",
    "#     #     users[user_col],\n",
    "#     #     on=['user_id'],\n",
    "#     #     how='left')\n",
    "#     .merge(\n",
    "#         item_features[item_col],\n",
    "#         on=['node'],\n",
    "#         how='left')\n",
    "# )\n",
    "test_feat = (\n",
    "    ctb_test\n",
    "    # .merge(\n",
    "    #     users[user_col],\n",
    "    #     on=['user_id'],\n",
    "    #     how='left')\n",
    "    .merge(\n",
    "        item_features[item_col],\n",
    "        on=['node'],\n",
    "        how='left'\n",
    "        )\n",
    ")\n",
    "train_feat.isna().sum().sum(), test_feat.isna().sum().sum()"
   ]
  },
  {
   "cell_type": "code",
   "execution_count": null,
   "metadata": {},
   "outputs": [],
   "source": [
    "train_feat = train_feat.sort_values(by=[\"cookie\", \"target\", \"rank\"], ascending=[True, False, True])\n",
    "# eval_feat = eval_feat.sort_values(by=[\"cookie\", \"target\", \"rank\"], ascending=[True, False, True])\n",
    "test_feat = test_feat.sort_values(by=[\"cookie\", \"target\", \"rank\"], ascending=[True, False, True])"
   ]
  },
  {
   "cell_type": "code",
   "execution_count": null,
   "metadata": {},
   "outputs": [
    {
     "data": {
      "text/plain": [
       "((368512, 85), (368512, 1), (91910, 85), (91910,))"
      ]
     },
     "metadata": {},
     "output_type": "display_data"
    }
   ],
   "source": [
    "drop_col = ['cookie', 'node']\n",
    "target_col = ['target']\n",
    "cat_col = [f\"field_{i}\" for i in range(64)]\n",
    "\n",
    "X_train, y_train = train_feat.drop(drop_col + target_col, axis=1), train_feat[target_col]\n",
    "train_cookies = train_feat[\"cookie\"]\n",
    "# X_val, y_val = eval_feat.drop(drop_col + target_col, axis=1), eval_feat[target_col]\n",
    "# val_cookies = eval_feat[\"cookie\"]\n",
    "X_test, y_test = test_feat.drop(drop_col + target_col, axis=1), test_feat['target']\n",
    "test_cookies = test_feat[\"cookie\"]\n",
    "X_train.shape, y_train.shape, X_test.shape, y_test.shape"
   ]
  },
  {
   "cell_type": "code",
   "execution_count": null,
   "metadata": {},
   "outputs": [],
   "source": [
    "from catboost import Pool\n",
    "train_pool = Pool(\n",
    "    data=X_train,\n",
    "    label=y_train,\n",
    "    group_id=train_cookies,\n",
    "    cat_features=[\"rank\"]\n",
    ")\n",
    "# val_pool = Pool(\n",
    "#     data=X_val,\n",
    "#     label=y_val,\n",
    "#     group_id=val_cookies\n",
    "# )\n",
    "test_pool = Pool(\n",
    "    data=X_test,\n",
    "    label=y_test,\n",
    "    group_id=test_cookies,\n",
    "    cat_features=[\"rank\"]\n",
    ")"
   ]
  },
  {
   "cell_type": "code",
   "execution_count": null,
   "metadata": {},
   "outputs": [],
   "source": [
    "from catboost import CatBoostClassifier, CatBoostRanker\n",
    "from copy import deepcopy\n",
    "\n",
    "# параметры для обучения\n",
    "est_params = {\n",
    "  'subsample': 0.9,\n",
    "  'max_depth': 4,\n",
    "  'n_estimators': 5000,\n",
    "  'learning_rate': 0.03,\n",
    "  'thread_count': 20,\n",
    "  'random_state': SEED,\n",
    "  'verbose': 200,\n",
    "#   \"loss_function\":'YetiRankPairwise',\n",
    "#  \"eval_metric\":'NDCG'\n",
    "}\n",
    "\n",
    "ctb_model = CatBoostClassifier(**est_params)\n",
    "\n",
    "\n",
    "default_parameters = {\n",
    "    'iterations': 5000,\n",
    "    'custom_metric': ['NDCG', 'AUC'],\n",
    "    'verbose': 100,\n",
    "    # \"loss_function\":'YetiRankPairwise',\n",
    "    'thread_count': 20,\n",
    "    'learning_rate': 0.1,\n",
    "    'max_depth': 4,\n",
    "    'random_seed': SEED,\n",
    "}\n",
    "\n",
    "parameters = {}\n",
    "\n",
    "def fit_model(loss_function, additional_params=None, train_pool=None, test_pool=None):\n",
    "    parameters = deepcopy(default_parameters)\n",
    "    parameters['loss_function'] = loss_function\n",
    "    parameters['train_dir'] = loss_function\n",
    "\n",
    "    if additional_params is not None:\n",
    "        parameters.update(additional_params)\n",
    "\n",
    "    model = CatBoostRanker(**parameters)\n",
    "    model.fit(train_pool, eval_set=test_pool, plot=True, early_stopping_rounds=100,)\n",
    "\n",
    "    return model"
   ]
  },
  {
   "cell_type": "code",
   "execution_count": null,
   "metadata": {},
   "outputs": [
    {
     "name": "stderr",
     "output_type": "stream",
     "text": [
      "/opt/anaconda3/envs/recsys/lib/python3.11/site-packages/catboost/core.py:6402: RuntimeWarning: Regression loss ('RMSE') ignores an important ranking parameter 'group_id'\n",
      "  warnings.warn(\"Regression loss ('{}') ignores an important ranking parameter 'group_id'\".format(loss_function), RuntimeWarning)\n"
     ]
    },
    {
     "data": {
      "application/vnd.jupyter.widget-view+json": {
       "model_id": "dc20c15f62ab4b31af7f29fb157d3e05",
       "version_major": 2,
       "version_minor": 0
      },
      "text/plain": [
       "MetricVisualizer(layout=Layout(align_self='stretch', height='500px'))"
      ]
     },
     "metadata": {},
     "output_type": "display_data"
    },
    {
     "name": "stdout",
     "output_type": "stream",
     "text": [
      "0:\tlearn: 0.3014027\ttest: 0.3031835\tbest: 0.3031835 (0)\ttotal: 26ms\tremaining: 2m 9s\n",
      "100:\tlearn: 0.2891574\ttest: 0.2908572\tbest: 0.2908572 (100)\ttotal: 2.62s\tremaining: 2m 7s\n",
      "200:\tlearn: 0.2878517\ttest: 0.2898062\tbest: 0.2898062 (200)\ttotal: 5.09s\tremaining: 2m 1s\n",
      "300:\tlearn: 0.2870966\ttest: 0.2893645\tbest: 0.2893645 (300)\ttotal: 7.66s\tremaining: 1m 59s\n",
      "400:\tlearn: 0.2865652\ttest: 0.2891557\tbest: 0.2891557 (400)\ttotal: 10.2s\tremaining: 1m 57s\n",
      "500:\tlearn: 0.2861316\ttest: 0.2890014\tbest: 0.2890014 (500)\ttotal: 12.7s\tremaining: 1m 54s\n",
      "600:\tlearn: 0.2857741\ttest: 0.2889353\tbest: 0.2889353 (600)\ttotal: 15.3s\tremaining: 1m 51s\n",
      "700:\tlearn: 0.2854879\ttest: 0.2888529\tbest: 0.2888529 (700)\ttotal: 17.8s\tremaining: 1m 49s\n",
      "800:\tlearn: 0.2852241\ttest: 0.2887887\tbest: 0.2887887 (800)\ttotal: 20.5s\tremaining: 1m 47s\n",
      "900:\tlearn: 0.2849846\ttest: 0.2887726\tbest: 0.2887686 (846)\ttotal: 23s\tremaining: 1m 44s\n",
      "1000:\tlearn: 0.2847254\ttest: 0.2887414\tbest: 0.2887405 (950)\ttotal: 25.5s\tremaining: 1m 41s\n",
      "1100:\tlearn: 0.2845239\ttest: 0.2887213\tbest: 0.2887172 (1094)\ttotal: 28s\tremaining: 1m 39s\n",
      "1200:\tlearn: 0.2843094\ttest: 0.2887129\tbest: 0.2887097 (1186)\ttotal: 30.4s\tremaining: 1m 36s\n",
      "1300:\tlearn: 0.2841160\ttest: 0.2887157\tbest: 0.2887097 (1207)\ttotal: 32.8s\tremaining: 1m 33s\n",
      "Stopped by overfitting detector  (100 iterations wait)\n",
      "\n",
      "bestTest = 0.2887096759\n",
      "bestIteration = 1207\n",
      "\n",
      "Shrink model to first 1208 iterations.\n"
     ]
    }
   ],
   "source": [
    "model = fit_model(\n",
    "    'RMSE',\n",
    "    {'custom_metric': ['PrecisionAt:top=40', 'RecallAt:top=40', 'MAP:top=40', 'AUC']},\n",
    "    train_pool=train_pool,\n",
    "    test_pool=test_pool\n",
    "    )"
   ]
  },
  {
   "cell_type": "code",
   "execution_count": null,
   "metadata": {},
   "outputs": [],
   "source": [
    "from catboost import CatBoostClassifier, CatBoostRanker\n",
    "from catboost import Pool\n",
    "# параметры для обучения\n",
    "est_params = {\n",
    "    'subsample': 0.9,\n",
    "    'max_depth': 4,\n",
    "    'n_estimators': 5000,\n",
    "    'learning_rate': 0.03,\n",
    "    'thread_count': 20,\n",
    "    'random_state': SEED,\n",
    "    'verbose': 200,\n",
    "    \"loss_function\": 'YetiRank',\n",
    "}\n",
    "def fit_model(train_pool, df_eval, parameters=None):\n",
    "    model = CatBoostRanker(**parameters)\n",
    "    model.fit(train_pool)\n",
    "    return model\n",
    "\n"
   ]
  },
  {
   "cell_type": "code",
   "execution_count": null,
   "metadata": {},
   "outputs": [],
   "source": [
    "mlflow.set_tracking_uri(\"http://127.0.0.1:5000\")\n",
    "mlflow.set_experiment(\"avito_cup_pers_recs\")\n",
    "with mlflow.start_run():\n",
    "    roc_auc = roc_auc_score(y_test, y_pred)\n",
    "\n",
    "    mlflow.log_params(model.get_all_params())\n",
    "    mlflow.log_metric(\"roc_auc\", roc_auc)\n",
    "\n",
    "    mlflow.set_tag(\"Training Info\", \"Final CatboostRanker model of competition\")\n",
    "\n",
    "    model_info = mlflow.catboost.log_model(\n",
    "        model,\n",
    "        \"ctb_model_ranker\",\n",
    "        signature=signature,\n",
    "        registered_model_name=\"comp-final-ranker\",\n",
    "        )\n",
    "\n",
    "    print(f\"ROC AUC score = {roc_auc:.4f}\")"
   ]
  }
 ],
 "metadata": {
  "kernelspec": {
   "display_name": "recsys",
   "language": "python",
   "name": "python3"
  },
  "language_info": {
   "codemirror_mode": {
    "name": "ipython",
    "version": 3
   },
   "file_extension": ".py",
   "mimetype": "text/x-python",
   "name": "python",
   "nbconvert_exporter": "python",
   "pygments_lexer": "ipython3",
   "version": "3.11.11"
  }
 },
 "nbformat": 4,
 "nbformat_minor": 2
}
