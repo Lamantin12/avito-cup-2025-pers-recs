{
 "cells": [
  {
   "cell_type": "code",
   "execution_count": 3,
   "metadata": {},
   "outputs": [],
   "source": [
    "from datetime import timedelta\n",
    "import polars as pl\n",
    "import implicit\n",
    "import json\n",
    "import pandas as pd\n",
    "\n",
    "\n",
    "DATA_DIR = 'data/'\n",
    "\n",
    "# df_test_users = pl.read_parquet(f'{DATA_DIR}/test_users.pq')\n",
    "# df_clickstream = pl.read_parquet(f'{DATA_DIR}/clickstream.pq')\n",
    "\n",
    "df_cat_features = pl.read_parquet(f'{DATA_DIR}/cat_features.pq')\n",
    "df_text_features = pl.read_parquet(f'{DATA_DIR}/text_features.pq')\n",
    "df_event = pl.read_parquet(f'{DATA_DIR}/events.pq')"
   ]
  },
  {
   "cell_type": "markdown",
   "metadata": {},
   "source": [
    "# Get clean attributed data"
   ]
  },
  {
   "cell_type": "code",
   "execution_count": 2,
   "metadata": {},
   "outputs": [
    {
     "data": {
      "text/html": [
       "<div><style>\n",
       ".dataframe > thead > tr,\n",
       ".dataframe > tbody > tr {\n",
       "  text-align: right;\n",
       "  white-space: pre-wrap;\n",
       "}\n",
       "</style>\n",
       "<small>shape: (22_646_691, 5)</small><table border=\"1\" class=\"dataframe\"><thead><tr><th>item</th><th>location</th><th>category</th><th>clean_params</th><th>node</th></tr><tr><td>i64</td><td>i64</td><td>i64</td><td>str</td><td>u32</td></tr></thead><tbody><tr><td>9</td><td>8385</td><td>57</td><td>&quot;[{&quot;attr&quot;:1157,&quot;value&quot;:664427},…</td><td>194747</td></tr><tr><td>17</td><td>2707</td><td>35</td><td>&quot;[{&quot;attr&quot;:2140,&quot;value&quot;:501466},…</td><td>352905</td></tr><tr><td>144</td><td>8383</td><td>8</td><td>&quot;[{&quot;attr&quot;:802,&quot;value&quot;:35791},{&quot;…</td><td>17188</td></tr><tr><td>202</td><td>5397</td><td>57</td><td>&quot;[{&quot;attr&quot;:1157,&quot;value&quot;:490527},…</td><td>194766</td></tr><tr><td>236</td><td>2105</td><td>64</td><td>&quot;[{&quot;attr&quot;:112,&quot;value&quot;:420797},{…</td><td>153951</td></tr><tr><td>&hellip;</td><td>&hellip;</td><td>&hellip;</td><td>&hellip;</td><td>&hellip;</td></tr><tr><td>28804461</td><td>24</td><td>35</td><td>&quot;[{&quot;attr&quot;:2140,&quot;value&quot;:364348},…</td><td>326792</td></tr><tr><td>28804502</td><td>2305</td><td>51</td><td>&quot;[{&quot;attr&quot;:4622,&quot;value&quot;:171723},…</td><td>401208</td></tr><tr><td>28804563</td><td>2348</td><td>0</td><td>&quot;[{&quot;attr&quot;:914,&quot;value&quot;:93691},{&quot;…</td><td>13974</td></tr><tr><td>28804609</td><td>2348</td><td>51</td><td>&quot;[{&quot;attr&quot;:4622,&quot;value&quot;:618809},…</td><td>258971</td></tr><tr><td>28804620</td><td>2678</td><td>7</td><td>&quot;[{&quot;attr&quot;:4345,&quot;value&quot;:11210},{…</td><td>71511</td></tr></tbody></table></div>"
      ],
      "text/plain": [
       "shape: (22_646_691, 5)\n",
       "┌──────────┬──────────┬──────────┬─────────────────────────────────┬────────┐\n",
       "│ item     ┆ location ┆ category ┆ clean_params                    ┆ node   │\n",
       "│ ---      ┆ ---      ┆ ---      ┆ ---                             ┆ ---    │\n",
       "│ i64      ┆ i64      ┆ i64      ┆ str                             ┆ u32    │\n",
       "╞══════════╪══════════╪══════════╪═════════════════════════════════╪════════╡\n",
       "│ 9        ┆ 8385     ┆ 57       ┆ [{\"attr\":1157,\"value\":664427},… ┆ 194747 │\n",
       "│ 17       ┆ 2707     ┆ 35       ┆ [{\"attr\":2140,\"value\":501466},… ┆ 352905 │\n",
       "│ 144      ┆ 8383     ┆ 8        ┆ [{\"attr\":802,\"value\":35791},{\"… ┆ 17188  │\n",
       "│ 202      ┆ 5397     ┆ 57       ┆ [{\"attr\":1157,\"value\":490527},… ┆ 194766 │\n",
       "│ 236      ┆ 2105     ┆ 64       ┆ [{\"attr\":112,\"value\":420797},{… ┆ 153951 │\n",
       "│ …        ┆ …        ┆ …        ┆ …                               ┆ …      │\n",
       "│ 28804461 ┆ 24       ┆ 35       ┆ [{\"attr\":2140,\"value\":364348},… ┆ 326792 │\n",
       "│ 28804502 ┆ 2305     ┆ 51       ┆ [{\"attr\":4622,\"value\":171723},… ┆ 401208 │\n",
       "│ 28804563 ┆ 2348     ┆ 0        ┆ [{\"attr\":914,\"value\":93691},{\"… ┆ 13974  │\n",
       "│ 28804609 ┆ 2348     ┆ 51       ┆ [{\"attr\":4622,\"value\":618809},… ┆ 258971 │\n",
       "│ 28804620 ┆ 2678     ┆ 7        ┆ [{\"attr\":4345,\"value\":11210},{… ┆ 71511  │\n",
       "└──────────┴──────────┴──────────┴─────────────────────────────────┴────────┘"
      ]
     },
     "execution_count": 2,
     "metadata": {},
     "output_type": "execute_result"
    }
   ],
   "source": [
    "df_cat_features"
   ]
  },
  {
   "cell_type": "code",
   "execution_count": 3,
   "metadata": {},
   "outputs": [
    {
     "data": {
      "text/plain": [
       "'[{\"attr\":1157,\"value\":664427},{\"attr\":4682,\"value\":326570},{\"attr\":3512,\"value\":18427},{\"attr\":2557,\"value\":730975},{\"attr\":4516,\"value\":300310},{\"attr\":998,\"value\":522797},{\"attr\":4926,\"value\":19276},{\"attr\":3367,\"value\":500290},{\"attr\":3206,\"value\":497888},{\"attr\":4848,\"value\":136279},{\"attr\":1253,\"value\":3026},{\"attr\":2549,\"value\":213759}]'"
      ]
     },
     "execution_count": 3,
     "metadata": {},
     "output_type": "execute_result"
    }
   ],
   "source": [
    "df_cat_features[0, \"clean_params\"]"
   ]
  },
  {
   "cell_type": "code",
   "execution_count": 4,
   "metadata": {},
   "outputs": [
    {
     "data": {
      "text/html": [
       "<div><style>\n",
       ".dataframe > thead > tr,\n",
       ".dataframe > tbody > tr {\n",
       "  text-align: right;\n",
       "  white-space: pre-wrap;\n",
       "}\n",
       "</style>\n",
       "<small>shape: (9, 2)</small><table border=\"1\" class=\"dataframe\"><thead><tr><th>attr</th><th>value</th></tr><tr><td>i64</td><td>i64</td></tr></thead><tbody><tr><td>2140</td><td>501466</td></tr><tr><td>1897</td><td>582135</td></tr><tr><td>1550</td><td>498267</td></tr><tr><td>567</td><td>173798</td></tr><tr><td>2278</td><td>533341</td></tr><tr><td>3911</td><td>725581</td></tr><tr><td>704</td><td>270613</td></tr><tr><td>622</td><td>184975</td></tr><tr><td>3316</td><td>330006</td></tr></tbody></table></div>"
      ],
      "text/plain": [
       "shape: (9, 2)\n",
       "┌──────┬────────┐\n",
       "│ attr ┆ value  │\n",
       "│ ---  ┆ ---    │\n",
       "│ i64  ┆ i64    │\n",
       "╞══════╪════════╡\n",
       "│ 2140 ┆ 501466 │\n",
       "│ 1897 ┆ 582135 │\n",
       "│ 1550 ┆ 498267 │\n",
       "│ 567  ┆ 173798 │\n",
       "│ 2278 ┆ 533341 │\n",
       "│ 3911 ┆ 725581 │\n",
       "│ 704  ┆ 270613 │\n",
       "│ 622  ┆ 184975 │\n",
       "│ 3316 ┆ 330006 │\n",
       "└──────┴────────┘"
      ]
     },
     "execution_count": 4,
     "metadata": {},
     "output_type": "execute_result"
    }
   ],
   "source": [
    "pl.DataFrame(json.loads(df_cat_features[1, \"clean_params\"]))"
   ]
  },
  {
   "cell_type": "code",
   "execution_count": 5,
   "metadata": {},
   "outputs": [
    {
     "data": {
      "text/plain": [
       "'[{\"attr\":1157,\"value\":664427},{\"attr\":4682,\"value\":326570},{\"attr\":3512,\"value\":18427},{\"attr\":2557,\"value\":730975},{\"attr\":4516,\"value\":300310},{\"attr\":998,\"value\":522797},{\"attr\":4926,\"value\":19276},{\"attr\":3367,\"value\":500290},{\"attr\":3206,\"value\":497888},{\"attr\":4848,\"value\":136279},{\"attr\":1253,\"value\":3026},{\"attr\":2549,\"value\":213759}]'"
      ]
     },
     "execution_count": 5,
     "metadata": {},
     "output_type": "execute_result"
    }
   ],
   "source": [
    "df_cat_features[0, \"clean_params\"]"
   ]
  },
  {
   "cell_type": "code",
   "execution_count": 6,
   "metadata": {},
   "outputs": [
    {
     "data": {
      "text/html": [
       "<div><style>\n",
       ".dataframe > thead > tr,\n",
       ".dataframe > tbody > tr {\n",
       "  text-align: right;\n",
       "  white-space: pre-wrap;\n",
       "}\n",
       "</style>\n",
       "<small>shape: (12, 2)</small><table border=\"1\" class=\"dataframe\"><thead><tr><th>attr</th><th>value</th></tr><tr><td>i64</td><td>i64</td></tr></thead><tbody><tr><td>1157</td><td>664427</td></tr><tr><td>4682</td><td>326570</td></tr><tr><td>3512</td><td>18427</td></tr><tr><td>2557</td><td>730975</td></tr><tr><td>4516</td><td>300310</td></tr><tr><td>&hellip;</td><td>&hellip;</td></tr><tr><td>3367</td><td>500290</td></tr><tr><td>3206</td><td>497888</td></tr><tr><td>4848</td><td>136279</td></tr><tr><td>1253</td><td>3026</td></tr><tr><td>2549</td><td>213759</td></tr></tbody></table></div>"
      ],
      "text/plain": [
       "shape: (12, 2)\n",
       "┌──────┬────────┐\n",
       "│ attr ┆ value  │\n",
       "│ ---  ┆ ---    │\n",
       "│ i64  ┆ i64    │\n",
       "╞══════╪════════╡\n",
       "│ 1157 ┆ 664427 │\n",
       "│ 4682 ┆ 326570 │\n",
       "│ 3512 ┆ 18427  │\n",
       "│ 2557 ┆ 730975 │\n",
       "│ 4516 ┆ 300310 │\n",
       "│ …    ┆ …      │\n",
       "│ 3367 ┆ 500290 │\n",
       "│ 3206 ┆ 497888 │\n",
       "│ 4848 ┆ 136279 │\n",
       "│ 1253 ┆ 3026   │\n",
       "│ 2549 ┆ 213759 │\n",
       "└──────┴────────┘"
      ]
     },
     "execution_count": 6,
     "metadata": {},
     "output_type": "execute_result"
    }
   ],
   "source": [
    "\n",
    "pl.DataFrame(json.loads(df_cat_features[0, \"clean_params\"]))"
   ]
  },
  {
   "cell_type": "code",
   "execution_count": 57,
   "metadata": {},
   "outputs": [],
   "source": [
    "attr_col = \"clean_params\"\n",
    "prefix = \"attr_\"\n",
    "chunk_size = 500000\n",
    "top_n = 20"
   ]
  },
  {
   "cell_type": "code",
   "execution_count": 56,
   "metadata": {},
   "outputs": [
    {
     "name": "stderr",
     "output_type": "stream",
     "text": [
      "100%|██████████| 227/227 [01:09<00:00,  3.27it/s]\n"
     ]
    },
    {
     "ename": "NameError",
     "evalue": "name 'top_n' is not defined",
     "output_type": "error",
     "traceback": [
      "\u001b[31m---------------------------------------------------------------------------\u001b[39m",
      "\u001b[31mNameError\u001b[39m                                 Traceback (most recent call last)",
      "\u001b[36mCell\u001b[39m\u001b[36m \u001b[39m\u001b[32mIn[56]\u001b[39m\u001b[32m, line 19\u001b[39m\n\u001b[32m     16\u001b[39m             \u001b[38;5;28;01mcontinue\u001b[39;00m\n\u001b[32m     18\u001b[39m \u001b[38;5;66;03m# Get the most common attr IDs\u001b[39;00m\n\u001b[32m---> \u001b[39m\u001b[32m19\u001b[39m top_attrs = [attr \u001b[38;5;28;01mfor\u001b[39;00m attr, _ \u001b[38;5;129;01min\u001b[39;00m counter.most_common(\u001b[43mtop_n\u001b[49m)]\n",
      "\u001b[31mNameError\u001b[39m: name 'top_n' is not defined"
     ]
    }
   ],
   "source": [
    "from tqdm import tqdm\n",
    "from collections import Counter\n",
    "counter = Counter()\n",
    "total_rows = df_cat_features.height\n",
    "\n",
    "# Iterate in chunks, update counter\n",
    "for offset in tqdm(range(0, total_rows, chunk_size)):\n",
    "    chunk = df_cat_features.slice(offset, chunk_size)[attr_col].to_list()\n",
    "    for json_str in chunk:\n",
    "        try:\n",
    "            items = json.loads(json_str)\n",
    "            # count each attr occurrence\n",
    "            for d in items:\n",
    "                counter[d.get(\"attr\")] += 1\n",
    "        except Exception:\n",
    "            continue"
   ]
  },
  {
   "cell_type": "code",
   "execution_count": 82,
   "metadata": {},
   "outputs": [
    {
     "data": {
      "text/plain": [
       "0\n",
       "3640     5.135518\n",
       "3939     5.242620\n",
       "1598     5.249385\n",
       "3154     5.568107\n",
       "124      5.655365\n",
       "3509     5.655369\n",
       "1092     5.655374\n",
       "1971     6.394369\n",
       "2140     7.855677\n",
       "3911     7.856093\n",
       "4622    10.341264\n",
       "3025    10.341268\n",
       "3392    10.341268\n",
       "3031    12.404536\n",
       "567     16.311085\n",
       "1897    16.311094\n",
       "1550    16.311094\n",
       "1433    19.784255\n",
       "2278    22.029947\n",
       "704     22.327977\n",
       "Name: 1, dtype: float64"
      ]
     },
     "execution_count": 82,
     "metadata": {},
     "output_type": "execute_result"
    }
   ],
   "source": [
    "(pd.DataFrame(dict(counter).items()).set_index(0)[1] / total_rows).sort_values().tail(top_n) * 100"
   ]
  },
  {
   "cell_type": "code",
   "execution_count": 83,
   "metadata": {},
   "outputs": [
    {
     "data": {
      "text/plain": [
       "[704,\n",
       " 2278,\n",
       " 1433,\n",
       " 1897,\n",
       " 1550,\n",
       " 567,\n",
       " 3031,\n",
       " 3392,\n",
       " 3025,\n",
       " 4622,\n",
       " 3911,\n",
       " 2140,\n",
       " 1971,\n",
       " 1092,\n",
       " 3509,\n",
       " 124,\n",
       " 3154,\n",
       " 1598,\n",
       " 3939,\n",
       " 3640]"
      ]
     },
     "execution_count": 83,
     "metadata": {},
     "output_type": "execute_result"
    }
   ],
   "source": [
    "top_attrs = [attr for attr, _ in counter.most_common(top_n)]\n",
    "top_attrs"
   ]
  },
  {
   "cell_type": "code",
   "execution_count": 91,
   "metadata": {},
   "outputs": [
    {
     "name": "stderr",
     "output_type": "stream",
     "text": [
      "100%|██████████| 46/46 [01:37<00:00,  2.12s/it]\n"
     ]
    }
   ],
   "source": [
    "# unique_attrs = count_unique_attrs_chunked(df, attr_col, chunk_size)\n",
    "attr_cols = [f\"{prefix}{aid}\" for aid in top_attrs]\n",
    "results = []\n",
    "total_rows = df_cat_features.height\n",
    "\n",
    "for offset in tqdm(range(0, total_rows, chunk_size)):\n",
    "    # 1) Slice a chunk into pandas for JSON parsing\n",
    "    sub_pdf = df_cat_features.slice(offset, chunk_size).to_pandas()\n",
    "    dicts = []\n",
    "    for json_str in sub_pdf[attr_col]:\n",
    "        row_dict = {}\n",
    "        try:\n",
    "            items = json.loads(json_str)\n",
    "            for d in items:\n",
    "                aid = d.get(\"attr\")\n",
    "                if aid in top_attrs:\n",
    "                    row_dict[f\"{prefix}{aid}\"] = d.get(\"value\")\n",
    "        except Exception:\n",
    "            pass\n",
    "        dicts.append(row_dict)\n",
    "\n",
    "    # 2) Convert dicts to Polars\n",
    "    wide_chunk = pl.DataFrame(dicts)\n",
    "\n",
    "    # 3) Ensure all selected columns present\n",
    "    for col in attr_cols:\n",
    "        if col not in wide_chunk.columns:\n",
    "            wide_chunk = wide_chunk.with_columns(pl.lit(None).alias(col))\n",
    "\n",
    "    # 4) Combine with original slice\n",
    "    left = df_cat_features.slice(offset, chunk_size).drop(attr_col)\n",
    "    results.append(pl.concat([left, wide_chunk[attr_cols]], how=\"horizontal\"))\n"
   ]
  },
  {
   "cell_type": "code",
   "execution_count": 92,
   "metadata": {},
   "outputs": [],
   "source": [
    "attribute_df = pl.concat(results, how=\"vertical\")"
   ]
  },
  {
   "cell_type": "code",
   "execution_count": 103,
   "metadata": {},
   "outputs": [
    {
     "data": {
      "text/html": [
       "<div><style>\n",
       ".dataframe > thead > tr,\n",
       ".dataframe > tbody > tr {\n",
       "  text-align: right;\n",
       "  white-space: pre-wrap;\n",
       "}\n",
       "</style>\n",
       "<small>shape: (1, 24)</small><table border=\"1\" class=\"dataframe\"><thead><tr><th>item</th><th>location</th><th>category</th><th>node</th><th>attr_704</th><th>attr_2278</th><th>attr_1433</th><th>attr_1897</th><th>attr_1550</th><th>attr_567</th><th>attr_3031</th><th>attr_3392</th><th>attr_3025</th><th>attr_4622</th><th>attr_3911</th><th>attr_2140</th><th>attr_1971</th><th>attr_1092</th><th>attr_3509</th><th>attr_124</th><th>attr_3154</th><th>attr_1598</th><th>attr_3939</th><th>attr_3640</th></tr><tr><td>u32</td><td>u32</td><td>u32</td><td>u32</td><td>u32</td><td>u32</td><td>u32</td><td>u32</td><td>u32</td><td>u32</td><td>u32</td><td>u32</td><td>u32</td><td>u32</td><td>u32</td><td>u32</td><td>u32</td><td>u32</td><td>u32</td><td>u32</td><td>u32</td><td>u32</td><td>u32</td><td>u32</td></tr></thead><tbody><tr><td>0</td><td>1</td><td>1</td><td>0</td><td>17590143</td><td>17657637</td><td>18166212</td><td>18952768</td><td>18952768</td><td>18952770</td><td>19837474</td><td>20304736</td><td>20304736</td><td>20304737</td><td>20867546</td><td>20867640</td><td>21198578</td><td>21365936</td><td>21365937</td><td>21365938</td><td>21385699</td><td>21457879</td><td>21459411</td><td>21509072</td></tr></tbody></table></div>"
      ],
      "text/plain": [
       "shape: (1, 24)\n",
       "┌──────┬──────────┬──────────┬──────┬───┬───────────┬───────────┬───────────┬───────────┐\n",
       "│ item ┆ location ┆ category ┆ node ┆ … ┆ attr_3154 ┆ attr_1598 ┆ attr_3939 ┆ attr_3640 │\n",
       "│ ---  ┆ ---      ┆ ---      ┆ ---  ┆   ┆ ---       ┆ ---       ┆ ---       ┆ ---       │\n",
       "│ u32  ┆ u32      ┆ u32      ┆ u32  ┆   ┆ u32       ┆ u32       ┆ u32       ┆ u32       │\n",
       "╞══════╪══════════╪══════════╪══════╪═══╪═══════════╪═══════════╪═══════════╪═══════════╡\n",
       "│ 0    ┆ 1        ┆ 1        ┆ 0    ┆ … ┆ 21385699  ┆ 21457879  ┆ 21459411  ┆ 21509072  │\n",
       "└──────┴──────────┴──────────┴──────┴───┴───────────┴───────────┴───────────┴───────────┘"
      ]
     },
     "execution_count": 103,
     "metadata": {},
     "output_type": "execute_result"
    }
   ],
   "source": [
    "attribute_df.null_count()"
   ]
  },
  {
   "cell_type": "code",
   "execution_count": 105,
   "metadata": {},
   "outputs": [],
   "source": [
    "attribute_df = attribute_df.fill_null(0)"
   ]
  },
  {
   "cell_type": "code",
   "execution_count": 106,
   "metadata": {},
   "outputs": [
    {
     "data": {
      "text/html": [
       "<div><style>\n",
       ".dataframe > thead > tr,\n",
       ".dataframe > tbody > tr {\n",
       "  text-align: right;\n",
       "  white-space: pre-wrap;\n",
       "}\n",
       "</style>\n",
       "<small>shape: (22_646_691, 3)</small><table border=\"1\" class=\"dataframe\"><thead><tr><th>item</th><th>location</th><th>category</th></tr><tr><td>i64</td><td>i64</td><td>i64</td></tr></thead><tbody><tr><td>9</td><td>8385</td><td>57</td></tr><tr><td>17</td><td>2707</td><td>35</td></tr><tr><td>144</td><td>8383</td><td>8</td></tr><tr><td>202</td><td>5397</td><td>57</td></tr><tr><td>236</td><td>2105</td><td>64</td></tr><tr><td>&hellip;</td><td>&hellip;</td><td>&hellip;</td></tr><tr><td>28804461</td><td>24</td><td>35</td></tr><tr><td>28804502</td><td>2305</td><td>51</td></tr><tr><td>28804563</td><td>2348</td><td>0</td></tr><tr><td>28804609</td><td>2348</td><td>51</td></tr><tr><td>28804620</td><td>2678</td><td>7</td></tr></tbody></table></div>"
      ],
      "text/plain": [
       "shape: (22_646_691, 3)\n",
       "┌──────────┬──────────┬──────────┐\n",
       "│ item     ┆ location ┆ category │\n",
       "│ ---      ┆ ---      ┆ ---      │\n",
       "│ i64      ┆ i64      ┆ i64      │\n",
       "╞══════════╪══════════╪══════════╡\n",
       "│ 9        ┆ 8385     ┆ 57       │\n",
       "│ 17       ┆ 2707     ┆ 35       │\n",
       "│ 144      ┆ 8383     ┆ 8        │\n",
       "│ 202      ┆ 5397     ┆ 57       │\n",
       "│ 236      ┆ 2105     ┆ 64       │\n",
       "│ …        ┆ …        ┆ …        │\n",
       "│ 28804461 ┆ 24       ┆ 35       │\n",
       "│ 28804502 ┆ 2305     ┆ 51       │\n",
       "│ 28804563 ┆ 2348     ┆ 0        │\n",
       "│ 28804609 ┆ 2348     ┆ 51       │\n",
       "│ 28804620 ┆ 2678     ┆ 7        │\n",
       "└──────────┴──────────┴──────────┘"
      ]
     },
     "execution_count": 106,
     "metadata": {},
     "output_type": "execute_result"
    }
   ],
   "source": [
    "df_cat_features[\"item\", \"location\", \"category\"]"
   ]
  },
  {
   "cell_type": "code",
   "execution_count": 107,
   "metadata": {},
   "outputs": [],
   "source": [
    "def assert_fields_equal(\n",
    "    orig: pl.DataFrame,\n",
    "    new: pl.DataFrame,\n",
    "    fields: list[str]\n",
    ") -> None:\n",
    "    \"\"\"\n",
    "    Assert that the given fields are identical between two DataFrames row-wise.\n",
    "\n",
    "    Raises AssertionError if any mismatch is found, showing example rows.\n",
    "\n",
    "    Parameters\n",
    "    ----------\n",
    "    orig : pl.DataFrame\n",
    "        Original DataFrame.\n",
    "    new : pl.DataFrame\n",
    "        Parsed/modified DataFrame.\n",
    "    fields : list[str]\n",
    "        Column names to compare.\n",
    "    \"\"\"\n",
    "    # select and reorder\n",
    "    o = orig.select(fields)\n",
    "    n = new.select(fields)\n",
    "\n",
    "    # ensure same shape\n",
    "    if o.shape != n.shape:\n",
    "        raise AssertionError(f\"Shape mismatch on fields {fields}: orig {o.shape}, new {n.shape}\")\n",
    "\n",
    "    # find mismatches\n",
    "    diffs = []\n",
    "    for col in tqdm(fields):\n",
    "        mask = (o[col] != n[col]) & ~(o[col].is_null() & n[col].is_null())\n",
    "        if mask.any():\n",
    "            idx = mask.arg_true()[0]\n",
    "            diffs.append((col, idx, o[col][idx], n[col][idx]))\n",
    "\n",
    "    if diffs:\n",
    "        msg = \"Mismatches found:\\n\"\n",
    "        for col, idx, ov, nv in diffs:\n",
    "            msg += f\" - Field '{col}' at row {idx}: orig={ov}, new={nv}\\n\"\n",
    "        raise AssertionError(msg)"
   ]
  },
  {
   "cell_type": "code",
   "execution_count": 115,
   "metadata": {},
   "outputs": [
    {
     "name": "stderr",
     "output_type": "stream",
     "text": [
      "100%|██████████| 4/4 [00:00<00:00, 191.56it/s]\n"
     ]
    }
   ],
   "source": [
    "assert_fields_equal(df_cat_features, attribute_df, [\"item\", \"location\", \"category\", \"node\"])"
   ]
  },
  {
   "cell_type": "code",
   "execution_count": 123,
   "metadata": {},
   "outputs": [],
   "source": [
    "attribute_df.write_parquet(f\"./data/cat_features_preproc_{top_n}.pq\")"
   ]
  },
  {
   "cell_type": "markdown",
   "metadata": {},
   "source": [
    "# Text features"
   ]
  },
  {
   "cell_type": "code",
   "execution_count": 126,
   "metadata": {},
   "outputs": [
    {
     "data": {
      "text/html": [
       "<div><style>\n",
       ".dataframe > thead > tr,\n",
       ".dataframe > tbody > tr {\n",
       "  text-align: right;\n",
       "  white-space: pre-wrap;\n",
       "}\n",
       "</style>\n",
       "<small>shape: (22_646_691, 24)</small><table border=\"1\" class=\"dataframe\"><thead><tr><th>item</th><th>location</th><th>category</th><th>node</th><th>attr_704</th><th>attr_2278</th><th>attr_1433</th><th>attr_1897</th><th>attr_1550</th><th>attr_567</th><th>attr_3031</th><th>attr_3392</th><th>attr_3025</th><th>attr_4622</th><th>attr_3911</th><th>attr_2140</th><th>attr_1971</th><th>attr_1092</th><th>attr_3509</th><th>attr_124</th><th>attr_3154</th><th>attr_1598</th><th>attr_3939</th><th>attr_3640</th></tr><tr><td>i64</td><td>i64</td><td>i64</td><td>u32</td><td>i64</td><td>i64</td><td>i64</td><td>i64</td><td>i64</td><td>i64</td><td>i64</td><td>i64</td><td>i64</td><td>i64</td><td>i64</td><td>i64</td><td>i64</td><td>i64</td><td>i64</td><td>i64</td><td>i64</td><td>i64</td><td>i64</td><td>i64</td></tr></thead><tbody><tr><td>9</td><td>8385</td><td>57</td><td>194747</td><td>0</td><td>0</td><td>0</td><td>0</td><td>0</td><td>0</td><td>0</td><td>0</td><td>0</td><td>0</td><td>0</td><td>0</td><td>0</td><td>0</td><td>0</td><td>0</td><td>0</td><td>0</td><td>0</td><td>0</td></tr><tr><td>17</td><td>2707</td><td>35</td><td>352905</td><td>270613</td><td>533341</td><td>0</td><td>582135</td><td>498267</td><td>173798</td><td>0</td><td>0</td><td>0</td><td>0</td><td>725581</td><td>501466</td><td>0</td><td>0</td><td>0</td><td>0</td><td>0</td><td>0</td><td>0</td><td>0</td></tr><tr><td>144</td><td>8383</td><td>8</td><td>17188</td><td>0</td><td>0</td><td>0</td><td>0</td><td>0</td><td>0</td><td>0</td><td>0</td><td>0</td><td>0</td><td>0</td><td>0</td><td>0</td><td>0</td><td>0</td><td>0</td><td>0</td><td>0</td><td>0</td><td>0</td></tr><tr><td>202</td><td>5397</td><td>57</td><td>194766</td><td>0</td><td>0</td><td>0</td><td>0</td><td>0</td><td>0</td><td>0</td><td>0</td><td>0</td><td>0</td><td>0</td><td>0</td><td>0</td><td>0</td><td>0</td><td>0</td><td>0</td><td>0</td><td>0</td><td>0</td></tr><tr><td>236</td><td>2105</td><td>64</td><td>153951</td><td>0</td><td>0</td><td>0</td><td>0</td><td>0</td><td>0</td><td>0</td><td>0</td><td>0</td><td>0</td><td>0</td><td>0</td><td>0</td><td>0</td><td>0</td><td>0</td><td>0</td><td>0</td><td>0</td><td>0</td></tr><tr><td>&hellip;</td><td>&hellip;</td><td>&hellip;</td><td>&hellip;</td><td>&hellip;</td><td>&hellip;</td><td>&hellip;</td><td>&hellip;</td><td>&hellip;</td><td>&hellip;</td><td>&hellip;</td><td>&hellip;</td><td>&hellip;</td><td>&hellip;</td><td>&hellip;</td><td>&hellip;</td><td>&hellip;</td><td>&hellip;</td><td>&hellip;</td><td>&hellip;</td><td>&hellip;</td><td>&hellip;</td><td>&hellip;</td><td>&hellip;</td></tr><tr><td>28804461</td><td>24</td><td>35</td><td>326792</td><td>249640</td><td>737256</td><td>498743</td><td>582135</td><td>498267</td><td>318315</td><td>0</td><td>0</td><td>0</td><td>0</td><td>725581</td><td>364348</td><td>0</td><td>0</td><td>0</td><td>0</td><td>0</td><td>0</td><td>0</td><td>0</td></tr><tr><td>28804502</td><td>2305</td><td>51</td><td>401208</td><td>0</td><td>0</td><td>0</td><td>0</td><td>0</td><td>0</td><td>0</td><td>488527</td><td>770753</td><td>171723</td><td>0</td><td>0</td><td>0</td><td>0</td><td>0</td><td>0</td><td>0</td><td>247180</td><td>0</td><td>0</td></tr><tr><td>28804563</td><td>2348</td><td>0</td><td>13974</td><td>0</td><td>0</td><td>0</td><td>0</td><td>0</td><td>0</td><td>0</td><td>0</td><td>0</td><td>0</td><td>0</td><td>0</td><td>0</td><td>0</td><td>0</td><td>0</td><td>0</td><td>0</td><td>0</td><td>0</td></tr><tr><td>28804609</td><td>2348</td><td>51</td><td>258971</td><td>0</td><td>0</td><td>0</td><td>0</td><td>0</td><td>0</td><td>0</td><td>32665</td><td>770753</td><td>618809</td><td>0</td><td>0</td><td>457655</td><td>0</td><td>0</td><td>0</td><td>0</td><td>0</td><td>486468</td><td>0</td></tr><tr><td>28804620</td><td>2678</td><td>7</td><td>71511</td><td>0</td><td>0</td><td>0</td><td>0</td><td>0</td><td>0</td><td>0</td><td>0</td><td>0</td><td>0</td><td>0</td><td>0</td><td>0</td><td>0</td><td>0</td><td>0</td><td>291810</td><td>0</td><td>0</td><td>378289</td></tr></tbody></table></div>"
      ],
      "text/plain": [
       "shape: (22_646_691, 24)\n",
       "┌──────────┬──────────┬──────────┬────────┬───┬───────────┬───────────┬───────────┬───────────┐\n",
       "│ item     ┆ location ┆ category ┆ node   ┆ … ┆ attr_3154 ┆ attr_1598 ┆ attr_3939 ┆ attr_3640 │\n",
       "│ ---      ┆ ---      ┆ ---      ┆ ---    ┆   ┆ ---       ┆ ---       ┆ ---       ┆ ---       │\n",
       "│ i64      ┆ i64      ┆ i64      ┆ u32    ┆   ┆ i64       ┆ i64       ┆ i64       ┆ i64       │\n",
       "╞══════════╪══════════╪══════════╪════════╪═══╪═══════════╪═══════════╪═══════════╪═══════════╡\n",
       "│ 9        ┆ 8385     ┆ 57       ┆ 194747 ┆ … ┆ 0         ┆ 0         ┆ 0         ┆ 0         │\n",
       "│ 17       ┆ 2707     ┆ 35       ┆ 352905 ┆ … ┆ 0         ┆ 0         ┆ 0         ┆ 0         │\n",
       "│ 144      ┆ 8383     ┆ 8        ┆ 17188  ┆ … ┆ 0         ┆ 0         ┆ 0         ┆ 0         │\n",
       "│ 202      ┆ 5397     ┆ 57       ┆ 194766 ┆ … ┆ 0         ┆ 0         ┆ 0         ┆ 0         │\n",
       "│ 236      ┆ 2105     ┆ 64       ┆ 153951 ┆ … ┆ 0         ┆ 0         ┆ 0         ┆ 0         │\n",
       "│ …        ┆ …        ┆ …        ┆ …      ┆ … ┆ …         ┆ …         ┆ …         ┆ …         │\n",
       "│ 28804461 ┆ 24       ┆ 35       ┆ 326792 ┆ … ┆ 0         ┆ 0         ┆ 0         ┆ 0         │\n",
       "│ 28804502 ┆ 2305     ┆ 51       ┆ 401208 ┆ … ┆ 0         ┆ 247180    ┆ 0         ┆ 0         │\n",
       "│ 28804563 ┆ 2348     ┆ 0        ┆ 13974  ┆ … ┆ 0         ┆ 0         ┆ 0         ┆ 0         │\n",
       "│ 28804609 ┆ 2348     ┆ 51       ┆ 258971 ┆ … ┆ 0         ┆ 0         ┆ 486468    ┆ 0         │\n",
       "│ 28804620 ┆ 2678     ┆ 7        ┆ 71511  ┆ … ┆ 291810    ┆ 0         ┆ 0         ┆ 378289    │\n",
       "└──────────┴──────────┴──────────┴────────┴───┴───────────┴───────────┴───────────┴───────────┘"
      ]
     },
     "execution_count": 126,
     "metadata": {},
     "output_type": "execute_result"
    }
   ],
   "source": [
    "attribute_df"
   ]
  },
  {
   "cell_type": "code",
   "execution_count": 128,
   "metadata": {},
   "outputs": [
    {
     "data": {
      "text/html": [
       "<div><style>\n",
       ".dataframe > thead > tr,\n",
       ".dataframe > tbody > tr {\n",
       "  text-align: right;\n",
       "  white-space: pre-wrap;\n",
       "}\n",
       "</style>\n",
       "<small>shape: (22_646_691, 2)</small><table border=\"1\" class=\"dataframe\"><thead><tr><th>item</th><th>title_projection</th></tr><tr><td>i64</td><td>array[i8, 64]</td></tr></thead><tbody><tr><td>9</td><td>[-128, 90, … -36]</td></tr><tr><td>17</td><td>[-128, 127, … -3]</td></tr><tr><td>144</td><td>[-128, 97, … 18]</td></tr><tr><td>202</td><td>[-128, 127, … 15]</td></tr><tr><td>236</td><td>[-128, 29, … -128]</td></tr><tr><td>&hellip;</td><td>&hellip;</td></tr><tr><td>28804461</td><td>[-128, 127, … 99]</td></tr><tr><td>28804502</td><td>[-69, -128, … -37]</td></tr><tr><td>28804563</td><td>[-96, 72, … -49]</td></tr><tr><td>28804609</td><td>[-128, -128, … -70]</td></tr><tr><td>28804620</td><td>[127, 127, … 22]</td></tr></tbody></table></div>"
      ],
      "text/plain": [
       "shape: (22_646_691, 2)\n",
       "┌──────────┬─────────────────────┐\n",
       "│ item     ┆ title_projection    │\n",
       "│ ---      ┆ ---                 │\n",
       "│ i64      ┆ array[i8, 64]       │\n",
       "╞══════════╪═════════════════════╡\n",
       "│ 9        ┆ [-128, 90, … -36]   │\n",
       "│ 17       ┆ [-128, 127, … -3]   │\n",
       "│ 144      ┆ [-128, 97, … 18]    │\n",
       "│ 202      ┆ [-128, 127, … 15]   │\n",
       "│ 236      ┆ [-128, 29, … -128]  │\n",
       "│ …        ┆ …                   │\n",
       "│ 28804461 ┆ [-128, 127, … 99]   │\n",
       "│ 28804502 ┆ [-69, -128, … -37]  │\n",
       "│ 28804563 ┆ [-96, 72, … -49]    │\n",
       "│ 28804609 ┆ [-128, -128, … -70] │\n",
       "│ 28804620 ┆ [127, 127, … 22]    │\n",
       "└──────────┴─────────────────────┘"
      ]
     },
     "execution_count": 128,
     "metadata": {},
     "output_type": "execute_result"
    }
   ],
   "source": [
    "df_text_features"
   ]
  },
  {
   "cell_type": "markdown",
   "metadata": {},
   "source": [
    "# Location"
   ]
  },
  {
   "cell_type": "code",
   "execution_count": 4,
   "metadata": {},
   "outputs": [],
   "source": [
    "attribute_df = pl.read_parquet(f'{DATA_DIR}/items_preproc_20.pq')"
   ]
  },
  {
   "cell_type": "code",
   "execution_count": 11,
   "metadata": {},
   "outputs": [],
   "source": [
    "import matplotlib.pyplot as plt"
   ]
  },
  {
   "cell_type": "code",
   "execution_count": 20,
   "metadata": {},
   "outputs": [
    {
     "data": {
      "text/plain": [
       "[]"
      ]
     },
     "execution_count": 20,
     "metadata": {},
     "output_type": "execute_result"
    },
    {
     "data": {
      "image/png": "[encoded data removed]",
      "text/plain": [
       "<Figure size 2000x1500 with 1 Axes>"
      ]
     },
     "metadata": {},
     "output_type": "display_data"
    }
   ],
   "source": [
    "fig, ax = plt.subplots(1, 1, figsize=(20, 15))\n",
    "x = attribute_df[\"location\"].value_counts()[\"location\"]\n",
    "y = attribute_df[\"location\"].value_counts()[\"count\"]\n",
    "ax.hist(y, bins=50)\n",
    "plt.plot()"
   ]
  },
  {
   "cell_type": "code",
   "execution_count": 23,
   "metadata": {},
   "outputs": [
    {
     "data": {
      "text/html": [
       "<div><style>\n",
       ".dataframe > thead > tr,\n",
       ".dataframe > tbody > tr {\n",
       "  text-align: right;\n",
       "  white-space: pre-wrap;\n",
       "}\n",
       "</style>\n",
       "<small>shape: (9, 2)</small><table border=\"1\" class=\"dataframe\"><thead><tr><th>statistic</th><th>value</th></tr><tr><td>str</td><td>f64</td></tr></thead><tbody><tr><td>&quot;count&quot;</td><td>4822.0</td></tr><tr><td>&quot;null_count&quot;</td><td>0.0</td></tr><tr><td>&quot;mean&quot;</td><td>4696.53484</td></tr><tr><td>&quot;std&quot;</td><td>70155.823901</td></tr><tr><td>&quot;min&quot;</td><td>1.0</td></tr><tr><td>&quot;25%&quot;</td><td>17.0</td></tr><tr><td>&quot;50%&quot;</td><td>217.0</td></tr><tr><td>&quot;75%&quot;</td><td>723.0</td></tr><tr><td>&quot;max&quot;</td><td>4.305927e6</td></tr></tbody></table></div>"
      ],
      "text/plain": [
       "shape: (9, 2)\n",
       "┌────────────┬──────────────┐\n",
       "│ statistic  ┆ value        │\n",
       "│ ---        ┆ ---          │\n",
       "│ str        ┆ f64          │\n",
       "╞════════════╪══════════════╡\n",
       "│ count      ┆ 4822.0       │\n",
       "│ null_count ┆ 0.0          │\n",
       "│ mean       ┆ 4696.53484   │\n",
       "│ std        ┆ 70155.823901 │\n",
       "│ min        ┆ 1.0          │\n",
       "│ 25%        ┆ 17.0         │\n",
       "│ 50%        ┆ 217.0        │\n",
       "│ 75%        ┆ 723.0        │\n",
       "│ max        ┆ 4.305927e6   │\n",
       "└────────────┴──────────────┘"
      ]
     },
     "execution_count": 23,
     "metadata": {},
     "output_type": "execute_result"
    }
   ],
   "source": [
    "attribute_df[\"location\"].value_counts()[\"count\"].describe()"
   ]
  },
  {
   "cell_type": "code",
   "execution_count": 32,
   "metadata": {},
   "outputs": [
    {
     "data": {
      "text/plain": [
       "[]"
      ]
     },
     "execution_count": 32,
     "metadata": {},
     "output_type": "execute_result"
    },
    {
     "data": {
      "image/png": "[encoded data removed]",
      "text/plain": [
       "<Figure size 2000x1500 with 1 Axes>"
      ]
     },
     "metadata": {},
     "output_type": "display_data"
    }
   ],
   "source": [
    "fig, ax = plt.subplots(1, 1, figsize=(20, 15))\n",
    "x = attribute_df[\"category\"].value_counts()[\"category\"]\n",
    "y = attribute_df[\"category\"].value_counts()[\"count\"]\n",
    "ax.bar(x, y)\n",
    "plt.plot()"
   ]
  },
  {
   "cell_type": "code",
   "execution_count": 34,
   "metadata": {},
   "outputs": [
    {
     "data": {
      "text/html": [
       "<div><style>\n",
       ".dataframe > thead > tr,\n",
       ".dataframe > tbody > tr {\n",
       "  text-align: right;\n",
       "  white-space: pre-wrap;\n",
       "}\n",
       "</style>\n",
       "<small>shape: (9, 2)</small><table border=\"1\" class=\"dataframe\"><thead><tr><th>statistic</th><th>value</th></tr><tr><td>str</td><td>f64</td></tr></thead><tbody><tr><td>&quot;count&quot;</td><td>52.0</td></tr><tr><td>&quot;null_count&quot;</td><td>0.0</td></tr><tr><td>&quot;mean&quot;</td><td>435513.288462</td></tr><tr><td>&quot;std&quot;</td><td>636940.742882</td></tr><tr><td>&quot;min&quot;</td><td>2.0</td></tr><tr><td>&quot;25%&quot;</td><td>96081.0</td></tr><tr><td>&quot;50%&quot;</td><td>171834.0</td></tr><tr><td>&quot;75%&quot;</td><td>520896.0</td></tr><tr><td>&quot;max&quot;</td><td>3.693923e6</td></tr></tbody></table></div>"
      ],
      "text/plain": [
       "shape: (9, 2)\n",
       "┌────────────┬───────────────┐\n",
       "│ statistic  ┆ value         │\n",
       "│ ---        ┆ ---           │\n",
       "│ str        ┆ f64           │\n",
       "╞════════════╪═══════════════╡\n",
       "│ count      ┆ 52.0          │\n",
       "│ null_count ┆ 0.0           │\n",
       "│ mean       ┆ 435513.288462 │\n",
       "│ std        ┆ 636940.742882 │\n",
       "│ min        ┆ 2.0           │\n",
       "│ 25%        ┆ 96081.0       │\n",
       "│ 50%        ┆ 171834.0      │\n",
       "│ 75%        ┆ 520896.0      │\n",
       "│ max        ┆ 3.693923e6    │\n",
       "└────────────┴───────────────┘"
      ]
     },
     "execution_count": 34,
     "metadata": {},
     "output_type": "execute_result"
    }
   ],
   "source": [
    "attribute_df[\"category\"].value_counts()[\"count\"].describe()"
   ]
  },
  {
   "cell_type": "code",
   "execution_count": null,
   "metadata": {},
   "outputs": [],
   "source": []
  }
 ],
 "metadata": {
  "kernelspec": {
   "display_name": "recsys",
   "language": "python",
   "name": "python3"
  },
  "language_info": {
   "codemirror_mode": {
    "name": "ipython",
    "version": 3
   },
   "file_extension": ".py",
   "mimetype": "text/x-python",
   "name": "python",
   "nbconvert_exporter": "python",
   "pygments_lexer": "ipython3",
   "version": "3.11.11"
  }
 },
 "nbformat": 4,
 "nbformat_minor": 2
}
