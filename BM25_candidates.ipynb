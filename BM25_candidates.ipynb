{
 "cells": [
  {
   "cell_type": "code",
   "execution_count": 14,
   "metadata": {},
   "outputs": [],
   "source": [
    "from datetime import timedelta\n",
    "import polars as pl\n",
    "import pandas as pd\n",
    "import implicit\n",
    "\n",
    "from tools import load_data_actions, generate_lightfm_recs_mapper\n",
    "from tqdm import tqdm\n",
    "\n",
    "from lightfm.data import Dataset\n",
    "from lightfm import LightFM\n",
    "\n",
    "from rectools import Columns\n",
    "from rectools.dataset import Dataset as RTDataset\n",
    "from rectools.models import (\n",
    "    ImplicitALSWrapperModel,\n",
    "    ImplicitBPRWrapperModel,\n",
    "    LightFMWrapperModel,\n",
    "    PureSVDModel,\n",
    "    ImplicitItemKNNWrapperModel,\n",
    "    EASEModel\n",
    ")\n",
    "\n",
    "from sklearn.model_selection import train_test_split\n",
    "from sklearn.utils import shuffle\n",
    "# First Stage\n",
    "SEED = 42\n",
    "top_N = 40\n",
    "DATA_DIR = 'data/'\n",
    "\n",
    "df_test_users = pl.read_parquet(f'{DATA_DIR}/test_users.pq')\n",
    "df_clickstream = pl.read_parquet(f'{DATA_DIR}/clickstream.pq')\n",
    "df_event = pl.read_parquet(f'{DATA_DIR}/events.pq')\n",
    "df_train, df_eval = load_data_actions(df_clickstream, df_event)\n",
    "\n",
    "def dataframe2rectools(df):\n",
    "    return (\n",
    "        df[[\"cookie\", \"node\", \"event_date\"]]\n",
    "        .with_columns(pl.lit(1).alias('weight'))\n",
    "        .rename({\n",
    "            \"cookie\": Columns.User,\n",
    "            \"node\": Columns.Item,\n",
    "            \"weight\": Columns.Weight,\n",
    "            \"event_date\": Columns.Datetime,\n",
    "        })\n",
    "    ).to_pandas()\n",
    "df_train = dataframe2rectools(df_train)"
   ]
  },
  {
   "cell_type": "code",
   "execution_count": 15,
   "metadata": {},
   "outputs": [],
   "source": [
    "dataset = RTDataset.construct(\n",
    "    interactions_df=df_train,\n",
    "    user_features_df=None,\n",
    "    cat_user_features=None,\n",
    "    # item_features_df=unmelted_item_features.to_pandas(),\n",
    "    # cat_item_features=[\"category\"],\n",
    ")"
   ]
  },
  {
   "cell_type": "code",
   "execution_count": 16,
   "metadata": {},
   "outputs": [
    {
     "name": "stdout",
     "output_type": "stream",
     "text": [
      "CPU times: user 11 μs, sys: 68 μs, total: 79 μs\n",
      "Wall time: 83.9 μs\n"
     ]
    }
   ],
   "source": [
    "%%time\n",
    "model = ImplicitItemKNNWrapperModel(implicit.nearest_neighbours.BM25Recommender(K=top_N))"
   ]
  },
  {
   "cell_type": "code",
   "execution_count": 17,
   "metadata": {},
   "outputs": [
    {
     "data": {
      "text/plain": [
       "<rectools.models.implicit_knn.ImplicitItemKNNWrapperModel at 0x4e02a4850>"
      ]
     },
     "execution_count": 17,
     "metadata": {},
     "output_type": "execute_result"
    }
   ],
   "source": [
    "model.fit(dataset)"
   ]
  },
  {
   "cell_type": "code",
   "execution_count": 18,
   "metadata": {},
   "outputs": [
    {
     "data": {
      "text/plain": [
       "0.08697969190158865"
      ]
     },
     "execution_count": 18,
     "metadata": {},
     "output_type": "execute_result"
    }
   ],
   "source": [
    "df_pred = model.recommend(\n",
    "    users=list(df_eval[\"cookie\"].unique()),\n",
    "    dataset=dataset,\n",
    "    k=top_N,\n",
    "    filter_viewed=True,\n",
    ")\n",
    "df_pred = pl.DataFrame(\n",
    "    df_pred[[\"user_id\", \"item_id\"]],\n",
    "    schema={\"user_id\": pl.Int64, \"item_id\": pl.Int64}\n",
    "    ).rename({\"user_id\": \"cookie\", \"item_id\": \"node\"})\n",
    "from tools import recall_at\n",
    "recall_at(df_eval, df_pred, k=40)"
   ]
  },
  {
   "cell_type": "code",
   "execution_count": 20,
   "metadata": {},
   "outputs": [],
   "source": [
    "df_pred.group_by(\"cookie\").head(40)[\"cookie\",\"node\"].write_csv('results/first_stage_prediction_BM25_40.csv')"
   ]
  },
  {
   "cell_type": "markdown",
   "metadata": {},
   "source": [
    "# Submission"
   ]
  },
  {
   "cell_type": "code",
   "execution_count": 21,
   "metadata": {},
   "outputs": [],
   "source": [
    "df_train = dataframe2rectools(df_clickstream)\n",
    "dataset = RTDataset.construct(\n",
    "    interactions_df=df_train,\n",
    "    user_features_df=None,\n",
    "    cat_user_features=None,\n",
    "    # item_features_df=unmelted_item_features.to_pandas(),\n",
    "    # cat_item_features=[\"category\"],\n",
    ")\n"
   ]
  },
  {
   "cell_type": "code",
   "execution_count": 22,
   "metadata": {},
   "outputs": [
    {
     "name": "stdout",
     "output_type": "stream",
     "text": [
      "CPU times: user 34.6 s, sys: 353 ms, total: 35 s\n",
      "Wall time: 35.2 s\n"
     ]
    },
    {
     "data": {
      "text/plain": [
       "<rectools.models.implicit_knn.ImplicitItemKNNWrapperModel at 0x4e0639390>"
      ]
     },
     "execution_count": 22,
     "metadata": {},
     "output_type": "execute_result"
    }
   ],
   "source": [
    "%%time\n",
    "model = ImplicitItemKNNWrapperModel(implicit.nearest_neighbours.BM25Recommender(K=top_N))\n",
    "model.fit(dataset)"
   ]
  },
  {
   "cell_type": "code",
   "execution_count": 23,
   "metadata": {},
   "outputs": [],
   "source": [
    "df_pred = model.recommend(\n",
    "    users=list(df_test_users[\"cookie\"].unique()),\n",
    "    dataset=dataset,\n",
    "    k=top_N,\n",
    "    filter_viewed=True,\n",
    ")"
   ]
  },
  {
   "cell_type": "code",
   "execution_count": null,
   "metadata": {},
   "outputs": [],
   "source": [
    "df_pred = pl.DataFrame(\n",
    "    df_pred[[\"user_id\", \"item_id\"]],\n",
    "    schema={\"user_id\": pl.Int64, \"item_id\": pl.Int64}\n",
    "    ).rename({\"user_id\": \"cookie\", \"item_id\": \"node\"})"
   ]
  },
  {
   "cell_type": "code",
   "execution_count": null,
   "metadata": {},
   "outputs": [],
   "source": [
    "df_pred.group_by(\"cookie\").head(40)[\"cookie\",\"node\"].write_csv('data/test_hybrid_stage_candidates_BM25_40.csv')"
   ]
  },
  {
   "cell_type": "code",
   "execution_count": null,
   "metadata": {},
   "outputs": [],
   "source": []
  }
 ],
 "metadata": {
  "kernelspec": {
   "display_name": "recsys",
   "language": "python",
   "name": "python3"
  },
  "language_info": {
   "codemirror_mode": {
    "name": "ipython",
    "version": 3
   },
   "file_extension": ".py",
   "mimetype": "text/x-python",
   "name": "python",
   "nbconvert_exporter": "python",
   "pygments_lexer": "ipython3",
   "version": "3.11.11"
  }
 },
 "nbformat": 4,
 "nbformat_minor": 2
}
