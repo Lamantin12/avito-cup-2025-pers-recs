{
 "cells": [
  {
   "cell_type": "code",
   "execution_count": 1,
   "metadata": {},
   "outputs": [
    {
     "name": "stderr",
     "output_type": "stream",
     "text": [
      "/opt/anaconda3/envs/recsys/lib/python3.11/site-packages/lightfm/_lightfm_fast.py:9: UserWarning: LightFM was compiled without OpenMP support. Only a single thread will be used.\n",
      "  warnings.warn(\n"
     ]
    }
   ],
   "source": [
    "from datetime import timedelta\n",
    "import polars as pl\n",
    "import pandas as pd\n",
    "import implicit\n",
    "\n",
    "from tools import load_data_actions, generate_lightfm_recs_mapper\n",
    "from tqdm import tqdm\n",
    "\n",
    "from lightfm.data import Dataset\n",
    "from lightfm import LightFM\n",
    "\n",
    "from rectools import Columns\n",
    "from rectools.dataset import Dataset as RTDataset\n",
    "from rectools.models import (\n",
    "    ImplicitALSWrapperModel,\n",
    "    ImplicitBPRWrapperModel,\n",
    "    LightFMWrapperModel,\n",
    "    PureSVDModel,\n",
    "    ImplicitItemKNNWrapperModel,\n",
    "    EASEModel\n",
    ")\n",
    "\n",
    "from sklearn.model_selection import train_test_split\n",
    "from sklearn.utils import shuffle"
   ]
  },
  {
   "cell_type": "markdown",
   "metadata": {},
   "source": [
    "# First Stage"
   ]
  },
  {
   "cell_type": "code",
   "execution_count": 2,
   "metadata": {},
   "outputs": [],
   "source": [
    "SEED = 42\n",
    "top_N = 40\n",
    "DATA_DIR = 'data/'\n",
    "\n",
    "df_test_users = pl.read_parquet(f'{DATA_DIR}/test_users.pq')\n",
    "df_clickstream = pl.read_parquet(f'{DATA_DIR}/clickstream.pq')\n",
    "\n",
    "df_cat_features = pl.read_parquet(f'{DATA_DIR}/cat_features_preproc_20.pq')\n",
    "df_text_features = pl.read_parquet(f'{DATA_DIR}/text_features.pq')\n",
    "df_event = pl.read_parquet(f'{DATA_DIR}/events.pq')"
   ]
  },
  {
   "cell_type": "code",
   "execution_count": 3,
   "metadata": {},
   "outputs": [],
   "source": [
    "df_train, df_eval = load_data_actions(df_clickstream, df_event)"
   ]
  },
  {
   "cell_type": "code",
   "execution_count": 4,
   "metadata": {},
   "outputs": [
    {
     "data": {
      "text/html": [
       "<div>\n",
       "<style scoped>\n",
       "    .dataframe tbody tr th:only-of-type {\n",
       "        vertical-align: middle;\n",
       "    }\n",
       "\n",
       "    .dataframe tbody tr th {\n",
       "        vertical-align: top;\n",
       "    }\n",
       "\n",
       "    .dataframe thead th {\n",
       "        text-align: right;\n",
       "    }\n",
       "</style>\n",
       "<table border=\"1\" class=\"dataframe\">\n",
       "  <thead>\n",
       "    <tr style=\"text-align: right;\">\n",
       "      <th></th>\n",
       "      <th>node</th>\n",
       "      <th>mean_title_projection</th>\n",
       "    </tr>\n",
       "  </thead>\n",
       "  <tbody>\n",
       "    <tr>\n",
       "      <th>0</th>\n",
       "      <td>1</td>\n",
       "      <td>[-128.0, 127.0, 127.0, -40.0, -92.5, -109.5, 3...</td>\n",
       "    </tr>\n",
       "    <tr>\n",
       "      <th>1</th>\n",
       "      <td>2</td>\n",
       "      <td>[-128.0, 91.0, 127.0, -19.0, -72.0, -128.0, 11...</td>\n",
       "    </tr>\n",
       "    <tr>\n",
       "      <th>2</th>\n",
       "      <td>3</td>\n",
       "      <td>[-128.0, -30.0, 127.0, -119.0, -117.0, -128.0,...</td>\n",
       "    </tr>\n",
       "    <tr>\n",
       "      <th>3</th>\n",
       "      <td>4</td>\n",
       "      <td>[-128.0, 122.0, 127.0, -128.0, -86.0, -128.0, ...</td>\n",
       "    </tr>\n",
       "    <tr>\n",
       "      <th>4</th>\n",
       "      <td>5</td>\n",
       "      <td>[-128.0, 42.0, 127.0, -128.0, -80.0, -128.0, -...</td>\n",
       "    </tr>\n",
       "    <tr>\n",
       "      <th>...</th>\n",
       "      <td>...</td>\n",
       "      <td>...</td>\n",
       "    </tr>\n",
       "    <tr>\n",
       "      <th>408469</th>\n",
       "      <td>424063</td>\n",
       "      <td>[-128.0, -128.0, 127.0, -128.0, -111.0, 1.0, -...</td>\n",
       "    </tr>\n",
       "    <tr>\n",
       "      <th>408470</th>\n",
       "      <td>424064</td>\n",
       "      <td>[-128.0, -128.0, 127.0, -128.0, -126.0, -128.0...</td>\n",
       "    </tr>\n",
       "    <tr>\n",
       "      <th>408471</th>\n",
       "      <td>424065</td>\n",
       "      <td>[-105.0, -128.0, 15.0, -28.0, 68.0, -128.0, 63...</td>\n",
       "    </tr>\n",
       "    <tr>\n",
       "      <th>408472</th>\n",
       "      <td>424067</td>\n",
       "      <td>[-128.0, -128.0, 111.0, -35.0, 50.0, -89.0, -1...</td>\n",
       "    </tr>\n",
       "    <tr>\n",
       "      <th>408473</th>\n",
       "      <td>424068</td>\n",
       "      <td>[-128.0, -128.0, -3.0, -128.0, 93.0, -128.0, -...</td>\n",
       "    </tr>\n",
       "  </tbody>\n",
       "</table>\n",
       "<p>408474 rows × 2 columns</p>\n",
       "</div>"
      ],
      "text/plain": [
       "          node                              mean_title_projection\n",
       "0            1  [-128.0, 127.0, 127.0, -40.0, -92.5, -109.5, 3...\n",
       "1            2  [-128.0, 91.0, 127.0, -19.0, -72.0, -128.0, 11...\n",
       "2            3  [-128.0, -30.0, 127.0, -119.0, -117.0, -128.0,...\n",
       "3            4  [-128.0, 122.0, 127.0, -128.0, -86.0, -128.0, ...\n",
       "4            5  [-128.0, 42.0, 127.0, -128.0, -80.0, -128.0, -...\n",
       "...        ...                                                ...\n",
       "408469  424063  [-128.0, -128.0, 127.0, -128.0, -111.0, 1.0, -...\n",
       "408470  424064  [-128.0, -128.0, 127.0, -128.0, -126.0, -128.0...\n",
       "408471  424065  [-105.0, -128.0, 15.0, -28.0, 68.0, -128.0, 63...\n",
       "408472  424067  [-128.0, -128.0, 111.0, -35.0, 50.0, -89.0, -1...\n",
       "408473  424068  [-128.0, -128.0, -3.0, -128.0, 93.0, -128.0, -...\n",
       "\n",
       "[408474 rows x 2 columns]"
      ]
     },
     "execution_count": 4,
     "metadata": {},
     "output_type": "execute_result"
    }
   ],
   "source": [
    "import numpy as np\n",
    "\n",
    "mean_by_cat = (\n",
    "    df_text_features\n",
    "    .join(df_cat_features[\"item\", \"node\"], on=\"item\", how=\"left\")\n",
    "    .to_pandas()\n",
    "    .groupby(\"node\")[\"title_projection\"]\n",
    "    .apply(lambda vs: np.mean(np.stack(vs.values), axis=0).tolist())\n",
    "    .reset_index(name=\"mean_title_projection\")\n",
    ")\n",
    "\n",
    "mean_by_cat"
   ]
  },
  {
   "cell_type": "code",
   "execution_count": 25,
   "metadata": {},
   "outputs": [
    {
     "name": "stderr",
     "output_type": "stream",
     "text": [
      "/var/folders/1v/2njvtrl903s020_gk0tw647c0000gn/T/ipykernel_56313/1437220162.py:2: UserWarning: `to_struct()` should be passed a list of field names to avoid query errors in subsequent operations (e.g. <struct operation> not supported for dtype Unknown)\n",
      "  item_features = item_features.with_columns(pl.col(\"mean_title_projection\").list.to_struct()).unnest(\"mean_title_projection\")\n"
     ]
    },
    {
     "data": {
      "text/html": [
       "<div><style>\n",
       ".dataframe > thead > tr,\n",
       ".dataframe > tbody > tr {\n",
       "  text-align: right;\n",
       "  white-space: pre-wrap;\n",
       "}\n",
       "</style>\n",
       "<small>shape: (5, 65)</small><table border=\"1\" class=\"dataframe\"><thead><tr><th>id</th><th>field_0</th><th>field_1</th><th>field_2</th><th>field_3</th><th>field_4</th><th>field_5</th><th>field_6</th><th>field_7</th><th>field_8</th><th>field_9</th><th>field_10</th><th>field_11</th><th>field_12</th><th>field_13</th><th>field_14</th><th>field_15</th><th>field_16</th><th>field_17</th><th>field_18</th><th>field_19</th><th>field_20</th><th>field_21</th><th>field_22</th><th>field_23</th><th>field_24</th><th>field_25</th><th>field_26</th><th>field_27</th><th>field_28</th><th>field_29</th><th>field_30</th><th>field_31</th><th>field_32</th><th>field_33</th><th>field_34</th><th>field_35</th><th>field_36</th><th>field_37</th><th>field_38</th><th>field_39</th><th>field_40</th><th>field_41</th><th>field_42</th><th>field_43</th><th>field_44</th><th>field_45</th><th>field_46</th><th>field_47</th><th>field_48</th><th>field_49</th><th>field_50</th><th>field_51</th><th>field_52</th><th>field_53</th><th>field_54</th><th>field_55</th><th>field_56</th><th>field_57</th><th>field_58</th><th>field_59</th><th>field_60</th><th>field_61</th><th>field_62</th><th>field_63</th></tr><tr><td>u32</td><td>f64</td><td>f64</td><td>f64</td><td>f64</td><td>f64</td><td>f64</td><td>f64</td><td>f64</td><td>f64</td><td>f64</td><td>f64</td><td>f64</td><td>f64</td><td>f64</td><td>f64</td><td>f64</td><td>f64</td><td>f64</td><td>f64</td><td>f64</td><td>f64</td><td>f64</td><td>f64</td><td>f64</td><td>f64</td><td>f64</td><td>f64</td><td>f64</td><td>f64</td><td>f64</td><td>f64</td><td>f64</td><td>f64</td><td>f64</td><td>f64</td><td>f64</td><td>f64</td><td>f64</td><td>f64</td><td>f64</td><td>f64</td><td>f64</td><td>f64</td><td>f64</td><td>f64</td><td>f64</td><td>f64</td><td>f64</td><td>f64</td><td>f64</td><td>f64</td><td>f64</td><td>f64</td><td>f64</td><td>f64</td><td>f64</td><td>f64</td><td>f64</td><td>f64</td><td>f64</td><td>f64</td><td>f64</td><td>f64</td><td>f64</td></tr></thead><tbody><tr><td>1</td><td>-128.0</td><td>127.0</td><td>127.0</td><td>-40.0</td><td>-92.5</td><td>-109.5</td><td>3.5</td><td>-44.0</td><td>106.0</td><td>90.0</td><td>33.0</td><td>7.5</td><td>-72.5</td><td>-49.5</td><td>111.0</td><td>27.0</td><td>23.5</td><td>-98.5</td><td>98.5</td><td>-26.0</td><td>-94.0</td><td>-11.5</td><td>-57.5</td><td>127.0</td><td>-34.0</td><td>5.5</td><td>-103.0</td><td>-30.0</td><td>75.5</td><td>38.0</td><td>3.5</td><td>17.5</td><td>16.5</td><td>-19.5</td><td>-40.0</td><td>9.0</td><td>127.0</td><td>16.0</td><td>-85.5</td><td>17.0</td><td>97.5</td><td>-107.5</td><td>45.0</td><td>-65.0</td><td>3.0</td><td>28.5</td><td>-122.0</td><td>-77.5</td><td>-5.0</td><td>-89.0</td><td>44.0</td><td>-60.0</td><td>74.0</td><td>-63.0</td><td>50.0</td><td>-125.5</td><td>55.0</td><td>-23.0</td><td>-41.0</td><td>5.0</td><td>114.5</td><td>122.0</td><td>66.0</td><td>23.5</td></tr><tr><td>2</td><td>-128.0</td><td>91.0</td><td>127.0</td><td>-19.0</td><td>-72.0</td><td>-128.0</td><td>11.0</td><td>-128.0</td><td>127.0</td><td>127.0</td><td>9.0</td><td>21.0</td><td>-128.0</td><td>-123.0</td><td>127.0</td><td>-3.0</td><td>9.0</td><td>-86.0</td><td>78.0</td><td>-79.0</td><td>-89.0</td><td>-59.0</td><td>-8.0</td><td>127.0</td><td>17.0</td><td>-51.0</td><td>-128.0</td><td>-108.0</td><td>127.0</td><td>-33.0</td><td>-23.0</td><td>24.0</td><td>-31.0</td><td>21.0</td><td>-123.0</td><td>-97.0</td><td>127.0</td><td>66.0</td><td>-128.0</td><td>101.0</td><td>127.0</td><td>-109.0</td><td>43.0</td><td>-68.0</td><td>30.0</td><td>82.0</td><td>-128.0</td><td>-28.0</td><td>-93.0</td><td>-53.0</td><td>44.0</td><td>-20.0</td><td>84.0</td><td>-45.0</td><td>97.0</td><td>-128.0</td><td>116.0</td><td>-4.0</td><td>-74.0</td><td>60.0</td><td>127.0</td><td>127.0</td><td>18.0</td><td>-5.0</td></tr><tr><td>3</td><td>-128.0</td><td>-30.0</td><td>127.0</td><td>-119.0</td><td>-117.0</td><td>-128.0</td><td>-73.0</td><td>-16.0</td><td>127.0</td><td>100.0</td><td>81.0</td><td>117.0</td><td>-15.0</td><td>-128.0</td><td>112.0</td><td>9.0</td><td>36.0</td><td>-128.0</td><td>127.0</td><td>-128.0</td><td>-97.0</td><td>80.0</td><td>-38.0</td><td>127.0</td><td>120.0</td><td>38.0</td><td>-128.0</td><td>-74.0</td><td>124.0</td><td>-40.0</td><td>59.0</td><td>-25.0</td><td>-39.0</td><td>66.0</td><td>-128.0</td><td>-114.0</td><td>113.0</td><td>34.0</td><td>-128.0</td><td>29.0</td><td>127.0</td><td>-128.0</td><td>-37.0</td><td>34.0</td><td>76.0</td><td>43.0</td><td>-106.0</td><td>-59.0</td><td>71.0</td><td>-10.0</td><td>48.0</td><td>41.0</td><td>89.0</td><td>-6.0</td><td>69.0</td><td>-56.0</td><td>127.0</td><td>-89.0</td><td>-97.0</td><td>7.0</td><td>92.0</td><td>25.0</td><td>-14.0</td><td>36.0</td></tr><tr><td>4</td><td>-128.0</td><td>122.0</td><td>127.0</td><td>-128.0</td><td>-86.0</td><td>-128.0</td><td>-128.0</td><td>-36.0</td><td>127.0</td><td>-13.0</td><td>112.0</td><td>-21.0</td><td>77.0</td><td>-54.0</td><td>75.0</td><td>115.0</td><td>39.0</td><td>-61.0</td><td>36.0</td><td>-98.0</td><td>-25.0</td><td>87.0</td><td>7.0</td><td>127.0</td><td>-6.0</td><td>50.0</td><td>-128.0</td><td>-128.0</td><td>104.0</td><td>-128.0</td><td>-43.0</td><td>-96.0</td><td>-43.0</td><td>44.0</td><td>-128.0</td><td>-128.0</td><td>13.0</td><td>127.0</td><td>-128.0</td><td>6.0</td><td>127.0</td><td>-128.0</td><td>-69.0</td><td>-15.0</td><td>48.0</td><td>127.0</td><td>-128.0</td><td>-18.0</td><td>115.0</td><td>23.0</td><td>123.0</td><td>-45.0</td><td>127.0</td><td>-36.0</td><td>127.0</td><td>15.0</td><td>127.0</td><td>-34.0</td><td>-95.0</td><td>36.0</td><td>117.0</td><td>41.0</td><td>49.0</td><td>9.0</td></tr><tr><td>5</td><td>-128.0</td><td>42.0</td><td>127.0</td><td>-128.0</td><td>-80.0</td><td>-128.0</td><td>-128.0</td><td>-18.0</td><td>112.0</td><td>-17.0</td><td>127.0</td><td>-65.0</td><td>120.0</td><td>-68.0</td><td>52.0</td><td>79.0</td><td>52.0</td><td>-76.0</td><td>59.0</td><td>-114.0</td><td>-64.0</td><td>82.0</td><td>73.0</td><td>127.0</td><td>-3.0</td><td>85.0</td><td>-128.0</td><td>-105.0</td><td>26.0</td><td>-128.0</td><td>-35.0</td><td>45.0</td><td>35.0</td><td>31.0</td><td>-65.0</td><td>-107.0</td><td>-13.0</td><td>127.0</td><td>-128.0</td><td>-1.0</td><td>127.0</td><td>-45.0</td><td>-17.0</td><td>0.0</td><td>24.0</td><td>127.0</td><td>-76.0</td><td>-16.0</td><td>127.0</td><td>-36.0</td><td>66.0</td><td>-48.0</td><td>127.0</td><td>-47.0</td><td>106.0</td><td>-14.0</td><td>127.0</td><td>-63.0</td><td>48.0</td><td>32.0</td><td>81.0</td><td>-15.0</td><td>80.0</td><td>-31.0</td></tr></tbody></table></div>"
      ],
      "text/plain": [
       "shape: (5, 65)\n",
       "┌─────┬─────────┬─────────┬─────────┬───┬──────────┬──────────┬──────────┬──────────┐\n",
       "│ id  ┆ field_0 ┆ field_1 ┆ field_2 ┆ … ┆ field_60 ┆ field_61 ┆ field_62 ┆ field_63 │\n",
       "│ --- ┆ ---     ┆ ---     ┆ ---     ┆   ┆ ---      ┆ ---      ┆ ---      ┆ ---      │\n",
       "│ u32 ┆ f64     ┆ f64     ┆ f64     ┆   ┆ f64      ┆ f64      ┆ f64      ┆ f64      │\n",
       "╞═════╪═════════╪═════════╪═════════╪═══╪══════════╪══════════╪══════════╪══════════╡\n",
       "│ 1   ┆ -128.0  ┆ 127.0   ┆ 127.0   ┆ … ┆ 114.5    ┆ 122.0    ┆ 66.0     ┆ 23.5     │\n",
       "│ 2   ┆ -128.0  ┆ 91.0    ┆ 127.0   ┆ … ┆ 127.0    ┆ 127.0    ┆ 18.0     ┆ -5.0     │\n",
       "│ 3   ┆ -128.0  ┆ -30.0   ┆ 127.0   ┆ … ┆ 92.0     ┆ 25.0     ┆ -14.0    ┆ 36.0     │\n",
       "│ 4   ┆ -128.0  ┆ 122.0   ┆ 127.0   ┆ … ┆ 117.0    ┆ 41.0     ┆ 49.0     ┆ 9.0      │\n",
       "│ 5   ┆ -128.0  ┆ 42.0    ┆ 127.0   ┆ … ┆ 81.0     ┆ -15.0    ┆ 80.0     ┆ -31.0    │\n",
       "└─────┴─────────┴─────────┴─────────┴───┴──────────┴──────────┴──────────┴──────────┘"
      ]
     },
     "execution_count": 25,
     "metadata": {},
     "output_type": "execute_result"
    }
   ],
   "source": [
    "item_features = pl.DataFrame(mean_by_cat)\n",
    "item_features = item_features.with_columns(pl.col(\"mean_title_projection\").list.to_struct()).unnest(\"mean_title_projection\")\n",
    "item_features = item_features.rename({\"node\": \"id\"})\n",
    "unmelted_item_features = (\n",
    "    item_features.unpivot(index=\"id\", on=[x for x in item_features.columns if x != 'id'])\n",
    ")\n",
    "unmelted_item_features = unmelted_item_features.rename({\"variable\": \"feature\"})\n",
    "item_features.head()"
   ]
  },
  {
   "cell_type": "code",
   "execution_count": 6,
   "metadata": {},
   "outputs": [],
   "source": [
    "def dataframe2rectools(df):\n",
    "    return (\n",
    "        df[[\"cookie\", \"node\", \"event_date\"]]\n",
    "        .with_columns(pl.lit(1).alias('weight'))\n",
    "        .rename({\n",
    "            \"cookie\": Columns.User,\n",
    "            \"node\": Columns.Item,\n",
    "            \"weight\": Columns.Weight,\n",
    "            \"event_date\": Columns.Datetime,\n",
    "        })\n",
    "    ).to_pandas()\n",
    "df_train = dataframe2rectools(df_train)"
   ]
  },
  {
   "cell_type": "code",
   "execution_count": 7,
   "metadata": {},
   "outputs": [],
   "source": [
    "dataset = RTDataset.construct(\n",
    "    interactions_df=df_train,\n",
    "    user_features_df=None,\n",
    "    cat_user_features=None,\n",
    "#     item_features_df=unmelted_item_features.to_pandas(),\n",
    "#     cat_item_features=[\"category\"],\n",
    ")"
   ]
  },
  {
   "cell_type": "code",
   "execution_count": 8,
   "metadata": {},
   "outputs": [
    {
     "data": {
      "application/vnd.jupyter.widget-view+json": {
       "model_id": "5db6a1e72f04453ca19c719935c79bbc",
       "version_major": 2,
       "version_minor": 0
      },
      "text/plain": [
       "  0%|          | 0/30 [00:00<?, ?it/s]"
      ]
     },
     "metadata": {},
     "output_type": "display_data"
    },
    {
     "name": "stdout",
     "output_type": "stream",
     "text": [
      "CPU times: user 10min 10s, sys: 4.42 s, total: 10min 15s\n",
      "Wall time: 10min 17s\n"
     ]
    }
   ],
   "source": [
    "%%time\n",
    "from implicit.als import AlternatingLeastSquares\n",
    "model = ImplicitALSWrapperModel(\n",
    "    AlternatingLeastSquares(\n",
    "        factors=256,  # latent embeddings size\n",
    "        regularization=0.1,\n",
    "        iterations=30,\n",
    "        alpha=1,\n",
    "        random_state=SEED,\n",
    "    ),\n",
    "    fit_features_together=False,  # way to fit paired features\n",
    "    verbose=True,\n",
    ")\n",
    "model.fit(dataset)\n",
    "df_pred = model.recommend(\n",
    "    users=list(df_eval[\"cookie\"].unique()),\n",
    "    dataset=dataset,\n",
    "    k=top_N,\n",
    "    filter_viewed=True,\n",
    ")\n",
    "df_pred = pl.DataFrame(\n",
    "    df_pred[[\"user_id\", \"item_id\"]],\n",
    "    schema={\"user_id\": pl.Int64, \"item_id\": pl.Int64}\n",
    "    ).rename({\"user_id\": \"cookie\", \"item_id\": \"node\"})\n"
   ]
  },
  {
   "cell_type": "code",
   "execution_count": 9,
   "metadata": {},
   "outputs": [
    {
     "data": {
      "text/plain": [
       "0.14485603180719295"
      ]
     },
     "execution_count": 9,
     "metadata": {},
     "output_type": "execute_result"
    }
   ],
   "source": [
    "from tools import recall_at\n",
    "recall_at(df_eval, df_pred, k=40)"
   ]
  },
  {
   "cell_type": "code",
   "execution_count": 10,
   "metadata": {},
   "outputs": [],
   "source": [
    "candidates = model.recommend(\n",
    "    users=list(df_eval[\"cookie\"].unique()),\n",
    "    dataset=dataset,\n",
    "    k=200,\n",
    "    filter_viewed=True,\n",
    ")\n",
    "candidates = pl.DataFrame(\n",
    "    candidates[[\"user_id\", \"item_id\"]],\n",
    "    schema={\"user_id\": pl.Int64, \"item_id\": pl.Int64}\n",
    "    ).rename({\"user_id\": \"cookie\", \"item_id\": \"node\"})"
   ]
  },
  {
   "cell_type": "code",
   "execution_count": 11,
   "metadata": {},
   "outputs": [],
   "source": [
    "candidates[\"cookie\",\"node\"].write_csv('data/first_stage_candidates_ALS_200.csv')"
   ]
  },
  {
   "cell_type": "code",
   "execution_count": null,
   "metadata": {},
   "outputs": [],
   "source": []
  },
  {
   "cell_type": "code",
   "execution_count": 12,
   "metadata": {},
   "outputs": [
    {
     "data": {
      "application/vnd.jupyter.widget-view+json": {
       "model_id": "d26a39007197463eb0c83a603e84465e",
       "version_major": 2,
       "version_minor": 0
      },
      "text/plain": [
       "  0%|          | 0/30 [00:00<?, ?it/s]"
      ]
     },
     "metadata": {},
     "output_type": "display_data"
    },
    {
     "name": "stdout",
     "output_type": "stream",
     "text": [
      "CPU times: user 12min 36s, sys: 8.73 s, total: 12min 45s\n",
      "Wall time: 12min 48s\n"
     ]
    }
   ],
   "source": [
    "%%time\n",
    "dataset = RTDataset.construct(\n",
    "    interactions_df=dataframe2rectools(df_clickstream[[\"cookie\", \"node\", \"event_date\"]]),\n",
    "    user_features_df=None,\n",
    "    cat_user_features=None,\n",
    "#     item_features_df=unmelted_item_features.to_pandas(),\n",
    "#     cat_item_features=[\"category\"],\n",
    ")\n",
    "\n",
    "from implicit.als import AlternatingLeastSquares\n",
    "model = ImplicitALSWrapperModel(\n",
    "    AlternatingLeastSquares(\n",
    "        factors=256,  # latent embeddings size\n",
    "        regularization=0.1,\n",
    "        iterations=30,\n",
    "        alpha=1,\n",
    "        random_state=SEED,\n",
    "    ),\n",
    "    fit_features_together=False,  # way to fit paired features\n",
    "    verbose=True,\n",
    ")\n",
    "model.fit(dataset)\n",
    "candidates = model.recommend(\n",
    "    users=list(df_test_users[\"cookie\"].unique()),\n",
    "    dataset=dataset,\n",
    "    k=200,\n",
    "    filter_viewed=True,  \n",
    "    on_unsupported_targets=\"ignore\" \n",
    ")\n",
    "candidates = pl.DataFrame(\n",
    "    candidates[[\"user_id\", \"item_id\"]],\n",
    "    schema={\"user_id\": pl.Int64, \"item_id\": pl.Int64}\n",
    "    ).rename({\"user_id\": \"cookie\", \"item_id\": \"node\"})"
   ]
  },
  {
   "cell_type": "code",
   "execution_count": 13,
   "metadata": {},
   "outputs": [],
   "source": [
    "candidates[\"cookie\",\"node\"].write_csv('data/test_hybrid_stage_candidates_ALS_200.csv')"
   ]
  },
  {
   "cell_type": "code",
   "execution_count": 14,
   "metadata": {},
   "outputs": [
    {
     "data": {
      "text/html": [
       "<div><style>\n",
       ".dataframe > thead > tr,\n",
       ".dataframe > tbody > tr {\n",
       "  text-align: right;\n",
       "  white-space: pre-wrap;\n",
       "}\n",
       "</style>\n",
       "<small>shape: (92_319,)</small><table border=\"1\" class=\"dataframe\"><thead><tr><th>cookie</th></tr><tr><td>i64</td></tr></thead><tbody><tr><td>1</td></tr><tr><td>4</td></tr><tr><td>7</td></tr><tr><td>10</td></tr><tr><td>13</td></tr><tr><td>&hellip;</td></tr><tr><td>149995</td></tr><tr><td>149996</td></tr><tr><td>149997</td></tr><tr><td>149998</td></tr><tr><td>149999</td></tr></tbody></table></div>"
      ],
      "text/plain": [
       "shape: (92_319,)\n",
       "Series: 'cookie' [i64]\n",
       "[\n",
       "\t1\n",
       "\t4\n",
       "\t7\n",
       "\t10\n",
       "\t13\n",
       "\t…\n",
       "\t149995\n",
       "\t149996\n",
       "\t149997\n",
       "\t149998\n",
       "\t149999\n",
       "]"
      ]
     },
     "execution_count": 14,
     "metadata": {},
     "output_type": "execute_result"
    }
   ],
   "source": [
    "candidates[\"cookie\"].unique()"
   ]
  },
  {
   "cell_type": "markdown",
   "metadata": {},
   "source": [
    "# Second stage"
   ]
  },
  {
   "cell_type": "code",
   "execution_count": 1,
   "metadata": {},
   "outputs": [
    {
     "name": "stderr",
     "output_type": "stream",
     "text": [
      "/opt/anaconda3/envs/recsys/lib/python3.11/site-packages/lightfm/_lightfm_fast.py:9: UserWarning: LightFM was compiled without OpenMP support. Only a single thread will be used.\n",
      "  warnings.warn(\n"
     ]
    }
   ],
   "source": [
    "from datetime import timedelta\n",
    "import polars as pl\n",
    "import pandas as pd\n",
    "import implicit\n",
    "\n",
    "from tools import load_data_actions, generate_lightfm_recs_mapper\n",
    "from tqdm import tqdm\n",
    "\n",
    "from lightfm.data import Dataset\n",
    "from lightfm import LightFM\n",
    "\n",
    "from rectools import Columns\n",
    "from rectools.dataset import Dataset as RTDataset\n",
    "from rectools.models import (\n",
    "    ImplicitALSWrapperModel,\n",
    "    ImplicitBPRWrapperModel,\n",
    "    LightFMWrapperModel,\n",
    "    PureSVDModel,\n",
    "    ImplicitItemKNNWrapperModel,\n",
    "    EASEModel\n",
    ")\n",
    "\n",
    "from sklearn.model_selection import train_test_split\n",
    "from sklearn.utils import shuffle"
   ]
  },
  {
   "cell_type": "code",
   "execution_count": 2,
   "metadata": {},
   "outputs": [],
   "source": [
    "SEED = 42\n",
    "top_N = 40\n",
    "DATA_DIR = 'data/'\n",
    "\n",
    "df_test_users = pl.read_parquet(f'{DATA_DIR}/test_users.pq')\n",
    "df_clickstream = pl.read_parquet(f'{DATA_DIR}/clickstream.pq')\n",
    "\n",
    "df_cat_features = pl.read_parquet(f'{DATA_DIR}/cat_features_preproc_20.pq')\n",
    "df_text_features = pl.read_parquet(f'{DATA_DIR}/text_features.pq')\n",
    "df_event = pl.read_parquet(f'{DATA_DIR}/events.pq')"
   ]
  },
  {
   "cell_type": "code",
   "execution_count": 3,
   "metadata": {},
   "outputs": [],
   "source": [
    "df_train, df_eval = load_data_actions(df_clickstream, df_event)"
   ]
  },
  {
   "cell_type": "code",
   "execution_count": 4,
   "metadata": {},
   "outputs": [
    {
     "data": {
      "text/html": [
       "<div>\n",
       "<style scoped>\n",
       "    .dataframe tbody tr th:only-of-type {\n",
       "        vertical-align: middle;\n",
       "    }\n",
       "\n",
       "    .dataframe tbody tr th {\n",
       "        vertical-align: top;\n",
       "    }\n",
       "\n",
       "    .dataframe thead th {\n",
       "        text-align: right;\n",
       "    }\n",
       "</style>\n",
       "<table border=\"1\" class=\"dataframe\">\n",
       "  <thead>\n",
       "    <tr style=\"text-align: right;\">\n",
       "      <th></th>\n",
       "      <th>node</th>\n",
       "      <th>mean_title_projection</th>\n",
       "    </tr>\n",
       "  </thead>\n",
       "  <tbody>\n",
       "    <tr>\n",
       "      <th>0</th>\n",
       "      <td>1</td>\n",
       "      <td>[-128.0, 127.0, 127.0, -40.0, -92.5, -109.5, 3...</td>\n",
       "    </tr>\n",
       "    <tr>\n",
       "      <th>1</th>\n",
       "      <td>2</td>\n",
       "      <td>[-128.0, 91.0, 127.0, -19.0, -72.0, -128.0, 11...</td>\n",
       "    </tr>\n",
       "    <tr>\n",
       "      <th>2</th>\n",
       "      <td>3</td>\n",
       "      <td>[-128.0, -30.0, 127.0, -119.0, -117.0, -128.0,...</td>\n",
       "    </tr>\n",
       "    <tr>\n",
       "      <th>3</th>\n",
       "      <td>4</td>\n",
       "      <td>[-128.0, 122.0, 127.0, -128.0, -86.0, -128.0, ...</td>\n",
       "    </tr>\n",
       "    <tr>\n",
       "      <th>4</th>\n",
       "      <td>5</td>\n",
       "      <td>[-128.0, 42.0, 127.0, -128.0, -80.0, -128.0, -...</td>\n",
       "    </tr>\n",
       "    <tr>\n",
       "      <th>...</th>\n",
       "      <td>...</td>\n",
       "      <td>...</td>\n",
       "    </tr>\n",
       "    <tr>\n",
       "      <th>408469</th>\n",
       "      <td>424063</td>\n",
       "      <td>[-128.0, -128.0, 127.0, -128.0, -111.0, 1.0, -...</td>\n",
       "    </tr>\n",
       "    <tr>\n",
       "      <th>408470</th>\n",
       "      <td>424064</td>\n",
       "      <td>[-128.0, -128.0, 127.0, -128.0, -126.0, -128.0...</td>\n",
       "    </tr>\n",
       "    <tr>\n",
       "      <th>408471</th>\n",
       "      <td>424065</td>\n",
       "      <td>[-105.0, -128.0, 15.0, -28.0, 68.0, -128.0, 63...</td>\n",
       "    </tr>\n",
       "    <tr>\n",
       "      <th>408472</th>\n",
       "      <td>424067</td>\n",
       "      <td>[-128.0, -128.0, 111.0, -35.0, 50.0, -89.0, -1...</td>\n",
       "    </tr>\n",
       "    <tr>\n",
       "      <th>408473</th>\n",
       "      <td>424068</td>\n",
       "      <td>[-128.0, -128.0, -3.0, -128.0, 93.0, -128.0, -...</td>\n",
       "    </tr>\n",
       "  </tbody>\n",
       "</table>\n",
       "<p>408474 rows × 2 columns</p>\n",
       "</div>"
      ],
      "text/plain": [
       "          node                              mean_title_projection\n",
       "0            1  [-128.0, 127.0, 127.0, -40.0, -92.5, -109.5, 3...\n",
       "1            2  [-128.0, 91.0, 127.0, -19.0, -72.0, -128.0, 11...\n",
       "2            3  [-128.0, -30.0, 127.0, -119.0, -117.0, -128.0,...\n",
       "3            4  [-128.0, 122.0, 127.0, -128.0, -86.0, -128.0, ...\n",
       "4            5  [-128.0, 42.0, 127.0, -128.0, -80.0, -128.0, -...\n",
       "...        ...                                                ...\n",
       "408469  424063  [-128.0, -128.0, 127.0, -128.0, -111.0, 1.0, -...\n",
       "408470  424064  [-128.0, -128.0, 127.0, -128.0, -126.0, -128.0...\n",
       "408471  424065  [-105.0, -128.0, 15.0, -28.0, 68.0, -128.0, 63...\n",
       "408472  424067  [-128.0, -128.0, 111.0, -35.0, 50.0, -89.0, -1...\n",
       "408473  424068  [-128.0, -128.0, -3.0, -128.0, 93.0, -128.0, -...\n",
       "\n",
       "[408474 rows x 2 columns]"
      ]
     },
     "execution_count": 4,
     "metadata": {},
     "output_type": "execute_result"
    }
   ],
   "source": [
    "import numpy as np\n",
    "\n",
    "mean_by_cat = (\n",
    "    df_text_features\n",
    "    .join(df_cat_features[\"item\", \"node\"], on=\"item\", how=\"left\")\n",
    "    .to_pandas()\n",
    "    .groupby(\"node\")[\"title_projection\"]\n",
    "    .apply(lambda vs: np.mean(np.stack(vs.values), axis=0).tolist())\n",
    "    .reset_index(name=\"mean_title_projection\")\n",
    ")\n",
    "\n",
    "mean_by_cat"
   ]
  },
  {
   "cell_type": "code",
   "execution_count": 5,
   "metadata": {},
   "outputs": [],
   "source": [
    "addit_features = pl.read_parquet(DATA_DIR+\"cat_features_preproc_20.pq\")\n",
    "atr_cols = [i for i in addit_features.columns if \"attr\" in i]\n",
    "addit_features = (\n",
    "    addit_features.group_by(\"node\")\n",
    "    .agg([pl.col(atr).mean() for atr in atr_cols])\n",
    ")"
   ]
  },
  {
   "cell_type": "code",
   "execution_count": 6,
   "metadata": {},
   "outputs": [
    {
     "name": "stderr",
     "output_type": "stream",
     "text": [
      "/var/folders/1v/2njvtrl903s020_gk0tw647c0000gn/T/ipykernel_58206/201831949.py:2: UserWarning: `to_struct()` should be passed a list of field names to avoid query errors in subsequent operations (e.g. <struct operation> not supported for dtype Unknown)\n",
      "  item_features = item_features.with_columns(pl.col(\"mean_title_projection\").list.to_struct()).unnest(\"mean_title_projection\")\n"
     ]
    },
    {
     "data": {
      "text/html": [
       "<div><style>\n",
       ".dataframe > thead > tr,\n",
       ".dataframe > tbody > tr {\n",
       "  text-align: right;\n",
       "  white-space: pre-wrap;\n",
       "}\n",
       "</style>\n",
       "<small>shape: (5, 85)</small><table border=\"1\" class=\"dataframe\"><thead><tr><th>node</th><th>field_0</th><th>field_1</th><th>field_2</th><th>field_3</th><th>field_4</th><th>field_5</th><th>field_6</th><th>field_7</th><th>field_8</th><th>field_9</th><th>field_10</th><th>field_11</th><th>field_12</th><th>field_13</th><th>field_14</th><th>field_15</th><th>field_16</th><th>field_17</th><th>field_18</th><th>field_19</th><th>field_20</th><th>field_21</th><th>field_22</th><th>field_23</th><th>field_24</th><th>field_25</th><th>field_26</th><th>field_27</th><th>field_28</th><th>field_29</th><th>field_30</th><th>field_31</th><th>field_32</th><th>field_33</th><th>field_34</th><th>field_35</th><th>&hellip;</th><th>field_47</th><th>field_48</th><th>field_49</th><th>field_50</th><th>field_51</th><th>field_52</th><th>field_53</th><th>field_54</th><th>field_55</th><th>field_56</th><th>field_57</th><th>field_58</th><th>field_59</th><th>field_60</th><th>field_61</th><th>field_62</th><th>field_63</th><th>attr_704</th><th>attr_2278</th><th>attr_1433</th><th>attr_1897</th><th>attr_1550</th><th>attr_567</th><th>attr_3031</th><th>attr_3392</th><th>attr_3025</th><th>attr_4622</th><th>attr_3911</th><th>attr_2140</th><th>attr_1971</th><th>attr_1092</th><th>attr_3509</th><th>attr_124</th><th>attr_3154</th><th>attr_1598</th><th>attr_3939</th><th>attr_3640</th></tr><tr><td>u32</td><td>f64</td><td>f64</td><td>f64</td><td>f64</td><td>f64</td><td>f64</td><td>f64</td><td>f64</td><td>f64</td><td>f64</td><td>f64</td><td>f64</td><td>f64</td><td>f64</td><td>f64</td><td>f64</td><td>f64</td><td>f64</td><td>f64</td><td>f64</td><td>f64</td><td>f64</td><td>f64</td><td>f64</td><td>f64</td><td>f64</td><td>f64</td><td>f64</td><td>f64</td><td>f64</td><td>f64</td><td>f64</td><td>f64</td><td>f64</td><td>f64</td><td>f64</td><td>&hellip;</td><td>f64</td><td>f64</td><td>f64</td><td>f64</td><td>f64</td><td>f64</td><td>f64</td><td>f64</td><td>f64</td><td>f64</td><td>f64</td><td>f64</td><td>f64</td><td>f64</td><td>f64</td><td>f64</td><td>f64</td><td>f64</td><td>f64</td><td>f64</td><td>f64</td><td>f64</td><td>f64</td><td>f64</td><td>f64</td><td>f64</td><td>f64</td><td>f64</td><td>f64</td><td>f64</td><td>f64</td><td>f64</td><td>f64</td><td>f64</td><td>f64</td><td>f64</td><td>f64</td></tr></thead><tbody><tr><td>1</td><td>-128.0</td><td>127.0</td><td>127.0</td><td>-40.0</td><td>-92.5</td><td>-109.5</td><td>3.5</td><td>-44.0</td><td>106.0</td><td>90.0</td><td>33.0</td><td>7.5</td><td>-72.5</td><td>-49.5</td><td>111.0</td><td>27.0</td><td>23.5</td><td>-98.5</td><td>98.5</td><td>-26.0</td><td>-94.0</td><td>-11.5</td><td>-57.5</td><td>127.0</td><td>-34.0</td><td>5.5</td><td>-103.0</td><td>-30.0</td><td>75.5</td><td>38.0</td><td>3.5</td><td>17.5</td><td>16.5</td><td>-19.5</td><td>-40.0</td><td>9.0</td><td>&hellip;</td><td>-77.5</td><td>-5.0</td><td>-89.0</td><td>44.0</td><td>-60.0</td><td>74.0</td><td>-63.0</td><td>50.0</td><td>-125.5</td><td>55.0</td><td>-23.0</td><td>-41.0</td><td>5.0</td><td>114.5</td><td>122.0</td><td>66.0</td><td>23.5</td><td>0.0</td><td>0.0</td><td>0.0</td><td>0.0</td><td>0.0</td><td>0.0</td><td>0.0</td><td>0.0</td><td>0.0</td><td>0.0</td><td>0.0</td><td>0.0</td><td>0.0</td><td>0.0</td><td>0.0</td><td>0.0</td><td>0.0</td><td>0.0</td><td>0.0</td><td>0.0</td></tr><tr><td>2</td><td>-128.0</td><td>91.0</td><td>127.0</td><td>-19.0</td><td>-72.0</td><td>-128.0</td><td>11.0</td><td>-128.0</td><td>127.0</td><td>127.0</td><td>9.0</td><td>21.0</td><td>-128.0</td><td>-123.0</td><td>127.0</td><td>-3.0</td><td>9.0</td><td>-86.0</td><td>78.0</td><td>-79.0</td><td>-89.0</td><td>-59.0</td><td>-8.0</td><td>127.0</td><td>17.0</td><td>-51.0</td><td>-128.0</td><td>-108.0</td><td>127.0</td><td>-33.0</td><td>-23.0</td><td>24.0</td><td>-31.0</td><td>21.0</td><td>-123.0</td><td>-97.0</td><td>&hellip;</td><td>-28.0</td><td>-93.0</td><td>-53.0</td><td>44.0</td><td>-20.0</td><td>84.0</td><td>-45.0</td><td>97.0</td><td>-128.0</td><td>116.0</td><td>-4.0</td><td>-74.0</td><td>60.0</td><td>127.0</td><td>127.0</td><td>18.0</td><td>-5.0</td><td>0.0</td><td>0.0</td><td>0.0</td><td>0.0</td><td>0.0</td><td>0.0</td><td>0.0</td><td>0.0</td><td>0.0</td><td>0.0</td><td>0.0</td><td>0.0</td><td>0.0</td><td>0.0</td><td>0.0</td><td>0.0</td><td>0.0</td><td>0.0</td><td>0.0</td><td>0.0</td></tr><tr><td>3</td><td>-128.0</td><td>-30.0</td><td>127.0</td><td>-119.0</td><td>-117.0</td><td>-128.0</td><td>-73.0</td><td>-16.0</td><td>127.0</td><td>100.0</td><td>81.0</td><td>117.0</td><td>-15.0</td><td>-128.0</td><td>112.0</td><td>9.0</td><td>36.0</td><td>-128.0</td><td>127.0</td><td>-128.0</td><td>-97.0</td><td>80.0</td><td>-38.0</td><td>127.0</td><td>120.0</td><td>38.0</td><td>-128.0</td><td>-74.0</td><td>124.0</td><td>-40.0</td><td>59.0</td><td>-25.0</td><td>-39.0</td><td>66.0</td><td>-128.0</td><td>-114.0</td><td>&hellip;</td><td>-59.0</td><td>71.0</td><td>-10.0</td><td>48.0</td><td>41.0</td><td>89.0</td><td>-6.0</td><td>69.0</td><td>-56.0</td><td>127.0</td><td>-89.0</td><td>-97.0</td><td>7.0</td><td>92.0</td><td>25.0</td><td>-14.0</td><td>36.0</td><td>0.0</td><td>0.0</td><td>0.0</td><td>0.0</td><td>0.0</td><td>0.0</td><td>0.0</td><td>0.0</td><td>0.0</td><td>0.0</td><td>0.0</td><td>0.0</td><td>0.0</td><td>0.0</td><td>0.0</td><td>0.0</td><td>0.0</td><td>0.0</td><td>0.0</td><td>0.0</td></tr><tr><td>4</td><td>-128.0</td><td>122.0</td><td>127.0</td><td>-128.0</td><td>-86.0</td><td>-128.0</td><td>-128.0</td><td>-36.0</td><td>127.0</td><td>-13.0</td><td>112.0</td><td>-21.0</td><td>77.0</td><td>-54.0</td><td>75.0</td><td>115.0</td><td>39.0</td><td>-61.0</td><td>36.0</td><td>-98.0</td><td>-25.0</td><td>87.0</td><td>7.0</td><td>127.0</td><td>-6.0</td><td>50.0</td><td>-128.0</td><td>-128.0</td><td>104.0</td><td>-128.0</td><td>-43.0</td><td>-96.0</td><td>-43.0</td><td>44.0</td><td>-128.0</td><td>-128.0</td><td>&hellip;</td><td>-18.0</td><td>115.0</td><td>23.0</td><td>123.0</td><td>-45.0</td><td>127.0</td><td>-36.0</td><td>127.0</td><td>15.0</td><td>127.0</td><td>-34.0</td><td>-95.0</td><td>36.0</td><td>117.0</td><td>41.0</td><td>49.0</td><td>9.0</td><td>0.0</td><td>0.0</td><td>0.0</td><td>0.0</td><td>0.0</td><td>0.0</td><td>0.0</td><td>0.0</td><td>0.0</td><td>0.0</td><td>0.0</td><td>0.0</td><td>0.0</td><td>0.0</td><td>0.0</td><td>0.0</td><td>0.0</td><td>0.0</td><td>0.0</td><td>0.0</td></tr><tr><td>5</td><td>-128.0</td><td>42.0</td><td>127.0</td><td>-128.0</td><td>-80.0</td><td>-128.0</td><td>-128.0</td><td>-18.0</td><td>112.0</td><td>-17.0</td><td>127.0</td><td>-65.0</td><td>120.0</td><td>-68.0</td><td>52.0</td><td>79.0</td><td>52.0</td><td>-76.0</td><td>59.0</td><td>-114.0</td><td>-64.0</td><td>82.0</td><td>73.0</td><td>127.0</td><td>-3.0</td><td>85.0</td><td>-128.0</td><td>-105.0</td><td>26.0</td><td>-128.0</td><td>-35.0</td><td>45.0</td><td>35.0</td><td>31.0</td><td>-65.0</td><td>-107.0</td><td>&hellip;</td><td>-16.0</td><td>127.0</td><td>-36.0</td><td>66.0</td><td>-48.0</td><td>127.0</td><td>-47.0</td><td>106.0</td><td>-14.0</td><td>127.0</td><td>-63.0</td><td>48.0</td><td>32.0</td><td>81.0</td><td>-15.0</td><td>80.0</td><td>-31.0</td><td>0.0</td><td>0.0</td><td>0.0</td><td>0.0</td><td>0.0</td><td>0.0</td><td>0.0</td><td>0.0</td><td>0.0</td><td>0.0</td><td>0.0</td><td>0.0</td><td>0.0</td><td>0.0</td><td>0.0</td><td>0.0</td><td>0.0</td><td>0.0</td><td>0.0</td><td>0.0</td></tr></tbody></table></div>"
      ],
      "text/plain": [
       "shape: (5, 85)\n",
       "┌──────┬─────────┬─────────┬─────────┬───┬───────────┬───────────┬───────────┬───────────┐\n",
       "│ node ┆ field_0 ┆ field_1 ┆ field_2 ┆ … ┆ attr_3154 ┆ attr_1598 ┆ attr_3939 ┆ attr_3640 │\n",
       "│ ---  ┆ ---     ┆ ---     ┆ ---     ┆   ┆ ---       ┆ ---       ┆ ---       ┆ ---       │\n",
       "│ u32  ┆ f64     ┆ f64     ┆ f64     ┆   ┆ f64       ┆ f64       ┆ f64       ┆ f64       │\n",
       "╞══════╪═════════╪═════════╪═════════╪═══╪═══════════╪═══════════╪═══════════╪═══════════╡\n",
       "│ 1    ┆ -128.0  ┆ 127.0   ┆ 127.0   ┆ … ┆ 0.0       ┆ 0.0       ┆ 0.0       ┆ 0.0       │\n",
       "│ 2    ┆ -128.0  ┆ 91.0    ┆ 127.0   ┆ … ┆ 0.0       ┆ 0.0       ┆ 0.0       ┆ 0.0       │\n",
       "│ 3    ┆ -128.0  ┆ -30.0   ┆ 127.0   ┆ … ┆ 0.0       ┆ 0.0       ┆ 0.0       ┆ 0.0       │\n",
       "│ 4    ┆ -128.0  ┆ 122.0   ┆ 127.0   ┆ … ┆ 0.0       ┆ 0.0       ┆ 0.0       ┆ 0.0       │\n",
       "│ 5    ┆ -128.0  ┆ 42.0    ┆ 127.0   ┆ … ┆ 0.0       ┆ 0.0       ┆ 0.0       ┆ 0.0       │\n",
       "└──────┴─────────┴─────────┴─────────┴───┴───────────┴───────────┴───────────┴───────────┘"
      ]
     },
     "execution_count": 6,
     "metadata": {},
     "output_type": "execute_result"
    }
   ],
   "source": [
    "item_features = pl.DataFrame(mean_by_cat)\n",
    "item_features = item_features.with_columns(pl.col(\"mean_title_projection\").list.to_struct()).unnest(\"mean_title_projection\")\n",
    "\n",
    "item_features = item_features.join(addit_features, how=\"left\", on=\"node\")\n",
    "\n",
    "item_features = item_features.rename({\"node\": \"id\"})\n",
    "unmelted_item_features = (\n",
    "    item_features.unpivot(index=\"id\", on=[x for x in item_features.columns if x != 'id'])\n",
    ")\n",
    "unmelted_item_features = unmelted_item_features.rename({\"variable\": \"feature\"})\n",
    "item_features = item_features.rename({\"id\": \"node\"})\n",
    "item_features.head()"
   ]
  },
  {
   "cell_type": "code",
   "execution_count": 35,
   "metadata": {},
   "outputs": [
    {
     "data": {
      "text/html": [
       "<div><style>\n",
       ".dataframe > thead > tr,\n",
       ".dataframe > tbody > tr {\n",
       "  text-align: right;\n",
       "  white-space: pre-wrap;\n",
       "}\n",
       "</style>\n",
       "<small>shape: (22_646_691, 24)</small><table border=\"1\" class=\"dataframe\"><thead><tr><th>item</th><th>location</th><th>category</th><th>node</th><th>attr_704</th><th>attr_2278</th><th>attr_1433</th><th>attr_1897</th><th>attr_1550</th><th>attr_567</th><th>attr_3031</th><th>attr_3392</th><th>attr_3025</th><th>attr_4622</th><th>attr_3911</th><th>attr_2140</th><th>attr_1971</th><th>attr_1092</th><th>attr_3509</th><th>attr_124</th><th>attr_3154</th><th>attr_1598</th><th>attr_3939</th><th>attr_3640</th></tr><tr><td>i64</td><td>i64</td><td>i64</td><td>u32</td><td>i64</td><td>i64</td><td>i64</td><td>i64</td><td>i64</td><td>i64</td><td>i64</td><td>i64</td><td>i64</td><td>i64</td><td>i64</td><td>i64</td><td>i64</td><td>i64</td><td>i64</td><td>i64</td><td>i64</td><td>i64</td><td>i64</td><td>i64</td></tr></thead><tbody><tr><td>9</td><td>8385</td><td>57</td><td>194747</td><td>0</td><td>0</td><td>0</td><td>0</td><td>0</td><td>0</td><td>0</td><td>0</td><td>0</td><td>0</td><td>0</td><td>0</td><td>0</td><td>0</td><td>0</td><td>0</td><td>0</td><td>0</td><td>0</td><td>0</td></tr><tr><td>17</td><td>2707</td><td>35</td><td>352905</td><td>270613</td><td>533341</td><td>0</td><td>582135</td><td>498267</td><td>173798</td><td>0</td><td>0</td><td>0</td><td>0</td><td>725581</td><td>501466</td><td>0</td><td>0</td><td>0</td><td>0</td><td>0</td><td>0</td><td>0</td><td>0</td></tr><tr><td>144</td><td>8383</td><td>8</td><td>17188</td><td>0</td><td>0</td><td>0</td><td>0</td><td>0</td><td>0</td><td>0</td><td>0</td><td>0</td><td>0</td><td>0</td><td>0</td><td>0</td><td>0</td><td>0</td><td>0</td><td>0</td><td>0</td><td>0</td><td>0</td></tr><tr><td>202</td><td>5397</td><td>57</td><td>194766</td><td>0</td><td>0</td><td>0</td><td>0</td><td>0</td><td>0</td><td>0</td><td>0</td><td>0</td><td>0</td><td>0</td><td>0</td><td>0</td><td>0</td><td>0</td><td>0</td><td>0</td><td>0</td><td>0</td><td>0</td></tr><tr><td>236</td><td>2105</td><td>64</td><td>153951</td><td>0</td><td>0</td><td>0</td><td>0</td><td>0</td><td>0</td><td>0</td><td>0</td><td>0</td><td>0</td><td>0</td><td>0</td><td>0</td><td>0</td><td>0</td><td>0</td><td>0</td><td>0</td><td>0</td><td>0</td></tr><tr><td>&hellip;</td><td>&hellip;</td><td>&hellip;</td><td>&hellip;</td><td>&hellip;</td><td>&hellip;</td><td>&hellip;</td><td>&hellip;</td><td>&hellip;</td><td>&hellip;</td><td>&hellip;</td><td>&hellip;</td><td>&hellip;</td><td>&hellip;</td><td>&hellip;</td><td>&hellip;</td><td>&hellip;</td><td>&hellip;</td><td>&hellip;</td><td>&hellip;</td><td>&hellip;</td><td>&hellip;</td><td>&hellip;</td><td>&hellip;</td></tr><tr><td>28804461</td><td>24</td><td>35</td><td>326792</td><td>249640</td><td>737256</td><td>498743</td><td>582135</td><td>498267</td><td>318315</td><td>0</td><td>0</td><td>0</td><td>0</td><td>725581</td><td>364348</td><td>0</td><td>0</td><td>0</td><td>0</td><td>0</td><td>0</td><td>0</td><td>0</td></tr><tr><td>28804502</td><td>2305</td><td>51</td><td>401208</td><td>0</td><td>0</td><td>0</td><td>0</td><td>0</td><td>0</td><td>0</td><td>488527</td><td>770753</td><td>171723</td><td>0</td><td>0</td><td>0</td><td>0</td><td>0</td><td>0</td><td>0</td><td>247180</td><td>0</td><td>0</td></tr><tr><td>28804563</td><td>2348</td><td>0</td><td>13974</td><td>0</td><td>0</td><td>0</td><td>0</td><td>0</td><td>0</td><td>0</td><td>0</td><td>0</td><td>0</td><td>0</td><td>0</td><td>0</td><td>0</td><td>0</td><td>0</td><td>0</td><td>0</td><td>0</td><td>0</td></tr><tr><td>28804609</td><td>2348</td><td>51</td><td>258971</td><td>0</td><td>0</td><td>0</td><td>0</td><td>0</td><td>0</td><td>0</td><td>32665</td><td>770753</td><td>618809</td><td>0</td><td>0</td><td>457655</td><td>0</td><td>0</td><td>0</td><td>0</td><td>0</td><td>486468</td><td>0</td></tr><tr><td>28804620</td><td>2678</td><td>7</td><td>71511</td><td>0</td><td>0</td><td>0</td><td>0</td><td>0</td><td>0</td><td>0</td><td>0</td><td>0</td><td>0</td><td>0</td><td>0</td><td>0</td><td>0</td><td>0</td><td>0</td><td>291810</td><td>0</td><td>0</td><td>378289</td></tr></tbody></table></div>"
      ],
      "text/plain": [
       "shape: (22_646_691, 24)\n",
       "┌──────────┬──────────┬──────────┬────────┬───┬───────────┬───────────┬───────────┬───────────┐\n",
       "│ item     ┆ location ┆ category ┆ node   ┆ … ┆ attr_3154 ┆ attr_1598 ┆ attr_3939 ┆ attr_3640 │\n",
       "│ ---      ┆ ---      ┆ ---      ┆ ---    ┆   ┆ ---       ┆ ---       ┆ ---       ┆ ---       │\n",
       "│ i64      ┆ i64      ┆ i64      ┆ u32    ┆   ┆ i64       ┆ i64       ┆ i64       ┆ i64       │\n",
       "╞══════════╪══════════╪══════════╪════════╪═══╪═══════════╪═══════════╪═══════════╪═══════════╡\n",
       "│ 9        ┆ 8385     ┆ 57       ┆ 194747 ┆ … ┆ 0         ┆ 0         ┆ 0         ┆ 0         │\n",
       "│ 17       ┆ 2707     ┆ 35       ┆ 352905 ┆ … ┆ 0         ┆ 0         ┆ 0         ┆ 0         │\n",
       "│ 144      ┆ 8383     ┆ 8        ┆ 17188  ┆ … ┆ 0         ┆ 0         ┆ 0         ┆ 0         │\n",
       "│ 202      ┆ 5397     ┆ 57       ┆ 194766 ┆ … ┆ 0         ┆ 0         ┆ 0         ┆ 0         │\n",
       "│ 236      ┆ 2105     ┆ 64       ┆ 153951 ┆ … ┆ 0         ┆ 0         ┆ 0         ┆ 0         │\n",
       "│ …        ┆ …        ┆ …        ┆ …      ┆ … ┆ …         ┆ …         ┆ …         ┆ …         │\n",
       "│ 28804461 ┆ 24       ┆ 35       ┆ 326792 ┆ … ┆ 0         ┆ 0         ┆ 0         ┆ 0         │\n",
       "│ 28804502 ┆ 2305     ┆ 51       ┆ 401208 ┆ … ┆ 0         ┆ 247180    ┆ 0         ┆ 0         │\n",
       "│ 28804563 ┆ 2348     ┆ 0        ┆ 13974  ┆ … ┆ 0         ┆ 0         ┆ 0         ┆ 0         │\n",
       "│ 28804609 ┆ 2348     ┆ 51       ┆ 258971 ┆ … ┆ 0         ┆ 0         ┆ 486468    ┆ 0         │\n",
       "│ 28804620 ┆ 2678     ┆ 7        ┆ 71511  ┆ … ┆ 291810    ┆ 0         ┆ 0         ┆ 378289    │\n",
       "└──────────┴──────────┴──────────┴────────┴───┴───────────┴───────────┴───────────┴───────────┘"
      ]
     },
     "execution_count": 35,
     "metadata": {},
     "output_type": "execute_result"
    }
   ],
   "source": [
    "df_cat_features"
   ]
  },
  {
   "cell_type": "code",
   "execution_count": 41,
   "metadata": {},
   "outputs": [
    {
     "data": {
      "text/html": [
       "<div><style>\n",
       ".dataframe > thead > tr,\n",
       ".dataframe > tbody > tr {\n",
       "  text-align: right;\n",
       "  white-space: pre-wrap;\n",
       "}\n",
       "</style>\n",
       "<small>shape: (68_806_152, 7)</small><table border=\"1\" class=\"dataframe\"><thead><tr><th>cookie</th><th>item</th><th>event</th><th>event_date</th><th>platform</th><th>surface</th><th>node</th></tr><tr><td>i64</td><td>i64</td><td>i64</td><td>datetime[ns]</td><td>i64</td><td>i64</td><td>u32</td></tr></thead><tbody><tr><td>0</td><td>19915558</td><td>17</td><td>2025-02-05 02:30:59</td><td>3</td><td>2</td><td>115659</td></tr><tr><td>0</td><td>2680232</td><td>17</td><td>2025-01-24 21:16:57</td><td>3</td><td>2</td><td>115829</td></tr><tr><td>1</td><td>4247649</td><td>17</td><td>2025-01-29 23:00:58</td><td>2</td><td>2</td><td>7</td></tr><tr><td>1</td><td>4247649</td><td>17</td><td>2025-02-17 14:55:17</td><td>2</td><td>2</td><td>7</td></tr><tr><td>1</td><td>2171135</td><td>17</td><td>2025-01-17 19:23:29</td><td>2</td><td>2</td><td>214458</td></tr><tr><td>&hellip;</td><td>&hellip;</td><td>&hellip;</td><td>&hellip;</td><td>&hellip;</td><td>&hellip;</td><td>&hellip;</td></tr><tr><td>149999</td><td>4999183</td><td>17</td><td>2025-01-20 12:23:47</td><td>2</td><td>2</td><td>71511</td></tr><tr><td>149999</td><td>25999164</td><td>17</td><td>2025-01-24 14:26:57</td><td>2</td><td>2</td><td>71514</td></tr><tr><td>149999</td><td>12138732</td><td>17</td><td>2025-02-12 13:11:42</td><td>2</td><td>2</td><td>51162</td></tr><tr><td>149999</td><td>28207042</td><td>17</td><td>2025-02-16 12:35:35</td><td>2</td><td>2</td><td>71511</td></tr><tr><td>149999</td><td>16282539</td><td>17</td><td>2025-02-10 13:07:17</td><td>2</td><td>2</td><td>71524</td></tr></tbody></table></div>"
      ],
      "text/plain": [
       "shape: (68_806_152, 7)\n",
       "┌────────┬──────────┬───────┬─────────────────────┬──────────┬─────────┬────────┐\n",
       "│ cookie ┆ item     ┆ event ┆ event_date          ┆ platform ┆ surface ┆ node   │\n",
       "│ ---    ┆ ---      ┆ ---   ┆ ---                 ┆ ---      ┆ ---     ┆ ---    │\n",
       "│ i64    ┆ i64      ┆ i64   ┆ datetime[ns]        ┆ i64      ┆ i64     ┆ u32    │\n",
       "╞════════╪══════════╪═══════╪═════════════════════╪══════════╪═════════╪════════╡\n",
       "│ 0      ┆ 19915558 ┆ 17    ┆ 2025-02-05 02:30:59 ┆ 3        ┆ 2       ┆ 115659 │\n",
       "│ 0      ┆ 2680232  ┆ 17    ┆ 2025-01-24 21:16:57 ┆ 3        ┆ 2       ┆ 115829 │\n",
       "│ 1      ┆ 4247649  ┆ 17    ┆ 2025-01-29 23:00:58 ┆ 2        ┆ 2       ┆ 7      │\n",
       "│ 1      ┆ 4247649  ┆ 17    ┆ 2025-02-17 14:55:17 ┆ 2        ┆ 2       ┆ 7      │\n",
       "│ 1      ┆ 2171135  ┆ 17    ┆ 2025-01-17 19:23:29 ┆ 2        ┆ 2       ┆ 214458 │\n",
       "│ …      ┆ …        ┆ …     ┆ …                   ┆ …        ┆ …       ┆ …      │\n",
       "│ 149999 ┆ 4999183  ┆ 17    ┆ 2025-01-20 12:23:47 ┆ 2        ┆ 2       ┆ 71511  │\n",
       "│ 149999 ┆ 25999164 ┆ 17    ┆ 2025-01-24 14:26:57 ┆ 2        ┆ 2       ┆ 71514  │\n",
       "│ 149999 ┆ 12138732 ┆ 17    ┆ 2025-02-12 13:11:42 ┆ 2        ┆ 2       ┆ 51162  │\n",
       "│ 149999 ┆ 28207042 ┆ 17    ┆ 2025-02-16 12:35:35 ┆ 2        ┆ 2       ┆ 71511  │\n",
       "│ 149999 ┆ 16282539 ┆ 17    ┆ 2025-02-10 13:07:17 ┆ 2        ┆ 2       ┆ 71524  │\n",
       "└────────┴──────────┴───────┴─────────────────────┴──────────┴─────────┴────────┘"
      ]
     },
     "execution_count": 41,
     "metadata": {},
     "output_type": "execute_result"
    }
   ],
   "source": [
    "df_clickstream"
   ]
  },
  {
   "cell_type": "code",
   "execution_count": 7,
   "metadata": {},
   "outputs": [],
   "source": [
    "def dataframe2rectools(df):\n",
    "    return (\n",
    "        df[[\"cookie\", \"node\", \"event_date\"]]\n",
    "        .with_columns(pl.lit(1).alias('weight'))\n",
    "        .rename({\n",
    "            \"cookie\": Columns.User,\n",
    "            \"node\": Columns.Item,\n",
    "            \"weight\": Columns.Weight,\n",
    "            \"event_date\": Columns.Datetime,\n",
    "        })\n",
    "    ).to_pandas()\n",
    "df_train = dataframe2rectools(df_train)"
   ]
  },
  {
   "cell_type": "code",
   "execution_count": null,
   "metadata": {},
   "outputs": [],
   "source": []
  },
  {
   "cell_type": "code",
   "execution_count": 8,
   "metadata": {},
   "outputs": [],
   "source": [
    "candidates = pl.read_csv('data/first_stage_candidates_ALS_200.csv')"
   ]
  },
  {
   "cell_type": "code",
   "execution_count": 9,
   "metadata": {},
   "outputs": [],
   "source": [
    "candidates = candidates.to_pandas()\n",
    "candidates['rank'] = candidates.groupby('cookie').cumcount() + 1 \n",
    "df_eval = df_eval.to_pandas()\n",
    "df_eval = df_eval.astype({\"node\": int})"
   ]
  },
  {
   "cell_type": "code",
   "execution_count": 10,
   "metadata": {},
   "outputs": [
    {
     "data": {
      "text/html": [
       "<div>\n",
       "<style scoped>\n",
       "    .dataframe tbody tr th:only-of-type {\n",
       "        vertical-align: middle;\n",
       "    }\n",
       "\n",
       "    .dataframe tbody tr th {\n",
       "        vertical-align: top;\n",
       "    }\n",
       "\n",
       "    .dataframe thead th {\n",
       "        text-align: right;\n",
       "    }\n",
       "</style>\n",
       "<table border=\"1\" class=\"dataframe\">\n",
       "  <thead>\n",
       "    <tr style=\"text-align: right;\">\n",
       "      <th></th>\n",
       "      <th>cookie</th>\n",
       "      <th>node</th>\n",
       "      <th>rank</th>\n",
       "    </tr>\n",
       "  </thead>\n",
       "  <tbody>\n",
       "    <tr>\n",
       "      <th>200</th>\n",
       "      <td>1</td>\n",
       "      <td>151478</td>\n",
       "      <td>1</td>\n",
       "    </tr>\n",
       "    <tr>\n",
       "      <th>201</th>\n",
       "      <td>1</td>\n",
       "      <td>230746</td>\n",
       "      <td>2</td>\n",
       "    </tr>\n",
       "    <tr>\n",
       "      <th>202</th>\n",
       "      <td>1</td>\n",
       "      <td>239954</td>\n",
       "      <td>3</td>\n",
       "    </tr>\n",
       "    <tr>\n",
       "      <th>203</th>\n",
       "      <td>1</td>\n",
       "      <td>153004</td>\n",
       "      <td>4</td>\n",
       "    </tr>\n",
       "    <tr>\n",
       "      <th>204</th>\n",
       "      <td>1</td>\n",
       "      <td>229316</td>\n",
       "      <td>5</td>\n",
       "    </tr>\n",
       "    <tr>\n",
       "      <th>...</th>\n",
       "      <td>...</td>\n",
       "      <td>...</td>\n",
       "      <td>...</td>\n",
       "    </tr>\n",
       "    <tr>\n",
       "      <th>395</th>\n",
       "      <td>1</td>\n",
       "      <td>236421</td>\n",
       "      <td>196</td>\n",
       "    </tr>\n",
       "    <tr>\n",
       "      <th>396</th>\n",
       "      <td>1</td>\n",
       "      <td>214312</td>\n",
       "      <td>197</td>\n",
       "    </tr>\n",
       "    <tr>\n",
       "      <th>397</th>\n",
       "      <td>1</td>\n",
       "      <td>233339</td>\n",
       "      <td>198</td>\n",
       "    </tr>\n",
       "    <tr>\n",
       "      <th>398</th>\n",
       "      <td>1</td>\n",
       "      <td>255629</td>\n",
       "      <td>199</td>\n",
       "    </tr>\n",
       "    <tr>\n",
       "      <th>399</th>\n",
       "      <td>1</td>\n",
       "      <td>241900</td>\n",
       "      <td>200</td>\n",
       "    </tr>\n",
       "  </tbody>\n",
       "</table>\n",
       "<p>200 rows × 3 columns</p>\n",
       "</div>"
      ],
      "text/plain": [
       "     cookie    node  rank\n",
       "200       1  151478     1\n",
       "201       1  230746     2\n",
       "202       1  239954     3\n",
       "203       1  153004     4\n",
       "204       1  229316     5\n",
       "..      ...     ...   ...\n",
       "395       1  236421   196\n",
       "396       1  214312   197\n",
       "397       1  233339   198\n",
       "398       1  255629   199\n",
       "399       1  241900   200\n",
       "\n",
       "[200 rows x 3 columns]"
      ]
     },
     "execution_count": 10,
     "metadata": {},
     "output_type": "execute_result"
    }
   ],
   "source": [
    "candidates[candidates.cookie == 1]"
   ]
  },
  {
   "cell_type": "code",
   "execution_count": 11,
   "metadata": {},
   "outputs": [
    {
     "data": {
      "text/plain": [
       "89440     False\n",
       "111137    False\n",
       "140543    False\n",
       "Name: node, dtype: bool"
      ]
     },
     "execution_count": 11,
     "metadata": {},
     "output_type": "execute_result"
    }
   ],
   "source": [
    "df_eval[df_eval.cookie == 1].node.isin(candidates[candidates.cookie == 1])"
   ]
  },
  {
   "cell_type": "code",
   "execution_count": 12,
   "metadata": {},
   "outputs": [
    {
     "name": "stdout",
     "output_type": "stream",
     "text": [
      "(44339, 5)\n"
     ]
    },
    {
     "data": {
      "text/html": [
       "<div>\n",
       "<style scoped>\n",
       "    .dataframe tbody tr th:only-of-type {\n",
       "        vertical-align: middle;\n",
       "    }\n",
       "\n",
       "    .dataframe tbody tr th {\n",
       "        vertical-align: top;\n",
       "    }\n",
       "\n",
       "    .dataframe thead th {\n",
       "        text-align: right;\n",
       "    }\n",
       "</style>\n",
       "<table border=\"1\" class=\"dataframe\">\n",
       "  <thead>\n",
       "    <tr style=\"text-align: right;\">\n",
       "      <th></th>\n",
       "      <th>cookie</th>\n",
       "      <th>node</th>\n",
       "      <th>rank</th>\n",
       "      <th>event</th>\n",
       "      <th>target</th>\n",
       "    </tr>\n",
       "  </thead>\n",
       "  <tbody>\n",
       "    <tr>\n",
       "      <th>0</th>\n",
       "      <td>0</td>\n",
       "      <td>130589</td>\n",
       "      <td>103</td>\n",
       "      <td>19</td>\n",
       "      <td>1</td>\n",
       "    </tr>\n",
       "    <tr>\n",
       "      <th>1</th>\n",
       "      <td>2</td>\n",
       "      <td>151577</td>\n",
       "      <td>1</td>\n",
       "      <td>19</td>\n",
       "      <td>1</td>\n",
       "    </tr>\n",
       "    <tr>\n",
       "      <th>2</th>\n",
       "      <td>3</td>\n",
       "      <td>214377</td>\n",
       "      <td>2</td>\n",
       "      <td>5</td>\n",
       "      <td>1</td>\n",
       "    </tr>\n",
       "    <tr>\n",
       "      <th>3</th>\n",
       "      <td>19</td>\n",
       "      <td>196680</td>\n",
       "      <td>20</td>\n",
       "      <td>4</td>\n",
       "      <td>1</td>\n",
       "    </tr>\n",
       "    <tr>\n",
       "      <th>4</th>\n",
       "      <td>22</td>\n",
       "      <td>48366</td>\n",
       "      <td>177</td>\n",
       "      <td>5</td>\n",
       "      <td>1</td>\n",
       "    </tr>\n",
       "  </tbody>\n",
       "</table>\n",
       "</div>"
      ],
      "text/plain": [
       "   cookie    node  rank  event  target\n",
       "0       0  130589   103     19       1\n",
       "1       2  151577     1     19       1\n",
       "2       3  214377     2      5       1\n",
       "3      19  196680    20      4       1\n",
       "4      22   48366   177      5       1"
      ]
     },
     "execution_count": 12,
     "metadata": {},
     "output_type": "execute_result"
    }
   ],
   "source": [
    "# positive interactions\n",
    "pos = candidates.merge(\n",
    "    df_eval,\n",
    "    on=['cookie', 'node'],\n",
    "    how='inner'\n",
    "    )\n",
    "\n",
    "pos.loc[:, 'target'] = 1\n",
    "print(pos.shape)\n",
    "pos.head()"
   ]
  },
  {
   "cell_type": "code",
   "execution_count": 13,
   "metadata": {},
   "outputs": [
    {
     "data": {
      "text/html": [
       "<div>\n",
       "<style scoped>\n",
       "    .dataframe tbody tr th:only-of-type {\n",
       "        vertical-align: middle;\n",
       "    }\n",
       "\n",
       "    .dataframe tbody tr th {\n",
       "        vertical-align: top;\n",
       "    }\n",
       "\n",
       "    .dataframe thead th {\n",
       "        text-align: right;\n",
       "    }\n",
       "</style>\n",
       "<table border=\"1\" class=\"dataframe\">\n",
       "  <thead>\n",
       "    <tr style=\"text-align: right;\">\n",
       "      <th></th>\n",
       "      <th>cookie</th>\n",
       "      <th>node</th>\n",
       "      <th>rank</th>\n",
       "      <th>event</th>\n",
       "      <th>target</th>\n",
       "    </tr>\n",
       "  </thead>\n",
       "  <tbody>\n",
       "    <tr>\n",
       "      <th>424900</th>\n",
       "      <td>5900</td>\n",
       "      <td>188666</td>\n",
       "      <td>8</td>\n",
       "      <td>NaN</td>\n",
       "      <td>0</td>\n",
       "    </tr>\n",
       "    <tr>\n",
       "      <th>1831246</th>\n",
       "      <td>25229</td>\n",
       "      <td>10893</td>\n",
       "      <td>68</td>\n",
       "      <td>NaN</td>\n",
       "      <td>0</td>\n",
       "    </tr>\n",
       "    <tr>\n",
       "      <th>9692741</th>\n",
       "      <td>132541</td>\n",
       "      <td>152022</td>\n",
       "      <td>147</td>\n",
       "      <td>NaN</td>\n",
       "      <td>0</td>\n",
       "    </tr>\n",
       "    <tr>\n",
       "      <th>2007325</th>\n",
       "      <td>27602</td>\n",
       "      <td>159207</td>\n",
       "      <td>64</td>\n",
       "      <td>NaN</td>\n",
       "      <td>0</td>\n",
       "    </tr>\n",
       "    <tr>\n",
       "      <th>7526593</th>\n",
       "      <td>102933</td>\n",
       "      <td>151455</td>\n",
       "      <td>11</td>\n",
       "      <td>NaN</td>\n",
       "      <td>0</td>\n",
       "    </tr>\n",
       "  </tbody>\n",
       "</table>\n",
       "</div>"
      ],
      "text/plain": [
       "         cookie    node  rank  event  target\n",
       "424900     5900  188666     8    NaN       0\n",
       "1831246   25229   10893    68    NaN       0\n",
       "9692741  132541  152022   147    NaN       0\n",
       "2007325   27602  159207    64    NaN       0\n",
       "7526593  102933  151455    11    NaN       0"
      ]
     },
     "execution_count": 13,
     "metadata": {},
     "output_type": "execute_result"
    }
   ],
   "source": [
    "# negative interactions\n",
    "neg = candidates.set_index(['cookie', 'node'])\\\n",
    "        .join(df_eval.set_index(['cookie', 'node']))\n",
    "\n",
    "neg = neg[neg['event'].isnull()].reset_index()     \n",
    "neg = neg.sample(frac=0.03)\n",
    "neg.loc[:, 'target'] = 0\n",
    "\n",
    "neg.shape\n",
    "neg.head()"
   ]
  },
  {
   "cell_type": "code",
   "execution_count": 14,
   "metadata": {},
   "outputs": [],
   "source": [
    "# train test\n",
    "ctb_train_users, ctb_test_users = train_test_split(\n",
    "    df_eval['cookie'].unique(),\n",
    "    random_state=SEED,\n",
    "    test_size=0.2\n",
    "    )\n",
    "# train eval\n",
    "ctb_train_users, ctb_eval_users = train_test_split(\n",
    "    ctb_train_users,\n",
    "    random_state=SEED,\n",
    "    test_size=0.1\n",
    "    )"
   ]
  },
  {
   "cell_type": "code",
   "execution_count": 15,
   "metadata": {},
   "outputs": [],
   "source": [
    "select_col = [\"cookie\", \"node\", \"rank\", 'target']\n",
    "\n",
    "# Catboost train\n",
    "ctb_train = shuffle(\n",
    "    pd.concat([\n",
    "        pos[pos['cookie'].isin(ctb_train_users)],\n",
    "        neg[neg['cookie'].isin(ctb_train_users)]\n",
    "])[select_col]\n",
    ")\n",
    "\n",
    "# Catboost test\n",
    "ctb_test = shuffle(\n",
    "    pd.concat([\n",
    "        pos[pos['cookie'].isin(ctb_test_users)],\n",
    "        neg[neg['cookie'].isin(ctb_test_users)]\n",
    "])[select_col]\n",
    ")\n",
    "\n",
    "# for early stopping\n",
    "ctb_eval = shuffle(\n",
    "    pd.concat([\n",
    "        pos[pos['cookie'].isin(ctb_eval_users)],\n",
    "        neg[neg['cookie'].isin(ctb_eval_users)]\n",
    "])[select_col]\n",
    ")"
   ]
  },
  {
   "cell_type": "code",
   "execution_count": 16,
   "metadata": {},
   "outputs": [
    {
     "data": {
      "text/plain": [
       "target\n",
       "0    0.881192\n",
       "1    0.118808\n",
       "Name: proportion, dtype: float64"
      ]
     },
     "execution_count": 16,
     "metadata": {},
     "output_type": "execute_result"
    }
   ],
   "source": [
    "ctb_train['target'].value_counts(normalize=True)"
   ]
  },
  {
   "cell_type": "code",
   "execution_count": 17,
   "metadata": {},
   "outputs": [
    {
     "data": {
      "text/plain": [
       "target\n",
       "0    0.881045\n",
       "1    0.118955\n",
       "Name: proportion, dtype: float64"
      ]
     },
     "execution_count": 17,
     "metadata": {},
     "output_type": "execute_result"
    }
   ],
   "source": [
    "ctb_test['target'].value_counts(normalize=True)"
   ]
  },
  {
   "cell_type": "code",
   "execution_count": 18,
   "metadata": {},
   "outputs": [],
   "source": [
    "item_features = item_features.to_pandas()"
   ]
  },
  {
   "cell_type": "code",
   "execution_count": 19,
   "metadata": {},
   "outputs": [],
   "source": [
    "user_col = ['cookie']\n",
    "item_col = item_features.columns"
   ]
  },
  {
   "cell_type": "code",
   "execution_count": 20,
   "metadata": {},
   "outputs": [
    {
     "data": {
      "text/html": [
       "<div>\n",
       "<style scoped>\n",
       "    .dataframe tbody tr th:only-of-type {\n",
       "        vertical-align: middle;\n",
       "    }\n",
       "\n",
       "    .dataframe tbody tr th {\n",
       "        vertical-align: top;\n",
       "    }\n",
       "\n",
       "    .dataframe thead th {\n",
       "        text-align: right;\n",
       "    }\n",
       "</style>\n",
       "<table border=\"1\" class=\"dataframe\">\n",
       "  <thead>\n",
       "    <tr style=\"text-align: right;\">\n",
       "      <th></th>\n",
       "      <th>node</th>\n",
       "      <th>field_0</th>\n",
       "      <th>field_1</th>\n",
       "      <th>field_2</th>\n",
       "      <th>field_3</th>\n",
       "      <th>field_4</th>\n",
       "      <th>field_5</th>\n",
       "      <th>field_6</th>\n",
       "      <th>field_7</th>\n",
       "      <th>field_8</th>\n",
       "      <th>...</th>\n",
       "      <th>attr_3911</th>\n",
       "      <th>attr_2140</th>\n",
       "      <th>attr_1971</th>\n",
       "      <th>attr_1092</th>\n",
       "      <th>attr_3509</th>\n",
       "      <th>attr_124</th>\n",
       "      <th>attr_3154</th>\n",
       "      <th>attr_1598</th>\n",
       "      <th>attr_3939</th>\n",
       "      <th>attr_3640</th>\n",
       "    </tr>\n",
       "  </thead>\n",
       "  <tbody>\n",
       "    <tr>\n",
       "      <th>0</th>\n",
       "      <td>1</td>\n",
       "      <td>-128.0</td>\n",
       "      <td>127.0</td>\n",
       "      <td>127.0</td>\n",
       "      <td>-40.0</td>\n",
       "      <td>-92.5</td>\n",
       "      <td>-109.5</td>\n",
       "      <td>3.5</td>\n",
       "      <td>-44.0</td>\n",
       "      <td>106.0</td>\n",
       "      <td>...</td>\n",
       "      <td>0.0</td>\n",
       "      <td>0.0</td>\n",
       "      <td>0.0</td>\n",
       "      <td>0.0</td>\n",
       "      <td>0.0</td>\n",
       "      <td>0.0</td>\n",
       "      <td>0.0</td>\n",
       "      <td>0.0</td>\n",
       "      <td>0.0</td>\n",
       "      <td>0.0</td>\n",
       "    </tr>\n",
       "    <tr>\n",
       "      <th>1</th>\n",
       "      <td>2</td>\n",
       "      <td>-128.0</td>\n",
       "      <td>91.0</td>\n",
       "      <td>127.0</td>\n",
       "      <td>-19.0</td>\n",
       "      <td>-72.0</td>\n",
       "      <td>-128.0</td>\n",
       "      <td>11.0</td>\n",
       "      <td>-128.0</td>\n",
       "      <td>127.0</td>\n",
       "      <td>...</td>\n",
       "      <td>0.0</td>\n",
       "      <td>0.0</td>\n",
       "      <td>0.0</td>\n",
       "      <td>0.0</td>\n",
       "      <td>0.0</td>\n",
       "      <td>0.0</td>\n",
       "      <td>0.0</td>\n",
       "      <td>0.0</td>\n",
       "      <td>0.0</td>\n",
       "      <td>0.0</td>\n",
       "    </tr>\n",
       "    <tr>\n",
       "      <th>2</th>\n",
       "      <td>3</td>\n",
       "      <td>-128.0</td>\n",
       "      <td>-30.0</td>\n",
       "      <td>127.0</td>\n",
       "      <td>-119.0</td>\n",
       "      <td>-117.0</td>\n",
       "      <td>-128.0</td>\n",
       "      <td>-73.0</td>\n",
       "      <td>-16.0</td>\n",
       "      <td>127.0</td>\n",
       "      <td>...</td>\n",
       "      <td>0.0</td>\n",
       "      <td>0.0</td>\n",
       "      <td>0.0</td>\n",
       "      <td>0.0</td>\n",
       "      <td>0.0</td>\n",
       "      <td>0.0</td>\n",
       "      <td>0.0</td>\n",
       "      <td>0.0</td>\n",
       "      <td>0.0</td>\n",
       "      <td>0.0</td>\n",
       "    </tr>\n",
       "    <tr>\n",
       "      <th>3</th>\n",
       "      <td>4</td>\n",
       "      <td>-128.0</td>\n",
       "      <td>122.0</td>\n",
       "      <td>127.0</td>\n",
       "      <td>-128.0</td>\n",
       "      <td>-86.0</td>\n",
       "      <td>-128.0</td>\n",
       "      <td>-128.0</td>\n",
       "      <td>-36.0</td>\n",
       "      <td>127.0</td>\n",
       "      <td>...</td>\n",
       "      <td>0.0</td>\n",
       "      <td>0.0</td>\n",
       "      <td>0.0</td>\n",
       "      <td>0.0</td>\n",
       "      <td>0.0</td>\n",
       "      <td>0.0</td>\n",
       "      <td>0.0</td>\n",
       "      <td>0.0</td>\n",
       "      <td>0.0</td>\n",
       "      <td>0.0</td>\n",
       "    </tr>\n",
       "    <tr>\n",
       "      <th>4</th>\n",
       "      <td>5</td>\n",
       "      <td>-128.0</td>\n",
       "      <td>42.0</td>\n",
       "      <td>127.0</td>\n",
       "      <td>-128.0</td>\n",
       "      <td>-80.0</td>\n",
       "      <td>-128.0</td>\n",
       "      <td>-128.0</td>\n",
       "      <td>-18.0</td>\n",
       "      <td>112.0</td>\n",
       "      <td>...</td>\n",
       "      <td>0.0</td>\n",
       "      <td>0.0</td>\n",
       "      <td>0.0</td>\n",
       "      <td>0.0</td>\n",
       "      <td>0.0</td>\n",
       "      <td>0.0</td>\n",
       "      <td>0.0</td>\n",
       "      <td>0.0</td>\n",
       "      <td>0.0</td>\n",
       "      <td>0.0</td>\n",
       "    </tr>\n",
       "    <tr>\n",
       "      <th>...</th>\n",
       "      <td>...</td>\n",
       "      <td>...</td>\n",
       "      <td>...</td>\n",
       "      <td>...</td>\n",
       "      <td>...</td>\n",
       "      <td>...</td>\n",
       "      <td>...</td>\n",
       "      <td>...</td>\n",
       "      <td>...</td>\n",
       "      <td>...</td>\n",
       "      <td>...</td>\n",
       "      <td>...</td>\n",
       "      <td>...</td>\n",
       "      <td>...</td>\n",
       "      <td>...</td>\n",
       "      <td>...</td>\n",
       "      <td>...</td>\n",
       "      <td>...</td>\n",
       "      <td>...</td>\n",
       "      <td>...</td>\n",
       "      <td>...</td>\n",
       "    </tr>\n",
       "    <tr>\n",
       "      <th>408469</th>\n",
       "      <td>424063</td>\n",
       "      <td>-128.0</td>\n",
       "      <td>-128.0</td>\n",
       "      <td>127.0</td>\n",
       "      <td>-128.0</td>\n",
       "      <td>-111.0</td>\n",
       "      <td>1.0</td>\n",
       "      <td>-36.0</td>\n",
       "      <td>98.0</td>\n",
       "      <td>103.0</td>\n",
       "      <td>...</td>\n",
       "      <td>0.0</td>\n",
       "      <td>0.0</td>\n",
       "      <td>0.0</td>\n",
       "      <td>0.0</td>\n",
       "      <td>0.0</td>\n",
       "      <td>0.0</td>\n",
       "      <td>0.0</td>\n",
       "      <td>247180.0</td>\n",
       "      <td>0.0</td>\n",
       "      <td>0.0</td>\n",
       "    </tr>\n",
       "    <tr>\n",
       "      <th>408470</th>\n",
       "      <td>424064</td>\n",
       "      <td>-128.0</td>\n",
       "      <td>-128.0</td>\n",
       "      <td>127.0</td>\n",
       "      <td>-128.0</td>\n",
       "      <td>-126.0</td>\n",
       "      <td>-128.0</td>\n",
       "      <td>47.0</td>\n",
       "      <td>127.0</td>\n",
       "      <td>84.0</td>\n",
       "      <td>...</td>\n",
       "      <td>0.0</td>\n",
       "      <td>0.0</td>\n",
       "      <td>0.0</td>\n",
       "      <td>0.0</td>\n",
       "      <td>0.0</td>\n",
       "      <td>0.0</td>\n",
       "      <td>0.0</td>\n",
       "      <td>247180.0</td>\n",
       "      <td>0.0</td>\n",
       "      <td>0.0</td>\n",
       "    </tr>\n",
       "    <tr>\n",
       "      <th>408471</th>\n",
       "      <td>424065</td>\n",
       "      <td>-105.0</td>\n",
       "      <td>-128.0</td>\n",
       "      <td>15.0</td>\n",
       "      <td>-28.0</td>\n",
       "      <td>68.0</td>\n",
       "      <td>-128.0</td>\n",
       "      <td>63.0</td>\n",
       "      <td>123.0</td>\n",
       "      <td>-3.0</td>\n",
       "      <td>...</td>\n",
       "      <td>0.0</td>\n",
       "      <td>0.0</td>\n",
       "      <td>0.0</td>\n",
       "      <td>0.0</td>\n",
       "      <td>0.0</td>\n",
       "      <td>0.0</td>\n",
       "      <td>0.0</td>\n",
       "      <td>247180.0</td>\n",
       "      <td>0.0</td>\n",
       "      <td>0.0</td>\n",
       "    </tr>\n",
       "    <tr>\n",
       "      <th>408472</th>\n",
       "      <td>424067</td>\n",
       "      <td>-128.0</td>\n",
       "      <td>-128.0</td>\n",
       "      <td>111.0</td>\n",
       "      <td>-35.0</td>\n",
       "      <td>50.0</td>\n",
       "      <td>-89.0</td>\n",
       "      <td>-11.0</td>\n",
       "      <td>127.0</td>\n",
       "      <td>123.0</td>\n",
       "      <td>...</td>\n",
       "      <td>0.0</td>\n",
       "      <td>0.0</td>\n",
       "      <td>0.0</td>\n",
       "      <td>0.0</td>\n",
       "      <td>0.0</td>\n",
       "      <td>0.0</td>\n",
       "      <td>0.0</td>\n",
       "      <td>247180.0</td>\n",
       "      <td>0.0</td>\n",
       "      <td>0.0</td>\n",
       "    </tr>\n",
       "    <tr>\n",
       "      <th>408473</th>\n",
       "      <td>424068</td>\n",
       "      <td>-128.0</td>\n",
       "      <td>-128.0</td>\n",
       "      <td>-3.0</td>\n",
       "      <td>-128.0</td>\n",
       "      <td>93.0</td>\n",
       "      <td>-128.0</td>\n",
       "      <td>-128.0</td>\n",
       "      <td>80.0</td>\n",
       "      <td>-64.0</td>\n",
       "      <td>...</td>\n",
       "      <td>0.0</td>\n",
       "      <td>0.0</td>\n",
       "      <td>0.0</td>\n",
       "      <td>0.0</td>\n",
       "      <td>0.0</td>\n",
       "      <td>0.0</td>\n",
       "      <td>0.0</td>\n",
       "      <td>0.0</td>\n",
       "      <td>0.0</td>\n",
       "      <td>0.0</td>\n",
       "    </tr>\n",
       "  </tbody>\n",
       "</table>\n",
       "<p>408474 rows × 85 columns</p>\n",
       "</div>"
      ],
      "text/plain": [
       "          node  field_0  field_1  field_2  field_3  field_4  field_5  field_6  \\\n",
       "0            1   -128.0    127.0    127.0    -40.0    -92.5   -109.5      3.5   \n",
       "1            2   -128.0     91.0    127.0    -19.0    -72.0   -128.0     11.0   \n",
       "2            3   -128.0    -30.0    127.0   -119.0   -117.0   -128.0    -73.0   \n",
       "3            4   -128.0    122.0    127.0   -128.0    -86.0   -128.0   -128.0   \n",
       "4            5   -128.0     42.0    127.0   -128.0    -80.0   -128.0   -128.0   \n",
       "...        ...      ...      ...      ...      ...      ...      ...      ...   \n",
       "408469  424063   -128.0   -128.0    127.0   -128.0   -111.0      1.0    -36.0   \n",
       "408470  424064   -128.0   -128.0    127.0   -128.0   -126.0   -128.0     47.0   \n",
       "408471  424065   -105.0   -128.0     15.0    -28.0     68.0   -128.0     63.0   \n",
       "408472  424067   -128.0   -128.0    111.0    -35.0     50.0    -89.0    -11.0   \n",
       "408473  424068   -128.0   -128.0     -3.0   -128.0     93.0   -128.0   -128.0   \n",
       "\n",
       "        field_7  field_8  ...  attr_3911  attr_2140  attr_1971  attr_1092  \\\n",
       "0         -44.0    106.0  ...        0.0        0.0        0.0        0.0   \n",
       "1        -128.0    127.0  ...        0.0        0.0        0.0        0.0   \n",
       "2         -16.0    127.0  ...        0.0        0.0        0.0        0.0   \n",
       "3         -36.0    127.0  ...        0.0        0.0        0.0        0.0   \n",
       "4         -18.0    112.0  ...        0.0        0.0        0.0        0.0   \n",
       "...         ...      ...  ...        ...        ...        ...        ...   \n",
       "408469     98.0    103.0  ...        0.0        0.0        0.0        0.0   \n",
       "408470    127.0     84.0  ...        0.0        0.0        0.0        0.0   \n",
       "408471    123.0     -3.0  ...        0.0        0.0        0.0        0.0   \n",
       "408472    127.0    123.0  ...        0.0        0.0        0.0        0.0   \n",
       "408473     80.0    -64.0  ...        0.0        0.0        0.0        0.0   \n",
       "\n",
       "        attr_3509  attr_124  attr_3154  attr_1598  attr_3939  attr_3640  \n",
       "0             0.0       0.0        0.0        0.0        0.0        0.0  \n",
       "1             0.0       0.0        0.0        0.0        0.0        0.0  \n",
       "2             0.0       0.0        0.0        0.0        0.0        0.0  \n",
       "3             0.0       0.0        0.0        0.0        0.0        0.0  \n",
       "4             0.0       0.0        0.0        0.0        0.0        0.0  \n",
       "...           ...       ...        ...        ...        ...        ...  \n",
       "408469        0.0       0.0        0.0   247180.0        0.0        0.0  \n",
       "408470        0.0       0.0        0.0   247180.0        0.0        0.0  \n",
       "408471        0.0       0.0        0.0   247180.0        0.0        0.0  \n",
       "408472        0.0       0.0        0.0   247180.0        0.0        0.0  \n",
       "408473        0.0       0.0        0.0        0.0        0.0        0.0  \n",
       "\n",
       "[408474 rows x 85 columns]"
      ]
     },
     "execution_count": 20,
     "metadata": {},
     "output_type": "execute_result"
    }
   ],
   "source": [
    "item_features"
   ]
  },
  {
   "cell_type": "code",
   "execution_count": 21,
   "metadata": {},
   "outputs": [],
   "source": [
    "train_feat = (\n",
    "    ctb_train\n",
    "    # .merge(\n",
    "    #     users[user_col],\n",
    "    #     on=['user_id'],\n",
    "    #     how='left')\n",
    "    .merge(\n",
    "        item_features[item_col],\n",
    "        on=['node'],\n",
    "        how='left')\n",
    ")\n",
    "eval_feat = (\n",
    "    ctb_eval\n",
    "    # .merge(\n",
    "    #     users[user_col],\n",
    "    #     on=['user_id'],\n",
    "    #     how='left')\n",
    "    .merge(\n",
    "        item_features[item_col],\n",
    "        on=['node'],\n",
    "        how='left')\n",
    ")\n",
    "test_feat = (\n",
    "    ctb_test\n",
    "    # .merge(\n",
    "    #     users[user_col],\n",
    "    #     on=['user_id'],\n",
    "    #     how='left')\n",
    "    .merge(\n",
    "        item_features[item_col],\n",
    "        on=['node'],\n",
    "        how='left'\n",
    "        )\n",
    ")"
   ]
  },
  {
   "cell_type": "code",
   "execution_count": 22,
   "metadata": {},
   "outputs": [
    {
     "data": {
      "text/plain": [
       "(np.int64(0), np.int64(0))"
      ]
     },
     "execution_count": 22,
     "metadata": {},
     "output_type": "execute_result"
    }
   ],
   "source": [
    "train_feat.isna().sum().sum(), eval_feat.isna().sum().sum()"
   ]
  },
  {
   "cell_type": "code",
   "execution_count": 23,
   "metadata": {},
   "outputs": [],
   "source": [
    "drop_col = ['cookie', 'node']\n",
    "target_col = ['target']\n",
    "cat_col = [f\"field_{i}\" for i in range(64)]"
   ]
  },
  {
   "cell_type": "code",
   "execution_count": 24,
   "metadata": {},
   "outputs": [
    {
     "data": {
      "text/plain": [
       "((268450, 85), (268450, 1), (29941, 85), (29941, 1), (75104, 85), (75104,))"
      ]
     },
     "execution_count": 24,
     "metadata": {},
     "output_type": "execute_result"
    }
   ],
   "source": [
    "X_train, y_train = train_feat.drop(drop_col + target_col, axis=1), train_feat[target_col]\n",
    "X_val, y_val = eval_feat.drop(drop_col + target_col, axis=1), eval_feat[target_col]\n",
    "X_test, y_test = test_feat.drop(drop_col + target_col, axis=1), test_feat['target']\n",
    "X_train.shape, y_train.shape, X_val.shape, y_val.shape, X_test.shape, y_test.shape"
   ]
  },
  {
   "cell_type": "code",
   "execution_count": 25,
   "metadata": {},
   "outputs": [],
   "source": [
    "from catboost import CatBoostClassifier, CatBoostRanker\n",
    "\n",
    "# параметры для обучения\n",
    "est_params = {\n",
    "  'subsample': 0.9,\n",
    "  'max_depth': 4,\n",
    "  'n_estimators': 5000,\n",
    "  'learning_rate': 0.03,\n",
    "  'thread_count': 20,\n",
    "  'random_state': SEED,\n",
    "  'verbose': 200,\n",
    "#   \"loss_function\":'YetiRankPairwise',\n",
    "#  \"eval_metric\":'NDCG'\n",
    "}\n",
    "\n",
    "ctb_model = CatBoostClassifier(**est_params)"
   ]
  },
  {
   "cell_type": "code",
   "execution_count": 26,
   "metadata": {},
   "outputs": [
    {
     "data": {
      "application/vnd.jupyter.widget-view+json": {
       "model_id": "cd91838a7889456187e4eb31967450e7",
       "version_major": 2,
       "version_minor": 0
      },
      "text/plain": [
       "MetricVisualizer(layout=Layout(align_self='stretch', height='500px'))"
      ]
     },
     "metadata": {},
     "output_type": "display_data"
    },
    {
     "name": "stdout",
     "output_type": "stream",
     "text": [
      "0:\tlearn: 0.6684745\ttest: 0.6684920\tbest: 0.6684920 (0)\ttotal: 73.4ms\tremaining: 6m 7s\n",
      "200:\tlearn: 0.3294011\ttest: 0.3290590\tbest: 0.3290590 (200)\ttotal: 2.38s\tremaining: 56.9s\n",
      "400:\tlearn: 0.3264658\ttest: 0.3267844\tbest: 0.3267844 (400)\ttotal: 4.72s\tremaining: 54.1s\n",
      "600:\tlearn: 0.3243602\ttest: 0.3254592\tbest: 0.3254592 (600)\ttotal: 7.23s\tremaining: 52.9s\n",
      "800:\tlearn: 0.3228270\ttest: 0.3246175\tbest: 0.3246169 (799)\ttotal: 9.74s\tremaining: 51s\n",
      "1000:\tlearn: 0.3216285\ttest: 0.3241129\tbest: 0.3241129 (1000)\ttotal: 12.5s\tremaining: 49.9s\n",
      "1200:\tlearn: 0.3206042\ttest: 0.3238102\tbest: 0.3238102 (1200)\ttotal: 14.6s\tremaining: 46.3s\n",
      "1400:\tlearn: 0.3196920\ttest: 0.3236313\tbest: 0.3236313 (1400)\ttotal: 16.9s\tremaining: 43.3s\n",
      "1600:\tlearn: 0.3188973\ttest: 0.3235026\tbest: 0.3234992 (1577)\ttotal: 19s\tremaining: 40.4s\n",
      "1800:\tlearn: 0.3181737\ttest: 0.3234599\tbest: 0.3234519 (1790)\ttotal: 21.4s\tremaining: 38.1s\n",
      "2000:\tlearn: 0.3174990\ttest: 0.3233994\tbest: 0.3233930 (1991)\ttotal: 23.6s\tremaining: 35.4s\n",
      "2200:\tlearn: 0.3168748\ttest: 0.3233237\tbest: 0.3233182 (2176)\ttotal: 26s\tremaining: 33.1s\n",
      "2400:\tlearn: 0.3162804\ttest: 0.3232969\tbest: 0.3232778 (2348)\ttotal: 28.2s\tremaining: 30.5s\n",
      "Stopped by overfitting detector  (100 iterations wait)\n",
      "\n",
      "bestTest = 0.3232753435\n",
      "bestIteration = 2433\n",
      "\n",
      "Shrink model to first 2434 iterations.\n"
     ]
    },
    {
     "data": {
      "text/plain": [
       "<catboost.core.CatBoostClassifier at 0x792935910>"
      ]
     },
     "execution_count": 26,
     "metadata": {},
     "output_type": "execute_result"
    }
   ],
   "source": [
    "ctb_model.fit(\n",
    "    X_train,\n",
    "    y_train,\n",
    "    eval_set=(X_val, y_val),\n",
    "    early_stopping_rounds=100,\n",
    "    plot=True\n",
    "    )"
   ]
  },
  {
   "cell_type": "code",
   "execution_count": null,
   "metadata": {},
   "outputs": [],
   "source": [
    "# 0.3257109057"
   ]
  },
  {
   "cell_type": "code",
   "execution_count": 27,
   "metadata": {},
   "outputs": [],
   "source": [
    "# # save model \n",
    "import dill \n",
    "with open(f\"ctb_model_baseline.dill\", 'wb') as f:\n",
    "    dill.dump(ctb_model, f)"
   ]
  },
  {
   "cell_type": "code",
   "execution_count": 28,
   "metadata": {},
   "outputs": [],
   "source": [
    "y_pred = ctb_model.predict_proba(X_test)"
   ]
  },
  {
   "cell_type": "code",
   "execution_count": 29,
   "metadata": {},
   "outputs": [
    {
     "data": {
      "text/plain": [
       "'ROC AUC score = 0.73'"
      ]
     },
     "execution_count": 29,
     "metadata": {},
     "output_type": "execute_result"
    }
   ],
   "source": [
    "from sklearn.metrics import roc_auc_score\n",
    "\n",
    "f\"ROC AUC score = {roc_auc_score(y_test, y_pred[:, 1]):.2f}\""
   ]
  },
  {
   "cell_type": "code",
   "execution_count": 31,
   "metadata": {},
   "outputs": [
    {
     "data": {
      "text/html": [
       "<div>\n",
       "<style scoped>\n",
       "    .dataframe tbody tr th:only-of-type {\n",
       "        vertical-align: middle;\n",
       "    }\n",
       "\n",
       "    .dataframe tbody tr th {\n",
       "        vertical-align: top;\n",
       "    }\n",
       "\n",
       "    .dataframe thead th {\n",
       "        text-align: right;\n",
       "    }\n",
       "</style>\n",
       "<table border=\"1\" class=\"dataframe\">\n",
       "  <thead>\n",
       "    <tr style=\"text-align: right;\">\n",
       "      <th></th>\n",
       "      <th>cookie</th>\n",
       "      <th>node</th>\n",
       "      <th>rank</th>\n",
       "      <th>target</th>\n",
       "    </tr>\n",
       "  </thead>\n",
       "  <tbody>\n",
       "    <tr>\n",
       "      <th>3252067</th>\n",
       "      <td>44547</td>\n",
       "      <td>214298</td>\n",
       "      <td>167</td>\n",
       "      <td>0</td>\n",
       "    </tr>\n",
       "    <tr>\n",
       "      <th>135566</th>\n",
       "      <td>1969</td>\n",
       "      <td>264372</td>\n",
       "      <td>93</td>\n",
       "      <td>0</td>\n",
       "    </tr>\n",
       "    <tr>\n",
       "      <th>4543376</th>\n",
       "      <td>61974</td>\n",
       "      <td>161681</td>\n",
       "      <td>84</td>\n",
       "      <td>0</td>\n",
       "    </tr>\n",
       "    <tr>\n",
       "      <th>1011340</th>\n",
       "      <td>13851</td>\n",
       "      <td>153038</td>\n",
       "      <td>167</td>\n",
       "      <td>0</td>\n",
       "    </tr>\n",
       "    <tr>\n",
       "      <th>7209435</th>\n",
       "      <td>98605</td>\n",
       "      <td>163834</td>\n",
       "      <td>39</td>\n",
       "      <td>0</td>\n",
       "    </tr>\n",
       "    <tr>\n",
       "      <th>...</th>\n",
       "      <td>...</td>\n",
       "      <td>...</td>\n",
       "      <td>...</td>\n",
       "      <td>...</td>\n",
       "    </tr>\n",
       "    <tr>\n",
       "      <th>3239630</th>\n",
       "      <td>44389</td>\n",
       "      <td>230739</td>\n",
       "      <td>85</td>\n",
       "      <td>0</td>\n",
       "    </tr>\n",
       "    <tr>\n",
       "      <th>131729</th>\n",
       "      <td>1902</td>\n",
       "      <td>5746</td>\n",
       "      <td>41</td>\n",
       "      <td>0</td>\n",
       "    </tr>\n",
       "    <tr>\n",
       "      <th>6008601</th>\n",
       "      <td>82211</td>\n",
       "      <td>152472</td>\n",
       "      <td>141</td>\n",
       "      <td>0</td>\n",
       "    </tr>\n",
       "    <tr>\n",
       "      <th>6214593</th>\n",
       "      <td>84955</td>\n",
       "      <td>188737</td>\n",
       "      <td>161</td>\n",
       "      <td>0</td>\n",
       "    </tr>\n",
       "    <tr>\n",
       "      <th>955495</th>\n",
       "      <td>13106</td>\n",
       "      <td>202600</td>\n",
       "      <td>112</td>\n",
       "      <td>0</td>\n",
       "    </tr>\n",
       "  </tbody>\n",
       "</table>\n",
       "<p>75104 rows × 4 columns</p>\n",
       "</div>"
      ],
      "text/plain": [
       "         cookie    node  rank  target\n",
       "3252067   44547  214298   167       0\n",
       "135566     1969  264372    93       0\n",
       "4543376   61974  161681    84       0\n",
       "1011340   13851  153038   167       0\n",
       "7209435   98605  163834    39       0\n",
       "...         ...     ...   ...     ...\n",
       "3239630   44389  230739    85       0\n",
       "131729     1902    5746    41       0\n",
       "6008601   82211  152472   141       0\n",
       "6214593   84955  188737   161       0\n",
       "955495    13106  202600   112       0\n",
       "\n",
       "[75104 rows x 4 columns]"
      ]
     },
     "execution_count": 31,
     "metadata": {},
     "output_type": "execute_result"
    }
   ],
   "source": [
    "ctb_test"
   ]
  },
  {
   "cell_type": "code",
   "execution_count": 13,
   "metadata": {},
   "outputs": [],
   "source": [
    "item_features = item_features.to_pandas()"
   ]
  },
  {
   "cell_type": "code",
   "execution_count": 19,
   "metadata": {},
   "outputs": [
    {
     "data": {
      "text/plain": [
       "array([0.001, 0.021, 0.041, 0.061, 0.081, 0.101, 0.121, 0.141, 0.161,\n",
       "       0.181])"
      ]
     },
     "execution_count": 19,
     "metadata": {},
     "output_type": "execute_result"
    }
   ],
   "source": [
    "np.arange(0.001, 0.2, 0.02)"
   ]
  },
  {
   "cell_type": "code",
   "execution_count": 21,
   "metadata": {},
   "outputs": [
    {
     "name": "stdout",
     "output_type": "stream",
     "text": [
      "neg.shape (10972, 5)\n",
      "neg.head()          cookie    node  rank  event  target\n",
      "9424240  128905  272423   127    NaN       0\n",
      "9148630  125141  152024   141    NaN       0\n",
      "3237112   44342  214244   155    NaN       0\n",
      "6851230   93745  153938   172    NaN       0\n",
      "2628452   36097  214395   101    NaN       0\n",
      "target\n",
      "1    0.800823\n",
      "0    0.199177\n",
      "Name: proportion, dtype: float64\n",
      "target\n",
      "1    0.805751\n",
      "0    0.194249\n",
      "Name: proportion, dtype: float64\n",
      "0 0\n"
     ]
    },
    {
     "data": {
      "application/vnd.jupyter.widget-view+json": {
       "model_id": "f0b4e134379b47d5a64f16307e9e5bce",
       "version_major": 2,
       "version_minor": 0
      },
      "text/plain": [
       "MetricVisualizer(layout=Layout(align_self='stretch', height='500px'))"
      ]
     },
     "metadata": {},
     "output_type": "display_data"
    },
    {
     "name": "stdout",
     "output_type": "stream",
     "text": [
      "0:\tlearn: 0.6882433\ttest: 0.6882561\tbest: 0.6882561 (0)\ttotal: 5.81ms\tremaining: 29s\n",
      "200:\tlearn: 0.4596158\ttest: 0.4620266\tbest: 0.4620266 (200)\ttotal: 1.12s\tremaining: 26.7s\n",
      "400:\tlearn: 0.4468319\ttest: 0.4528083\tbest: 0.4528083 (400)\ttotal: 2.2s\tremaining: 25.2s\n",
      "600:\tlearn: 0.4404897\ttest: 0.4501887\tbest: 0.4501887 (600)\ttotal: 3.13s\tremaining: 22.9s\n",
      "800:\tlearn: 0.4355458\ttest: 0.4487529\tbest: 0.4487460 (798)\ttotal: 4.03s\tremaining: 21.1s\n",
      "1000:\tlearn: 0.4312209\ttest: 0.4479636\tbest: 0.4479636 (1000)\ttotal: 4.92s\tremaining: 19.6s\n",
      "1200:\tlearn: 0.4268106\ttest: 0.4477448\tbest: 0.4477213 (1195)\ttotal: 5.86s\tremaining: 18.5s\n",
      "1400:\tlearn: 0.4224046\ttest: 0.4476950\tbest: 0.4476009 (1324)\ttotal: 6.83s\tremaining: 17.6s\n",
      "Stopped by overfitting detector  (100 iterations wait)\n",
      "\n",
      "bestTest = 0.447600891\n",
      "bestIteration = 1324\n",
      "\n",
      "Shrink model to first 1325 iterations.\n",
      "0.001\n",
      "ROC AUC score = 0.7237\n",
      "\n",
      "neg.shape (230409, 5)\n",
      "neg.head()          cookie    node  rank  event  target\n",
      "4632079   63129  120532   119    NaN       0\n",
      "7686227  105113  153730   120    NaN       0\n",
      "1382103   19063  200012   118    NaN       0\n",
      "786497    10725  170542    29    NaN       0\n",
      "6797496   92967  152036    41    NaN       0\n",
      "target\n",
      "0    0.838625\n",
      "1    0.161375\n",
      "Name: proportion, dtype: float64\n",
      "target\n",
      "0    0.837668\n",
      "1    0.162332\n",
      "Name: proportion, dtype: float64\n",
      "0 0\n"
     ]
    },
    {
     "data": {
      "application/vnd.jupyter.widget-view+json": {
       "model_id": "2b4c701e68cc4963917933b95cf0d396",
       "version_major": 2,
       "version_minor": 0
      },
      "text/plain": [
       "MetricVisualizer(layout=Layout(align_self='stretch', height='500px'))"
      ]
     },
     "metadata": {},
     "output_type": "display_data"
    },
    {
     "name": "stdout",
     "output_type": "stream",
     "text": [
      "0:\tlearn: 0.6866235\ttest: 0.6866048\tbest: 0.6866048 (0)\ttotal: 10.5ms\tremaining: 52.5s\n",
      "200:\tlearn: 0.4053794\ttest: 0.4004656\tbest: 0.4004656 (200)\ttotal: 2.32s\tremaining: 55.4s\n",
      "400:\tlearn: 0.3967021\ttest: 0.3915913\tbest: 0.3915913 (400)\ttotal: 4.52s\tremaining: 51.8s\n",
      "600:\tlearn: 0.3936695\ttest: 0.3893444\tbest: 0.3893444 (600)\ttotal: 6.71s\tremaining: 49.1s\n",
      "800:\tlearn: 0.3917261\ttest: 0.3881902\tbest: 0.3881902 (800)\ttotal: 8.97s\tremaining: 47.1s\n",
      "1000:\tlearn: 0.3901760\ttest: 0.3873902\tbest: 0.3873902 (1000)\ttotal: 11.1s\tremaining: 44.3s\n",
      "1200:\tlearn: 0.3888377\ttest: 0.3868131\tbest: 0.3868131 (1200)\ttotal: 13.2s\tremaining: 41.7s\n",
      "1400:\tlearn: 0.3875372\ttest: 0.3863953\tbest: 0.3863953 (1400)\ttotal: 15.4s\tremaining: 39.5s\n",
      "1600:\tlearn: 0.3862840\ttest: 0.3859989\tbest: 0.3859984 (1599)\ttotal: 17.7s\tremaining: 37.5s\n",
      "1800:\tlearn: 0.3851364\ttest: 0.3857451\tbest: 0.3857449 (1799)\ttotal: 20.1s\tremaining: 35.7s\n",
      "2000:\tlearn: 0.3841086\ttest: 0.3855279\tbest: 0.3855274 (1998)\ttotal: 22.3s\tremaining: 33.4s\n",
      "2200:\tlearn: 0.3831683\ttest: 0.3853646\tbest: 0.3853612 (2192)\ttotal: 24.5s\tremaining: 31.2s\n",
      "2400:\tlearn: 0.3822715\ttest: 0.3852938\tbest: 0.3852917 (2397)\ttotal: 26.7s\tremaining: 28.9s\n",
      "2600:\tlearn: 0.3814313\ttest: 0.3851728\tbest: 0.3851724 (2598)\ttotal: 28.8s\tremaining: 26.6s\n",
      "2800:\tlearn: 0.3806160\ttest: 0.3851161\tbest: 0.3851115 (2796)\ttotal: 31.1s\tremaining: 24.4s\n",
      "3000:\tlearn: 0.3798233\ttest: 0.3850847\tbest: 0.3850699 (2926)\ttotal: 33.2s\tremaining: 22.1s\n",
      "Stopped by overfitting detector  (100 iterations wait)\n",
      "\n",
      "bestTest = 0.3850698792\n",
      "bestIteration = 2926\n",
      "\n",
      "Shrink model to first 2927 iterations.\n",
      "0.021\n",
      "ROC AUC score = 0.7333\n",
      "\n",
      "neg.shape (449846, 5)\n",
      "neg.head()           cookie    node  rank  event  target\n",
      "158550      2298   13939   154    NaN       0\n",
      "809683     11075  146443    94    NaN       0\n",
      "7885938   107670  116128    49    NaN       0\n",
      "10162390  138903   28124   109    NaN       0\n",
      "2327311    31996  224510   151    NaN       0\n",
      "target\n",
      "0    0.910279\n",
      "1    0.089721\n",
      "Name: proportion, dtype: float64\n",
      "target\n",
      "0    0.909784\n",
      "1    0.090216\n",
      "Name: proportion, dtype: float64\n",
      "0 0\n"
     ]
    },
    {
     "data": {
      "application/vnd.jupyter.widget-view+json": {
       "model_id": "9fd7456910f643018df3d00bd7c966d0",
       "version_major": 2,
       "version_minor": 0
      },
      "text/plain": [
       "MetricVisualizer(layout=Layout(align_self='stretch', height='500px'))"
      ]
     },
     "metadata": {},
     "output_type": "display_data"
    },
    {
     "name": "stdout",
     "output_type": "stream",
     "text": [
      "0:\tlearn: 0.6829268\ttest: 0.6829219\tbest: 0.6829219 (0)\ttotal: 16.9ms\tremaining: 1m 24s\n",
      "200:\tlearn: 0.2820836\ttest: 0.2781950\tbest: 0.2781950 (200)\ttotal: 3.41s\tremaining: 1m 21s\n",
      "400:\tlearn: 0.2743273\ttest: 0.2698920\tbest: 0.2698920 (400)\ttotal: 6.88s\tremaining: 1m 18s\n",
      "600:\tlearn: 0.2723786\ttest: 0.2681731\tbest: 0.2681731 (600)\ttotal: 10.4s\tremaining: 1m 15s\n",
      "800:\tlearn: 0.2711432\ttest: 0.2673116\tbest: 0.2673116 (800)\ttotal: 14s\tremaining: 1m 13s\n",
      "1000:\tlearn: 0.2701531\ttest: 0.2667118\tbest: 0.2667118 (1000)\ttotal: 17.6s\tremaining: 1m 10s\n",
      "1200:\tlearn: 0.2693799\ttest: 0.2662784\tbest: 0.2662784 (1200)\ttotal: 20.9s\tremaining: 1m 6s\n",
      "1400:\tlearn: 0.2686809\ttest: 0.2659753\tbest: 0.2659753 (1400)\ttotal: 24.2s\tremaining: 1m 2s\n",
      "1600:\tlearn: 0.2680072\ttest: 0.2657614\tbest: 0.2657614 (1600)\ttotal: 28s\tremaining: 59.4s\n",
      "1800:\tlearn: 0.2673775\ttest: 0.2655839\tbest: 0.2655839 (1800)\ttotal: 32s\tremaining: 56.9s\n",
      "2000:\tlearn: 0.2667848\ttest: 0.2654497\tbest: 0.2654497 (2000)\ttotal: 36.4s\tremaining: 54.5s\n",
      "2200:\tlearn: 0.2662403\ttest: 0.2653426\tbest: 0.2653426 (2200)\ttotal: 39.9s\tremaining: 50.8s\n",
      "2400:\tlearn: 0.2657377\ttest: 0.2652989\tbest: 0.2652982 (2394)\ttotal: 44s\tremaining: 47.7s\n",
      "2600:\tlearn: 0.2652719\ttest: 0.2652480\tbest: 0.2652478 (2591)\ttotal: 47.7s\tremaining: 44s\n",
      "2800:\tlearn: 0.2648042\ttest: 0.2652050\tbest: 0.2652044 (2798)\ttotal: 51.5s\tremaining: 40.5s\n",
      "3000:\tlearn: 0.2643550\ttest: 0.2651782\tbest: 0.2651717 (2938)\ttotal: 55.3s\tremaining: 36.8s\n",
      "Stopped by overfitting detector  (100 iterations wait)\n",
      "\n",
      "bestTest = 0.2651717278\n",
      "bestIteration = 2938\n",
      "\n",
      "Shrink model to first 2939 iterations.\n",
      "0.041\n",
      "ROC AUC score = 0.7327\n",
      "\n",
      "neg.shape (669284, 5)\n",
      "neg.head()          cookie    node  rank  event  target\n",
      "3918627   53587  151453    44    NaN       0\n",
      "4552388   62085  202597   121    NaN       0\n",
      "2183493   29982  267144   149    NaN       0\n",
      "740725    10133  214377    80    NaN       0\n",
      "1676952   23158  211825   142    NaN       0\n",
      "target\n",
      "0    0.937834\n",
      "1    0.062166\n",
      "Name: proportion, dtype: float64\n",
      "target\n",
      "0    0.937548\n",
      "1    0.062452\n",
      "Name: proportion, dtype: float64\n",
      "0 0\n"
     ]
    },
    {
     "data": {
      "application/vnd.jupyter.widget-view+json": {
       "model_id": "60d563ddb60d41c1bdf9686ce3b062ff",
       "version_major": 2,
       "version_minor": 0
      },
      "text/plain": [
       "MetricVisualizer(layout=Layout(align_self='stretch', height='500px'))"
      ]
     },
     "metadata": {},
     "output_type": "display_data"
    },
    {
     "name": "stdout",
     "output_type": "stream",
     "text": [
      "0:\tlearn: 0.6805787\ttest: 0.6805869\tbest: 0.6805869 (0)\ttotal: 24.4ms\tremaining: 2m 1s\n",
      "200:\tlearn: 0.2198654\ttest: 0.2167598\tbest: 0.2167598 (200)\ttotal: 5.03s\tremaining: 2m\n",
      "400:\tlearn: 0.2129667\ttest: 0.2094122\tbest: 0.2094122 (400)\ttotal: 9.87s\tremaining: 1m 53s\n",
      "600:\tlearn: 0.2115405\ttest: 0.2082083\tbest: 0.2082083 (600)\ttotal: 14.6s\tremaining: 1m 47s\n",
      "800:\tlearn: 0.2106280\ttest: 0.2075942\tbest: 0.2075942 (800)\ttotal: 19.4s\tremaining: 1m 41s\n",
      "1000:\tlearn: 0.2099399\ttest: 0.2072057\tbest: 0.2072057 (1000)\ttotal: 24.5s\tremaining: 1m 38s\n",
      "1200:\tlearn: 0.2093522\ttest: 0.2069201\tbest: 0.2069201 (1200)\ttotal: 29.3s\tremaining: 1m 32s\n",
      "1400:\tlearn: 0.2088589\ttest: 0.2067383\tbest: 0.2067383 (1400)\ttotal: 34s\tremaining: 1m 27s\n",
      "1600:\tlearn: 0.2083926\ttest: 0.2065947\tbest: 0.2065947 (1600)\ttotal: 38.7s\tremaining: 1m 22s\n",
      "1800:\tlearn: 0.2079410\ttest: 0.2065071\tbest: 0.2065055 (1796)\ttotal: 43.4s\tremaining: 1m 17s\n",
      "2000:\tlearn: 0.2075419\ttest: 0.2064322\tbest: 0.2064322 (2000)\ttotal: 48s\tremaining: 1m 11s\n",
      "2200:\tlearn: 0.2071754\ttest: 0.2063893\tbest: 0.2063870 (2183)\ttotal: 52.6s\tremaining: 1m 6s\n",
      "2400:\tlearn: 0.2068364\ttest: 0.2063600\tbest: 0.2063595 (2395)\ttotal: 57.3s\tremaining: 1m 1s\n",
      "2600:\tlearn: 0.2065078\ttest: 0.2063293\tbest: 0.2063293 (2600)\ttotal: 1m 1s\tremaining: 57.2s\n",
      "2800:\tlearn: 0.2061992\ttest: 0.2062964\tbest: 0.2062962 (2779)\ttotal: 1m 6s\tremaining: 52.4s\n",
      "3000:\tlearn: 0.2059089\ttest: 0.2062753\tbest: 0.2062753 (3000)\ttotal: 1m 11s\tremaining: 47.6s\n",
      "3200:\tlearn: 0.2056240\ttest: 0.2062657\tbest: 0.2062588 (3172)\ttotal: 1m 16s\tremaining: 42.7s\n",
      "Stopped by overfitting detector  (100 iterations wait)\n",
      "\n",
      "bestTest = 0.206258811\n",
      "bestIteration = 3172\n",
      "\n",
      "Shrink model to first 3173 iterations.\n",
      "0.061\n",
      "ROC AUC score = 0.7330\n",
      "\n",
      "neg.shape (888721, 5)\n",
      "neg.head()           cookie    node  rank  event  target\n",
      "2815356    38567  250117   138    NaN       0\n",
      "2661573    36544  303220   147    NaN       0\n",
      "7813931   106743  188732   155    NaN       0\n",
      "10491215  143339   60718    32    NaN       0\n",
      "9182160   125582  152028   199    NaN       0\n",
      "target\n",
      "0    0.952526\n",
      "1    0.047474\n",
      "Name: proportion, dtype: float64\n",
      "target\n",
      "0    0.952088\n",
      "1    0.047912\n",
      "Name: proportion, dtype: float64\n",
      "0 0\n"
     ]
    },
    {
     "data": {
      "application/vnd.jupyter.widget-view+json": {
       "model_id": "827f27cad72544fc9cd7d07222d86df6",
       "version_major": 2,
       "version_minor": 0
      },
      "text/plain": [
       "MetricVisualizer(layout=Layout(align_self='stretch', height='500px'))"
      ]
     },
     "metadata": {},
     "output_type": "display_data"
    },
    {
     "name": "stdout",
     "output_type": "stream",
     "text": [
      "0:\tlearn: 0.6789158\ttest: 0.6789281\tbest: 0.6789281 (0)\ttotal: 32ms\tremaining: 2m 39s\n",
      "200:\tlearn: 0.1817272\ttest: 0.1798448\tbest: 0.1798448 (200)\ttotal: 6.33s\tremaining: 2m 31s\n",
      "400:\tlearn: 0.1755409\ttest: 0.1733324\tbest: 0.1733324 (400)\ttotal: 12.4s\tremaining: 2m 21s\n",
      "600:\tlearn: 0.1744049\ttest: 0.1723538\tbest: 0.1723538 (600)\ttotal: 18.4s\tremaining: 2m 14s\n",
      "800:\tlearn: 0.1736864\ttest: 0.1718793\tbest: 0.1718793 (800)\ttotal: 24.4s\tremaining: 2m 7s\n",
      "1000:\tlearn: 0.1731659\ttest: 0.1715919\tbest: 0.1715919 (1000)\ttotal: 30.3s\tremaining: 2m\n",
      "1200:\tlearn: 0.1727332\ttest: 0.1714005\tbest: 0.1714005 (1200)\ttotal: 36.2s\tremaining: 1m 54s\n",
      "1400:\tlearn: 0.1723541\ttest: 0.1712548\tbest: 0.1712548 (1400)\ttotal: 42.2s\tremaining: 1m 48s\n",
      "1600:\tlearn: 0.1720309\ttest: 0.1711699\tbest: 0.1711699 (1600)\ttotal: 48.1s\tremaining: 1m 42s\n",
      "1800:\tlearn: 0.1717147\ttest: 0.1710881\tbest: 0.1710879 (1799)\ttotal: 53.9s\tremaining: 1m 35s\n",
      "2000:\tlearn: 0.1714224\ttest: 0.1710261\tbest: 0.1710261 (2000)\ttotal: 59.8s\tremaining: 1m 29s\n",
      "2200:\tlearn: 0.1711435\ttest: 0.1709816\tbest: 0.1709814 (2199)\ttotal: 1m 5s\tremaining: 1m 23s\n",
      "2400:\tlearn: 0.1708731\ttest: 0.1709531\tbest: 0.1709525 (2399)\ttotal: 1m 11s\tremaining: 1m 17s\n",
      "2600:\tlearn: 0.1706207\ttest: 0.1709241\tbest: 0.1709236 (2595)\ttotal: 1m 17s\tremaining: 1m 11s\n",
      "2800:\tlearn: 0.1703832\ttest: 0.1709112\tbest: 0.1709096 (2791)\ttotal: 1m 23s\tremaining: 1m 5s\n",
      "3000:\tlearn: 0.1701567\ttest: 0.1708990\tbest: 0.1708956 (2946)\ttotal: 1m 29s\tremaining: 59.7s\n",
      "Stopped by overfitting detector  (100 iterations wait)\n",
      "\n",
      "bestTest = 0.1708955734\n",
      "bestIteration = 2946\n",
      "\n",
      "Shrink model to first 2947 iterations.\n",
      "0.081\n",
      "ROC AUC score = 0.7326\n",
      "\n",
      "neg.shape (1108158, 5)\n",
      "neg.head()           cookie    node  rank  event  target\n",
      "4461544    60864   46415   114    NaN       0\n",
      "466800      6501  214246    94    NaN       0\n",
      "10209712  139568  152027    17    NaN       0\n",
      "8740112   119418  130636   117    NaN       0\n",
      "2304954    31707  243178   100    NaN       0\n",
      "target\n",
      "0    0.961502\n",
      "1    0.038498\n",
      "Name: proportion, dtype: float64\n",
      "target\n",
      "0    0.961345\n",
      "1    0.038655\n",
      "Name: proportion, dtype: float64\n",
      "0 0\n"
     ]
    },
    {
     "data": {
      "application/vnd.jupyter.widget-view+json": {
       "model_id": "d50dbc9886c046f2bc5697c2222b8236",
       "version_major": 2,
       "version_minor": 0
      },
      "text/plain": [
       "MetricVisualizer(layout=Layout(align_self='stretch', height='500px'))"
      ]
     },
     "metadata": {},
     "output_type": "display_data"
    },
    {
     "name": "stdout",
     "output_type": "stream",
     "text": [
      "0:\tlearn: 0.6776520\ttest: 0.6776685\tbest: 0.6776685 (0)\ttotal: 34.8ms\tremaining: 2m 54s\n",
      "200:\tlearn: 0.1560901\ttest: 0.1538480\tbest: 0.1538480 (200)\ttotal: 7.3s\tremaining: 2m 54s\n",
      "400:\tlearn: 0.1504340\ttest: 0.1478112\tbest: 0.1478112 (400)\ttotal: 14.4s\tremaining: 2m 45s\n",
      "600:\tlearn: 0.1494940\ttest: 0.1470003\tbest: 0.1470003 (600)\ttotal: 21.9s\tremaining: 2m 40s\n",
      "800:\tlearn: 0.1488911\ttest: 0.1466212\tbest: 0.1466212 (800)\ttotal: 29.1s\tremaining: 2m 32s\n",
      "1000:\tlearn: 0.1484622\ttest: 0.1463936\tbest: 0.1463936 (1000)\ttotal: 36.3s\tremaining: 2m 25s\n",
      "1200:\tlearn: 0.1481091\ttest: 0.1462291\tbest: 0.1462285 (1199)\ttotal: 43.6s\tremaining: 2m 17s\n",
      "1400:\tlearn: 0.1478135\ttest: 0.1461191\tbest: 0.1461191 (1400)\ttotal: 50.6s\tremaining: 2m 10s\n",
      "1600:\tlearn: 0.1475463\ttest: 0.1460428\tbest: 0.1460428 (1600)\ttotal: 57.6s\tremaining: 2m 2s\n",
      "1800:\tlearn: 0.1472875\ttest: 0.1459822\tbest: 0.1459822 (1800)\ttotal: 1m 4s\tremaining: 1m 55s\n",
      "2000:\tlearn: 0.1470502\ttest: 0.1459499\tbest: 0.1459499 (2000)\ttotal: 1m 11s\tremaining: 1m 47s\n",
      "2200:\tlearn: 0.1468302\ttest: 0.1459196\tbest: 0.1459189 (2198)\ttotal: 1m 18s\tremaining: 1m 40s\n",
      "2400:\tlearn: 0.1466235\ttest: 0.1459075\tbest: 0.1459071 (2399)\ttotal: 1m 25s\tremaining: 1m 32s\n",
      "2600:\tlearn: 0.1464288\ttest: 0.1458987\tbest: 0.1458975 (2596)\ttotal: 1m 33s\tremaining: 1m 25s\n",
      "2800:\tlearn: 0.1462519\ttest: 0.1458889\tbest: 0.1458889 (2800)\ttotal: 1m 40s\tremaining: 1m 18s\n",
      "3000:\tlearn: 0.1460760\ttest: 0.1458663\tbest: 0.1458661 (2995)\ttotal: 1m 47s\tremaining: 1m 11s\n",
      "3200:\tlearn: 0.1459077\ttest: 0.1458573\tbest: 0.1458561 (3165)\ttotal: 1m 54s\tremaining: 1m 4s\n",
      "Stopped by overfitting detector  (100 iterations wait)\n",
      "\n",
      "bestTest = 0.1458498111\n",
      "bestIteration = 3254\n",
      "\n",
      "Shrink model to first 3255 iterations.\n",
      "0.101\n",
      "ROC AUC score = 0.7320\n",
      "\n",
      "neg.shape (1327595, 5)\n",
      "neg.head()          cookie    node  rank  event  target\n",
      "168940     2452    2670   193    NaN       0\n",
      "5125080   69889  195732    64    NaN       0\n",
      "1009359   13826  263440   179    NaN       0\n",
      "4793449   65347  120530   105    NaN       0\n",
      "5355816   72971  152014    62    NaN       0\n",
      "target\n",
      "0    0.967681\n",
      "1    0.032319\n",
      "Name: proportion, dtype: float64\n",
      "target\n",
      "0    0.967444\n",
      "1    0.032556\n",
      "Name: proportion, dtype: float64\n",
      "0 0\n"
     ]
    },
    {
     "data": {
      "application/vnd.jupyter.widget-view+json": {
       "model_id": "361436bd84474859816814a0e0032343",
       "version_major": 2,
       "version_minor": 0
      },
      "text/plain": [
       "MetricVisualizer(layout=Layout(align_self='stretch', height='500px'))"
      ]
     },
     "metadata": {},
     "output_type": "display_data"
    },
    {
     "name": "stdout",
     "output_type": "stream",
     "text": [
      "0:\tlearn: 0.6766227\ttest: 0.6766400\tbest: 0.6766400 (0)\ttotal: 45.2ms\tremaining: 3m 46s\n",
      "200:\tlearn: 0.1373498\ttest: 0.1353791\tbest: 0.1353791 (200)\ttotal: 8.64s\tremaining: 3m 26s\n",
      "400:\tlearn: 0.1320431\ttest: 0.1296735\tbest: 0.1296735 (400)\ttotal: 17.1s\tremaining: 3m 16s\n",
      "600:\tlearn: 0.1312179\ttest: 0.1289287\tbest: 0.1289287 (600)\ttotal: 25.8s\tremaining: 3m 8s\n",
      "800:\tlearn: 0.1307140\ttest: 0.1285931\tbest: 0.1285931 (800)\ttotal: 34.2s\tremaining: 2m 59s\n",
      "1000:\tlearn: 0.1303507\ttest: 0.1283849\tbest: 0.1283849 (1000)\ttotal: 42.6s\tremaining: 2m 50s\n",
      "1200:\tlearn: 0.1300487\ttest: 0.1282304\tbest: 0.1282304 (1200)\ttotal: 51s\tremaining: 2m 41s\n",
      "1400:\tlearn: 0.1298051\ttest: 0.1281340\tbest: 0.1281339 (1399)\ttotal: 59.2s\tremaining: 2m 32s\n",
      "1600:\tlearn: 0.1295840\ttest: 0.1280657\tbest: 0.1280657 (1600)\ttotal: 1m 7s\tremaining: 2m 23s\n",
      "1800:\tlearn: 0.1293842\ttest: 0.1280017\tbest: 0.1280017 (1800)\ttotal: 1m 15s\tremaining: 2m 14s\n",
      "2000:\tlearn: 0.1291959\ttest: 0.1279554\tbest: 0.1279553 (1999)\ttotal: 1m 23s\tremaining: 2m 5s\n",
      "2200:\tlearn: 0.1290250\ttest: 0.1279233\tbest: 0.1279229 (2196)\ttotal: 1m 31s\tremaining: 1m 56s\n",
      "2400:\tlearn: 0.1288638\ttest: 0.1279087\tbest: 0.1279081 (2387)\ttotal: 1m 40s\tremaining: 1m 48s\n",
      "2600:\tlearn: 0.1287093\ttest: 0.1278952\tbest: 0.1278952 (2600)\ttotal: 1m 48s\tremaining: 1m 39s\n",
      "2800:\tlearn: 0.1285568\ttest: 0.1278725\tbest: 0.1278725 (2800)\ttotal: 1m 56s\tremaining: 1m 31s\n",
      "3000:\tlearn: 0.1284163\ttest: 0.1278560\tbest: 0.1278560 (3000)\ttotal: 2m 4s\tremaining: 1m 23s\n",
      "3200:\tlearn: 0.1282856\ttest: 0.1278461\tbest: 0.1278460 (3199)\ttotal: 2m 13s\tremaining: 1m 14s\n",
      "3400:\tlearn: 0.1281541\ttest: 0.1278332\tbest: 0.1278326 (3394)\ttotal: 2m 21s\tremaining: 1m 6s\n",
      "3600:\tlearn: 0.1280287\ttest: 0.1278289\tbest: 0.1278287 (3583)\ttotal: 2m 29s\tremaining: 58.2s\n",
      "Stopped by overfitting detector  (100 iterations wait)\n",
      "\n",
      "bestTest = 0.1278218579\n",
      "bestIteration = 3663\n",
      "\n",
      "Shrink model to first 3664 iterations.\n",
      "0.121\n",
      "ROC AUC score = 0.7327\n",
      "\n",
      "neg.shape (1547032, 5)\n",
      "neg.head()           cookie    node  rank  event  target\n",
      "10027180  137087  189959     5    NaN       0\n",
      "9860934   134780  195994   103    NaN       0\n",
      "9802304   134035  331654   186    NaN       0\n",
      "5710002    78074  116138   166    NaN       0\n",
      "10936133  149489  151669   116    NaN       0\n",
      "target\n",
      "0    0.972151\n",
      "1    0.027849\n",
      "Name: proportion, dtype: float64\n",
      "target\n",
      "0    0.971894\n",
      "1    0.028106\n",
      "Name: proportion, dtype: float64\n",
      "0 0\n"
     ]
    },
    {
     "data": {
      "application/vnd.jupyter.widget-view+json": {
       "model_id": "65b730af80164a5da3ae891678cd33f4",
       "version_major": 2,
       "version_minor": 0
      },
      "text/plain": [
       "MetricVisualizer(layout=Layout(align_self='stretch', height='500px'))"
      ]
     },
     "metadata": {},
     "output_type": "display_data"
    },
    {
     "name": "stdout",
     "output_type": "stream",
     "text": [
      "0:\tlearn: 0.6763514\ttest: 0.6763693\tbest: 0.6763693 (0)\ttotal: 52ms\tremaining: 4m 20s\n",
      "200:\tlearn: 0.1228768\ttest: 0.1211356\tbest: 0.1211356 (200)\ttotal: 9.66s\tremaining: 3m 50s\n",
      "400:\tlearn: 0.1179750\ttest: 0.1159066\tbest: 0.1159066 (400)\ttotal: 19.2s\tremaining: 3m 39s\n",
      "600:\tlearn: 0.1172642\ttest: 0.1152530\tbest: 0.1152530 (600)\ttotal: 28.9s\tremaining: 3m 31s\n",
      "800:\tlearn: 0.1168250\ttest: 0.1149576\tbest: 0.1149576 (800)\ttotal: 38.5s\tremaining: 3m 21s\n",
      "1000:\tlearn: 0.1165164\ttest: 0.1147698\tbest: 0.1147698 (1000)\ttotal: 48s\tremaining: 3m 11s\n",
      "1200:\tlearn: 0.1162676\ttest: 0.1146464\tbest: 0.1146464 (1200)\ttotal: 57.7s\tremaining: 3m 2s\n",
      "1400:\tlearn: 0.1160417\ttest: 0.1145495\tbest: 0.1145495 (1400)\ttotal: 1m 7s\tremaining: 2m 52s\n",
      "1600:\tlearn: 0.1158545\ttest: 0.1144903\tbest: 0.1144903 (1600)\ttotal: 1m 16s\tremaining: 2m 42s\n",
      "1800:\tlearn: 0.1156774\ttest: 0.1144433\tbest: 0.1144430 (1797)\ttotal: 1m 26s\tremaining: 2m 33s\n",
      "2000:\tlearn: 0.1155134\ttest: 0.1144091\tbest: 0.1144091 (2000)\ttotal: 1m 36s\tremaining: 2m 24s\n",
      "2200:\tlearn: 0.1153634\ttest: 0.1143859\tbest: 0.1143857 (2197)\ttotal: 1m 46s\tremaining: 2m 15s\n",
      "2400:\tlearn: 0.1152180\ttest: 0.1143605\tbest: 0.1143605 (2400)\ttotal: 1m 56s\tremaining: 2m 6s\n",
      "2600:\tlearn: 0.1150883\ttest: 0.1143410\tbest: 0.1143410 (2599)\ttotal: 2m 6s\tremaining: 1m 56s\n",
      "2800:\tlearn: 0.1149650\ttest: 0.1143290\tbest: 0.1143288 (2797)\ttotal: 2m 16s\tremaining: 1m 47s\n",
      "3000:\tlearn: 0.1148458\ttest: 0.1143184\tbest: 0.1143184 (3000)\ttotal: 2m 26s\tremaining: 1m 37s\n",
      "3200:\tlearn: 0.1147315\ttest: 0.1143037\tbest: 0.1143037 (3200)\ttotal: 2m 36s\tremaining: 1m 27s\n",
      "3400:\tlearn: 0.1146164\ttest: 0.1142938\tbest: 0.1142929 (3386)\ttotal: 2m 46s\tremaining: 1m 18s\n",
      "3600:\tlearn: 0.1145046\ttest: 0.1142809\tbest: 0.1142809 (3599)\ttotal: 2m 55s\tremaining: 1m 8s\n",
      "3800:\tlearn: 0.1143974\ttest: 0.1142737\tbest: 0.1142737 (3800)\ttotal: 3m 5s\tremaining: 58.5s\n",
      "Stopped by overfitting detector  (100 iterations wait)\n",
      "\n",
      "bestTest = 0.1142722669\n",
      "bestIteration = 3864\n",
      "\n",
      "Shrink model to first 3865 iterations.\n",
      "0.14100000000000001\n",
      "ROC AUC score = 0.7335\n",
      "\n",
      "neg.shape (1766470, 5)\n",
      "neg.head()          cookie    node  rank  event  target\n",
      "7450189  101884  152030   104    NaN       0\n",
      "6243508   85362  130837    15    NaN       0\n",
      "9411839  128752  126704    57    NaN       0\n",
      "4698734   64027  153427    19    NaN       0\n",
      "4982419   67954   56062     9    NaN       0\n",
      "target\n",
      "0    0.975516\n",
      "1    0.024484\n",
      "Name: proportion, dtype: float64\n",
      "target\n",
      "0    0.975384\n",
      "1    0.024616\n",
      "Name: proportion, dtype: float64\n",
      "0 0\n"
     ]
    },
    {
     "data": {
      "application/vnd.jupyter.widget-view+json": {
       "model_id": "9e69644da45f4543bf6b2ca5a19bf9a5",
       "version_major": 2,
       "version_minor": 0
      },
      "text/plain": [
       "MetricVisualizer(layout=Layout(align_self='stretch', height='500px'))"
      ]
     },
     "metadata": {},
     "output_type": "display_data"
    },
    {
     "name": "stdout",
     "output_type": "stream",
     "text": [
      "0:\tlearn: 0.6756265\ttest: 0.6756562\tbest: 0.6756562 (0)\ttotal: 61.9ms\tremaining: 5m 9s\n",
      "200:\tlearn: 0.1114254\ttest: 0.1102026\tbest: 0.1102026 (200)\ttotal: 11.5s\tremaining: 4m 33s\n",
      "400:\tlearn: 0.1068392\ttest: 0.1053043\tbest: 0.1053043 (400)\ttotal: 22.3s\tremaining: 4m 15s\n",
      "600:\tlearn: 0.1061873\ttest: 0.1047007\tbest: 0.1047007 (600)\ttotal: 33.3s\tremaining: 4m 3s\n",
      "800:\tlearn: 0.1058145\ttest: 0.1044339\tbest: 0.1044339 (800)\ttotal: 44.3s\tremaining: 3m 52s\n",
      "1000:\tlearn: 0.1055348\ttest: 0.1042561\tbest: 0.1042561 (1000)\ttotal: 55.2s\tremaining: 3m 40s\n",
      "1200:\tlearn: 0.1053129\ttest: 0.1041386\tbest: 0.1041386 (1200)\ttotal: 1m 6s\tremaining: 3m 29s\n",
      "1400:\tlearn: 0.1051229\ttest: 0.1040549\tbest: 0.1040549 (1400)\ttotal: 1m 16s\tremaining: 3m 17s\n",
      "1600:\tlearn: 0.1049500\ttest: 0.1039863\tbest: 0.1039863 (1600)\ttotal: 1m 27s\tremaining: 3m 6s\n",
      "1800:\tlearn: 0.1047925\ttest: 0.1039405\tbest: 0.1039405 (1800)\ttotal: 1m 38s\tremaining: 2m 54s\n",
      "2000:\tlearn: 0.1046489\ttest: 0.1039023\tbest: 0.1039023 (2000)\ttotal: 1m 48s\tremaining: 2m 42s\n",
      "2200:\tlearn: 0.1045127\ttest: 0.1038718\tbest: 0.1038718 (2200)\ttotal: 1m 59s\tremaining: 2m 32s\n",
      "2400:\tlearn: 0.1043892\ttest: 0.1038516\tbest: 0.1038510 (2395)\ttotal: 2m 10s\tremaining: 2m 21s\n",
      "2600:\tlearn: 0.1042665\ttest: 0.1038369\tbest: 0.1038356 (2546)\ttotal: 2m 21s\tremaining: 2m 10s\n",
      "2800:\tlearn: 0.1041526\ttest: 0.1038260\tbest: 0.1038260 (2800)\ttotal: 2m 32s\tremaining: 1m 59s\n",
      "3000:\tlearn: 0.1040448\ttest: 0.1038169\tbest: 0.1038169 (2999)\ttotal: 2m 43s\tremaining: 1m 48s\n",
      "Stopped by overfitting detector  (100 iterations wait)\n",
      "\n",
      "bestTest = 0.1038136902\n",
      "bestIteration = 3040\n",
      "\n",
      "Shrink model to first 3041 iterations.\n",
      "0.161\n",
      "ROC AUC score = 0.7318\n",
      "\n",
      "neg.shape (1985907, 5)\n",
      "neg.head()          cookie    node  rank  event  target\n",
      "545720     7527    2650   142    NaN       0\n",
      "8710630  119038  313797   125    NaN       0\n",
      "5807042   79404  214226   197    NaN       0\n",
      "6945834   95046  274972   148    NaN       0\n",
      "2410025   33010  130636    10    NaN       0\n",
      "target\n",
      "0    0.978167\n",
      "1    0.021833\n",
      "Name: proportion, dtype: float64\n",
      "target\n",
      "0    0.97797\n",
      "1    0.02203\n",
      "Name: proportion, dtype: float64\n",
      "0 0\n"
     ]
    },
    {
     "data": {
      "application/vnd.jupyter.widget-view+json": {
       "model_id": "7ff29c5699a1441ea5be49c28a2ec0a9",
       "version_major": 2,
       "version_minor": 0
      },
      "text/plain": [
       "MetricVisualizer(layout=Layout(align_self='stretch', height='500px'))"
      ]
     },
     "metadata": {},
     "output_type": "display_data"
    },
    {
     "name": "stdout",
     "output_type": "stream",
     "text": [
      "0:\tlearn: 0.6749820\ttest: 0.6750004\tbest: 0.6750004 (0)\ttotal: 64.8ms\tremaining: 5m 23s\n",
      "200:\tlearn: 0.1021167\ttest: 0.1004930\tbest: 0.1004930 (200)\ttotal: 12.5s\tremaining: 4m 58s\n",
      "400:\tlearn: 0.0977630\ttest: 0.0958353\tbest: 0.0958353 (400)\ttotal: 24.8s\tremaining: 4m 44s\n",
      "600:\tlearn: 0.0971916\ttest: 0.0952900\tbest: 0.0952900 (600)\ttotal: 37.1s\tremaining: 4m 31s\n",
      "800:\tlearn: 0.0968525\ttest: 0.0950509\tbest: 0.0950509 (800)\ttotal: 49.3s\tremaining: 4m 18s\n",
      "1000:\tlearn: 0.0965960\ttest: 0.0948989\tbest: 0.0948989 (1000)\ttotal: 1m 1s\tremaining: 4m 6s\n",
      "1200:\tlearn: 0.0963903\ttest: 0.0947855\tbest: 0.0947855 (1200)\ttotal: 1m 14s\tremaining: 3m 54s\n",
      "1400:\tlearn: 0.0962124\ttest: 0.0947028\tbest: 0.0947028 (1400)\ttotal: 1m 26s\tremaining: 3m 41s\n",
      "1600:\tlearn: 0.0960661\ttest: 0.0946483\tbest: 0.0946483 (1600)\ttotal: 1m 37s\tremaining: 3m 28s\n",
      "1800:\tlearn: 0.0959339\ttest: 0.0946000\tbest: 0.0946000 (1800)\ttotal: 1m 50s\tremaining: 3m 15s\n",
      "2000:\tlearn: 0.0958095\ttest: 0.0945734\tbest: 0.0945734 (2000)\ttotal: 2m 1s\tremaining: 3m 2s\n",
      "2200:\tlearn: 0.0956917\ttest: 0.0945480\tbest: 0.0945480 (2197)\ttotal: 2m 13s\tremaining: 2m 50s\n",
      "2400:\tlearn: 0.0955868\ttest: 0.0945277\tbest: 0.0945277 (2400)\ttotal: 2m 26s\tremaining: 2m 38s\n",
      "2600:\tlearn: 0.0954831\ttest: 0.0945089\tbest: 0.0945088 (2599)\ttotal: 2m 38s\tremaining: 2m 26s\n",
      "2800:\tlearn: 0.0953859\ttest: 0.0944938\tbest: 0.0944936 (2799)\ttotal: 2m 51s\tremaining: 2m 14s\n",
      "3000:\tlearn: 0.0952912\ttest: 0.0944856\tbest: 0.0944848 (2971)\ttotal: 3m 3s\tremaining: 2m 2s\n",
      "Stopped by overfitting detector  (100 iterations wait)\n",
      "\n",
      "bestTest = 0.09448350942\n",
      "bestIteration = 3043\n",
      "\n",
      "Shrink model to first 3044 iterations.\n",
      "0.181\n",
      "ROC AUC score = 0.7330\n",
      "\n"
     ]
    }
   ],
   "source": [
    "# for frac in np.arange(0.001, 0.2, 0.02):\n",
    "#     # negative interactions\n",
    "#     neg = candidates.set_index(['cookie', 'node'])\\\n",
    "#             .join(df_eval.set_index(['cookie', 'node']))\n",
    "\n",
    "#     neg = neg[neg['event'].isnull()].reset_index()     \n",
    "#     neg = neg.sample(frac=frac)\n",
    "#     neg.loc[:, 'target'] = 0\n",
    "\n",
    "#     print(\"neg.shape\", neg.shape)\n",
    "#     print(\"neg.head()\", neg.head())\n",
    "#     # train test\n",
    "#     ctb_train_users, ctb_test_users = train_test_split(\n",
    "#         df_eval['cookie'].unique(),\n",
    "#         random_state=SEED,\n",
    "#         test_size=0.2\n",
    "#         )\n",
    "#     # train eval\n",
    "#     ctb_train_users, ctb_eval_users = train_test_split(\n",
    "#         ctb_train_users,\n",
    "#         random_state=SEED,\n",
    "#         test_size=0.1\n",
    "#         )\n",
    "#     select_col = [\"cookie\", \"node\", \"rank\", 'target']\n",
    "\n",
    "#     # Catboost train\n",
    "#     ctb_train = shuffle(\n",
    "#         pd.concat([\n",
    "#             pos[pos['cookie'].isin(ctb_train_users)],\n",
    "#             neg[neg['cookie'].isin(ctb_train_users)]\n",
    "#     ])[select_col]\n",
    "#     )\n",
    "\n",
    "#     # Catboost test\n",
    "#     ctb_test = shuffle(\n",
    "#         pd.concat([\n",
    "#             pos[pos['cookie'].isin(ctb_test_users)],\n",
    "#             neg[neg['cookie'].isin(ctb_test_users)]\n",
    "#     ])[select_col]\n",
    "#     )\n",
    "\n",
    "#     # for early stopping\n",
    "#     ctb_eval = shuffle(\n",
    "#         pd.concat([\n",
    "#             pos[pos['cookie'].isin(ctb_eval_users)],\n",
    "#             neg[neg['cookie'].isin(ctb_eval_users)]\n",
    "#     ])[select_col]\n",
    "#     )\n",
    "#     print(ctb_train['target'].value_counts(normalize=True))\n",
    "#     print(ctb_test['target'].value_counts(normalize=True))\n",
    "    \n",
    "#     user_col = ['cookie']\n",
    "#     item_col = item_features.columns\n",
    "#     train_feat = (\n",
    "#         ctb_train\n",
    "#         # .merge(\n",
    "#         #     users[user_col],\n",
    "#         #     on=['user_id'],\n",
    "#         #     how='left')\n",
    "#         .merge(\n",
    "#             item_features[item_col],\n",
    "#             on=['node'],\n",
    "#             how='left')\n",
    "#     )\n",
    "#     eval_feat = (\n",
    "#         ctb_eval\n",
    "#         # .merge(\n",
    "#         #     users[user_col],\n",
    "#         #     on=['user_id'],\n",
    "#         #     how='left')\n",
    "#         .merge(\n",
    "#             item_features[item_col],\n",
    "#             on=['node'],\n",
    "#             how='left')\n",
    "#     )\n",
    "#     test_feat = (\n",
    "#         ctb_test\n",
    "#         # .merge(\n",
    "#         #     users[user_col],\n",
    "#         #     on=['user_id'],\n",
    "#         #     how='left')\n",
    "#         .merge(\n",
    "#             item_features[item_col],\n",
    "#             on=['node'],\n",
    "#             how='left'\n",
    "#             )\n",
    "#     )\n",
    "#     print(train_feat.isna().sum().sum(), eval_feat.isna().sum().sum())\n",
    "#     drop_col = ['cookie', 'node']\n",
    "#     target_col = ['target']\n",
    "#     cat_col = [f\"field_{i}\" for i in range(64)]\n",
    "#     X_train, y_train = train_feat.drop(drop_col + target_col, axis=1), train_feat[target_col]\n",
    "#     X_val, y_val = eval_feat.drop(drop_col + target_col, axis=1), eval_feat[target_col]\n",
    "#     X_test, y_test = test_feat.drop(drop_col + target_col, axis=1), test_feat['target']\n",
    "#     X_train.shape, y_train.shape, X_val.shape, y_val.shape, X_test.shape, y_test.shape\n",
    "#     from catboost import CatBoostClassifier, CatBoostRanker\n",
    "\n",
    "#     # параметры для обучения\n",
    "#     est_params = {\n",
    "#         'subsample': 0.9,\n",
    "#         'max_depth': 6,\n",
    "#         'n_estimators': 5000,\n",
    "#         'learning_rate': 0.01,\n",
    "#         'thread_count': 20,\n",
    "#         'random_state': SEED,\n",
    "#         'verbose': 200,\n",
    "#         #   \"loss_function\":'YetiRankPairwise',\n",
    "#         #  \"eval_metric\":'NDCG'\n",
    "#     }\n",
    "\n",
    "#     ctb_model = CatBoostClassifier(**est_params)\n",
    "#     ctb_model.fit(\n",
    "#         X_train,\n",
    "#         y_train,\n",
    "#         eval_set=(X_val, y_val),\n",
    "#         early_stopping_rounds=100,\n",
    "#         plot=True\n",
    "#         )\n",
    "#     # save model \n",
    "#     # import dill \n",
    "#     # with open(f\"ctb_model_baseline.dill\", 'wb') as f:\n",
    "#     #     dill.dump(ctb_model, f)\n",
    "#     y_pred = ctb_model.predict_proba(X_test)\n",
    "#     from sklearn.metrics import roc_auc_score\n",
    "    \n",
    "#     print(f\"{frac}\")\n",
    "#     print(f\"ROC AUC score = {roc_auc_score(y_test, y_pred[:, 1]):.4f}\\n\")"
   ]
  },
  {
   "cell_type": "markdown",
   "metadata": {},
   "source": [
    "# Submission"
   ]
  },
  {
   "cell_type": "code",
   "execution_count": 32,
   "metadata": {},
   "outputs": [],
   "source": [
    "from datetime import timedelta\n",
    "import polars as pl\n",
    "import pandas as pd\n",
    "import implicit\n",
    "\n",
    "from tools import load_data_actions, generate_lightfm_recs_mapper\n",
    "from tqdm import tqdm\n",
    "\n",
    "from lightfm.data import Dataset\n",
    "from lightfm import LightFM\n",
    "\n",
    "from rectools import Columns\n",
    "from rectools.dataset import Dataset as RTDataset\n",
    "from rectools.models import (\n",
    "    ImplicitALSWrapperModel,\n",
    "    ImplicitBPRWrapperModel,\n",
    "    LightFMWrapperModel,\n",
    "    PureSVDModel,\n",
    "    ImplicitItemKNNWrapperModel,\n",
    "    EASEModel\n",
    ")\n",
    "\n",
    "from sklearn.model_selection import train_test_split\n",
    "from sklearn.utils import shuffle"
   ]
  },
  {
   "cell_type": "code",
   "execution_count": 33,
   "metadata": {},
   "outputs": [],
   "source": [
    "SEED = 42\n",
    "top_N = 40\n",
    "DATA_DIR = 'data/'\n",
    "\n",
    "df_test_users = pl.read_parquet(f'{DATA_DIR}/test_users.pq')\n",
    "df_clickstream = pl.read_parquet(f'{DATA_DIR}/clickstream.pq')\n",
    "\n",
    "df_cat_features = pl.read_parquet(f'{DATA_DIR}/cat_features_preproc_20.pq')\n",
    "df_text_features = pl.read_parquet(f'{DATA_DIR}/text_features.pq')\n",
    "df_event = pl.read_parquet(f'{DATA_DIR}/events.pq')"
   ]
  },
  {
   "cell_type": "code",
   "execution_count": 34,
   "metadata": {},
   "outputs": [],
   "source": [
    "df_train, df_eval = load_data_actions(df_clickstream, df_event)"
   ]
  },
  {
   "cell_type": "code",
   "execution_count": 35,
   "metadata": {},
   "outputs": [
    {
     "data": {
      "text/html": [
       "<div>\n",
       "<style scoped>\n",
       "    .dataframe tbody tr th:only-of-type {\n",
       "        vertical-align: middle;\n",
       "    }\n",
       "\n",
       "    .dataframe tbody tr th {\n",
       "        vertical-align: top;\n",
       "    }\n",
       "\n",
       "    .dataframe thead th {\n",
       "        text-align: right;\n",
       "    }\n",
       "</style>\n",
       "<table border=\"1\" class=\"dataframe\">\n",
       "  <thead>\n",
       "    <tr style=\"text-align: right;\">\n",
       "      <th></th>\n",
       "      <th>node</th>\n",
       "      <th>mean_title_projection</th>\n",
       "    </tr>\n",
       "  </thead>\n",
       "  <tbody>\n",
       "    <tr>\n",
       "      <th>0</th>\n",
       "      <td>1</td>\n",
       "      <td>[-128.0, 127.0, 127.0, -40.0, -92.5, -109.5, 3...</td>\n",
       "    </tr>\n",
       "    <tr>\n",
       "      <th>1</th>\n",
       "      <td>2</td>\n",
       "      <td>[-128.0, 91.0, 127.0, -19.0, -72.0, -128.0, 11...</td>\n",
       "    </tr>\n",
       "    <tr>\n",
       "      <th>2</th>\n",
       "      <td>3</td>\n",
       "      <td>[-128.0, -30.0, 127.0, -119.0, -117.0, -128.0,...</td>\n",
       "    </tr>\n",
       "    <tr>\n",
       "      <th>3</th>\n",
       "      <td>4</td>\n",
       "      <td>[-128.0, 122.0, 127.0, -128.0, -86.0, -128.0, ...</td>\n",
       "    </tr>\n",
       "    <tr>\n",
       "      <th>4</th>\n",
       "      <td>5</td>\n",
       "      <td>[-128.0, 42.0, 127.0, -128.0, -80.0, -128.0, -...</td>\n",
       "    </tr>\n",
       "    <tr>\n",
       "      <th>...</th>\n",
       "      <td>...</td>\n",
       "      <td>...</td>\n",
       "    </tr>\n",
       "    <tr>\n",
       "      <th>408469</th>\n",
       "      <td>424063</td>\n",
       "      <td>[-128.0, -128.0, 127.0, -128.0, -111.0, 1.0, -...</td>\n",
       "    </tr>\n",
       "    <tr>\n",
       "      <th>408470</th>\n",
       "      <td>424064</td>\n",
       "      <td>[-128.0, -128.0, 127.0, -128.0, -126.0, -128.0...</td>\n",
       "    </tr>\n",
       "    <tr>\n",
       "      <th>408471</th>\n",
       "      <td>424065</td>\n",
       "      <td>[-105.0, -128.0, 15.0, -28.0, 68.0, -128.0, 63...</td>\n",
       "    </tr>\n",
       "    <tr>\n",
       "      <th>408472</th>\n",
       "      <td>424067</td>\n",
       "      <td>[-128.0, -128.0, 111.0, -35.0, 50.0, -89.0, -1...</td>\n",
       "    </tr>\n",
       "    <tr>\n",
       "      <th>408473</th>\n",
       "      <td>424068</td>\n",
       "      <td>[-128.0, -128.0, -3.0, -128.0, 93.0, -128.0, -...</td>\n",
       "    </tr>\n",
       "  </tbody>\n",
       "</table>\n",
       "<p>408474 rows × 2 columns</p>\n",
       "</div>"
      ],
      "text/plain": [
       "          node                              mean_title_projection\n",
       "0            1  [-128.0, 127.0, 127.0, -40.0, -92.5, -109.5, 3...\n",
       "1            2  [-128.0, 91.0, 127.0, -19.0, -72.0, -128.0, 11...\n",
       "2            3  [-128.0, -30.0, 127.0, -119.0, -117.0, -128.0,...\n",
       "3            4  [-128.0, 122.0, 127.0, -128.0, -86.0, -128.0, ...\n",
       "4            5  [-128.0, 42.0, 127.0, -128.0, -80.0, -128.0, -...\n",
       "...        ...                                                ...\n",
       "408469  424063  [-128.0, -128.0, 127.0, -128.0, -111.0, 1.0, -...\n",
       "408470  424064  [-128.0, -128.0, 127.0, -128.0, -126.0, -128.0...\n",
       "408471  424065  [-105.0, -128.0, 15.0, -28.0, 68.0, -128.0, 63...\n",
       "408472  424067  [-128.0, -128.0, 111.0, -35.0, 50.0, -89.0, -1...\n",
       "408473  424068  [-128.0, -128.0, -3.0, -128.0, 93.0, -128.0, -...\n",
       "\n",
       "[408474 rows x 2 columns]"
      ]
     },
     "execution_count": 35,
     "metadata": {},
     "output_type": "execute_result"
    }
   ],
   "source": [
    "import numpy as np\n",
    "\n",
    "mean_by_cat = (\n",
    "    df_text_features\n",
    "    .join(df_cat_features[\"item\", \"node\"], on=\"item\", how=\"left\")\n",
    "    .to_pandas()\n",
    "    .groupby(\"node\")[\"title_projection\"]\n",
    "    .apply(lambda vs: np.mean(np.stack(vs.values), axis=0).tolist())\n",
    "    .reset_index(name=\"mean_title_projection\")\n",
    ")\n",
    "\n",
    "mean_by_cat"
   ]
  },
  {
   "cell_type": "code",
   "execution_count": 36,
   "metadata": {},
   "outputs": [
    {
     "name": "stderr",
     "output_type": "stream",
     "text": [
      "/var/folders/1v/2njvtrl903s020_gk0tw647c0000gn/T/ipykernel_57945/201831949.py:2: UserWarning: `to_struct()` should be passed a list of field names to avoid query errors in subsequent operations (e.g. <struct operation> not supported for dtype Unknown)\n",
      "  item_features = item_features.with_columns(pl.col(\"mean_title_projection\").list.to_struct()).unnest(\"mean_title_projection\")\n"
     ]
    },
    {
     "data": {
      "text/html": [
       "<div><style>\n",
       ".dataframe > thead > tr,\n",
       ".dataframe > tbody > tr {\n",
       "  text-align: right;\n",
       "  white-space: pre-wrap;\n",
       "}\n",
       "</style>\n",
       "<small>shape: (5, 85)</small><table border=\"1\" class=\"dataframe\"><thead><tr><th>node</th><th>field_0</th><th>field_1</th><th>field_2</th><th>field_3</th><th>field_4</th><th>field_5</th><th>field_6</th><th>field_7</th><th>field_8</th><th>field_9</th><th>field_10</th><th>field_11</th><th>field_12</th><th>field_13</th><th>field_14</th><th>field_15</th><th>field_16</th><th>field_17</th><th>field_18</th><th>field_19</th><th>field_20</th><th>field_21</th><th>field_22</th><th>field_23</th><th>field_24</th><th>field_25</th><th>field_26</th><th>field_27</th><th>field_28</th><th>field_29</th><th>field_30</th><th>field_31</th><th>field_32</th><th>field_33</th><th>field_34</th><th>field_35</th><th>&hellip;</th><th>field_47</th><th>field_48</th><th>field_49</th><th>field_50</th><th>field_51</th><th>field_52</th><th>field_53</th><th>field_54</th><th>field_55</th><th>field_56</th><th>field_57</th><th>field_58</th><th>field_59</th><th>field_60</th><th>field_61</th><th>field_62</th><th>field_63</th><th>attr_704</th><th>attr_2278</th><th>attr_1433</th><th>attr_1897</th><th>attr_1550</th><th>attr_567</th><th>attr_3031</th><th>attr_3392</th><th>attr_3025</th><th>attr_4622</th><th>attr_3911</th><th>attr_2140</th><th>attr_1971</th><th>attr_1092</th><th>attr_3509</th><th>attr_124</th><th>attr_3154</th><th>attr_1598</th><th>attr_3939</th><th>attr_3640</th></tr><tr><td>u32</td><td>f64</td><td>f64</td><td>f64</td><td>f64</td><td>f64</td><td>f64</td><td>f64</td><td>f64</td><td>f64</td><td>f64</td><td>f64</td><td>f64</td><td>f64</td><td>f64</td><td>f64</td><td>f64</td><td>f64</td><td>f64</td><td>f64</td><td>f64</td><td>f64</td><td>f64</td><td>f64</td><td>f64</td><td>f64</td><td>f64</td><td>f64</td><td>f64</td><td>f64</td><td>f64</td><td>f64</td><td>f64</td><td>f64</td><td>f64</td><td>f64</td><td>f64</td><td>&hellip;</td><td>f64</td><td>f64</td><td>f64</td><td>f64</td><td>f64</td><td>f64</td><td>f64</td><td>f64</td><td>f64</td><td>f64</td><td>f64</td><td>f64</td><td>f64</td><td>f64</td><td>f64</td><td>f64</td><td>f64</td><td>f64</td><td>f64</td><td>f64</td><td>f64</td><td>f64</td><td>f64</td><td>f64</td><td>f64</td><td>f64</td><td>f64</td><td>f64</td><td>f64</td><td>f64</td><td>f64</td><td>f64</td><td>f64</td><td>f64</td><td>f64</td><td>f64</td><td>f64</td></tr></thead><tbody><tr><td>1</td><td>-128.0</td><td>127.0</td><td>127.0</td><td>-40.0</td><td>-92.5</td><td>-109.5</td><td>3.5</td><td>-44.0</td><td>106.0</td><td>90.0</td><td>33.0</td><td>7.5</td><td>-72.5</td><td>-49.5</td><td>111.0</td><td>27.0</td><td>23.5</td><td>-98.5</td><td>98.5</td><td>-26.0</td><td>-94.0</td><td>-11.5</td><td>-57.5</td><td>127.0</td><td>-34.0</td><td>5.5</td><td>-103.0</td><td>-30.0</td><td>75.5</td><td>38.0</td><td>3.5</td><td>17.5</td><td>16.5</td><td>-19.5</td><td>-40.0</td><td>9.0</td><td>&hellip;</td><td>-77.5</td><td>-5.0</td><td>-89.0</td><td>44.0</td><td>-60.0</td><td>74.0</td><td>-63.0</td><td>50.0</td><td>-125.5</td><td>55.0</td><td>-23.0</td><td>-41.0</td><td>5.0</td><td>114.5</td><td>122.0</td><td>66.0</td><td>23.5</td><td>0.0</td><td>0.0</td><td>0.0</td><td>0.0</td><td>0.0</td><td>0.0</td><td>0.0</td><td>0.0</td><td>0.0</td><td>0.0</td><td>0.0</td><td>0.0</td><td>0.0</td><td>0.0</td><td>0.0</td><td>0.0</td><td>0.0</td><td>0.0</td><td>0.0</td><td>0.0</td></tr><tr><td>2</td><td>-128.0</td><td>91.0</td><td>127.0</td><td>-19.0</td><td>-72.0</td><td>-128.0</td><td>11.0</td><td>-128.0</td><td>127.0</td><td>127.0</td><td>9.0</td><td>21.0</td><td>-128.0</td><td>-123.0</td><td>127.0</td><td>-3.0</td><td>9.0</td><td>-86.0</td><td>78.0</td><td>-79.0</td><td>-89.0</td><td>-59.0</td><td>-8.0</td><td>127.0</td><td>17.0</td><td>-51.0</td><td>-128.0</td><td>-108.0</td><td>127.0</td><td>-33.0</td><td>-23.0</td><td>24.0</td><td>-31.0</td><td>21.0</td><td>-123.0</td><td>-97.0</td><td>&hellip;</td><td>-28.0</td><td>-93.0</td><td>-53.0</td><td>44.0</td><td>-20.0</td><td>84.0</td><td>-45.0</td><td>97.0</td><td>-128.0</td><td>116.0</td><td>-4.0</td><td>-74.0</td><td>60.0</td><td>127.0</td><td>127.0</td><td>18.0</td><td>-5.0</td><td>0.0</td><td>0.0</td><td>0.0</td><td>0.0</td><td>0.0</td><td>0.0</td><td>0.0</td><td>0.0</td><td>0.0</td><td>0.0</td><td>0.0</td><td>0.0</td><td>0.0</td><td>0.0</td><td>0.0</td><td>0.0</td><td>0.0</td><td>0.0</td><td>0.0</td><td>0.0</td></tr><tr><td>3</td><td>-128.0</td><td>-30.0</td><td>127.0</td><td>-119.0</td><td>-117.0</td><td>-128.0</td><td>-73.0</td><td>-16.0</td><td>127.0</td><td>100.0</td><td>81.0</td><td>117.0</td><td>-15.0</td><td>-128.0</td><td>112.0</td><td>9.0</td><td>36.0</td><td>-128.0</td><td>127.0</td><td>-128.0</td><td>-97.0</td><td>80.0</td><td>-38.0</td><td>127.0</td><td>120.0</td><td>38.0</td><td>-128.0</td><td>-74.0</td><td>124.0</td><td>-40.0</td><td>59.0</td><td>-25.0</td><td>-39.0</td><td>66.0</td><td>-128.0</td><td>-114.0</td><td>&hellip;</td><td>-59.0</td><td>71.0</td><td>-10.0</td><td>48.0</td><td>41.0</td><td>89.0</td><td>-6.0</td><td>69.0</td><td>-56.0</td><td>127.0</td><td>-89.0</td><td>-97.0</td><td>7.0</td><td>92.0</td><td>25.0</td><td>-14.0</td><td>36.0</td><td>0.0</td><td>0.0</td><td>0.0</td><td>0.0</td><td>0.0</td><td>0.0</td><td>0.0</td><td>0.0</td><td>0.0</td><td>0.0</td><td>0.0</td><td>0.0</td><td>0.0</td><td>0.0</td><td>0.0</td><td>0.0</td><td>0.0</td><td>0.0</td><td>0.0</td><td>0.0</td></tr><tr><td>4</td><td>-128.0</td><td>122.0</td><td>127.0</td><td>-128.0</td><td>-86.0</td><td>-128.0</td><td>-128.0</td><td>-36.0</td><td>127.0</td><td>-13.0</td><td>112.0</td><td>-21.0</td><td>77.0</td><td>-54.0</td><td>75.0</td><td>115.0</td><td>39.0</td><td>-61.0</td><td>36.0</td><td>-98.0</td><td>-25.0</td><td>87.0</td><td>7.0</td><td>127.0</td><td>-6.0</td><td>50.0</td><td>-128.0</td><td>-128.0</td><td>104.0</td><td>-128.0</td><td>-43.0</td><td>-96.0</td><td>-43.0</td><td>44.0</td><td>-128.0</td><td>-128.0</td><td>&hellip;</td><td>-18.0</td><td>115.0</td><td>23.0</td><td>123.0</td><td>-45.0</td><td>127.0</td><td>-36.0</td><td>127.0</td><td>15.0</td><td>127.0</td><td>-34.0</td><td>-95.0</td><td>36.0</td><td>117.0</td><td>41.0</td><td>49.0</td><td>9.0</td><td>0.0</td><td>0.0</td><td>0.0</td><td>0.0</td><td>0.0</td><td>0.0</td><td>0.0</td><td>0.0</td><td>0.0</td><td>0.0</td><td>0.0</td><td>0.0</td><td>0.0</td><td>0.0</td><td>0.0</td><td>0.0</td><td>0.0</td><td>0.0</td><td>0.0</td><td>0.0</td></tr><tr><td>5</td><td>-128.0</td><td>42.0</td><td>127.0</td><td>-128.0</td><td>-80.0</td><td>-128.0</td><td>-128.0</td><td>-18.0</td><td>112.0</td><td>-17.0</td><td>127.0</td><td>-65.0</td><td>120.0</td><td>-68.0</td><td>52.0</td><td>79.0</td><td>52.0</td><td>-76.0</td><td>59.0</td><td>-114.0</td><td>-64.0</td><td>82.0</td><td>73.0</td><td>127.0</td><td>-3.0</td><td>85.0</td><td>-128.0</td><td>-105.0</td><td>26.0</td><td>-128.0</td><td>-35.0</td><td>45.0</td><td>35.0</td><td>31.0</td><td>-65.0</td><td>-107.0</td><td>&hellip;</td><td>-16.0</td><td>127.0</td><td>-36.0</td><td>66.0</td><td>-48.0</td><td>127.0</td><td>-47.0</td><td>106.0</td><td>-14.0</td><td>127.0</td><td>-63.0</td><td>48.0</td><td>32.0</td><td>81.0</td><td>-15.0</td><td>80.0</td><td>-31.0</td><td>0.0</td><td>0.0</td><td>0.0</td><td>0.0</td><td>0.0</td><td>0.0</td><td>0.0</td><td>0.0</td><td>0.0</td><td>0.0</td><td>0.0</td><td>0.0</td><td>0.0</td><td>0.0</td><td>0.0</td><td>0.0</td><td>0.0</td><td>0.0</td><td>0.0</td><td>0.0</td></tr></tbody></table></div>"
      ],
      "text/plain": [
       "shape: (5, 85)\n",
       "┌──────┬─────────┬─────────┬─────────┬───┬───────────┬───────────┬───────────┬───────────┐\n",
       "│ node ┆ field_0 ┆ field_1 ┆ field_2 ┆ … ┆ attr_3154 ┆ attr_1598 ┆ attr_3939 ┆ attr_3640 │\n",
       "│ ---  ┆ ---     ┆ ---     ┆ ---     ┆   ┆ ---       ┆ ---       ┆ ---       ┆ ---       │\n",
       "│ u32  ┆ f64     ┆ f64     ┆ f64     ┆   ┆ f64       ┆ f64       ┆ f64       ┆ f64       │\n",
       "╞══════╪═════════╪═════════╪═════════╪═══╪═══════════╪═══════════╪═══════════╪═══════════╡\n",
       "│ 1    ┆ -128.0  ┆ 127.0   ┆ 127.0   ┆ … ┆ 0.0       ┆ 0.0       ┆ 0.0       ┆ 0.0       │\n",
       "│ 2    ┆ -128.0  ┆ 91.0    ┆ 127.0   ┆ … ┆ 0.0       ┆ 0.0       ┆ 0.0       ┆ 0.0       │\n",
       "│ 3    ┆ -128.0  ┆ -30.0   ┆ 127.0   ┆ … ┆ 0.0       ┆ 0.0       ┆ 0.0       ┆ 0.0       │\n",
       "│ 4    ┆ -128.0  ┆ 122.0   ┆ 127.0   ┆ … ┆ 0.0       ┆ 0.0       ┆ 0.0       ┆ 0.0       │\n",
       "│ 5    ┆ -128.0  ┆ 42.0    ┆ 127.0   ┆ … ┆ 0.0       ┆ 0.0       ┆ 0.0       ┆ 0.0       │\n",
       "└──────┴─────────┴─────────┴─────────┴───┴───────────┴───────────┴───────────┴───────────┘"
      ]
     },
     "execution_count": 36,
     "metadata": {},
     "output_type": "execute_result"
    }
   ],
   "source": [
    "item_features = pl.DataFrame(mean_by_cat)\n",
    "item_features = item_features.with_columns(pl.col(\"mean_title_projection\").list.to_struct()).unnest(\"mean_title_projection\")\n",
    "\n",
    "item_features = item_features.join(addit_features, how=\"left\", on=\"node\")\n",
    "\n",
    "item_features = item_features.rename({\"node\": \"id\"})\n",
    "unmelted_item_features = (\n",
    "    item_features.unpivot(index=\"id\", on=[x for x in item_features.columns if x != 'id'])\n",
    ")\n",
    "unmelted_item_features = unmelted_item_features.rename({\"variable\": \"feature\"})\n",
    "item_features = item_features.rename({\"id\": \"node\"})\n",
    "item_features.head()"
   ]
  },
  {
   "cell_type": "code",
   "execution_count": 44,
   "metadata": {},
   "outputs": [
    {
     "ename": "KeyError",
     "evalue": "\"None of [Index(['cookie', 'node', 'event_date'], dtype='object')] are in the [columns]\"",
     "output_type": "error",
     "traceback": [
      "\u001b[31m---------------------------------------------------------------------------\u001b[39m",
      "\u001b[31mKeyError\u001b[39m                                  Traceback (most recent call last)",
      "\u001b[36mCell\u001b[39m\u001b[36m \u001b[39m\u001b[32mIn[44]\u001b[39m\u001b[32m, line 12\u001b[39m\n\u001b[32m      1\u001b[39m \u001b[38;5;28;01mdef\u001b[39;00m\u001b[38;5;250m \u001b[39m\u001b[34mdataframe2rectools\u001b[39m(df):\n\u001b[32m      2\u001b[39m     \u001b[38;5;28;01mreturn\u001b[39;00m (\n\u001b[32m      3\u001b[39m         df[[\u001b[33m\"\u001b[39m\u001b[33mcookie\u001b[39m\u001b[33m\"\u001b[39m, \u001b[33m\"\u001b[39m\u001b[33mnode\u001b[39m\u001b[33m\"\u001b[39m, \u001b[33m\"\u001b[39m\u001b[33mevent_date\u001b[39m\u001b[33m\"\u001b[39m]]\n\u001b[32m      4\u001b[39m         .with_columns(pl.lit(\u001b[32m1\u001b[39m).alias(\u001b[33m'\u001b[39m\u001b[33mweight\u001b[39m\u001b[33m'\u001b[39m))\n\u001b[32m   (...)\u001b[39m\u001b[32m     10\u001b[39m         })\n\u001b[32m     11\u001b[39m     ).to_pandas()\n\u001b[32m---> \u001b[39m\u001b[32m12\u001b[39m df_train = \u001b[43mdataframe2rectools\u001b[49m\u001b[43m(\u001b[49m\u001b[43mdf_train\u001b[49m\u001b[43m)\u001b[49m\n",
      "\u001b[36mCell\u001b[39m\u001b[36m \u001b[39m\u001b[32mIn[44]\u001b[39m\u001b[32m, line 3\u001b[39m, in \u001b[36mdataframe2rectools\u001b[39m\u001b[34m(df)\u001b[39m\n\u001b[32m      1\u001b[39m \u001b[38;5;28;01mdef\u001b[39;00m\u001b[38;5;250m \u001b[39m\u001b[34mdataframe2rectools\u001b[39m(df):\n\u001b[32m      2\u001b[39m     \u001b[38;5;28;01mreturn\u001b[39;00m (\n\u001b[32m----> \u001b[39m\u001b[32m3\u001b[39m         \u001b[43mdf\u001b[49m\u001b[43m[\u001b[49m\u001b[43m[\u001b[49m\u001b[33;43m\"\u001b[39;49m\u001b[33;43mcookie\u001b[39;49m\u001b[33;43m\"\u001b[39;49m\u001b[43m,\u001b[49m\u001b[43m \u001b[49m\u001b[33;43m\"\u001b[39;49m\u001b[33;43mnode\u001b[39;49m\u001b[33;43m\"\u001b[39;49m\u001b[43m,\u001b[49m\u001b[43m \u001b[49m\u001b[33;43m\"\u001b[39;49m\u001b[33;43mevent_date\u001b[39;49m\u001b[33;43m\"\u001b[39;49m\u001b[43m]\u001b[49m\u001b[43m]\u001b[49m\n\u001b[32m      4\u001b[39m         .with_columns(pl.lit(\u001b[32m1\u001b[39m).alias(\u001b[33m'\u001b[39m\u001b[33mweight\u001b[39m\u001b[33m'\u001b[39m))\n\u001b[32m      5\u001b[39m         .rename({\n\u001b[32m      6\u001b[39m             \u001b[33m\"\u001b[39m\u001b[33mcookie\u001b[39m\u001b[33m\"\u001b[39m: Columns.User,\n\u001b[32m      7\u001b[39m             \u001b[33m\"\u001b[39m\u001b[33mnode\u001b[39m\u001b[33m\"\u001b[39m: Columns.Item,\n\u001b[32m      8\u001b[39m             \u001b[33m\"\u001b[39m\u001b[33mweight\u001b[39m\u001b[33m\"\u001b[39m: Columns.Weight,\n\u001b[32m      9\u001b[39m             \u001b[33m\"\u001b[39m\u001b[33mevent_date\u001b[39m\u001b[33m\"\u001b[39m: Columns.Datetime,\n\u001b[32m     10\u001b[39m         })\n\u001b[32m     11\u001b[39m     ).to_pandas()\n",
      "\u001b[36mFile \u001b[39m\u001b[32m/opt/anaconda3/envs/recsys/lib/python3.11/site-packages/pandas/core/frame.py:4108\u001b[39m, in \u001b[36mDataFrame.__getitem__\u001b[39m\u001b[34m(self, key)\u001b[39m\n\u001b[32m   4106\u001b[39m     \u001b[38;5;28;01mif\u001b[39;00m is_iterator(key):\n\u001b[32m   4107\u001b[39m         key = \u001b[38;5;28mlist\u001b[39m(key)\n\u001b[32m-> \u001b[39m\u001b[32m4108\u001b[39m     indexer = \u001b[38;5;28;43mself\u001b[39;49m\u001b[43m.\u001b[49m\u001b[43mcolumns\u001b[49m\u001b[43m.\u001b[49m\u001b[43m_get_indexer_strict\u001b[49m\u001b[43m(\u001b[49m\u001b[43mkey\u001b[49m\u001b[43m,\u001b[49m\u001b[43m \u001b[49m\u001b[33;43m\"\u001b[39;49m\u001b[33;43mcolumns\u001b[39;49m\u001b[33;43m\"\u001b[39;49m\u001b[43m)\u001b[49m[\u001b[32m1\u001b[39m]\n\u001b[32m   4110\u001b[39m \u001b[38;5;66;03m# take() does not accept boolean indexers\u001b[39;00m\n\u001b[32m   4111\u001b[39m \u001b[38;5;28;01mif\u001b[39;00m \u001b[38;5;28mgetattr\u001b[39m(indexer, \u001b[33m\"\u001b[39m\u001b[33mdtype\u001b[39m\u001b[33m\"\u001b[39m, \u001b[38;5;28;01mNone\u001b[39;00m) == \u001b[38;5;28mbool\u001b[39m:\n",
      "\u001b[36mFile \u001b[39m\u001b[32m/opt/anaconda3/envs/recsys/lib/python3.11/site-packages/pandas/core/indexes/base.py:6200\u001b[39m, in \u001b[36mIndex._get_indexer_strict\u001b[39m\u001b[34m(self, key, axis_name)\u001b[39m\n\u001b[32m   6197\u001b[39m \u001b[38;5;28;01melse\u001b[39;00m:\n\u001b[32m   6198\u001b[39m     keyarr, indexer, new_indexer = \u001b[38;5;28mself\u001b[39m._reindex_non_unique(keyarr)\n\u001b[32m-> \u001b[39m\u001b[32m6200\u001b[39m \u001b[38;5;28;43mself\u001b[39;49m\u001b[43m.\u001b[49m\u001b[43m_raise_if_missing\u001b[49m\u001b[43m(\u001b[49m\u001b[43mkeyarr\u001b[49m\u001b[43m,\u001b[49m\u001b[43m \u001b[49m\u001b[43mindexer\u001b[49m\u001b[43m,\u001b[49m\u001b[43m \u001b[49m\u001b[43maxis_name\u001b[49m\u001b[43m)\u001b[49m\n\u001b[32m   6202\u001b[39m keyarr = \u001b[38;5;28mself\u001b[39m.take(indexer)\n\u001b[32m   6203\u001b[39m \u001b[38;5;28;01mif\u001b[39;00m \u001b[38;5;28misinstance\u001b[39m(key, Index):\n\u001b[32m   6204\u001b[39m     \u001b[38;5;66;03m# GH 42790 - Preserve name from an Index\u001b[39;00m\n",
      "\u001b[36mFile \u001b[39m\u001b[32m/opt/anaconda3/envs/recsys/lib/python3.11/site-packages/pandas/core/indexes/base.py:6249\u001b[39m, in \u001b[36mIndex._raise_if_missing\u001b[39m\u001b[34m(self, key, indexer, axis_name)\u001b[39m\n\u001b[32m   6247\u001b[39m \u001b[38;5;28;01mif\u001b[39;00m nmissing:\n\u001b[32m   6248\u001b[39m     \u001b[38;5;28;01mif\u001b[39;00m nmissing == \u001b[38;5;28mlen\u001b[39m(indexer):\n\u001b[32m-> \u001b[39m\u001b[32m6249\u001b[39m         \u001b[38;5;28;01mraise\u001b[39;00m \u001b[38;5;167;01mKeyError\u001b[39;00m(\u001b[33mf\u001b[39m\u001b[33m\"\u001b[39m\u001b[33mNone of [\u001b[39m\u001b[38;5;132;01m{\u001b[39;00mkey\u001b[38;5;132;01m}\u001b[39;00m\u001b[33m] are in the [\u001b[39m\u001b[38;5;132;01m{\u001b[39;00maxis_name\u001b[38;5;132;01m}\u001b[39;00m\u001b[33m]\u001b[39m\u001b[33m\"\u001b[39m)\n\u001b[32m   6251\u001b[39m     not_found = \u001b[38;5;28mlist\u001b[39m(ensure_index(key)[missing_mask.nonzero()[\u001b[32m0\u001b[39m]].unique())\n\u001b[32m   6252\u001b[39m     \u001b[38;5;28;01mraise\u001b[39;00m \u001b[38;5;167;01mKeyError\u001b[39;00m(\u001b[33mf\u001b[39m\u001b[33m\"\u001b[39m\u001b[38;5;132;01m{\u001b[39;00mnot_found\u001b[38;5;132;01m}\u001b[39;00m\u001b[33m not in index\u001b[39m\u001b[33m\"\u001b[39m)\n",
      "\u001b[31mKeyError\u001b[39m: \"None of [Index(['cookie', 'node', 'event_date'], dtype='object')] are in the [columns]\""
     ]
    }
   ],
   "source": [
    "def dataframe2rectools(df):\n",
    "    return (\n",
    "        df[[\"cookie\", \"node\", \"event_date\"]]\n",
    "        .with_columns(pl.lit(1).alias('weight'))\n",
    "        .rename({\n",
    "            \"cookie\": Columns.User,\n",
    "            \"node\": Columns.Item,\n",
    "            \"weight\": Columns.Weight,\n",
    "            \"event_date\": Columns.Datetime,\n",
    "        })\n",
    "    ).to_pandas()\n",
    "df_train = dataframe2rectools(df_train)"
   ]
  },
  {
   "cell_type": "code",
   "execution_count": null,
   "metadata": {},
   "outputs": [],
   "source": []
  },
  {
   "cell_type": "code",
   "execution_count": 38,
   "metadata": {},
   "outputs": [],
   "source": [
    "df_final = dataframe2rectools(df_clickstream[[\"cookie\", \"node\", \"event_date\"]])\n",
    "\n",
    "# df_eval = df_eval.with_columns(pl.lit(1).alias(\"event_date\"))\n",
    "# df_eval = dataframe2rectools(df_eval)"
   ]
  },
  {
   "cell_type": "code",
   "execution_count": 39,
   "metadata": {},
   "outputs": [
    {
     "data": {
      "text/html": [
       "<div>\n",
       "<style scoped>\n",
       "    .dataframe tbody tr th:only-of-type {\n",
       "        vertical-align: middle;\n",
       "    }\n",
       "\n",
       "    .dataframe tbody tr th {\n",
       "        vertical-align: top;\n",
       "    }\n",
       "\n",
       "    .dataframe thead th {\n",
       "        text-align: right;\n",
       "    }\n",
       "</style>\n",
       "<table border=\"1\" class=\"dataframe\">\n",
       "  <thead>\n",
       "    <tr style=\"text-align: right;\">\n",
       "      <th></th>\n",
       "      <th>user_id</th>\n",
       "      <th>item_id</th>\n",
       "      <th>datetime</th>\n",
       "      <th>weight</th>\n",
       "    </tr>\n",
       "  </thead>\n",
       "  <tbody>\n",
       "    <tr>\n",
       "      <th>0</th>\n",
       "      <td>0</td>\n",
       "      <td>115659</td>\n",
       "      <td>2025-02-05 02:30:59</td>\n",
       "      <td>1</td>\n",
       "    </tr>\n",
       "    <tr>\n",
       "      <th>1</th>\n",
       "      <td>0</td>\n",
       "      <td>115829</td>\n",
       "      <td>2025-01-24 21:16:57</td>\n",
       "      <td>1</td>\n",
       "    </tr>\n",
       "    <tr>\n",
       "      <th>2</th>\n",
       "      <td>1</td>\n",
       "      <td>7</td>\n",
       "      <td>2025-01-29 23:00:58</td>\n",
       "      <td>1</td>\n",
       "    </tr>\n",
       "    <tr>\n",
       "      <th>3</th>\n",
       "      <td>1</td>\n",
       "      <td>7</td>\n",
       "      <td>2025-02-17 14:55:17</td>\n",
       "      <td>1</td>\n",
       "    </tr>\n",
       "    <tr>\n",
       "      <th>4</th>\n",
       "      <td>1</td>\n",
       "      <td>214458</td>\n",
       "      <td>2025-01-17 19:23:29</td>\n",
       "      <td>1</td>\n",
       "    </tr>\n",
       "    <tr>\n",
       "      <th>...</th>\n",
       "      <td>...</td>\n",
       "      <td>...</td>\n",
       "      <td>...</td>\n",
       "      <td>...</td>\n",
       "    </tr>\n",
       "    <tr>\n",
       "      <th>68806147</th>\n",
       "      <td>149999</td>\n",
       "      <td>71511</td>\n",
       "      <td>2025-01-20 12:23:47</td>\n",
       "      <td>1</td>\n",
       "    </tr>\n",
       "    <tr>\n",
       "      <th>68806148</th>\n",
       "      <td>149999</td>\n",
       "      <td>71514</td>\n",
       "      <td>2025-01-24 14:26:57</td>\n",
       "      <td>1</td>\n",
       "    </tr>\n",
       "    <tr>\n",
       "      <th>68806149</th>\n",
       "      <td>149999</td>\n",
       "      <td>51162</td>\n",
       "      <td>2025-02-12 13:11:42</td>\n",
       "      <td>1</td>\n",
       "    </tr>\n",
       "    <tr>\n",
       "      <th>68806150</th>\n",
       "      <td>149999</td>\n",
       "      <td>71511</td>\n",
       "      <td>2025-02-16 12:35:35</td>\n",
       "      <td>1</td>\n",
       "    </tr>\n",
       "    <tr>\n",
       "      <th>68806151</th>\n",
       "      <td>149999</td>\n",
       "      <td>71524</td>\n",
       "      <td>2025-02-10 13:07:17</td>\n",
       "      <td>1</td>\n",
       "    </tr>\n",
       "  </tbody>\n",
       "</table>\n",
       "<p>68806152 rows × 4 columns</p>\n",
       "</div>"
      ],
      "text/plain": [
       "          user_id  item_id            datetime  weight\n",
       "0               0   115659 2025-02-05 02:30:59       1\n",
       "1               0   115829 2025-01-24 21:16:57       1\n",
       "2               1        7 2025-01-29 23:00:58       1\n",
       "3               1        7 2025-02-17 14:55:17       1\n",
       "4               1   214458 2025-01-17 19:23:29       1\n",
       "...           ...      ...                 ...     ...\n",
       "68806147   149999    71511 2025-01-20 12:23:47       1\n",
       "68806148   149999    71514 2025-01-24 14:26:57       1\n",
       "68806149   149999    51162 2025-02-12 13:11:42       1\n",
       "68806150   149999    71511 2025-02-16 12:35:35       1\n",
       "68806151   149999    71524 2025-02-10 13:07:17       1\n",
       "\n",
       "[68806152 rows x 4 columns]"
      ]
     },
     "execution_count": 39,
     "metadata": {},
     "output_type": "execute_result"
    }
   ],
   "source": [
    "df_final"
   ]
  },
  {
   "cell_type": "code",
   "execution_count": 40,
   "metadata": {},
   "outputs": [],
   "source": [
    "candidates = pl.read_csv('data/test_hybrid_stage_candidates_ALS_200.csv')\n",
    "candidates = candidates.to_pandas()"
   ]
  },
  {
   "cell_type": "code",
   "execution_count": 41,
   "metadata": {},
   "outputs": [],
   "source": [
    "# candidates = candidates.to_pandas()\n",
    "candidates['rank'] = candidates.groupby('cookie').cumcount() + 1 \n",
    "\n",
    "item_features = item_features.to_pandas()\n",
    "user_col = ['cookie']\n",
    "item_col = item_features.columns\n",
    "final_feat = (\n",
    "    candidates\n",
    "    # .merge(\n",
    "    #     users[user_col],\n",
    "    #     on=['user_id'],\n",
    "    #     how='left')\n",
    "    .merge(\n",
    "        item_features[item_col],\n",
    "        on=['node'],\n",
    "        how='left')\n",
    ")\n",
    "X_final = final_feat.drop(drop_col, axis=1)"
   ]
  },
  {
   "cell_type": "code",
   "execution_count": 42,
   "metadata": {},
   "outputs": [],
   "source": [
    "y_pred = ctb_model.predict_proba(X_final)"
   ]
  },
  {
   "cell_type": "code",
   "execution_count": 43,
   "metadata": {},
   "outputs": [
    {
     "data": {
      "text/html": [
       "<div><style>\n",
       ".dataframe > thead > tr,\n",
       ".dataframe > tbody > tr {\n",
       "  text-align: right;\n",
       "  white-space: pre-wrap;\n",
       "}\n",
       "</style>\n",
       "<small>shape: (92_319, 1)</small><table border=\"1\" class=\"dataframe\"><thead><tr><th>cookie</th></tr><tr><td>i64</td></tr></thead><tbody><tr><td>52564</td></tr><tr><td>105000</td></tr><tr><td>57152</td></tr><tr><td>87303</td></tr><tr><td>37755</td></tr><tr><td>&hellip;</td></tr><tr><td>78910</td></tr><tr><td>64750</td></tr><tr><td>118889</td></tr><tr><td>131</td></tr><tr><td>37487</td></tr></tbody></table></div>"
      ],
      "text/plain": [
       "shape: (92_319, 1)\n",
       "┌────────┐\n",
       "│ cookie │\n",
       "│ ---    │\n",
       "│ i64    │\n",
       "╞════════╡\n",
       "│ 52564  │\n",
       "│ 105000 │\n",
       "│ 57152  │\n",
       "│ 87303  │\n",
       "│ 37755  │\n",
       "│ …      │\n",
       "│ 78910  │\n",
       "│ 64750  │\n",
       "│ 118889 │\n",
       "│ 131    │\n",
       "│ 37487  │\n",
       "└────────┘"
      ]
     },
     "execution_count": 43,
     "metadata": {},
     "output_type": "execute_result"
    }
   ],
   "source": [
    "df_test_users"
   ]
  },
  {
   "cell_type": "code",
   "execution_count": 45,
   "metadata": {},
   "outputs": [],
   "source": [
    "final_feat[\"score\"] = y_pred[:, 1]"
   ]
  },
  {
   "cell_type": "code",
   "execution_count": null,
   "metadata": {},
   "outputs": [],
   "source": [
    "del X_final\n",
    "del candidates\n",
    "del item_features"
   ]
  },
  {
   "cell_type": "code",
   "execution_count": 46,
   "metadata": {},
   "outputs": [],
   "source": [
    "res = final_feat.sort_values(by=[\"cookie\", \"score\"], ascending=[True, False]).groupby(\"cookie\").head(40)"
   ]
  },
  {
   "cell_type": "code",
   "execution_count": 47,
   "metadata": {},
   "outputs": [],
   "source": [
    "res = res[[\"cookie\", \"node\"]].drop_duplicates()"
   ]
  },
  {
   "cell_type": "code",
   "execution_count": 48,
   "metadata": {},
   "outputs": [],
   "source": [
    "res = pl.DataFrame(res)"
   ]
  },
  {
   "cell_type": "code",
   "execution_count": 49,
   "metadata": {},
   "outputs": [],
   "source": [
    "addit = df_test_users.filter(pl.col(\"cookie\").is_in(res[\"cookie\"]) == False).with_columns(pl.lit(1).cast(pl.Int64).alias('node'))"
   ]
  },
  {
   "cell_type": "code",
   "execution_count": 51,
   "metadata": {},
   "outputs": [
    {
     "data": {
      "text/html": [
       "<div><style>\n",
       ".dataframe > thead > tr,\n",
       ".dataframe > tbody > tr {\n",
       "  text-align: right;\n",
       "  white-space: pre-wrap;\n",
       "}\n",
       "</style>\n",
       "<small>shape: (0, 2)</small><table border=\"1\" class=\"dataframe\"><thead><tr><th>cookie</th><th>node</th></tr><tr><td>i64</td><td>i64</td></tr></thead><tbody></tbody></table></div>"
      ],
      "text/plain": [
       "shape: (0, 2)\n",
       "┌────────┬──────┐\n",
       "│ cookie ┆ node │\n",
       "│ ---    ┆ ---  │\n",
       "│ i64    ┆ i64  │\n",
       "╞════════╪══════╡\n",
       "└────────┴──────┘"
      ]
     },
     "execution_count": 51,
     "metadata": {},
     "output_type": "execute_result"
    }
   ],
   "source": [
    "addit"
   ]
  },
  {
   "cell_type": "code",
   "execution_count": 52,
   "metadata": {},
   "outputs": [
    {
     "data": {
      "text/html": [
       "<div><style>\n",
       ".dataframe > thead > tr,\n",
       ".dataframe > tbody > tr {\n",
       "  text-align: right;\n",
       "  white-space: pre-wrap;\n",
       "}\n",
       "</style>\n",
       "<small>shape: (3_692_760, 2)</small><table border=\"1\" class=\"dataframe\"><thead><tr><th>cookie</th><th>node</th></tr><tr><td>i64</td><td>i64</td></tr></thead><tbody><tr><td>96479</td><td>199971</td></tr><tr><td>96479</td><td>201038</td></tr><tr><td>96479</td><td>1922</td></tr><tr><td>96479</td><td>200005</td></tr><tr><td>96479</td><td>214241</td></tr><tr><td>&hellip;</td><td>&hellip;</td></tr><tr><td>145744</td><td>196156</td></tr><tr><td>145744</td><td>279316</td></tr><tr><td>145744</td><td>199422</td></tr><tr><td>145744</td><td>195969</td></tr><tr><td>145744</td><td>303215</td></tr></tbody></table></div>"
      ],
      "text/plain": [
       "shape: (3_692_760, 2)\n",
       "┌────────┬────────┐\n",
       "│ cookie ┆ node   │\n",
       "│ ---    ┆ ---    │\n",
       "│ i64    ┆ i64    │\n",
       "╞════════╪════════╡\n",
       "│ 96479  ┆ 199971 │\n",
       "│ 96479  ┆ 201038 │\n",
       "│ 96479  ┆ 1922   │\n",
       "│ 96479  ┆ 200005 │\n",
       "│ 96479  ┆ 214241 │\n",
       "│ …      ┆ …      │\n",
       "│ 145744 ┆ 196156 │\n",
       "│ 145744 ┆ 279316 │\n",
       "│ 145744 ┆ 199422 │\n",
       "│ 145744 ┆ 195969 │\n",
       "│ 145744 ┆ 303215 │\n",
       "└────────┴────────┘"
      ]
     },
     "execution_count": 52,
     "metadata": {},
     "output_type": "execute_result"
    }
   ],
   "source": [
    "pl.concat([res, addit]).group_by(\"cookie\").head(40)[\"cookie\",\"node\"]"
   ]
  },
  {
   "cell_type": "code",
   "execution_count": 53,
   "metadata": {},
   "outputs": [],
   "source": [
    "pl.concat([res, addit]).group_by(\"cookie\").head(40)[\"cookie\",\"node\"].write_csv('results/prediction_hybrid_good.csv')"
   ]
  },
  {
   "cell_type": "code",
   "execution_count": null,
   "metadata": {},
   "outputs": [],
   "source": []
  }
 ],
 "metadata": {
  "kernelspec": {
   "display_name": "recsys",
   "language": "python",
   "name": "python3"
  },
  "language_info": {
   "codemirror_mode": {
    "name": "ipython",
    "version": 3
   },
   "file_extension": ".py",
   "mimetype": "text/x-python",
   "name": "python",
   "nbconvert_exporter": "python",
   "pygments_lexer": "ipython3",
   "version": "3.11.11"
  }
 },
 "nbformat": 4,
 "nbformat_minor": 2
}
