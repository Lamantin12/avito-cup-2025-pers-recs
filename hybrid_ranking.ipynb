{
 "cells": [
  {
   "cell_type": "code",
   "execution_count": 1,
   "metadata": {},
   "outputs": [
    {
     "name": "stderr",
     "output_type": "stream",
     "text": [
      "/opt/anaconda3/envs/recsys/lib/python3.11/site-packages/lightfm/_lightfm_fast.py:9: UserWarning: LightFM was compiled without OpenMP support. Only a single thread will be used.\n",
      "  warnings.warn(\n"
     ]
    }
   ],
   "source": [
    "from datetime import timedelta\n",
    "import numpy as np\n",
    "import polars as pl\n",
    "import pandas as pd\n",
    "import implicit\n",
    "\n",
    "from tools import load_data_actions, generate_lightfm_recs_mapper\n",
    "from tqdm import tqdm\n",
    "\n",
    "from lightfm.data import Dataset\n",
    "from lightfm import LightFM\n",
    "\n",
    "from rectools import Columns\n",
    "from rectools.dataset import Dataset as RTDataset\n",
    "from rectools.models import (\n",
    "    ImplicitALSWrapperModel,\n",
    "    ImplicitBPRWrapperModel,\n",
    "    LightFMWrapperModel,\n",
    "    PureSVDModel,\n",
    "    ImplicitItemKNNWrapperModel,\n",
    "    EASEModel\n",
    ")\n",
    "\n",
    "from sklearn.model_selection import train_test_split\n",
    "from sklearn.utils import shuffle\n",
    "from sklearn.metrics import roc_auc_score"
   ]
  },
  {
   "cell_type": "code",
   "execution_count": 2,
   "metadata": {},
   "outputs": [],
   "source": [
    "def dataframe2rectools(df):\n",
    "    return (\n",
    "        df[[\"cookie\", \"node\", \"event_date\"]]\n",
    "        .with_columns(pl.lit(1).alias('weight'))\n",
    "        .rename({\n",
    "            \"cookie\": Columns.User,\n",
    "            \"node\": Columns.Item,\n",
    "            \"weight\": Columns.Weight,\n",
    "            \"event_date\": Columns.Datetime,\n",
    "        })\n",
    "    ).to_pandas()"
   ]
  },
  {
   "cell_type": "code",
   "execution_count": 3,
   "metadata": {},
   "outputs": [
    {
     "name": "stderr",
     "output_type": "stream",
     "text": [
      "/var/folders/1v/2njvtrl903s020_gk0tw647c0000gn/T/ipykernel_24092/3680953557.py:31: UserWarning: `to_struct()` should be passed a list of field names to avoid query errors in subsequent operations (e.g. <struct operation> not supported for dtype Unknown)\n",
      "  item_features = item_features.with_columns(pl.col(\"mean_title_projection\").list.to_struct()).unnest(\"mean_title_projection\")\n"
     ]
    }
   ],
   "source": [
    "SEED = 42\n",
    "top_N = 40\n",
    "DATA_DIR = 'data/'\n",
    "\n",
    "df_test_users = pl.read_parquet(f'{DATA_DIR}/test_users.pq')\n",
    "df_clickstream = pl.read_parquet(f'{DATA_DIR}/clickstream.pq')\n",
    "\n",
    "df_cat_features = pl.read_parquet(f'{DATA_DIR}/cat_features_preproc_20.pq')\n",
    "df_text_features = pl.read_parquet(f'{DATA_DIR}/text_features.pq')\n",
    "df_event = pl.read_parquet(f'{DATA_DIR}/events.pq')\n",
    "\n",
    "df_train, df_eval = load_data_actions(df_clickstream, df_event)\n",
    "\n",
    "mean_by_cat = (\n",
    "    df_text_features\n",
    "    .join(df_cat_features[\"item\", \"node\"], on=\"item\", how=\"left\")\n",
    "    .to_pandas()\n",
    "    .groupby(\"node\")[\"title_projection\"]\n",
    "    .apply(lambda vs: np.mean(np.stack(vs.values), axis=0).tolist())\n",
    "    .reset_index(name=\"mean_title_projection\")\n",
    ")\n",
    "\n",
    "addit_features = pl.read_parquet(DATA_DIR+\"cat_features_preproc_20.pq\")\n",
    "atr_cols = [i for i in addit_features.columns if \"attr\" in i]\n",
    "addit_features = (\n",
    "    addit_features.group_by(\"node\")\n",
    "    .agg([pl.col(atr).mean() for atr in atr_cols])\n",
    ")\n",
    "\n",
    "item_features = pl.DataFrame(mean_by_cat)\n",
    "item_features = item_features.with_columns(pl.col(\"mean_title_projection\").list.to_struct()).unnest(\"mean_title_projection\")\n",
    "item_features = item_features.join(addit_features, how=\"left\", on=\"node\")\n",
    "item_features = item_features.rename({\"node\": \"id\"})\n",
    "item_features = item_features.rename({\"id\": \"node\"})\n",
    "\n",
    "df_train = dataframe2rectools(df_train)"
   ]
  },
  {
   "cell_type": "code",
   "execution_count": 4,
   "metadata": {},
   "outputs": [],
   "source": [
    "candidates_ALS = pl.read_csv('data/first_stage_candidates_ALS_200.csv')\n",
    "candidates_ANN = pl.read_csv('data/first_stage_prediction_ANN_40.csv')\n",
    "candidates_BM25 = pl.read_csv('data/first_stage_prediction_BM25_40.csv')"
   ]
  },
  {
   "cell_type": "code",
   "execution_count": 5,
   "metadata": {},
   "outputs": [],
   "source": [
    "candidates = pl.concat([candidates_ALS, candidates_BM25, candidates_ANN])\n",
    "candidates = candidates.unique(subset=[\"cookie\", \"node\"], maintain_order=True)\n",
    "candidates = candidates.to_pandas()\n",
    "candidates['rank'] = candidates.groupby('cookie').cumcount() + 1 "
   ]
  },
  {
   "cell_type": "code",
   "execution_count": 6,
   "metadata": {},
   "outputs": [],
   "source": [
    "df_eval = df_eval.to_pandas()\n",
    "df_eval = df_eval.astype({\"node\": int})"
   ]
  },
  {
   "cell_type": "code",
   "execution_count": 36,
   "metadata": {},
   "outputs": [
    {
     "name": "stdout",
     "output_type": "stream",
     "text": [
      "(47261, 5)\n",
      "(413161, 5)\n"
     ]
    }
   ],
   "source": [
    "# positive interactions\n",
    "pos = candidates.merge(\n",
    "    df_eval,\n",
    "    on=['cookie', 'node'],\n",
    "    how='inner'\n",
    "    )\n",
    "\n",
    "pos.loc[:, 'target'] = 1\n",
    "print(pos.shape)\n",
    "# negative interactions\n",
    "neg = candidates.set_index(['cookie', 'node'])\\\n",
    "        .join(df_eval.set_index(['cookie', 'node']))\n",
    "\n",
    "neg = neg[neg['event'].isnull()].reset_index()     \n",
    "neg = neg.sample(frac=0.03)\n",
    "neg.loc[:, 'target'] = 0\n",
    "\n",
    "print(neg.shape)\n",
    "\n",
    "\n",
    "# train test\n",
    "ctb_train_users, ctb_test_users = train_test_split(\n",
    "    df_eval['cookie'].unique(),\n",
    "    random_state=SEED,\n",
    "    test_size=0.2\n",
    "    )\n",
    "# train eval\n",
    "# ctb_train_users, ctb_eval_users = train_test_split(\n",
    "#     ctb_train_users,\n",
    "#     random_state=SEED,\n",
    "#     test_size=0.1\n",
    "#     )\n",
    "\n",
    "select_col = [\"cookie\", \"node\", \"rank\", 'target']\n",
    "\n",
    "\n",
    "# Catboost train\n",
    "ctb_train = shuffle(\n",
    "    pd.concat([\n",
    "        pos[pos['cookie'].isin(ctb_train_users)],\n",
    "        neg[neg['cookie'].isin(ctb_train_users)]\n",
    "])[select_col]\n",
    ")\n",
    "# Catboost test\n",
    "ctb_test = shuffle(\n",
    "    pd.concat([\n",
    "        pos[pos['cookie'].isin(ctb_test_users)],\n",
    "        neg[neg['cookie'].isin(ctb_test_users)]\n",
    "])[select_col]\n",
    ")\n",
    "# # for early stopping\n",
    "# ctb_eval = shuffle(\n",
    "#     pd.concat([\n",
    "#         pos[pos['cookie'].isin(ctb_eval_users)],\n",
    "#         neg[neg['cookie'].isin(ctb_eval_users)]\n",
    "# ])[select_col]\n",
    "# )"
   ]
  },
  {
   "cell_type": "code",
   "execution_count": 37,
   "metadata": {},
   "outputs": [
    {
     "data": {
      "text/plain": [
       "(target\n",
       " 0    0.897363\n",
       " 1    0.102637\n",
       " Name: proportion, dtype: float64,\n",
       " target\n",
       " 0    0.897314\n",
       " 1    0.102686\n",
       " Name: proportion, dtype: float64)"
      ]
     },
     "execution_count": 37,
     "metadata": {},
     "output_type": "execute_result"
    }
   ],
   "source": [
    "ctb_train['target'].value_counts(normalize=True), ctb_test['target'].value_counts(normalize=True)"
   ]
  },
  {
   "cell_type": "code",
   "execution_count": 40,
   "metadata": {},
   "outputs": [
    {
     "ename": "AttributeError",
     "evalue": "'DataFrame' object has no attribute 'to_pandas'",
     "output_type": "error",
     "traceback": [
      "\u001b[31m---------------------------------------------------------------------------\u001b[39m",
      "\u001b[31mAttributeError\u001b[39m                            Traceback (most recent call last)",
      "\u001b[32m/var/folders/1v/2njvtrl903s020_gk0tw647c0000gn/T/ipykernel_24092/2759712426.py\u001b[39m in \u001b[36m?\u001b[39m\u001b[34m()\u001b[39m\n\u001b[32m----> \u001b[39m\u001b[32m1\u001b[39m item_features = item_features.to_pandas()\n\u001b[32m      2\u001b[39m user_col = [\u001b[33m'cookie'\u001b[39m]\n\u001b[32m      3\u001b[39m item_col = item_features.columns\n\u001b[32m      4\u001b[39m \n",
      "\u001b[32m/opt/anaconda3/envs/recsys/lib/python3.11/site-packages/pandas/core/generic.py\u001b[39m in \u001b[36m?\u001b[39m\u001b[34m(self, name)\u001b[39m\n\u001b[32m   6295\u001b[39m             \u001b[38;5;28;01mand\u001b[39;00m name \u001b[38;5;28;01mnot\u001b[39;00m \u001b[38;5;28;01min\u001b[39;00m self._accessors\n\u001b[32m   6296\u001b[39m             \u001b[38;5;28;01mand\u001b[39;00m self._info_axis._can_hold_identifiers_and_holds_name(name)\n\u001b[32m   6297\u001b[39m         ):\n\u001b[32m   6298\u001b[39m             \u001b[38;5;28;01mreturn\u001b[39;00m self[name]\n\u001b[32m-> \u001b[39m\u001b[32m6299\u001b[39m         \u001b[38;5;28;01mreturn\u001b[39;00m object.__getattribute__(self, name)\n",
      "\u001b[31mAttributeError\u001b[39m: 'DataFrame' object has no attribute 'to_pandas'"
     ]
    }
   ],
   "source": [
    "item_features = item_features.to_pandas()\n",
    "user_col = ['cookie']\n",
    "item_col = item_features.columns\n",
    "\n",
    "train_feat = (\n",
    "    ctb_train\n",
    "    # .merge(\n",
    "    #     users[user_col],\n",
    "    #     on=['user_id'],\n",
    "    #     how='left')\n",
    "    .merge(\n",
    "        item_features[item_col],\n",
    "        on=['node'],\n",
    "        how='left')\n",
    ")\n",
    "# eval_feat = (\n",
    "#     ctb_eval\n",
    "#     # .merge(\n",
    "#     #     users[user_col],\n",
    "#     #     on=['user_id'],\n",
    "#     #     how='left')\n",
    "#     .merge(\n",
    "#         item_features[item_col],\n",
    "#         on=['node'],\n",
    "#         how='left')\n",
    "# )\n",
    "test_feat = (\n",
    "    ctb_test\n",
    "    # .merge(\n",
    "    #     users[user_col],\n",
    "    #     on=['user_id'],\n",
    "    #     how='left')\n",
    "    .merge(\n",
    "        item_features[item_col],\n",
    "        on=['node'],\n",
    "        how='left'\n",
    "        )\n",
    ")\n",
    "train_feat.isna().sum().sum(), eval_feat.isna().sum().sum()"
   ]
  },
  {
   "cell_type": "code",
   "execution_count": 41,
   "metadata": {},
   "outputs": [],
   "source": [
    "train_feat = train_feat.sort_values(by=[\"cookie\", \"target\", \"rank\"], ascending=[True, False, True])\n",
    "# eval_feat = eval_feat.sort_values(by=[\"cookie\", \"target\", \"rank\"], ascending=[True, False, True])\n",
    "test_feat = test_feat.sort_values(by=[\"cookie\", \"target\", \"rank\"], ascending=[True, False, True])"
   ]
  },
  {
   "cell_type": "code",
   "execution_count": 42,
   "metadata": {},
   "outputs": [
    {
     "data": {
      "text/plain": [
       "((368345, 85), (368345, 1), (92077, 85), (92077,))"
      ]
     },
     "execution_count": 42,
     "metadata": {},
     "output_type": "execute_result"
    }
   ],
   "source": [
    "drop_col = ['cookie', 'node']\n",
    "target_col = ['target']\n",
    "cat_col = [f\"field_{i}\" for i in range(64)]\n",
    "\n",
    "X_train, y_train = train_feat.drop(drop_col + target_col, axis=1), train_feat[target_col]\n",
    "train_cookies = train_feat[\"cookie\"]\n",
    "# X_val, y_val = eval_feat.drop(drop_col + target_col, axis=1), eval_feat[target_col]\n",
    "# val_cookies = eval_feat[\"cookie\"]\n",
    "X_test, y_test = test_feat.drop(drop_col + target_col, axis=1), test_feat['target']\n",
    "test_cookies = test_feat[\"cookie\"]\n",
    "X_train.shape, y_train.shape, X_test.shape, y_test.shape"
   ]
  },
  {
   "cell_type": "code",
   "execution_count": 101,
   "metadata": {},
   "outputs": [
    {
     "data": {
      "text/plain": [
       "<function catboost.core.Pool.__init__(self, data, label=None, cat_features=None, text_features=None, embedding_features=None, embedding_features_data=None, column_description=None, pairs=None, graph=None, delimiter='\\t', has_header=False, ignore_csv_quoting=False, weight=None, group_id=None, group_weight=None, subgroup_id=None, pairs_weight=None, baseline=None, timestamp=None, feature_names=None, feature_tags=None, thread_count=-1, log_cout=None, log_cerr=None, data_can_be_none=False)>"
      ]
     },
     "execution_count": 101,
     "metadata": {},
     "output_type": "execute_result"
    }
   ],
   "source": [
    "Pool.__init__"
   ]
  },
  {
   "cell_type": "code",
   "execution_count": 104,
   "metadata": {},
   "outputs": [],
   "source": [
    "from catboost import Pool\n",
    "train_pool = Pool(\n",
    "    data=X_train,\n",
    "    label=y_train,\n",
    "    group_id=train_cookies,\n",
    "    cat_features=[\"rank\"]\n",
    ")\n",
    "# val_pool = Pool(\n",
    "#     data=X_val,\n",
    "#     label=y_val,\n",
    "#     group_id=val_cookies\n",
    "# )\n",
    "test_pool = Pool(\n",
    "    data=X_test,\n",
    "    label=y_test,\n",
    "    group_id=test_cookies,\n",
    "    cat_features=[\"rank\"]\n",
    ")"
   ]
  },
  {
   "cell_type": "code",
   "execution_count": 114,
   "metadata": {},
   "outputs": [],
   "source": [
    "from catboost import CatBoostClassifier, CatBoostRanker\n",
    "from copy import deepcopy\n",
    "\n",
    "# параметры для обучения\n",
    "est_params = {\n",
    "  'subsample': 0.9,\n",
    "  'max_depth': 4,\n",
    "  'n_estimators': 5000,\n",
    "  'learning_rate': 0.03,\n",
    "  'thread_count': 20,\n",
    "  'random_state': SEED,\n",
    "  'verbose': 200,\n",
    "#   \"loss_function\":'YetiRankPairwise',\n",
    "#  \"eval_metric\":'NDCG'\n",
    "}\n",
    "\n",
    "ctb_model = CatBoostClassifier(**est_params)\n",
    "\n",
    "\n",
    "default_parameters = {\n",
    "    'iterations': 5000,\n",
    "    'custom_metric': ['NDCG', 'AUC'],\n",
    "    'verbose': 100,\n",
    "    # \"loss_function\":'YetiRankPairwise',\n",
    "    'thread_count': 20,\n",
    "    'learning_rate': 0.1,\n",
    "    'max_depth': 4,\n",
    "    'random_seed': SEED,\n",
    "}\n",
    "\n",
    "parameters = {}\n",
    "\n",
    "def fit_model(loss_function, additional_params=None, train_pool=None, test_pool=None):\n",
    "    parameters = deepcopy(default_parameters)\n",
    "    parameters['loss_function'] = loss_function\n",
    "    parameters['train_dir'] = loss_function\n",
    "\n",
    "    if additional_params is not None:\n",
    "        parameters.update(additional_params)\n",
    "\n",
    "    model = CatBoostRanker(**parameters)\n",
    "    model.fit(train_pool, eval_set=test_pool, plot=True, early_stopping_rounds=100,)\n",
    "\n",
    "    return model"
   ]
  },
  {
   "cell_type": "code",
   "execution_count": 118,
   "metadata": {},
   "outputs": [
    {
     "data": {
      "application/vnd.jupyter.widget-view+json": {
       "model_id": "84f07513b5be430ab84bf2238db4eeab",
       "version_major": 2,
       "version_minor": 0
      },
      "text/plain": [
       "MetricVisualizer(layout=Layout(align_self='stretch', height='500px'))"
      ]
     },
     "metadata": {},
     "output_type": "display_data"
    },
    {
     "name": "stdout",
     "output_type": "stream",
     "text": [
      "Pairwise scoring loss functions on CPU do not support one hot features. OneHotMaxSize set to 1\n",
      "0:\tlearn: 0.6680991\ttest: 0.6678398\tbest: 0.6678398 (0)\ttotal: 442ms\tremaining: 36m 49s\n",
      "100:\tlearn: 0.5240137\ttest: 0.5274091\tbest: 0.5274091 (100)\ttotal: 45.4s\tremaining: 36m 41s\n"
     ]
    },
    {
     "ename": "KeyboardInterrupt",
     "evalue": "",
     "output_type": "error",
     "traceback": [
      "\u001b[31m---------------------------------------------------------------------------\u001b[39m",
      "\u001b[31mKeyboardInterrupt\u001b[39m                         Traceback (most recent call last)",
      "\u001b[36mCell\u001b[39m\u001b[36m \u001b[39m\u001b[32mIn[118]\u001b[39m\u001b[32m, line 1\u001b[39m\n\u001b[32m----> \u001b[39m\u001b[32m1\u001b[39m model = \u001b[43mfit_model\u001b[49m\u001b[43m(\u001b[49m\n\u001b[32m      2\u001b[39m \u001b[43m    \u001b[49m\u001b[33;43m'\u001b[39;49m\u001b[33;43mPairLogitPairwise\u001b[39;49m\u001b[33;43m'\u001b[39;49m\u001b[43m,\u001b[49m\u001b[43m \u001b[49m\n\u001b[32m      3\u001b[39m \u001b[43m    \u001b[49m\u001b[43m{\u001b[49m\u001b[33;43m'\u001b[39;49m\u001b[33;43mcustom_metric\u001b[39;49m\u001b[33;43m'\u001b[39;49m\u001b[43m:\u001b[49m\u001b[43m \u001b[49m\u001b[43m[\u001b[49m\u001b[33;43m'\u001b[39;49m\u001b[33;43mPrecisionAt:top=40\u001b[39;49m\u001b[33;43m'\u001b[39;49m\u001b[43m,\u001b[49m\u001b[43m \u001b[49m\u001b[33;43m'\u001b[39;49m\u001b[33;43mRecallAt:top=40\u001b[39;49m\u001b[33;43m'\u001b[39;49m\u001b[43m,\u001b[49m\u001b[43m \u001b[49m\u001b[33;43m'\u001b[39;49m\u001b[33;43mMAP:top=40\u001b[39;49m\u001b[33;43m'\u001b[39;49m\u001b[43m,\u001b[49m\u001b[43m \u001b[49m\u001b[33;43m'\u001b[39;49m\u001b[33;43mAUC\u001b[39;49m\u001b[33;43m'\u001b[39;49m\u001b[43m]\u001b[49m\u001b[43m}\u001b[49m\u001b[43m,\u001b[49m\n\u001b[32m      4\u001b[39m \u001b[43m    \u001b[49m\u001b[43mtrain_pool\u001b[49m\u001b[43m=\u001b[49m\u001b[43mtrain_pool\u001b[49m\u001b[43m,\u001b[49m\n\u001b[32m      5\u001b[39m \u001b[43m    \u001b[49m\u001b[43mtest_pool\u001b[49m\u001b[43m=\u001b[49m\u001b[43mtest_pool\u001b[49m\n\u001b[32m      6\u001b[39m \u001b[43m    \u001b[49m\u001b[43m)\u001b[49m\n",
      "\u001b[36mCell\u001b[39m\u001b[36m \u001b[39m\u001b[32mIn[114]\u001b[39m\u001b[32m, line 42\u001b[39m, in \u001b[36mfit_model\u001b[39m\u001b[34m(loss_function, additional_params, train_pool, test_pool)\u001b[39m\n\u001b[32m     39\u001b[39m     parameters.update(additional_params)\n\u001b[32m     41\u001b[39m model = CatBoostRanker(**parameters)\n\u001b[32m---> \u001b[39m\u001b[32m42\u001b[39m \u001b[43mmodel\u001b[49m\u001b[43m.\u001b[49m\u001b[43mfit\u001b[49m\u001b[43m(\u001b[49m\u001b[43mtrain_pool\u001b[49m\u001b[43m,\u001b[49m\u001b[43m \u001b[49m\u001b[43meval_set\u001b[49m\u001b[43m=\u001b[49m\u001b[43mtest_pool\u001b[49m\u001b[43m,\u001b[49m\u001b[43m \u001b[49m\u001b[43mplot\u001b[49m\u001b[43m=\u001b[49m\u001b[38;5;28;43;01mTrue\u001b[39;49;00m\u001b[43m,\u001b[49m\u001b[43m \u001b[49m\u001b[43mearly_stopping_rounds\u001b[49m\u001b[43m=\u001b[49m\u001b[32;43m100\u001b[39;49m\u001b[43m,\u001b[49m\u001b[43m)\u001b[49m\n\u001b[32m     44\u001b[39m \u001b[38;5;28;01mreturn\u001b[39;00m model\n",
      "\u001b[36mFile \u001b[39m\u001b[32m/opt/anaconda3/envs/recsys/lib/python3.11/site-packages/catboost/core.py:6283\u001b[39m, in \u001b[36mCatBoostRanker.fit\u001b[39m\u001b[34m(self, X, y, group_id, cat_features, text_features, embedding_features, pairs, graph, sample_weight, group_weight, subgroup_id, pairs_weight, baseline, use_best_model, eval_set, verbose, logging_level, plot, plot_file, column_description, verbose_eval, metric_period, silent, early_stopping_rounds, save_snapshot, snapshot_file, snapshot_interval, init_model, callbacks, log_cout, log_cerr)\u001b[39m\n\u001b[32m   6280\u001b[39m \u001b[38;5;28;01mif\u001b[39;00m \u001b[33m'\u001b[39m\u001b[33mloss_function\u001b[39m\u001b[33m'\u001b[39m \u001b[38;5;129;01min\u001b[39;00m params:\n\u001b[32m   6281\u001b[39m     CatBoostRanker._check_is_compatible_loss(params[\u001b[33m'\u001b[39m\u001b[33mloss_function\u001b[39m\u001b[33m'\u001b[39m])\n\u001b[32m-> \u001b[39m\u001b[32m6283\u001b[39m \u001b[38;5;28;43mself\u001b[39;49m\u001b[43m.\u001b[49m\u001b[43m_fit\u001b[49m\u001b[43m(\u001b[49m\u001b[43mX\u001b[49m\u001b[43m,\u001b[49m\u001b[43m \u001b[49m\u001b[43my\u001b[49m\u001b[43m,\u001b[49m\u001b[43m \u001b[49m\u001b[43mcat_features\u001b[49m\u001b[43m,\u001b[49m\u001b[43m \u001b[49m\u001b[43mtext_features\u001b[49m\u001b[43m,\u001b[49m\u001b[43m \u001b[49m\u001b[43membedding_features\u001b[49m\u001b[43m,\u001b[49m\u001b[43m \u001b[49m\u001b[43mpairs\u001b[49m\u001b[43m,\u001b[49m\u001b[43m \u001b[49m\u001b[43mgraph\u001b[49m\u001b[43m,\u001b[49m\n\u001b[32m   6284\u001b[39m \u001b[43m          \u001b[49m\u001b[43msample_weight\u001b[49m\u001b[43m,\u001b[49m\u001b[43m \u001b[49m\u001b[43mgroup_id\u001b[49m\u001b[43m,\u001b[49m\u001b[43m \u001b[49m\u001b[43mgroup_weight\u001b[49m\u001b[43m,\u001b[49m\u001b[43m \u001b[49m\u001b[43msubgroup_id\u001b[49m\u001b[43m,\u001b[49m\u001b[43m \u001b[49m\u001b[43mpairs_weight\u001b[49m\u001b[43m,\u001b[49m\u001b[43m \u001b[49m\u001b[43mbaseline\u001b[49m\u001b[43m,\u001b[49m\u001b[43m \u001b[49m\u001b[43muse_best_model\u001b[49m\u001b[43m,\u001b[49m\n\u001b[32m   6285\u001b[39m \u001b[43m          \u001b[49m\u001b[43meval_set\u001b[49m\u001b[43m,\u001b[49m\u001b[43m \u001b[49m\u001b[43mverbose\u001b[49m\u001b[43m,\u001b[49m\u001b[43m \u001b[49m\u001b[43mlogging_level\u001b[49m\u001b[43m,\u001b[49m\u001b[43m \u001b[49m\u001b[43mplot\u001b[49m\u001b[43m,\u001b[49m\u001b[43m \u001b[49m\u001b[43mplot_file\u001b[49m\u001b[43m,\u001b[49m\u001b[43m \u001b[49m\u001b[43mcolumn_description\u001b[49m\u001b[43m,\u001b[49m\u001b[43m \u001b[49m\u001b[43mverbose_eval\u001b[49m\u001b[43m,\u001b[49m\u001b[43m \u001b[49m\u001b[43mmetric_period\u001b[49m\u001b[43m,\u001b[49m\n\u001b[32m   6286\u001b[39m \u001b[43m          \u001b[49m\u001b[43msilent\u001b[49m\u001b[43m,\u001b[49m\u001b[43m \u001b[49m\u001b[43mearly_stopping_rounds\u001b[49m\u001b[43m,\u001b[49m\u001b[43m \u001b[49m\u001b[43msave_snapshot\u001b[49m\u001b[43m,\u001b[49m\u001b[43m \u001b[49m\u001b[43msnapshot_file\u001b[49m\u001b[43m,\u001b[49m\u001b[43m \u001b[49m\u001b[43msnapshot_interval\u001b[49m\u001b[43m,\u001b[49m\u001b[43m \u001b[49m\u001b[43minit_model\u001b[49m\u001b[43m,\u001b[49m\u001b[43m \u001b[49m\u001b[43mcallbacks\u001b[49m\u001b[43m,\u001b[49m\u001b[43m \u001b[49m\u001b[43mlog_cout\u001b[49m\u001b[43m,\u001b[49m\u001b[43m \u001b[49m\u001b[43mlog_cerr\u001b[49m\u001b[43m)\u001b[49m\n\u001b[32m   6287\u001b[39m \u001b[38;5;28;01mreturn\u001b[39;00m \u001b[38;5;28mself\u001b[39m\n",
      "\u001b[36mFile \u001b[39m\u001b[32m/opt/anaconda3/envs/recsys/lib/python3.11/site-packages/catboost/core.py:2410\u001b[39m, in \u001b[36mCatBoost._fit\u001b[39m\u001b[34m(self, X, y, cat_features, text_features, embedding_features, pairs, graph, sample_weight, group_id, group_weight, subgroup_id, pairs_weight, baseline, use_best_model, eval_set, verbose, logging_level, plot, plot_file, column_description, verbose_eval, metric_period, silent, early_stopping_rounds, save_snapshot, snapshot_file, snapshot_interval, init_model, callbacks, log_cout, log_cerr)\u001b[39m\n\u001b[32m   2407\u001b[39m allow_clear_pool = train_params[\u001b[33m\"\u001b[39m\u001b[33mallow_clear_pool\u001b[39m\u001b[33m\"\u001b[39m]\n\u001b[32m   2409\u001b[39m \u001b[38;5;28;01mwith\u001b[39;00m plot_wrapper(plot, plot_file, \u001b[33m'\u001b[39m\u001b[33mTraining plots\u001b[39m\u001b[33m'\u001b[39m, [_get_train_dir(\u001b[38;5;28mself\u001b[39m.get_params())]):\n\u001b[32m-> \u001b[39m\u001b[32m2410\u001b[39m     \u001b[38;5;28;43mself\u001b[39;49m\u001b[43m.\u001b[49m\u001b[43m_train\u001b[49m\u001b[43m(\u001b[49m\n\u001b[32m   2411\u001b[39m \u001b[43m        \u001b[49m\u001b[43mtrain_pool\u001b[49m\u001b[43m,\u001b[49m\n\u001b[32m   2412\u001b[39m \u001b[43m        \u001b[49m\u001b[43mtrain_params\u001b[49m\u001b[43m[\u001b[49m\u001b[33;43m\"\u001b[39;49m\u001b[33;43meval_sets\u001b[39;49m\u001b[33;43m\"\u001b[39;49m\u001b[43m]\u001b[49m\u001b[43m,\u001b[49m\n\u001b[32m   2413\u001b[39m \u001b[43m        \u001b[49m\u001b[43mparams\u001b[49m\u001b[43m,\u001b[49m\n\u001b[32m   2414\u001b[39m \u001b[43m        \u001b[49m\u001b[43mallow_clear_pool\u001b[49m\u001b[43m,\u001b[49m\n\u001b[32m   2415\u001b[39m \u001b[43m        \u001b[49m\u001b[43mtrain_params\u001b[49m\u001b[43m[\u001b[49m\u001b[33;43m\"\u001b[39;49m\u001b[33;43minit_model\u001b[39;49m\u001b[33;43m\"\u001b[39;49m\u001b[43m]\u001b[49m\n\u001b[32m   2416\u001b[39m \u001b[43m    \u001b[49m\u001b[43m)\u001b[49m\n\u001b[32m   2418\u001b[39m \u001b[38;5;66;03m# Have property feature_importance possibly set\u001b[39;00m\n\u001b[32m   2419\u001b[39m loss = \u001b[38;5;28mself\u001b[39m._object._get_loss_function_name()\n",
      "\u001b[36mFile \u001b[39m\u001b[32m/opt/anaconda3/envs/recsys/lib/python3.11/site-packages/catboost/core.py:1790\u001b[39m, in \u001b[36m_CatBoostBase._train\u001b[39m\u001b[34m(self, train_pool, test_pool, params, allow_clear_pool, init_model)\u001b[39m\n\u001b[32m   1789\u001b[39m \u001b[38;5;28;01mdef\u001b[39;00m\u001b[38;5;250m \u001b[39m\u001b[34m_train\u001b[39m(\u001b[38;5;28mself\u001b[39m, train_pool, test_pool, params, allow_clear_pool, init_model):\n\u001b[32m-> \u001b[39m\u001b[32m1790\u001b[39m     \u001b[38;5;28;43mself\u001b[39;49m\u001b[43m.\u001b[49m\u001b[43m_object\u001b[49m\u001b[43m.\u001b[49m\u001b[43m_train\u001b[49m\u001b[43m(\u001b[49m\u001b[43mtrain_pool\u001b[49m\u001b[43m,\u001b[49m\u001b[43m \u001b[49m\u001b[43mtest_pool\u001b[49m\u001b[43m,\u001b[49m\u001b[43m \u001b[49m\u001b[43mparams\u001b[49m\u001b[43m,\u001b[49m\u001b[43m \u001b[49m\u001b[43mallow_clear_pool\u001b[49m\u001b[43m,\u001b[49m\u001b[43m \u001b[49m\u001b[43minit_model\u001b[49m\u001b[43m.\u001b[49m\u001b[43m_object\u001b[49m\u001b[43m \u001b[49m\u001b[38;5;28;43;01mif\u001b[39;49;00m\u001b[43m \u001b[49m\u001b[43minit_model\u001b[49m\u001b[43m \u001b[49m\u001b[38;5;28;43;01melse\u001b[39;49;00m\u001b[43m \u001b[49m\u001b[38;5;28;43;01mNone\u001b[39;49;00m\u001b[43m)\u001b[49m\n\u001b[32m   1791\u001b[39m     \u001b[38;5;28mself\u001b[39m._set_trained_model_attributes()\n",
      "\u001b[36mFile \u001b[39m\u001b[32m_catboost.pyx:5023\u001b[39m, in \u001b[36m_catboost._CatBoost._train\u001b[39m\u001b[34m()\u001b[39m\n",
      "\u001b[36mFile \u001b[39m\u001b[32m_catboost.pyx:5072\u001b[39m, in \u001b[36m_catboost._CatBoost._train\u001b[39m\u001b[34m()\u001b[39m\n",
      "\u001b[31mKeyboardInterrupt\u001b[39m: "
     ]
    }
   ],
   "source": [
    "model = fit_model(\n",
    "    'PairLogitPairwise', \n",
    "    {'custom_metric': ['PrecisionAt:top=40', 'RecallAt:top=40', 'MAP:top=40', 'AUC']},\n",
    "    train_pool=train_pool,\n",
    "    test_pool=test_pool\n",
    "    )"
   ]
  },
  {
   "cell_type": "code",
   "execution_count": 71,
   "metadata": {},
   "outputs": [
    {
     "data": {
      "text/plain": [
       "0.7585"
      ]
     },
     "execution_count": 71,
     "metadata": {},
     "output_type": "execute_result"
    }
   ],
   "source": [
    "0.7585 # RMSE"
   ]
  },
  {
   "cell_type": "code",
   "execution_count": 72,
   "metadata": {},
   "outputs": [
    {
     "name": "stdout",
     "output_type": "stream",
     "text": [
      "ROC AUC score = 0.7585\n"
     ]
    }
   ],
   "source": [
    "y_pred = model.predict(X_test)\n",
    "print(f\"ROC AUC score = {roc_auc_score(y_test, y_pred):.4f}\")"
   ]
  },
  {
   "cell_type": "code",
   "execution_count": 73,
   "metadata": {},
   "outputs": [],
   "source": [
    "# # save model \n",
    "import dill \n",
    "with open(f\"ctb_model_ranker.dill\", 'wb') as f:\n",
    "    dill.dump(ctb_model, f)"
   ]
  },
  {
   "cell_type": "markdown",
   "metadata": {},
   "source": [
    "# Submission"
   ]
  },
  {
   "cell_type": "code",
   "execution_count": null,
   "metadata": {},
   "outputs": [],
   "source": [
    "# from catboost import CatBoostClassifier, CatBoostRanker"
   ]
  },
  {
   "cell_type": "code",
   "execution_count": 74,
   "metadata": {},
   "outputs": [],
   "source": [
    "# import dill\n",
    "# with open(\"ctb_model_baseline.dill\", \"rb\") as f:\n",
    "#     ctb_model = dill.load(f)"
   ]
  },
  {
   "cell_type": "code",
   "execution_count": 75,
   "metadata": {},
   "outputs": [],
   "source": [
    "df_final = dataframe2rectools(df_clickstream[[\"cookie\", \"node\", \"event_date\"]])"
   ]
  },
  {
   "cell_type": "code",
   "execution_count": 76,
   "metadata": {},
   "outputs": [],
   "source": [
    "candidates_ALS = pl.read_csv('data/test_hybrid_stage_candidates_ALS_200.csv')\n",
    "candidates_ANN = pl.read_csv('data/test_prediction_ANN_40.csv')\n",
    "candidates_BM25 = pl.read_csv('data/test_hybrid_stage_candidates_BM25_40.csv')"
   ]
  },
  {
   "cell_type": "code",
   "execution_count": 77,
   "metadata": {},
   "outputs": [],
   "source": [
    "candidates = pl.concat([candidates_ALS, candidates_BM25, candidates_ANN])\n",
    "candidates = candidates.unique(subset=[\"cookie\", \"node\"], maintain_order=True)\n",
    "candidates = candidates.to_pandas()\n",
    "candidates['rank'] = candidates.groupby('cookie').cumcount() + 1 "
   ]
  },
  {
   "cell_type": "code",
   "execution_count": 78,
   "metadata": {},
   "outputs": [
    {
     "data": {
      "text/plain": [
       "(23032214, 3)"
      ]
     },
     "execution_count": 78,
     "metadata": {},
     "output_type": "execute_result"
    }
   ],
   "source": [
    "candidates.shape"
   ]
  },
  {
   "cell_type": "code",
   "execution_count": null,
   "metadata": {},
   "outputs": [],
   "source": []
  },
  {
   "cell_type": "code",
   "execution_count": 80,
   "metadata": {},
   "outputs": [],
   "source": [
    "user_col = ['cookie']\n",
    "drop_col = ['cookie', 'node']\n",
    "target_col = ['target']\n",
    "cat_col = [f\"field_{i}\" for i in range(64)]\n",
    "item_col = item_features.columns\n",
    "item_features = item_features.to_pandas()\n",
    "final_feat = (\n",
    "    candidates\n",
    "    # .merge(\n",
    "    #     users[user_col],\n",
    "    #     on=['user_id'],\n",
    "    #     how='left')\n",
    "    .merge(\n",
    "        item_features[item_col],\n",
    "        on=['node'],\n",
    "        how='left')\n",
    ")\n",
    "X_final = final_feat.drop(drop_col, axis=1)"
   ]
  },
  {
   "cell_type": "code",
   "execution_count": 81,
   "metadata": {},
   "outputs": [],
   "source": [
    "del item_features\n",
    "del candidates"
   ]
  },
  {
   "cell_type": "code",
   "execution_count": 83,
   "metadata": {},
   "outputs": [],
   "source": [
    "y_pred = model.predict(X_final)"
   ]
  },
  {
   "cell_type": "code",
   "execution_count": 84,
   "metadata": {},
   "outputs": [],
   "source": [
    "del X_final"
   ]
  },
  {
   "cell_type": "code",
   "execution_count": 86,
   "metadata": {},
   "outputs": [
    {
     "data": {
      "text/html": [
       "<div><style>\n",
       ".dataframe > thead > tr,\n",
       ".dataframe > tbody > tr {\n",
       "  text-align: right;\n",
       "  white-space: pre-wrap;\n",
       "}\n",
       "</style>\n",
       "<small>shape: (0, 2)</small><table border=\"1\" class=\"dataframe\"><thead><tr><th>cookie</th><th>node</th></tr><tr><td>i64</td><td>i64</td></tr></thead><tbody></tbody></table></div>"
      ],
      "text/plain": [
       "shape: (0, 2)\n",
       "┌────────┬──────┐\n",
       "│ cookie ┆ node │\n",
       "│ ---    ┆ ---  │\n",
       "│ i64    ┆ i64  │\n",
       "╞════════╪══════╡\n",
       "└────────┴──────┘"
      ]
     },
     "execution_count": 86,
     "metadata": {},
     "output_type": "execute_result"
    }
   ],
   "source": [
    "final_feat[\"score\"] = y_pred\n",
    "res = final_feat.sort_values(by=[\"cookie\", \"score\"], ascending=[True, False]).groupby(\"cookie\").head(40)\n",
    "res = res[[\"cookie\", \"node\"]].drop_duplicates()\n",
    "res = pl.DataFrame(res)\n",
    "addit = df_test_users.filter(pl.col(\"cookie\").is_in(res[\"cookie\"]) == False).with_columns(pl.lit(1).cast(pl.Int64).alias('node'))\n",
    "addit"
   ]
  },
  {
   "cell_type": "code",
   "execution_count": 87,
   "metadata": {},
   "outputs": [
    {
     "data": {
      "text/html": [
       "<div><style>\n",
       ".dataframe > thead > tr,\n",
       ".dataframe > tbody > tr {\n",
       "  text-align: right;\n",
       "  white-space: pre-wrap;\n",
       "}\n",
       "</style>\n",
       "<small>shape: (5, 2)</small><table border=\"1\" class=\"dataframe\"><thead><tr><th>cookie</th><th>node</th></tr><tr><td>i64</td><td>i64</td></tr></thead><tbody><tr><td>1</td><td>57915</td></tr><tr><td>1</td><td>239954</td></tr><tr><td>1</td><td>198003</td></tr><tr><td>1</td><td>195257</td></tr><tr><td>1</td><td>199289</td></tr></tbody></table></div>"
      ],
      "text/plain": [
       "shape: (5, 2)\n",
       "┌────────┬────────┐\n",
       "│ cookie ┆ node   │\n",
       "│ ---    ┆ ---    │\n",
       "│ i64    ┆ i64    │\n",
       "╞════════╪════════╡\n",
       "│ 1      ┆ 57915  │\n",
       "│ 1      ┆ 239954 │\n",
       "│ 1      ┆ 198003 │\n",
       "│ 1      ┆ 195257 │\n",
       "│ 1      ┆ 199289 │\n",
       "└────────┴────────┘"
      ]
     },
     "execution_count": 87,
     "metadata": {},
     "output_type": "execute_result"
    }
   ],
   "source": [
    "res.head()"
   ]
  },
  {
   "cell_type": "code",
   "execution_count": 88,
   "metadata": {},
   "outputs": [],
   "source": [
    "pl.concat([res, addit]).group_by(\"cookie\").head(40)[\"cookie\",\"node\"].write_csv('results/prediction_hybrid_ranker_final.csv')"
   ]
  },
  {
   "cell_type": "code",
   "execution_count": null,
   "metadata": {},
   "outputs": [],
   "source": []
  }
 ],
 "metadata": {
  "kernelspec": {
   "display_name": "recsys",
   "language": "python",
   "name": "python3"
  },
  "language_info": {
   "codemirror_mode": {
    "name": "ipython",
    "version": 3
   },
   "file_extension": ".py",
   "mimetype": "text/x-python",
   "name": "python",
   "nbconvert_exporter": "python",
   "pygments_lexer": "ipython3",
   "version": "3.11.11"
  }
 },
 "nbformat": 4,
 "nbformat_minor": 2
}
