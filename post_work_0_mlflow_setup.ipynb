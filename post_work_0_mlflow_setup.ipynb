{
 "cells": [
  {
   "cell_type": "code",
   "execution_count": 35,
   "metadata": {},
   "outputs": [],
   "source": [
    "from datetime import timedelta\n",
    "import numpy as np\n",
    "import polars as pl\n",
    "import pandas as pd\n",
    "import implicit\n",
    "\n",
    "from tools import load_data_actions, generate_lightfm_recs_mapper\n",
    "from tqdm import tqdm\n",
    "\n",
    "from lightfm.data import Dataset\n",
    "from lightfm import LightFM\n",
    "\n",
    "from rectools import Columns\n",
    "from rectools.dataset import Dataset as RTDataset\n",
    "from rectools.models import (\n",
    "    ImplicitALSWrapperModel,\n",
    "    ImplicitBPRWrapperModel,\n",
    "    LightFMWrapperModel,\n",
    "    PureSVDModel,\n",
    "    ImplicitItemKNNWrapperModel,\n",
    "    EASEModel\n",
    ")\n",
    "\n",
    "from sklearn.model_selection import train_test_split\n",
    "from sklearn.utils import shuffle\n",
    "from sklearn.metrics import roc_auc_score\n",
    "\n",
    "import mlflow\n",
    "from mlflow.models import infer_signature"
   ]
  },
  {
   "cell_type": "code",
   "execution_count": 2,
   "metadata": {},
   "outputs": [],
   "source": [
    "def dataframe2rectools(df):\n",
    "    return (\n",
    "        df[[\"cookie\", \"node\", \"event_date\"]]\n",
    "        .with_columns(pl.lit(1).alias('weight'))\n",
    "        .rename({\n",
    "            \"cookie\": Columns.User,\n",
    "            \"node\": Columns.Item,\n",
    "            \"weight\": Columns.Weight,\n",
    "            \"event_date\": Columns.Datetime,\n",
    "        })\n",
    "    ).to_pandas()"
   ]
  },
  {
   "cell_type": "code",
   "execution_count": 3,
   "metadata": {},
   "outputs": [
    {
     "name": "stderr",
     "output_type": "stream",
     "text": [
      "/var/folders/1v/2njvtrl903s020_gk0tw647c0000gn/T/ipykernel_79525/3680953557.py:31: UserWarning: `to_struct()` should be passed a list of field names to avoid query errors in subsequent operations (e.g. <struct operation> not supported for dtype Unknown)\n",
      "  item_features = item_features.with_columns(pl.col(\"mean_title_projection\").list.to_struct()).unnest(\"mean_title_projection\")\n"
     ]
    }
   ],
   "source": [
    "SEED = 42\n",
    "top_N = 40\n",
    "DATA_DIR = 'data/'\n",
    "\n",
    "df_test_users = pl.read_parquet(f'{DATA_DIR}/test_users.pq')\n",
    "df_clickstream = pl.read_parquet(f'{DATA_DIR}/clickstream.pq')\n",
    "\n",
    "df_cat_features = pl.read_parquet(f'{DATA_DIR}/cat_features_preproc_20.pq')\n",
    "df_text_features = pl.read_parquet(f'{DATA_DIR}/text_features.pq')\n",
    "df_event = pl.read_parquet(f'{DATA_DIR}/events.pq')\n",
    "\n",
    "df_train, df_eval = load_data_actions(df_clickstream, df_event)\n",
    "\n",
    "mean_by_cat = (\n",
    "    df_text_features\n",
    "    .join(df_cat_features[\"item\", \"node\"], on=\"item\", how=\"left\")\n",
    "    .to_pandas()\n",
    "    .groupby(\"node\")[\"title_projection\"]\n",
    "    .apply(lambda vs: np.mean(np.stack(vs.values), axis=0).tolist())\n",
    "    .reset_index(name=\"mean_title_projection\")\n",
    ")\n",
    "\n",
    "addit_features = pl.read_parquet(DATA_DIR+\"cat_features_preproc_20.pq\")\n",
    "atr_cols = [i for i in addit_features.columns if \"attr\" in i]\n",
    "addit_features = (\n",
    "    addit_features.group_by(\"node\")\n",
    "    .agg([pl.col(atr).mean() for atr in atr_cols])\n",
    ")\n",
    "\n",
    "item_features = pl.DataFrame(mean_by_cat)\n",
    "item_features = item_features.with_columns(pl.col(\"mean_title_projection\").list.to_struct()).unnest(\"mean_title_projection\")\n",
    "item_features = item_features.join(addit_features, how=\"left\", on=\"node\")\n",
    "item_features = item_features.rename({\"node\": \"id\"})\n",
    "item_features = item_features.rename({\"id\": \"node\"})\n",
    "\n",
    "df_train = dataframe2rectools(df_train)"
   ]
  },
  {
   "cell_type": "code",
   "execution_count": 4,
   "metadata": {},
   "outputs": [],
   "source": [
    "candidates_ALS = pl.read_csv('data/first_stage_candidates_ALS_200.csv')\n",
    "candidates_ANN = pl.read_csv('data/first_stage_prediction_ANN_40.csv')\n",
    "candidates_BM25 = pl.read_csv('data/first_stage_prediction_BM25_40.csv')"
   ]
  },
  {
   "cell_type": "code",
   "execution_count": 5,
   "metadata": {},
   "outputs": [],
   "source": [
    "candidates = pl.concat([candidates_ALS, candidates_BM25, candidates_ANN])\n",
    "candidates = candidates.unique(subset=[\"cookie\", \"node\"], maintain_order=True)\n",
    "candidates = candidates.to_pandas()\n",
    "candidates['rank'] = candidates.groupby('cookie').cumcount() + 1 "
   ]
  },
  {
   "cell_type": "code",
   "execution_count": 6,
   "metadata": {},
   "outputs": [],
   "source": [
    "df_eval = df_eval.to_pandas()\n",
    "df_eval = df_eval.astype({\"node\": int})"
   ]
  },
  {
   "cell_type": "code",
   "execution_count": 7,
   "metadata": {},
   "outputs": [
    {
     "name": "stdout",
     "output_type": "stream",
     "text": [
      "(47261, 5)\n",
      "(413161, 5)\n"
     ]
    }
   ],
   "source": [
    "# positive interactions\n",
    "pos = candidates.merge(\n",
    "    df_eval,\n",
    "    on=['cookie', 'node'],\n",
    "    how='inner'\n",
    "    )\n",
    "\n",
    "pos.loc[:, 'target'] = 1\n",
    "print(pos.shape)\n",
    "# negative interactions\n",
    "neg = candidates.set_index(['cookie', 'node'])\\\n",
    "        .join(df_eval.set_index(['cookie', 'node']))\n",
    "\n",
    "neg = neg[neg['event'].isnull()].reset_index()     \n",
    "neg = neg.sample(frac=0.03)\n",
    "neg.loc[:, 'target'] = 0\n",
    "\n",
    "print(neg.shape)\n",
    "\n",
    "\n",
    "# train test\n",
    "ctb_train_users, ctb_test_users = train_test_split(\n",
    "    df_eval['cookie'].unique(),\n",
    "    random_state=SEED,\n",
    "    test_size=0.2\n",
    "    )\n",
    "# train eval\n",
    "# ctb_train_users, ctb_eval_users = train_test_split(\n",
    "#     ctb_train_users,\n",
    "#     random_state=SEED,\n",
    "#     test_size=0.1\n",
    "#     )\n",
    "\n",
    "select_col = [\"cookie\", \"node\", \"rank\", 'target']\n",
    "\n",
    "\n",
    "# Catboost train\n",
    "ctb_train = shuffle(\n",
    "    pd.concat([\n",
    "        pos[pos['cookie'].isin(ctb_train_users)],\n",
    "        neg[neg['cookie'].isin(ctb_train_users)]\n",
    "])[select_col]\n",
    ")\n",
    "# Catboost test\n",
    "ctb_test = shuffle(\n",
    "    pd.concat([\n",
    "        pos[pos['cookie'].isin(ctb_test_users)],\n",
    "        neg[neg['cookie'].isin(ctb_test_users)]\n",
    "])[select_col]\n",
    ")\n",
    "# # for early stopping\n",
    "# ctb_eval = shuffle(\n",
    "#     pd.concat([\n",
    "#         pos[pos['cookie'].isin(ctb_eval_users)],\n",
    "#         neg[neg['cookie'].isin(ctb_eval_users)]\n",
    "# ])[select_col]\n",
    "# )"
   ]
  },
  {
   "cell_type": "code",
   "execution_count": 8,
   "metadata": {},
   "outputs": [
    {
     "data": {
      "text/plain": [
       "(target\n",
       " 0    0.897621\n",
       " 1    0.102379\n",
       " Name: proportion, dtype: float64,\n",
       " target\n",
       " 0    0.896279\n",
       " 1    0.103721\n",
       " Name: proportion, dtype: float64)"
      ]
     },
     "execution_count": 8,
     "metadata": {},
     "output_type": "execute_result"
    }
   ],
   "source": [
    "ctb_train['target'].value_counts(normalize=True), ctb_test['target'].value_counts(normalize=True)"
   ]
  },
  {
   "cell_type": "code",
   "execution_count": 11,
   "metadata": {},
   "outputs": [
    {
     "ename": "AttributeError",
     "evalue": "'DataFrame' object has no attribute 'to_pandas'",
     "output_type": "error",
     "traceback": [
      "\u001b[31m---------------------------------------------------------------------------\u001b[39m",
      "\u001b[31mAttributeError\u001b[39m                            Traceback (most recent call last)",
      "\u001b[32m/var/folders/1v/2njvtrl903s020_gk0tw647c0000gn/T/ipykernel_79525/818693123.py\u001b[39m in \u001b[36m?\u001b[39m\u001b[34m()\u001b[39m\n\u001b[32m----> \u001b[39m\u001b[32m1\u001b[39m item_features = item_features.to_pandas()\n\u001b[32m      2\u001b[39m user_col = [\u001b[33m'cookie'\u001b[39m]\n\u001b[32m      3\u001b[39m item_col = item_features.columns\n\u001b[32m      4\u001b[39m \n",
      "\u001b[32m/opt/anaconda3/envs/recsys/lib/python3.11/site-packages/pandas/core/generic.py\u001b[39m in \u001b[36m?\u001b[39m\u001b[34m(self, name)\u001b[39m\n\u001b[32m   6295\u001b[39m             \u001b[38;5;28;01mand\u001b[39;00m name \u001b[38;5;28;01mnot\u001b[39;00m \u001b[38;5;28;01min\u001b[39;00m self._accessors\n\u001b[32m   6296\u001b[39m             \u001b[38;5;28;01mand\u001b[39;00m self._info_axis._can_hold_identifiers_and_holds_name(name)\n\u001b[32m   6297\u001b[39m         ):\n\u001b[32m   6298\u001b[39m             \u001b[38;5;28;01mreturn\u001b[39;00m self[name]\n\u001b[32m-> \u001b[39m\u001b[32m6299\u001b[39m         \u001b[38;5;28;01mreturn\u001b[39;00m object.__getattribute__(self, name)\n",
      "\u001b[31mAttributeError\u001b[39m: 'DataFrame' object has no attribute 'to_pandas'"
     ]
    }
   ],
   "source": [
    "item_features = item_features.to_pandas()\n",
    "user_col = ['cookie']\n",
    "item_col = item_features.columns\n",
    "\n",
    "train_feat = (\n",
    "    ctb_train\n",
    "    # .merge(\n",
    "    #     users[user_col],\n",
    "    #     on=['user_id'],\n",
    "    #     how='left')\n",
    "    .merge(\n",
    "        item_features[item_col],\n",
    "        on=['node'],\n",
    "        how='left')\n",
    ")\n",
    "# eval_feat = (\n",
    "#     ctb_eval\n",
    "#     # .merge(\n",
    "#     #     users[user_col],\n",
    "#     #     on=['user_id'],\n",
    "#     #     how='left')\n",
    "#     .merge(\n",
    "#         item_features[item_col],\n",
    "#         on=['node'],\n",
    "#         how='left')\n",
    "# )\n",
    "test_feat = (\n",
    "    ctb_test\n",
    "    # .merge(\n",
    "    #     users[user_col],\n",
    "    #     on=['user_id'],\n",
    "    #     how='left')\n",
    "    .merge(\n",
    "        item_features[item_col],\n",
    "        on=['node'],\n",
    "        how='left'\n",
    "        )\n",
    ")\n",
    "train_feat.isna().sum().sum(), test_feat.isna().sum().sum()"
   ]
  },
  {
   "cell_type": "code",
   "execution_count": 12,
   "metadata": {},
   "outputs": [],
   "source": [
    "train_feat = train_feat.sort_values(by=[\"cookie\", \"target\", \"rank\"], ascending=[True, False, True])\n",
    "# eval_feat = eval_feat.sort_values(by=[\"cookie\", \"target\", \"rank\"], ascending=[True, False, True])\n",
    "test_feat = test_feat.sort_values(by=[\"cookie\", \"target\", \"rank\"], ascending=[True, False, True])"
   ]
  },
  {
   "cell_type": "code",
   "execution_count": 13,
   "metadata": {},
   "outputs": [
    {
     "data": {
      "text/plain": [
       "((368512, 85), (368512, 1), (91910, 85), (91910,))"
      ]
     },
     "execution_count": 13,
     "metadata": {},
     "output_type": "execute_result"
    }
   ],
   "source": [
    "drop_col = ['cookie', 'node']\n",
    "target_col = ['target']\n",
    "cat_col = [f\"field_{i}\" for i in range(64)]\n",
    "\n",
    "X_train, y_train = train_feat.drop(drop_col + target_col, axis=1), train_feat[target_col]\n",
    "train_cookies = train_feat[\"cookie\"]\n",
    "# X_val, y_val = eval_feat.drop(drop_col + target_col, axis=1), eval_feat[target_col]\n",
    "# val_cookies = eval_feat[\"cookie\"]\n",
    "X_test, y_test = test_feat.drop(drop_col + target_col, axis=1), test_feat['target']\n",
    "test_cookies = test_feat[\"cookie\"]\n",
    "X_train.shape, y_train.shape, X_test.shape, y_test.shape"
   ]
  },
  {
   "cell_type": "code",
   "execution_count": 15,
   "metadata": {},
   "outputs": [],
   "source": [
    "from catboost import Pool\n",
    "train_pool = Pool(\n",
    "    data=X_train,\n",
    "    label=y_train,\n",
    "    group_id=train_cookies,\n",
    "    cat_features=[\"rank\"]\n",
    ")\n",
    "# val_pool = Pool(\n",
    "#     data=X_val,\n",
    "#     label=y_val,\n",
    "#     group_id=val_cookies\n",
    "# )\n",
    "test_pool = Pool(\n",
    "    data=X_test,\n",
    "    label=y_test,\n",
    "    group_id=test_cookies,\n",
    "    cat_features=[\"rank\"]\n",
    ")"
   ]
  },
  {
   "cell_type": "code",
   "execution_count": 16,
   "metadata": {},
   "outputs": [],
   "source": [
    "from catboost import CatBoostClassifier, CatBoostRanker\n",
    "from copy import deepcopy\n",
    "\n",
    "# параметры для обучения\n",
    "est_params = {\n",
    "  'subsample': 0.9,\n",
    "  'max_depth': 4,\n",
    "  'n_estimators': 5000,\n",
    "  'learning_rate': 0.03,\n",
    "  'thread_count': 20,\n",
    "  'random_state': SEED,\n",
    "  'verbose': 200,\n",
    "#   \"loss_function\":'YetiRankPairwise',\n",
    "#  \"eval_metric\":'NDCG'\n",
    "}\n",
    "\n",
    "ctb_model = CatBoostClassifier(**est_params)\n",
    "\n",
    "\n",
    "default_parameters = {\n",
    "    'iterations': 5000,\n",
    "    'custom_metric': ['NDCG', 'AUC'],\n",
    "    'verbose': 100,\n",
    "    # \"loss_function\":'YetiRankPairwise',\n",
    "    'thread_count': 20,\n",
    "    'learning_rate': 0.1,\n",
    "    'max_depth': 4,\n",
    "    'random_seed': SEED,\n",
    "}\n",
    "\n",
    "parameters = {}\n",
    "\n",
    "def fit_model(loss_function, additional_params=None, train_pool=None, test_pool=None):\n",
    "    parameters = deepcopy(default_parameters)\n",
    "    parameters['loss_function'] = loss_function\n",
    "    parameters['train_dir'] = loss_function\n",
    "\n",
    "    if additional_params is not None:\n",
    "        parameters.update(additional_params)\n",
    "\n",
    "    model = CatBoostRanker(**parameters)\n",
    "    model.fit(train_pool, eval_set=test_pool, plot=True, early_stopping_rounds=100,)\n",
    "\n",
    "    return model"
   ]
  },
  {
   "cell_type": "code",
   "execution_count": 18,
   "metadata": {},
   "outputs": [
    {
     "name": "stderr",
     "output_type": "stream",
     "text": [
      "/opt/anaconda3/envs/recsys/lib/python3.11/site-packages/catboost/core.py:6402: RuntimeWarning: Regression loss ('RMSE') ignores an important ranking parameter 'group_id'\n",
      "  warnings.warn(\"Regression loss ('{}') ignores an important ranking parameter 'group_id'\".format(loss_function), RuntimeWarning)\n"
     ]
    },
    {
     "data": {
      "application/vnd.jupyter.widget-view+json": {
       "model_id": "dc20c15f62ab4b31af7f29fb157d3e05",
       "version_major": 2,
       "version_minor": 0
      },
      "text/plain": [
       "MetricVisualizer(layout=Layout(align_self='stretch', height='500px'))"
      ]
     },
     "metadata": {},
     "output_type": "display_data"
    },
    {
     "name": "stdout",
     "output_type": "stream",
     "text": [
      "0:\tlearn: 0.3014027\ttest: 0.3031835\tbest: 0.3031835 (0)\ttotal: 26ms\tremaining: 2m 9s\n",
      "100:\tlearn: 0.2891574\ttest: 0.2908572\tbest: 0.2908572 (100)\ttotal: 2.62s\tremaining: 2m 7s\n",
      "200:\tlearn: 0.2878517\ttest: 0.2898062\tbest: 0.2898062 (200)\ttotal: 5.09s\tremaining: 2m 1s\n",
      "300:\tlearn: 0.2870966\ttest: 0.2893645\tbest: 0.2893645 (300)\ttotal: 7.66s\tremaining: 1m 59s\n",
      "400:\tlearn: 0.2865652\ttest: 0.2891557\tbest: 0.2891557 (400)\ttotal: 10.2s\tremaining: 1m 57s\n",
      "500:\tlearn: 0.2861316\ttest: 0.2890014\tbest: 0.2890014 (500)\ttotal: 12.7s\tremaining: 1m 54s\n",
      "600:\tlearn: 0.2857741\ttest: 0.2889353\tbest: 0.2889353 (600)\ttotal: 15.3s\tremaining: 1m 51s\n",
      "700:\tlearn: 0.2854879\ttest: 0.2888529\tbest: 0.2888529 (700)\ttotal: 17.8s\tremaining: 1m 49s\n",
      "800:\tlearn: 0.2852241\ttest: 0.2887887\tbest: 0.2887887 (800)\ttotal: 20.5s\tremaining: 1m 47s\n",
      "900:\tlearn: 0.2849846\ttest: 0.2887726\tbest: 0.2887686 (846)\ttotal: 23s\tremaining: 1m 44s\n",
      "1000:\tlearn: 0.2847254\ttest: 0.2887414\tbest: 0.2887405 (950)\ttotal: 25.5s\tremaining: 1m 41s\n",
      "1100:\tlearn: 0.2845239\ttest: 0.2887213\tbest: 0.2887172 (1094)\ttotal: 28s\tremaining: 1m 39s\n",
      "1200:\tlearn: 0.2843094\ttest: 0.2887129\tbest: 0.2887097 (1186)\ttotal: 30.4s\tremaining: 1m 36s\n",
      "1300:\tlearn: 0.2841160\ttest: 0.2887157\tbest: 0.2887097 (1207)\ttotal: 32.8s\tremaining: 1m 33s\n",
      "Stopped by overfitting detector  (100 iterations wait)\n",
      "\n",
      "bestTest = 0.2887096759\n",
      "bestIteration = 1207\n",
      "\n",
      "Shrink model to first 1208 iterations.\n"
     ]
    }
   ],
   "source": [
    "model = fit_model(\n",
    "    'RMSE', \n",
    "    {'custom_metric': ['PrecisionAt:top=40', 'RecallAt:top=40', 'MAP:top=40', 'AUC']},\n",
    "    train_pool=train_pool,\n",
    "    test_pool=test_pool\n",
    "    )"
   ]
  },
  {
   "cell_type": "code",
   "execution_count": null,
   "metadata": {},
   "outputs": [
    {
     "data": {
      "text/plain": [
       "0.7585"
      ]
     },
     "execution_count": 71,
     "metadata": {},
     "output_type": "execute_result"
    }
   ],
   "source": [
    "# 0.7585 # RMSE"
   ]
  },
  {
   "cell_type": "code",
   "execution_count": 36,
   "metadata": {},
   "outputs": [
    {
     "name": "stderr",
     "output_type": "stream",
     "text": [
      "/opt/anaconda3/envs/recsys/lib/python3.11/site-packages/mlflow/types/utils.py:452: UserWarning: Hint: Inferred schema contains integer column(s). Integer columns in Python cannot represent missing values. If your input data contains missing values at inference time, it will be encoded as floats and will cause a schema enforcement error. The best way to avoid this problem is to infer the model schema based on a realistic data sample (training dataset) that includes missing values. Alternatively, you can declare integer columns as doubles (float64) whenever these columns may have missing values. See `Handling Integers With Missing Values <https://www.mlflow.org/docs/latest/models.html#handling-integers-with-missing-values>`_ for more details.\n",
      "  warnings.warn(\n"
     ]
    }
   ],
   "source": [
    "y_pred = model.predict(X_test)\n",
    "signature = infer_signature(X_test, y_pred)"
   ]
  },
  {
   "cell_type": "code",
   "execution_count": 39,
   "metadata": {},
   "outputs": [
    {
     "name": "stderr",
     "output_type": "stream",
     "text": [
      "Successfully registered model 'comp-final-ranker'.\n",
      "2025/06/09 23:28:51 INFO mlflow.store.model_registry.abstract_store: Waiting up to 300 seconds for model version to finish creation. Model name: comp-final-ranker, version 1\n"
     ]
    },
    {
     "name": "stdout",
     "output_type": "stream",
     "text": [
      "ROC AUC score = 0.7571\n",
      "🏃 View run mysterious-whale-163 at: http://127.0.0.1:5000/#/experiments/2/runs/ccf1f433a3b146b2a2244b7f0f776b45\n",
      "🧪 View experiment at: http://127.0.0.1:5000/#/experiments/2\n"
     ]
    },
    {
     "name": "stderr",
     "output_type": "stream",
     "text": [
      "Created version '1' of model 'comp-final-ranker'.\n"
     ]
    }
   ],
   "source": [
    "mlflow.set_tracking_uri(\"http://127.0.0.1:5000\")\n",
    "mlflow.set_experiment(\"avito_cup_pers_recs\")\n",
    "with mlflow.start_run():\n",
    "    roc_auc = roc_auc_score(y_test, y_pred)\n",
    "\n",
    "    mlflow.log_params(model.get_all_params())\n",
    "    mlflow.log_metric(\"roc_auc\", roc_auc)\n",
    "\n",
    "    mlflow.set_tag(\"Training Info\", \"Final CatboostRanker model of competition\")\n",
    "\n",
    "    model_info = mlflow.catboost.log_model(\n",
    "        model, \n",
    "        \"ctb_model_ranker\", \n",
    "        signature=signature,\n",
    "        registered_model_name=\"comp-final-ranker\",\n",
    "        )\n",
    "\n",
    "    print(f\"ROC AUC score = {roc_auc:.4f}\")"
   ]
  },
  {
   "cell_type": "code",
   "execution_count": 73,
   "metadata": {},
   "outputs": [],
   "source": [
    "# # save model \n",
    "# import dill \n",
    "# with open(f\"ctb_model_ranker.dill\", 'wb') as f:\n",
    "#     dill.dump(ctb_model, f)"
   ]
  },
  {
   "cell_type": "markdown",
   "metadata": {},
   "source": [
    "# Submission"
   ]
  },
  {
   "cell_type": "code",
   "execution_count": null,
   "metadata": {},
   "outputs": [],
   "source": [
    "# from catboost import CatBoostClassifier, CatBoostRanker"
   ]
  },
  {
   "cell_type": "code",
   "execution_count": 74,
   "metadata": {},
   "outputs": [],
   "source": [
    "# import dill\n",
    "# with open(\"ctb_model_baseline.dill\", \"rb\") as f:\n",
    "#     ctb_model = dill.load(f)"
   ]
  },
  {
   "cell_type": "code",
   "execution_count": 75,
   "metadata": {},
   "outputs": [],
   "source": [
    "df_final = dataframe2rectools(df_clickstream[[\"cookie\", \"node\", \"event_date\"]])"
   ]
  },
  {
   "cell_type": "code",
   "execution_count": 76,
   "metadata": {},
   "outputs": [],
   "source": [
    "candidates_ALS = pl.read_csv('data/test_hybrid_stage_candidates_ALS_200.csv')\n",
    "candidates_ANN = pl.read_csv('data/test_prediction_ANN_40.csv')\n",
    "candidates_BM25 = pl.read_csv('data/test_hybrid_stage_candidates_BM25_40.csv')"
   ]
  },
  {
   "cell_type": "code",
   "execution_count": 77,
   "metadata": {},
   "outputs": [],
   "source": [
    "candidates = pl.concat([candidates_ALS, candidates_BM25, candidates_ANN])\n",
    "candidates = candidates.unique(subset=[\"cookie\", \"node\"], maintain_order=True)\n",
    "candidates = candidates.to_pandas()\n",
    "candidates['rank'] = candidates.groupby('cookie').cumcount() + 1 "
   ]
  },
  {
   "cell_type": "code",
   "execution_count": 78,
   "metadata": {},
   "outputs": [
    {
     "data": {
      "text/plain": [
       "(23032214, 3)"
      ]
     },
     "execution_count": 78,
     "metadata": {},
     "output_type": "execute_result"
    }
   ],
   "source": [
    "candidates.shape"
   ]
  },
  {
   "cell_type": "code",
   "execution_count": null,
   "metadata": {},
   "outputs": [],
   "source": []
  },
  {
   "cell_type": "code",
   "execution_count": 80,
   "metadata": {},
   "outputs": [],
   "source": [
    "user_col = ['cookie']\n",
    "drop_col = ['cookie', 'node']\n",
    "target_col = ['target']\n",
    "cat_col = [f\"field_{i}\" for i in range(64)]\n",
    "item_col = item_features.columns\n",
    "item_features = item_features.to_pandas()\n",
    "final_feat = (\n",
    "    candidates\n",
    "    # .merge(\n",
    "    #     users[user_col],\n",
    "    #     on=['user_id'],\n",
    "    #     how='left')\n",
    "    .merge(\n",
    "        item_features[item_col],\n",
    "        on=['node'],\n",
    "        how='left')\n",
    ")\n",
    "X_final = final_feat.drop(drop_col, axis=1)"
   ]
  },
  {
   "cell_type": "code",
   "execution_count": 81,
   "metadata": {},
   "outputs": [],
   "source": [
    "del item_features\n",
    "del candidates"
   ]
  },
  {
   "cell_type": "code",
   "execution_count": 83,
   "metadata": {},
   "outputs": [],
   "source": [
    "y_pred = model.predict(X_final)"
   ]
  },
  {
   "cell_type": "code",
   "execution_count": 84,
   "metadata": {},
   "outputs": [],
   "source": [
    "del X_final"
   ]
  },
  {
   "cell_type": "code",
   "execution_count": 86,
   "metadata": {},
   "outputs": [
    {
     "data": {
      "text/html": [
       "<div><style>\n",
       ".dataframe > thead > tr,\n",
       ".dataframe > tbody > tr {\n",
       "  text-align: right;\n",
       "  white-space: pre-wrap;\n",
       "}\n",
       "</style>\n",
       "<small>shape: (0, 2)</small><table border=\"1\" class=\"dataframe\"><thead><tr><th>cookie</th><th>node</th></tr><tr><td>i64</td><td>i64</td></tr></thead><tbody></tbody></table></div>"
      ],
      "text/plain": [
       "shape: (0, 2)\n",
       "┌────────┬──────┐\n",
       "│ cookie ┆ node │\n",
       "│ ---    ┆ ---  │\n",
       "│ i64    ┆ i64  │\n",
       "╞════════╪══════╡\n",
       "└────────┴──────┘"
      ]
     },
     "execution_count": 86,
     "metadata": {},
     "output_type": "execute_result"
    }
   ],
   "source": [
    "final_feat[\"score\"] = y_pred\n",
    "res = final_feat.sort_values(by=[\"cookie\", \"score\"], ascending=[True, False]).groupby(\"cookie\").head(40)\n",
    "res = res[[\"cookie\", \"node\"]].drop_duplicates()\n",
    "res = pl.DataFrame(res)\n",
    "addit = df_test_users.filter(pl.col(\"cookie\").is_in(res[\"cookie\"]) == False).with_columns(pl.lit(1).cast(pl.Int64).alias('node'))\n",
    "addit"
   ]
  },
  {
   "cell_type": "code",
   "execution_count": 87,
   "metadata": {},
   "outputs": [
    {
     "data": {
      "text/html": [
       "<div><style>\n",
       ".dataframe > thead > tr,\n",
       ".dataframe > tbody > tr {\n",
       "  text-align: right;\n",
       "  white-space: pre-wrap;\n",
       "}\n",
       "</style>\n",
       "<small>shape: (5, 2)</small><table border=\"1\" class=\"dataframe\"><thead><tr><th>cookie</th><th>node</th></tr><tr><td>i64</td><td>i64</td></tr></thead><tbody><tr><td>1</td><td>57915</td></tr><tr><td>1</td><td>239954</td></tr><tr><td>1</td><td>198003</td></tr><tr><td>1</td><td>195257</td></tr><tr><td>1</td><td>199289</td></tr></tbody></table></div>"
      ],
      "text/plain": [
       "shape: (5, 2)\n",
       "┌────────┬────────┐\n",
       "│ cookie ┆ node   │\n",
       "│ ---    ┆ ---    │\n",
       "│ i64    ┆ i64    │\n",
       "╞════════╪════════╡\n",
       "│ 1      ┆ 57915  │\n",
       "│ 1      ┆ 239954 │\n",
       "│ 1      ┆ 198003 │\n",
       "│ 1      ┆ 195257 │\n",
       "│ 1      ┆ 199289 │\n",
       "└────────┴────────┘"
      ]
     },
     "execution_count": 87,
     "metadata": {},
     "output_type": "execute_result"
    }
   ],
   "source": [
    "res.head()"
   ]
  },
  {
   "cell_type": "code",
   "execution_count": 88,
   "metadata": {},
   "outputs": [],
   "source": [
    "pl.concat([res, addit]).group_by(\"cookie\").head(40)[\"cookie\",\"node\"].write_csv('results/prediction_hybrid_ranker_final.csv')"
   ]
  },
  {
   "cell_type": "code",
   "execution_count": null,
   "metadata": {},
   "outputs": [],
   "source": []
  }
 ],
 "metadata": {
  "kernelspec": {
   "display_name": "recsys",
   "language": "python",
   "name": "python3"
  },
  "language_info": {
   "codemirror_mode": {
    "name": "ipython",
    "version": 3
   },
   "file_extension": ".py",
   "mimetype": "text/x-python",
   "name": "python",
   "nbconvert_exporter": "python",
   "pygments_lexer": "ipython3",
   "version": "3.11.11"
  }
 },
 "nbformat": 4,
 "nbformat_minor": 2
}
