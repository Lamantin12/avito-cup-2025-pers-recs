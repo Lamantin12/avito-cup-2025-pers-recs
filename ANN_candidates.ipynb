{
 "cells": [
  {
   "cell_type": "code",
   "execution_count": 1,
   "metadata": {},
   "outputs": [
    {
     "name": "stderr",
     "output_type": "stream",
     "text": [
      "/opt/anaconda3/envs/recsys/lib/python3.11/site-packages/lightfm/_lightfm_fast.py:9: UserWarning: LightFM was compiled without OpenMP support. Only a single thread will be used.\n",
      "  warnings.warn(\n"
     ]
    }
   ],
   "source": [
    "from datetime import timedelta\n",
    "import polars as pl\n",
    "import pandas as pd\n",
    "import implicit\n",
    "\n",
    "from tools import load_data_actions, generate_lightfm_recs_mapper\n",
    "from tqdm import tqdm\n",
    "\n",
    "from lightfm.data import Dataset\n",
    "from lightfm import LightFM\n",
    "\n",
    "from rectools import Columns\n",
    "from rectools.dataset import Dataset as RTDataset\n",
    "from rectools.models import (\n",
    "    ImplicitALSWrapperModel,\n",
    "    ImplicitBPRWrapperModel,\n",
    "    LightFMWrapperModel,\n",
    "    PureSVDModel,\n",
    "    ImplicitItemKNNWrapperModel,\n",
    "    EASEModel\n",
    ")\n",
    "\n",
    "from sklearn.model_selection import train_test_split\n",
    "from sklearn.utils import shuffle"
   ]
  },
  {
   "cell_type": "markdown",
   "metadata": {},
   "source": [
    "# First Stage"
   ]
  },
  {
   "cell_type": "code",
   "execution_count": 2,
   "metadata": {},
   "outputs": [],
   "source": [
    "SEED = 42\n",
    "top_N = 40\n",
    "DATA_DIR = 'data/'\n",
    "\n",
    "df_test_users = pl.read_parquet(f'{DATA_DIR}/test_users.pq')\n",
    "df_clickstream = pl.read_parquet(f'{DATA_DIR}/clickstream.pq')\n",
    "\n",
    "df_cat_features = pl.read_parquet(f'{DATA_DIR}/cat_features_preproc_20.pq')\n",
    "df_text_features = pl.read_parquet(f'{DATA_DIR}/text_features.pq')\n",
    "df_event = pl.read_parquet(f'{DATA_DIR}/events.pq')"
   ]
  },
  {
   "cell_type": "code",
   "execution_count": 3,
   "metadata": {},
   "outputs": [],
   "source": [
    "df_train, df_eval = load_data_actions(df_clickstream, df_event)"
   ]
  },
  {
   "cell_type": "code",
   "execution_count": 4,
   "metadata": {},
   "outputs": [
    {
     "data": {
      "text/html": [
       "<div>\n",
       "<style scoped>\n",
       "    .dataframe tbody tr th:only-of-type {\n",
       "        vertical-align: middle;\n",
       "    }\n",
       "\n",
       "    .dataframe tbody tr th {\n",
       "        vertical-align: top;\n",
       "    }\n",
       "\n",
       "    .dataframe thead th {\n",
       "        text-align: right;\n",
       "    }\n",
       "</style>\n",
       "<table border=\"1\" class=\"dataframe\">\n",
       "  <thead>\n",
       "    <tr style=\"text-align: right;\">\n",
       "      <th></th>\n",
       "      <th>node</th>\n",
       "      <th>mean_title_projection</th>\n",
       "    </tr>\n",
       "  </thead>\n",
       "  <tbody>\n",
       "    <tr>\n",
       "      <th>0</th>\n",
       "      <td>1</td>\n",
       "      <td>[-128.0, 127.0, 127.0, -40.0, -92.5, -109.5, 3...</td>\n",
       "    </tr>\n",
       "    <tr>\n",
       "      <th>1</th>\n",
       "      <td>2</td>\n",
       "      <td>[-128.0, 91.0, 127.0, -19.0, -72.0, -128.0, 11...</td>\n",
       "    </tr>\n",
       "    <tr>\n",
       "      <th>2</th>\n",
       "      <td>3</td>\n",
       "      <td>[-128.0, -30.0, 127.0, -119.0, -117.0, -128.0,...</td>\n",
       "    </tr>\n",
       "    <tr>\n",
       "      <th>3</th>\n",
       "      <td>4</td>\n",
       "      <td>[-128.0, 122.0, 127.0, -128.0, -86.0, -128.0, ...</td>\n",
       "    </tr>\n",
       "    <tr>\n",
       "      <th>4</th>\n",
       "      <td>5</td>\n",
       "      <td>[-128.0, 42.0, 127.0, -128.0, -80.0, -128.0, -...</td>\n",
       "    </tr>\n",
       "    <tr>\n",
       "      <th>...</th>\n",
       "      <td>...</td>\n",
       "      <td>...</td>\n",
       "    </tr>\n",
       "    <tr>\n",
       "      <th>408469</th>\n",
       "      <td>424063</td>\n",
       "      <td>[-128.0, -128.0, 127.0, -128.0, -111.0, 1.0, -...</td>\n",
       "    </tr>\n",
       "    <tr>\n",
       "      <th>408470</th>\n",
       "      <td>424064</td>\n",
       "      <td>[-128.0, -128.0, 127.0, -128.0, -126.0, -128.0...</td>\n",
       "    </tr>\n",
       "    <tr>\n",
       "      <th>408471</th>\n",
       "      <td>424065</td>\n",
       "      <td>[-105.0, -128.0, 15.0, -28.0, 68.0, -128.0, 63...</td>\n",
       "    </tr>\n",
       "    <tr>\n",
       "      <th>408472</th>\n",
       "      <td>424067</td>\n",
       "      <td>[-128.0, -128.0, 111.0, -35.0, 50.0, -89.0, -1...</td>\n",
       "    </tr>\n",
       "    <tr>\n",
       "      <th>408473</th>\n",
       "      <td>424068</td>\n",
       "      <td>[-128.0, -128.0, -3.0, -128.0, 93.0, -128.0, -...</td>\n",
       "    </tr>\n",
       "  </tbody>\n",
       "</table>\n",
       "<p>408474 rows × 2 columns</p>\n",
       "</div>"
      ],
      "text/plain": [
       "          node                              mean_title_projection\n",
       "0            1  [-128.0, 127.0, 127.0, -40.0, -92.5, -109.5, 3...\n",
       "1            2  [-128.0, 91.0, 127.0, -19.0, -72.0, -128.0, 11...\n",
       "2            3  [-128.0, -30.0, 127.0, -119.0, -117.0, -128.0,...\n",
       "3            4  [-128.0, 122.0, 127.0, -128.0, -86.0, -128.0, ...\n",
       "4            5  [-128.0, 42.0, 127.0, -128.0, -80.0, -128.0, -...\n",
       "...        ...                                                ...\n",
       "408469  424063  [-128.0, -128.0, 127.0, -128.0, -111.0, 1.0, -...\n",
       "408470  424064  [-128.0, -128.0, 127.0, -128.0, -126.0, -128.0...\n",
       "408471  424065  [-105.0, -128.0, 15.0, -28.0, 68.0, -128.0, 63...\n",
       "408472  424067  [-128.0, -128.0, 111.0, -35.0, 50.0, -89.0, -1...\n",
       "408473  424068  [-128.0, -128.0, -3.0, -128.0, 93.0, -128.0, -...\n",
       "\n",
       "[408474 rows x 2 columns]"
      ]
     },
     "execution_count": 4,
     "metadata": {},
     "output_type": "execute_result"
    }
   ],
   "source": [
    "import numpy as np\n",
    "\n",
    "mean_by_cat = (\n",
    "    df_text_features\n",
    "    .join(df_cat_features[\"item\", \"node\"], on=\"item\", how=\"left\")\n",
    "    .to_pandas()\n",
    "    .groupby(\"node\")[\"title_projection\"]\n",
    "    .apply(lambda vs: np.mean(np.stack(vs.values), axis=0).tolist())\n",
    "    .reset_index(name=\"mean_title_projection\")\n",
    ")\n",
    "\n",
    "mean_by_cat"
   ]
  },
  {
   "cell_type": "code",
   "execution_count": 5,
   "metadata": {},
   "outputs": [
    {
     "name": "stderr",
     "output_type": "stream",
     "text": [
      "/var/folders/1v/2njvtrl903s020_gk0tw647c0000gn/T/ipykernel_41571/3225919249.py:2: UserWarning: `to_struct()` should be passed a list of field names to avoid query errors in subsequent operations (e.g. <struct operation> not supported for dtype Unknown)\n",
      "  item_features = item_features.with_columns(pl.col(\"mean_title_projection\").list.to_struct()).unnest(\"mean_title_projection\")\n"
     ]
    },
    {
     "data": {
      "text/html": [
       "<div><style>\n",
       ".dataframe > thead > tr,\n",
       ".dataframe > tbody > tr {\n",
       "  text-align: right;\n",
       "  white-space: pre-wrap;\n",
       "}\n",
       "</style>\n",
       "<small>shape: (5, 65)</small><table border=\"1\" class=\"dataframe\"><thead><tr><th>id</th><th>field_0</th><th>field_1</th><th>field_2</th><th>field_3</th><th>field_4</th><th>field_5</th><th>field_6</th><th>field_7</th><th>field_8</th><th>field_9</th><th>field_10</th><th>field_11</th><th>field_12</th><th>field_13</th><th>field_14</th><th>field_15</th><th>field_16</th><th>field_17</th><th>field_18</th><th>field_19</th><th>field_20</th><th>field_21</th><th>field_22</th><th>field_23</th><th>field_24</th><th>field_25</th><th>field_26</th><th>field_27</th><th>field_28</th><th>field_29</th><th>field_30</th><th>field_31</th><th>field_32</th><th>field_33</th><th>field_34</th><th>field_35</th><th>field_36</th><th>field_37</th><th>field_38</th><th>field_39</th><th>field_40</th><th>field_41</th><th>field_42</th><th>field_43</th><th>field_44</th><th>field_45</th><th>field_46</th><th>field_47</th><th>field_48</th><th>field_49</th><th>field_50</th><th>field_51</th><th>field_52</th><th>field_53</th><th>field_54</th><th>field_55</th><th>field_56</th><th>field_57</th><th>field_58</th><th>field_59</th><th>field_60</th><th>field_61</th><th>field_62</th><th>field_63</th></tr><tr><td>u32</td><td>f64</td><td>f64</td><td>f64</td><td>f64</td><td>f64</td><td>f64</td><td>f64</td><td>f64</td><td>f64</td><td>f64</td><td>f64</td><td>f64</td><td>f64</td><td>f64</td><td>f64</td><td>f64</td><td>f64</td><td>f64</td><td>f64</td><td>f64</td><td>f64</td><td>f64</td><td>f64</td><td>f64</td><td>f64</td><td>f64</td><td>f64</td><td>f64</td><td>f64</td><td>f64</td><td>f64</td><td>f64</td><td>f64</td><td>f64</td><td>f64</td><td>f64</td><td>f64</td><td>f64</td><td>f64</td><td>f64</td><td>f64</td><td>f64</td><td>f64</td><td>f64</td><td>f64</td><td>f64</td><td>f64</td><td>f64</td><td>f64</td><td>f64</td><td>f64</td><td>f64</td><td>f64</td><td>f64</td><td>f64</td><td>f64</td><td>f64</td><td>f64</td><td>f64</td><td>f64</td><td>f64</td><td>f64</td><td>f64</td><td>f64</td></tr></thead><tbody><tr><td>1</td><td>-128.0</td><td>127.0</td><td>127.0</td><td>-40.0</td><td>-92.5</td><td>-109.5</td><td>3.5</td><td>-44.0</td><td>106.0</td><td>90.0</td><td>33.0</td><td>7.5</td><td>-72.5</td><td>-49.5</td><td>111.0</td><td>27.0</td><td>23.5</td><td>-98.5</td><td>98.5</td><td>-26.0</td><td>-94.0</td><td>-11.5</td><td>-57.5</td><td>127.0</td><td>-34.0</td><td>5.5</td><td>-103.0</td><td>-30.0</td><td>75.5</td><td>38.0</td><td>3.5</td><td>17.5</td><td>16.5</td><td>-19.5</td><td>-40.0</td><td>9.0</td><td>127.0</td><td>16.0</td><td>-85.5</td><td>17.0</td><td>97.5</td><td>-107.5</td><td>45.0</td><td>-65.0</td><td>3.0</td><td>28.5</td><td>-122.0</td><td>-77.5</td><td>-5.0</td><td>-89.0</td><td>44.0</td><td>-60.0</td><td>74.0</td><td>-63.0</td><td>50.0</td><td>-125.5</td><td>55.0</td><td>-23.0</td><td>-41.0</td><td>5.0</td><td>114.5</td><td>122.0</td><td>66.0</td><td>23.5</td></tr><tr><td>2</td><td>-128.0</td><td>91.0</td><td>127.0</td><td>-19.0</td><td>-72.0</td><td>-128.0</td><td>11.0</td><td>-128.0</td><td>127.0</td><td>127.0</td><td>9.0</td><td>21.0</td><td>-128.0</td><td>-123.0</td><td>127.0</td><td>-3.0</td><td>9.0</td><td>-86.0</td><td>78.0</td><td>-79.0</td><td>-89.0</td><td>-59.0</td><td>-8.0</td><td>127.0</td><td>17.0</td><td>-51.0</td><td>-128.0</td><td>-108.0</td><td>127.0</td><td>-33.0</td><td>-23.0</td><td>24.0</td><td>-31.0</td><td>21.0</td><td>-123.0</td><td>-97.0</td><td>127.0</td><td>66.0</td><td>-128.0</td><td>101.0</td><td>127.0</td><td>-109.0</td><td>43.0</td><td>-68.0</td><td>30.0</td><td>82.0</td><td>-128.0</td><td>-28.0</td><td>-93.0</td><td>-53.0</td><td>44.0</td><td>-20.0</td><td>84.0</td><td>-45.0</td><td>97.0</td><td>-128.0</td><td>116.0</td><td>-4.0</td><td>-74.0</td><td>60.0</td><td>127.0</td><td>127.0</td><td>18.0</td><td>-5.0</td></tr><tr><td>3</td><td>-128.0</td><td>-30.0</td><td>127.0</td><td>-119.0</td><td>-117.0</td><td>-128.0</td><td>-73.0</td><td>-16.0</td><td>127.0</td><td>100.0</td><td>81.0</td><td>117.0</td><td>-15.0</td><td>-128.0</td><td>112.0</td><td>9.0</td><td>36.0</td><td>-128.0</td><td>127.0</td><td>-128.0</td><td>-97.0</td><td>80.0</td><td>-38.0</td><td>127.0</td><td>120.0</td><td>38.0</td><td>-128.0</td><td>-74.0</td><td>124.0</td><td>-40.0</td><td>59.0</td><td>-25.0</td><td>-39.0</td><td>66.0</td><td>-128.0</td><td>-114.0</td><td>113.0</td><td>34.0</td><td>-128.0</td><td>29.0</td><td>127.0</td><td>-128.0</td><td>-37.0</td><td>34.0</td><td>76.0</td><td>43.0</td><td>-106.0</td><td>-59.0</td><td>71.0</td><td>-10.0</td><td>48.0</td><td>41.0</td><td>89.0</td><td>-6.0</td><td>69.0</td><td>-56.0</td><td>127.0</td><td>-89.0</td><td>-97.0</td><td>7.0</td><td>92.0</td><td>25.0</td><td>-14.0</td><td>36.0</td></tr><tr><td>4</td><td>-128.0</td><td>122.0</td><td>127.0</td><td>-128.0</td><td>-86.0</td><td>-128.0</td><td>-128.0</td><td>-36.0</td><td>127.0</td><td>-13.0</td><td>112.0</td><td>-21.0</td><td>77.0</td><td>-54.0</td><td>75.0</td><td>115.0</td><td>39.0</td><td>-61.0</td><td>36.0</td><td>-98.0</td><td>-25.0</td><td>87.0</td><td>7.0</td><td>127.0</td><td>-6.0</td><td>50.0</td><td>-128.0</td><td>-128.0</td><td>104.0</td><td>-128.0</td><td>-43.0</td><td>-96.0</td><td>-43.0</td><td>44.0</td><td>-128.0</td><td>-128.0</td><td>13.0</td><td>127.0</td><td>-128.0</td><td>6.0</td><td>127.0</td><td>-128.0</td><td>-69.0</td><td>-15.0</td><td>48.0</td><td>127.0</td><td>-128.0</td><td>-18.0</td><td>115.0</td><td>23.0</td><td>123.0</td><td>-45.0</td><td>127.0</td><td>-36.0</td><td>127.0</td><td>15.0</td><td>127.0</td><td>-34.0</td><td>-95.0</td><td>36.0</td><td>117.0</td><td>41.0</td><td>49.0</td><td>9.0</td></tr><tr><td>5</td><td>-128.0</td><td>42.0</td><td>127.0</td><td>-128.0</td><td>-80.0</td><td>-128.0</td><td>-128.0</td><td>-18.0</td><td>112.0</td><td>-17.0</td><td>127.0</td><td>-65.0</td><td>120.0</td><td>-68.0</td><td>52.0</td><td>79.0</td><td>52.0</td><td>-76.0</td><td>59.0</td><td>-114.0</td><td>-64.0</td><td>82.0</td><td>73.0</td><td>127.0</td><td>-3.0</td><td>85.0</td><td>-128.0</td><td>-105.0</td><td>26.0</td><td>-128.0</td><td>-35.0</td><td>45.0</td><td>35.0</td><td>31.0</td><td>-65.0</td><td>-107.0</td><td>-13.0</td><td>127.0</td><td>-128.0</td><td>-1.0</td><td>127.0</td><td>-45.0</td><td>-17.0</td><td>0.0</td><td>24.0</td><td>127.0</td><td>-76.0</td><td>-16.0</td><td>127.0</td><td>-36.0</td><td>66.0</td><td>-48.0</td><td>127.0</td><td>-47.0</td><td>106.0</td><td>-14.0</td><td>127.0</td><td>-63.0</td><td>48.0</td><td>32.0</td><td>81.0</td><td>-15.0</td><td>80.0</td><td>-31.0</td></tr></tbody></table></div>"
      ],
      "text/plain": [
       "shape: (5, 65)\n",
       "┌─────┬─────────┬─────────┬─────────┬───┬──────────┬──────────┬──────────┬──────────┐\n",
       "│ id  ┆ field_0 ┆ field_1 ┆ field_2 ┆ … ┆ field_60 ┆ field_61 ┆ field_62 ┆ field_63 │\n",
       "│ --- ┆ ---     ┆ ---     ┆ ---     ┆   ┆ ---      ┆ ---      ┆ ---      ┆ ---      │\n",
       "│ u32 ┆ f64     ┆ f64     ┆ f64     ┆   ┆ f64      ┆ f64      ┆ f64      ┆ f64      │\n",
       "╞═════╪═════════╪═════════╪═════════╪═══╪══════════╪══════════╪══════════╪══════════╡\n",
       "│ 1   ┆ -128.0  ┆ 127.0   ┆ 127.0   ┆ … ┆ 114.5    ┆ 122.0    ┆ 66.0     ┆ 23.5     │\n",
       "│ 2   ┆ -128.0  ┆ 91.0    ┆ 127.0   ┆ … ┆ 127.0    ┆ 127.0    ┆ 18.0     ┆ -5.0     │\n",
       "│ 3   ┆ -128.0  ┆ -30.0   ┆ 127.0   ┆ … ┆ 92.0     ┆ 25.0     ┆ -14.0    ┆ 36.0     │\n",
       "│ 4   ┆ -128.0  ┆ 122.0   ┆ 127.0   ┆ … ┆ 117.0    ┆ 41.0     ┆ 49.0     ┆ 9.0      │\n",
       "│ 5   ┆ -128.0  ┆ 42.0    ┆ 127.0   ┆ … ┆ 81.0     ┆ -15.0    ┆ 80.0     ┆ -31.0    │\n",
       "└─────┴─────────┴─────────┴─────────┴───┴──────────┴──────────┴──────────┴──────────┘"
      ]
     },
     "execution_count": 5,
     "metadata": {},
     "output_type": "execute_result"
    }
   ],
   "source": [
    "item_features = pl.DataFrame(mean_by_cat)\n",
    "item_features = item_features.with_columns(pl.col(\"mean_title_projection\").list.to_struct()).unnest(\"mean_title_projection\")\n",
    "item_features = item_features.rename({\"node\": \"id\"})\n",
    "# unmelted_item_features = (\n",
    "#     item_features.unpivot(index=\"id\", on=[x for x in item_features.columns if x != 'id'])\n",
    "# )\n",
    "# unmelted_item_features = unmelted_item_features.rename({\"variable\": \"feature\"})\n",
    "item_features.head()"
   ]
  },
  {
   "cell_type": "code",
   "execution_count": 6,
   "metadata": {},
   "outputs": [],
   "source": [
    "def dataframe2rectools(df):\n",
    "    return (\n",
    "        df[[\"cookie\", \"node\", \"event_date\"]]\n",
    "        .with_columns(pl.lit(1).alias('weight'))\n",
    "        .rename({\n",
    "            \"cookie\": Columns.User,\n",
    "            \"node\": Columns.Item,\n",
    "            \"weight\": Columns.Weight,\n",
    "            \"event_date\": Columns.Datetime,\n",
    "        })\n",
    "    ).to_pandas()\n",
    "df_train = dataframe2rectools(df_train)"
   ]
  },
  {
   "cell_type": "code",
   "execution_count": 35,
   "metadata": {},
   "outputs": [],
   "source": [
    "import polars as pl\n",
    "import numpy as np\n",
    "import faiss\n",
    "\n",
    "class MeanEmbeddingRecommender:\n",
    "    def __init__(self):\n",
    "        self.user_embeddings = None  # user_id, mean_field_0 ... mean_field_63\n",
    "        self.seen_items = None       # user_id, list[item_id]\n",
    "        self.item_ids = None          # item_id array aligned with FAISS index\n",
    "        self.faiss_index = None\n",
    "        self.embedding_fields = None # Names of embedding fields\n",
    "\n",
    "    def fit(self, df_clickstream: pl.DataFrame, df_text_vec: pl.DataFrame):\n",
    "        # Merge to get user-item embeddings\n",
    "        merged = df_clickstream.join(df_text_vec, on=\"item_id\", how=\"inner\")\n",
    "        \n",
    "        # Collect seen items per user\n",
    "        self.seen_items = df_clickstream.group_by(\"user_id\").agg(\n",
    "            pl.col(\"item_id\").alias(\"seen_items\")\n",
    "        )\n",
    "\n",
    "        # Get embedding column names (field_0 ... field_63)\n",
    "        self.embedding_fields = [col for col in df_text_vec.columns if col.startswith(\"field_\")]\n",
    "        \n",
    "        # Compute mean embeddings per user\n",
    "        self.user_embeddings = merged.group_by(\"user_id\").agg(\n",
    "            [pl.col(field).mean().alias(f\"mean_{field}\") for field in self.embedding_fields]\n",
    "        )\n",
    "\n",
    "        # Prepare FAISS index\n",
    "        items_embeddings = df_text_vec.select(self.embedding_fields).to_numpy()\n",
    "        items_embeddings = np.ascontiguousarray(items_embeddings, dtype='float32')\n",
    "        \n",
    "        # Normalize and create index\n",
    "        self.item_ids = df_text_vec[\"item_id\"].to_numpy()\n",
    "        d = items_embeddings.shape[1]\n",
    "        self.faiss_index = faiss.IndexFlatIP(d)\n",
    "        faiss.normalize_L2(items_embeddings)\n",
    "        self.faiss_index.add(items_embeddings)\n",
    "\n",
    "    def recommend(self, user_id: str, k: int = 10) -> pl.DataFrame:\n",
    "        # Get user embedding\n",
    "        user_data = self.user_embeddings.filter(pl.col(\"user_id\") == user_id)\n",
    "        if user_data.is_empty():\n",
    "            return pl.DataFrame({\"item_id\": [], \"score\": []})\n",
    "        \n",
    "        # Extract and normalize user embedding\n",
    "        user_embedding = user_data.select(self.embedding_fields).to_numpy().astype('float32')\n",
    "        faiss.normalize_L2(user_embedding)\n",
    "        \n",
    "        # Get seen items\n",
    "        seen_data = self.seen_items.filter(pl.col(\"user_id\") == user_id)\n",
    "        seen_items = set() if seen_data.is_empty() else set(seen_data[\"seen_items\"].item())\n",
    "        \n",
    "        # Determine retrieval size\n",
    "        seen_count = len(seen_items)\n",
    "        retrieve_k = min(k + seen_count, self.faiss_index.ntotal)\n",
    "        if retrieve_k <= 0:\n",
    "            return pl.DataFrame({\"item_id\": [], \"score\": []})\n",
    "        \n",
    "        # Search FAISS index\n",
    "        scores, indices = self.faiss_index.search(user_embedding, retrieve_k)\n",
    "        scores = scores[0]\n",
    "        indices = indices[0]\n",
    "        \n",
    "        # Map to item IDs and filter seen items\n",
    "        candidates = [(self.item_ids[i], scores[i]) for i in indices if self.item_ids[i] not in seen_items]\n",
    "        \n",
    "        # Select top-k remaining\n",
    "        top_k = sorted(candidates, key=lambda x: -x[1])[:k]\n",
    "        if not top_k:\n",
    "            return pl.DataFrame({\"item_id\": [], \"score\": []})\n",
    "        \n",
    "        return pl.DataFrame({\n",
    "            \"item_id\": [item[0] for item in top_k],\n",
    "            \"score\": [item[1] for item in top_k]\n",
    "        })\n",
    "\n",
    "import polars as pl\n",
    "import numpy as np\n",
    "from annoy import AnnoyIndex\n",
    "\n",
    "import polars as pl\n",
    "import numpy as np\n",
    "from annoy import AnnoyIndex\n",
    "\n",
    "class LightweightRecommender:\n",
    "    def __init__(self, embedding_dim=64, n_trees=20):\n",
    "        self.embedding_dim = embedding_dim\n",
    "        self.n_trees = n_trees\n",
    "        self.user_means = None      # user_id, mean_embedding (list)\n",
    "        self.seen_items = None      # user_id -> list[item_id]\n",
    "        self.item_mapping = None    # item_id -> embedding\n",
    "        self.annoy_index = None\n",
    "        self.embedding_fields = None\n",
    "\n",
    "    def fit(self, df_clickstream: pl.LazyFrame, df_text_vec: pl.LazyFrame):\n",
    "        # Process embeddings\n",
    "        self.embedding_fields = sorted(\n",
    "            [col for col in df_text_vec.columns if col.startswith(\"field_\")],\n",
    "            key=lambda x: int(x.split('_')[1])\n",
    "        )\n",
    "        \n",
    "        # Join data and process in streaming mode\n",
    "        merged = df_clickstream.lazy().join(\n",
    "            df_text_vec.lazy(),\n",
    "            on=\"item_id\",\n",
    "            how=\"inner\"\n",
    "        )\n",
    "\n",
    "        # Compute user means (correct aggregation)\n",
    "        self.user_means = merged.group_by(\"user_id\").agg(\n",
    "            pl.col(\"item_id\").alias(\"seen_items\"),\n",
    "            pl.concat_list([pl.col(f).mean() for f in self.embedding_fields]).alias(\"mean_embedding\")\n",
    "        ).collect(streaming=True)\n",
    "\n",
    "        # Build ANNOY index\n",
    "        self.item_mapping = df_text_vec.lazy().collect(streaming=True)\n",
    "        self.annoy_index = AnnoyIndex(self.embedding_dim, 'dot')\n",
    "        \n",
    "        # Add items to index\n",
    "        for i, row in enumerate(self.item_mapping.iter_rows(named=True)):\n",
    "            embedding = [row[f] for f in self.embedding_fields]\n",
    "            self.annoy_index.add_item(i, embedding)\n",
    "        \n",
    "        self.annoy_index.build(self.n_trees)\n",
    "\n",
    "    def recommend(self, user_id: str, k: int = 10) -> pl.DataFrame:\n",
    "        # Handle missing users\n",
    "        user_data = self.user_means.filter(pl.col(\"user_id\") == user_id)\n",
    "        if user_data.is_empty():\n",
    "            return pl.DataFrame({\"item_id\": [], \"score\": []})\n",
    "\n",
    "        # Get user embedding and seen items\n",
    "        mean_embedding = np.array(\n",
    "            user_data[\"mean_embedding\"].item(), \n",
    "            dtype=np.float32\n",
    "        )\n",
    "        seen_items = set(user_data[\"seen_items\"].item())\n",
    "\n",
    "        # Find approximate neighbors\n",
    "        item_ids, scores = self.annoy_index.get_nns_by_vector(\n",
    "            mean_embedding,\n",
    "            n=k + len(seen_items),\n",
    "            include_distances=True\n",
    "        )\n",
    "\n",
    "        # Convert to cosine similarity (1 - angular distance^2/2)\n",
    "        # cosine_scores = 1 - (np.array(scores)**2)/2\n",
    "\n",
    "        # Filter seen items and format results\n",
    "        results = []\n",
    "        all_items = self.item_mapping[\"item_id\"].to_list()\n",
    "        for i, score in zip(item_ids, scores):\n",
    "            item_id = all_items[i]\n",
    "            if item_id not in seen_items:\n",
    "                results.append({\"item_id\": item_id, \"score\": score})\n",
    "                if len(results) >= k:\n",
    "                    break\n",
    "\n",
    "        return pl.DataFrame(results)"
   ]
  },
  {
   "cell_type": "code",
   "execution_count": 8,
   "metadata": {},
   "outputs": [],
   "source": [
    "item_features = item_features.rename({\"id\": \"item_id\"})"
   ]
  },
  {
   "cell_type": "code",
   "execution_count": 9,
   "metadata": {},
   "outputs": [],
   "source": [
    "df_train = df_train[[\"user_id\", \"item_id\"]]"
   ]
  },
  {
   "cell_type": "code",
   "execution_count": 10,
   "metadata": {},
   "outputs": [
    {
     "data": {
      "text/html": [
       "<div><style>\n",
       ".dataframe > thead > tr,\n",
       ".dataframe > tbody > tr {\n",
       "  text-align: right;\n",
       "  white-space: pre-wrap;\n",
       "}\n",
       "</style>\n",
       "<small>shape: (408_474, 65)</small><table border=\"1\" class=\"dataframe\"><thead><tr><th>item_id</th><th>field_0</th><th>field_1</th><th>field_2</th><th>field_3</th><th>field_4</th><th>field_5</th><th>field_6</th><th>field_7</th><th>field_8</th><th>field_9</th><th>field_10</th><th>field_11</th><th>field_12</th><th>field_13</th><th>field_14</th><th>field_15</th><th>field_16</th><th>field_17</th><th>field_18</th><th>field_19</th><th>field_20</th><th>field_21</th><th>field_22</th><th>field_23</th><th>field_24</th><th>field_25</th><th>field_26</th><th>field_27</th><th>field_28</th><th>field_29</th><th>field_30</th><th>field_31</th><th>field_32</th><th>field_33</th><th>field_34</th><th>field_35</th><th>field_36</th><th>field_37</th><th>field_38</th><th>field_39</th><th>field_40</th><th>field_41</th><th>field_42</th><th>field_43</th><th>field_44</th><th>field_45</th><th>field_46</th><th>field_47</th><th>field_48</th><th>field_49</th><th>field_50</th><th>field_51</th><th>field_52</th><th>field_53</th><th>field_54</th><th>field_55</th><th>field_56</th><th>field_57</th><th>field_58</th><th>field_59</th><th>field_60</th><th>field_61</th><th>field_62</th><th>field_63</th></tr><tr><td>u32</td><td>f64</td><td>f64</td><td>f64</td><td>f64</td><td>f64</td><td>f64</td><td>f64</td><td>f64</td><td>f64</td><td>f64</td><td>f64</td><td>f64</td><td>f64</td><td>f64</td><td>f64</td><td>f64</td><td>f64</td><td>f64</td><td>f64</td><td>f64</td><td>f64</td><td>f64</td><td>f64</td><td>f64</td><td>f64</td><td>f64</td><td>f64</td><td>f64</td><td>f64</td><td>f64</td><td>f64</td><td>f64</td><td>f64</td><td>f64</td><td>f64</td><td>f64</td><td>f64</td><td>f64</td><td>f64</td><td>f64</td><td>f64</td><td>f64</td><td>f64</td><td>f64</td><td>f64</td><td>f64</td><td>f64</td><td>f64</td><td>f64</td><td>f64</td><td>f64</td><td>f64</td><td>f64</td><td>f64</td><td>f64</td><td>f64</td><td>f64</td><td>f64</td><td>f64</td><td>f64</td><td>f64</td><td>f64</td><td>f64</td><td>f64</td></tr></thead><tbody><tr><td>1</td><td>-128.0</td><td>127.0</td><td>127.0</td><td>-40.0</td><td>-92.5</td><td>-109.5</td><td>3.5</td><td>-44.0</td><td>106.0</td><td>90.0</td><td>33.0</td><td>7.5</td><td>-72.5</td><td>-49.5</td><td>111.0</td><td>27.0</td><td>23.5</td><td>-98.5</td><td>98.5</td><td>-26.0</td><td>-94.0</td><td>-11.5</td><td>-57.5</td><td>127.0</td><td>-34.0</td><td>5.5</td><td>-103.0</td><td>-30.0</td><td>75.5</td><td>38.0</td><td>3.5</td><td>17.5</td><td>16.5</td><td>-19.5</td><td>-40.0</td><td>9.0</td><td>127.0</td><td>16.0</td><td>-85.5</td><td>17.0</td><td>97.5</td><td>-107.5</td><td>45.0</td><td>-65.0</td><td>3.0</td><td>28.5</td><td>-122.0</td><td>-77.5</td><td>-5.0</td><td>-89.0</td><td>44.0</td><td>-60.0</td><td>74.0</td><td>-63.0</td><td>50.0</td><td>-125.5</td><td>55.0</td><td>-23.0</td><td>-41.0</td><td>5.0</td><td>114.5</td><td>122.0</td><td>66.0</td><td>23.5</td></tr><tr><td>2</td><td>-128.0</td><td>91.0</td><td>127.0</td><td>-19.0</td><td>-72.0</td><td>-128.0</td><td>11.0</td><td>-128.0</td><td>127.0</td><td>127.0</td><td>9.0</td><td>21.0</td><td>-128.0</td><td>-123.0</td><td>127.0</td><td>-3.0</td><td>9.0</td><td>-86.0</td><td>78.0</td><td>-79.0</td><td>-89.0</td><td>-59.0</td><td>-8.0</td><td>127.0</td><td>17.0</td><td>-51.0</td><td>-128.0</td><td>-108.0</td><td>127.0</td><td>-33.0</td><td>-23.0</td><td>24.0</td><td>-31.0</td><td>21.0</td><td>-123.0</td><td>-97.0</td><td>127.0</td><td>66.0</td><td>-128.0</td><td>101.0</td><td>127.0</td><td>-109.0</td><td>43.0</td><td>-68.0</td><td>30.0</td><td>82.0</td><td>-128.0</td><td>-28.0</td><td>-93.0</td><td>-53.0</td><td>44.0</td><td>-20.0</td><td>84.0</td><td>-45.0</td><td>97.0</td><td>-128.0</td><td>116.0</td><td>-4.0</td><td>-74.0</td><td>60.0</td><td>127.0</td><td>127.0</td><td>18.0</td><td>-5.0</td></tr><tr><td>3</td><td>-128.0</td><td>-30.0</td><td>127.0</td><td>-119.0</td><td>-117.0</td><td>-128.0</td><td>-73.0</td><td>-16.0</td><td>127.0</td><td>100.0</td><td>81.0</td><td>117.0</td><td>-15.0</td><td>-128.0</td><td>112.0</td><td>9.0</td><td>36.0</td><td>-128.0</td><td>127.0</td><td>-128.0</td><td>-97.0</td><td>80.0</td><td>-38.0</td><td>127.0</td><td>120.0</td><td>38.0</td><td>-128.0</td><td>-74.0</td><td>124.0</td><td>-40.0</td><td>59.0</td><td>-25.0</td><td>-39.0</td><td>66.0</td><td>-128.0</td><td>-114.0</td><td>113.0</td><td>34.0</td><td>-128.0</td><td>29.0</td><td>127.0</td><td>-128.0</td><td>-37.0</td><td>34.0</td><td>76.0</td><td>43.0</td><td>-106.0</td><td>-59.0</td><td>71.0</td><td>-10.0</td><td>48.0</td><td>41.0</td><td>89.0</td><td>-6.0</td><td>69.0</td><td>-56.0</td><td>127.0</td><td>-89.0</td><td>-97.0</td><td>7.0</td><td>92.0</td><td>25.0</td><td>-14.0</td><td>36.0</td></tr><tr><td>4</td><td>-128.0</td><td>122.0</td><td>127.0</td><td>-128.0</td><td>-86.0</td><td>-128.0</td><td>-128.0</td><td>-36.0</td><td>127.0</td><td>-13.0</td><td>112.0</td><td>-21.0</td><td>77.0</td><td>-54.0</td><td>75.0</td><td>115.0</td><td>39.0</td><td>-61.0</td><td>36.0</td><td>-98.0</td><td>-25.0</td><td>87.0</td><td>7.0</td><td>127.0</td><td>-6.0</td><td>50.0</td><td>-128.0</td><td>-128.0</td><td>104.0</td><td>-128.0</td><td>-43.0</td><td>-96.0</td><td>-43.0</td><td>44.0</td><td>-128.0</td><td>-128.0</td><td>13.0</td><td>127.0</td><td>-128.0</td><td>6.0</td><td>127.0</td><td>-128.0</td><td>-69.0</td><td>-15.0</td><td>48.0</td><td>127.0</td><td>-128.0</td><td>-18.0</td><td>115.0</td><td>23.0</td><td>123.0</td><td>-45.0</td><td>127.0</td><td>-36.0</td><td>127.0</td><td>15.0</td><td>127.0</td><td>-34.0</td><td>-95.0</td><td>36.0</td><td>117.0</td><td>41.0</td><td>49.0</td><td>9.0</td></tr><tr><td>5</td><td>-128.0</td><td>42.0</td><td>127.0</td><td>-128.0</td><td>-80.0</td><td>-128.0</td><td>-128.0</td><td>-18.0</td><td>112.0</td><td>-17.0</td><td>127.0</td><td>-65.0</td><td>120.0</td><td>-68.0</td><td>52.0</td><td>79.0</td><td>52.0</td><td>-76.0</td><td>59.0</td><td>-114.0</td><td>-64.0</td><td>82.0</td><td>73.0</td><td>127.0</td><td>-3.0</td><td>85.0</td><td>-128.0</td><td>-105.0</td><td>26.0</td><td>-128.0</td><td>-35.0</td><td>45.0</td><td>35.0</td><td>31.0</td><td>-65.0</td><td>-107.0</td><td>-13.0</td><td>127.0</td><td>-128.0</td><td>-1.0</td><td>127.0</td><td>-45.0</td><td>-17.0</td><td>0.0</td><td>24.0</td><td>127.0</td><td>-76.0</td><td>-16.0</td><td>127.0</td><td>-36.0</td><td>66.0</td><td>-48.0</td><td>127.0</td><td>-47.0</td><td>106.0</td><td>-14.0</td><td>127.0</td><td>-63.0</td><td>48.0</td><td>32.0</td><td>81.0</td><td>-15.0</td><td>80.0</td><td>-31.0</td></tr><tr><td>&hellip;</td><td>&hellip;</td><td>&hellip;</td><td>&hellip;</td><td>&hellip;</td><td>&hellip;</td><td>&hellip;</td><td>&hellip;</td><td>&hellip;</td><td>&hellip;</td><td>&hellip;</td><td>&hellip;</td><td>&hellip;</td><td>&hellip;</td><td>&hellip;</td><td>&hellip;</td><td>&hellip;</td><td>&hellip;</td><td>&hellip;</td><td>&hellip;</td><td>&hellip;</td><td>&hellip;</td><td>&hellip;</td><td>&hellip;</td><td>&hellip;</td><td>&hellip;</td><td>&hellip;</td><td>&hellip;</td><td>&hellip;</td><td>&hellip;</td><td>&hellip;</td><td>&hellip;</td><td>&hellip;</td><td>&hellip;</td><td>&hellip;</td><td>&hellip;</td><td>&hellip;</td><td>&hellip;</td><td>&hellip;</td><td>&hellip;</td><td>&hellip;</td><td>&hellip;</td><td>&hellip;</td><td>&hellip;</td><td>&hellip;</td><td>&hellip;</td><td>&hellip;</td><td>&hellip;</td><td>&hellip;</td><td>&hellip;</td><td>&hellip;</td><td>&hellip;</td><td>&hellip;</td><td>&hellip;</td><td>&hellip;</td><td>&hellip;</td><td>&hellip;</td><td>&hellip;</td><td>&hellip;</td><td>&hellip;</td><td>&hellip;</td><td>&hellip;</td><td>&hellip;</td><td>&hellip;</td><td>&hellip;</td></tr><tr><td>424063</td><td>-128.0</td><td>-128.0</td><td>127.0</td><td>-128.0</td><td>-111.0</td><td>1.0</td><td>-36.0</td><td>98.0</td><td>103.0</td><td>-44.0</td><td>127.0</td><td>-67.0</td><td>38.0</td><td>-128.0</td><td>75.0</td><td>69.0</td><td>127.0</td><td>-103.0</td><td>-21.0</td><td>43.0</td><td>-32.0</td><td>56.0</td><td>-34.0</td><td>127.0</td><td>54.0</td><td>-19.0</td><td>-10.0</td><td>-4.0</td><td>34.0</td><td>-36.0</td><td>-86.0</td><td>-93.0</td><td>-67.0</td><td>-1.0</td><td>-79.0</td><td>-128.0</td><td>81.0</td><td>42.0</td><td>-102.0</td><td>-126.0</td><td>-22.0</td><td>-128.0</td><td>-128.0</td><td>6.0</td><td>23.0</td><td>20.0</td><td>1.0</td><td>-39.0</td><td>127.0</td><td>-128.0</td><td>-38.0</td><td>-19.0</td><td>127.0</td><td>-31.0</td><td>-87.0</td><td>-26.0</td><td>127.0</td><td>122.0</td><td>-14.0</td><td>-18.0</td><td>52.0</td><td>127.0</td><td>-3.0</td><td>-69.0</td></tr><tr><td>424064</td><td>-128.0</td><td>-128.0</td><td>127.0</td><td>-128.0</td><td>-126.0</td><td>-128.0</td><td>47.0</td><td>127.0</td><td>84.0</td><td>-79.0</td><td>127.0</td><td>44.0</td><td>127.0</td><td>-128.0</td><td>127.0</td><td>54.0</td><td>-41.0</td><td>-128.0</td><td>66.0</td><td>-103.0</td><td>89.0</td><td>-44.0</td><td>29.0</td><td>117.0</td><td>-100.0</td><td>97.0</td><td>-128.0</td><td>-5.0</td><td>118.0</td><td>8.0</td><td>33.0</td><td>-34.0</td><td>57.0</td><td>-84.0</td><td>-128.0</td><td>-94.0</td><td>-57.0</td><td>101.0</td><td>-128.0</td><td>-99.0</td><td>30.0</td><td>-128.0</td><td>13.0</td><td>-79.0</td><td>59.0</td><td>63.0</td><td>-128.0</td><td>17.0</td><td>67.0</td><td>101.0</td><td>42.0</td><td>-115.0</td><td>18.0</td><td>-116.0</td><td>-100.0</td><td>-45.0</td><td>127.0</td><td>-73.0</td><td>43.0</td><td>38.0</td><td>-55.0</td><td>127.0</td><td>44.0</td><td>14.0</td></tr><tr><td>424065</td><td>-105.0</td><td>-128.0</td><td>15.0</td><td>-28.0</td><td>68.0</td><td>-128.0</td><td>63.0</td><td>123.0</td><td>-3.0</td><td>-113.0</td><td>127.0</td><td>-128.0</td><td>127.0</td><td>-128.0</td><td>127.0</td><td>112.0</td><td>-104.0</td><td>-128.0</td><td>54.0</td><td>-82.0</td><td>-100.0</td><td>81.0</td><td>-11.0</td><td>127.0</td><td>1.0</td><td>64.0</td><td>-128.0</td><td>-128.0</td><td>93.0</td><td>-128.0</td><td>25.0</td><td>-77.0</td><td>127.0</td><td>-128.0</td><td>-78.0</td><td>-24.0</td><td>97.0</td><td>-7.0</td><td>-80.0</td><td>2.0</td><td>35.0</td><td>-128.0</td><td>-128.0</td><td>-29.0</td><td>-23.0</td><td>47.0</td><td>-69.0</td><td>24.0</td><td>49.0</td><td>0.0</td><td>-30.0</td><td>17.0</td><td>22.0</td><td>127.0</td><td>127.0</td><td>-128.0</td><td>-8.0</td><td>-33.0</td><td>-67.0</td><td>-36.0</td><td>-15.0</td><td>127.0</td><td>-19.0</td><td>-57.0</td></tr><tr><td>424067</td><td>-128.0</td><td>-128.0</td><td>111.0</td><td>-35.0</td><td>50.0</td><td>-89.0</td><td>-11.0</td><td>127.0</td><td>123.0</td><td>-111.0</td><td>127.0</td><td>-15.0</td><td>127.0</td><td>-110.0</td><td>51.0</td><td>91.0</td><td>-106.0</td><td>-73.0</td><td>81.0</td><td>-128.0</td><td>19.0</td><td>-72.0</td><td>-128.0</td><td>102.0</td><td>-14.0</td><td>72.0</td><td>-128.0</td><td>-128.0</td><td>122.0</td><td>-44.0</td><td>-128.0</td><td>99.0</td><td>96.0</td><td>22.0</td><td>-128.0</td><td>-128.0</td><td>113.0</td><td>67.0</td><td>-128.0</td><td>63.0</td><td>118.0</td><td>-121.0</td><td>-93.0</td><td>4.0</td><td>23.0</td><td>63.0</td><td>19.0</td><td>7.0</td><td>39.0</td><td>125.0</td><td>4.0</td><td>22.0</td><td>48.0</td><td>-128.0</td><td>43.0</td><td>-128.0</td><td>64.0</td><td>-102.0</td><td>-87.0</td><td>-51.0</td><td>53.0</td><td>104.0</td><td>-128.0</td><td>-9.0</td></tr><tr><td>424068</td><td>-128.0</td><td>-128.0</td><td>-3.0</td><td>-128.0</td><td>93.0</td><td>-128.0</td><td>-128.0</td><td>80.0</td><td>-64.0</td><td>116.0</td><td>127.0</td><td>20.0</td><td>127.0</td><td>-128.0</td><td>127.0</td><td>-29.0</td><td>106.0</td><td>-128.0</td><td>-128.0</td><td>10.0</td><td>-45.0</td><td>-1.0</td><td>-128.0</td><td>99.0</td><td>8.0</td><td>6.0</td><td>-64.0</td><td>-64.0</td><td>127.0</td><td>-59.0</td><td>-52.0</td><td>-50.0</td><td>39.0</td><td>40.0</td><td>-128.0</td><td>-128.0</td><td>127.0</td><td>-2.0</td><td>-128.0</td><td>35.0</td><td>21.0</td><td>-87.0</td><td>-128.0</td><td>-12.0</td><td>59.0</td><td>66.0</td><td>-11.0</td><td>74.0</td><td>4.0</td><td>-84.0</td><td>-63.0</td><td>-1.0</td><td>81.0</td><td>-125.0</td><td>17.0</td><td>-118.0</td><td>127.0</td><td>-24.0</td><td>29.0</td><td>48.0</td><td>51.0</td><td>127.0</td><td>73.0</td><td>-2.0</td></tr></tbody></table></div>"
      ],
      "text/plain": [
       "shape: (408_474, 65)\n",
       "┌─────────┬─────────┬─────────┬─────────┬───┬──────────┬──────────┬──────────┬──────────┐\n",
       "│ item_id ┆ field_0 ┆ field_1 ┆ field_2 ┆ … ┆ field_60 ┆ field_61 ┆ field_62 ┆ field_63 │\n",
       "│ ---     ┆ ---     ┆ ---     ┆ ---     ┆   ┆ ---      ┆ ---      ┆ ---      ┆ ---      │\n",
       "│ u32     ┆ f64     ┆ f64     ┆ f64     ┆   ┆ f64      ┆ f64      ┆ f64      ┆ f64      │\n",
       "╞═════════╪═════════╪═════════╪═════════╪═══╪══════════╪══════════╪══════════╪══════════╡\n",
       "│ 1       ┆ -128.0  ┆ 127.0   ┆ 127.0   ┆ … ┆ 114.5    ┆ 122.0    ┆ 66.0     ┆ 23.5     │\n",
       "│ 2       ┆ -128.0  ┆ 91.0    ┆ 127.0   ┆ … ┆ 127.0    ┆ 127.0    ┆ 18.0     ┆ -5.0     │\n",
       "│ 3       ┆ -128.0  ┆ -30.0   ┆ 127.0   ┆ … ┆ 92.0     ┆ 25.0     ┆ -14.0    ┆ 36.0     │\n",
       "│ 4       ┆ -128.0  ┆ 122.0   ┆ 127.0   ┆ … ┆ 117.0    ┆ 41.0     ┆ 49.0     ┆ 9.0      │\n",
       "│ 5       ┆ -128.0  ┆ 42.0    ┆ 127.0   ┆ … ┆ 81.0     ┆ -15.0    ┆ 80.0     ┆ -31.0    │\n",
       "│ …       ┆ …       ┆ …       ┆ …       ┆ … ┆ …        ┆ …        ┆ …        ┆ …        │\n",
       "│ 424063  ┆ -128.0  ┆ -128.0  ┆ 127.0   ┆ … ┆ 52.0     ┆ 127.0    ┆ -3.0     ┆ -69.0    │\n",
       "│ 424064  ┆ -128.0  ┆ -128.0  ┆ 127.0   ┆ … ┆ -55.0    ┆ 127.0    ┆ 44.0     ┆ 14.0     │\n",
       "│ 424065  ┆ -105.0  ┆ -128.0  ┆ 15.0    ┆ … ┆ -15.0    ┆ 127.0    ┆ -19.0    ┆ -57.0    │\n",
       "│ 424067  ┆ -128.0  ┆ -128.0  ┆ 111.0   ┆ … ┆ 53.0     ┆ 104.0    ┆ -128.0   ┆ -9.0     │\n",
       "│ 424068  ┆ -128.0  ┆ -128.0  ┆ -3.0    ┆ … ┆ 51.0     ┆ 127.0    ┆ 73.0     ┆ -2.0     │\n",
       "└─────────┴─────────┴─────────┴─────────┴───┴──────────┴──────────┴──────────┴──────────┘"
      ]
     },
     "execution_count": 10,
     "metadata": {},
     "output_type": "execute_result"
    }
   ],
   "source": [
    "item_features"
   ]
  },
  {
   "cell_type": "code",
   "execution_count": 36,
   "metadata": {},
   "outputs": [
    {
     "name": "stderr",
     "output_type": "stream",
     "text": [
      "/var/folders/1v/2njvtrl903s020_gk0tw647c0000gn/T/ipykernel_41571/3601746106.py:115: DeprecationWarning: The argument `streaming=True` is deprecated and is being replaced by the `engine` argument.\n",
      "  ).collect(streaming=True)\n",
      "/var/folders/1v/2njvtrl903s020_gk0tw647c0000gn/T/ipykernel_41571/3601746106.py:115: DeprecationWarning: The old streaming engine is being deprecated and will soon be replaced by the new streaming engine. Starting Polars version 1.23.0 and until the new streaming engine is released, the old streaming engine may become less usable. For people who rely on the old streaming engine, it is suggested to pin your version to before 1.23.0.\n",
      "\n",
      "More information on the new streaming engine: https://github.com/pola-rs/polars/issues/20947\n",
      "  ).collect(streaming=True)\n",
      "/var/folders/1v/2njvtrl903s020_gk0tw647c0000gn/T/ipykernel_41571/3601746106.py:118: DeprecationWarning: The argument `streaming=True` is deprecated and is being replaced by the `engine` argument.\n",
      "  self.item_mapping = df_text_vec.lazy().collect(streaming=True)\n",
      "/var/folders/1v/2njvtrl903s020_gk0tw647c0000gn/T/ipykernel_41571/3601746106.py:118: DeprecationWarning: The old streaming engine is being deprecated and will soon be replaced by the new streaming engine. Starting Polars version 1.23.0 and until the new streaming engine is released, the old streaming engine may become less usable. For people who rely on the old streaming engine, it is suggested to pin your version to before 1.23.0.\n",
      "\n",
      "More information on the new streaming engine: https://github.com/pola-rs/polars/issues/20947\n",
      "  self.item_mapping = df_text_vec.lazy().collect(streaming=True)\n"
     ]
    }
   ],
   "source": [
    "recommender = LightweightRecommender()\n",
    "recommender.fit(pl.DataFrame(df_train), item_features)"
   ]
  },
  {
   "cell_type": "code",
   "execution_count": 37,
   "metadata": {},
   "outputs": [
    {
     "data": {
      "text/html": [
       "<div><style>\n",
       ".dataframe > thead > tr,\n",
       ".dataframe > tbody > tr {\n",
       "  text-align: right;\n",
       "  white-space: pre-wrap;\n",
       "}\n",
       "</style>\n",
       "<small>shape: (156_112, 3)</small><table border=\"1\" class=\"dataframe\"><thead><tr><th>cookie</th><th>node</th><th>event</th></tr><tr><td>i64</td><td>u32</td><td>i64</td></tr></thead><tbody><tr><td>140658</td><td>232301</td><td>10</td></tr><tr><td>3456</td><td>85601</td><td>10</td></tr><tr><td>88368</td><td>26351</td><td>15</td></tr><tr><td>104498</td><td>214466</td><td>10</td></tr><tr><td>133830</td><td>51168</td><td>19</td></tr><tr><td>&hellip;</td><td>&hellip;</td><td>&hellip;</td></tr><tr><td>111036</td><td>234699</td><td>10</td></tr><tr><td>28511</td><td>51164</td><td>5</td></tr><tr><td>85224</td><td>298594</td><td>15</td></tr><tr><td>68851</td><td>165675</td><td>10</td></tr><tr><td>11191</td><td>115829</td><td>10</td></tr></tbody></table></div>"
      ],
      "text/plain": [
       "shape: (156_112, 3)\n",
       "┌────────┬────────┬───────┐\n",
       "│ cookie ┆ node   ┆ event │\n",
       "│ ---    ┆ ---    ┆ ---   │\n",
       "│ i64    ┆ u32    ┆ i64   │\n",
       "╞════════╪════════╪═══════╡\n",
       "│ 140658 ┆ 232301 ┆ 10    │\n",
       "│ 3456   ┆ 85601  ┆ 10    │\n",
       "│ 88368  ┆ 26351  ┆ 15    │\n",
       "│ 104498 ┆ 214466 ┆ 10    │\n",
       "│ 133830 ┆ 51168  ┆ 19    │\n",
       "│ …      ┆ …      ┆ …     │\n",
       "│ 111036 ┆ 234699 ┆ 10    │\n",
       "│ 28511  ┆ 51164  ┆ 5     │\n",
       "│ 85224  ┆ 298594 ┆ 15    │\n",
       "│ 68851  ┆ 165675 ┆ 10    │\n",
       "│ 11191  ┆ 115829 ┆ 10    │\n",
       "└────────┴────────┴───────┘"
      ]
     },
     "execution_count": 37,
     "metadata": {},
     "output_type": "execute_result"
    }
   ],
   "source": [
    "df_eval"
   ]
  },
  {
   "cell_type": "code",
   "execution_count": 38,
   "metadata": {},
   "outputs": [],
   "source": [
    "users = df_eval[\"cookie\"].unique().to_numpy()"
   ]
  },
  {
   "cell_type": "code",
   "execution_count": 39,
   "metadata": {},
   "outputs": [
    {
     "name": "stderr",
     "output_type": "stream",
     "text": [
      "100%|██████████| 55081/55081 [08:12<00:00, 111.92it/s]\n"
     ]
    }
   ],
   "source": [
    "res = pl.DataFrame()\n",
    "for u_id in tqdm(users, total=users.shape[0]):\n",
    "    r = recommender.recommend(u_id, 40)\n",
    "    r = r.with_columns(pl.lit(u_id).alias(\"cookie\"))\n",
    "    res = pl.concat([res, r])"
   ]
  },
  {
   "cell_type": "code",
   "execution_count": 40,
   "metadata": {},
   "outputs": [
    {
     "data": {
      "text/html": [
       "<div><style>\n",
       ".dataframe > thead > tr,\n",
       ".dataframe > tbody > tr {\n",
       "  text-align: right;\n",
       "  white-space: pre-wrap;\n",
       "}\n",
       "</style>\n",
       "<small>shape: (2_203_240, 3)</small><table border=\"1\" class=\"dataframe\"><thead><tr><th>item_id</th><th>score</th><th>cookie</th></tr><tr><td>i64</td><td>f64</td><td>i32</td></tr></thead><tbody><tr><td>227851</td><td>-254203.703125</td><td>0</td></tr><tr><td>306200</td><td>-249524.65625</td><td>0</td></tr><tr><td>118828</td><td>-248641.03125</td><td>0</td></tr><tr><td>318696</td><td>-247911.0625</td><td>0</td></tr><tr><td>140689</td><td>-245918.046875</td><td>0</td></tr><tr><td>&hellip;</td><td>&hellip;</td><td>&hellip;</td></tr><tr><td>152334</td><td>-277845.28125</td><td>149998</td></tr><tr><td>151741</td><td>-277104.0</td><td>149998</td></tr><tr><td>152538</td><td>-274664.03125</td><td>149998</td></tr><tr><td>152057</td><td>-274187.21875</td><td>149998</td></tr><tr><td>152599</td><td>-273466.25</td><td>149998</td></tr></tbody></table></div>"
      ],
      "text/plain": [
       "shape: (2_203_240, 3)\n",
       "┌─────────┬────────────────┬────────┐\n",
       "│ item_id ┆ score          ┆ cookie │\n",
       "│ ---     ┆ ---            ┆ ---    │\n",
       "│ i64     ┆ f64            ┆ i32    │\n",
       "╞═════════╪════════════════╪════════╡\n",
       "│ 227851  ┆ -254203.703125 ┆ 0      │\n",
       "│ 306200  ┆ -249524.65625  ┆ 0      │\n",
       "│ 118828  ┆ -248641.03125  ┆ 0      │\n",
       "│ 318696  ┆ -247911.0625   ┆ 0      │\n",
       "│ 140689  ┆ -245918.046875 ┆ 0      │\n",
       "│ …       ┆ …              ┆ …      │\n",
       "│ 152334  ┆ -277845.28125  ┆ 149998 │\n",
       "│ 151741  ┆ -277104.0      ┆ 149998 │\n",
       "│ 152538  ┆ -274664.03125  ┆ 149998 │\n",
       "│ 152057  ┆ -274187.21875  ┆ 149998 │\n",
       "│ 152599  ┆ -273466.25     ┆ 149998 │\n",
       "└─────────┴────────────────┴────────┘"
      ]
     },
     "execution_count": 40,
     "metadata": {},
     "output_type": "execute_result"
    }
   ],
   "source": [
    "res.with_columns(pl.col(\"score\").mul(-1))"
   ]
  },
  {
   "cell_type": "code",
   "execution_count": 41,
   "metadata": {},
   "outputs": [
    {
     "data": {
      "text/html": [
       "<div><style>\n",
       ".dataframe > thead > tr,\n",
       ".dataframe > tbody > tr {\n",
       "  text-align: right;\n",
       "  white-space: pre-wrap;\n",
       "}\n",
       "</style>\n",
       "<small>shape: (2_203_240, 3)</small><table border=\"1\" class=\"dataframe\"><thead><tr><th>item_id</th><th>score</th><th>cookie</th></tr><tr><td>i64</td><td>f64</td><td>i32</td></tr></thead><tbody><tr><td>2</td><td>208919.03125</td><td>101820</td></tr><tr><td>2</td><td>211957.828125</td><td>66515</td></tr><tr><td>2</td><td>213673.5625</td><td>113190</td></tr><tr><td>2</td><td>214136.828125</td><td>90146</td></tr><tr><td>2</td><td>214841.296875</td><td>107525</td></tr><tr><td>&hellip;</td><td>&hellip;</td><td>&hellip;</td></tr><tr><td>424032</td><td>296849.46875</td><td>130783</td></tr><tr><td>424032</td><td>305396.125</td><td>73217</td></tr><tr><td>424042</td><td>353179.625</td><td>77237</td></tr><tr><td>424067</td><td>258446.4375</td><td>11163</td></tr><tr><td>424067</td><td>260426.21875</td><td>92495</td></tr></tbody></table></div>"
      ],
      "text/plain": [
       "shape: (2_203_240, 3)\n",
       "┌─────────┬───────────────┬────────┐\n",
       "│ item_id ┆ score         ┆ cookie │\n",
       "│ ---     ┆ ---           ┆ ---    │\n",
       "│ i64     ┆ f64           ┆ i32    │\n",
       "╞═════════╪═══════════════╪════════╡\n",
       "│ 2       ┆ 208919.03125  ┆ 101820 │\n",
       "│ 2       ┆ 211957.828125 ┆ 66515  │\n",
       "│ 2       ┆ 213673.5625   ┆ 113190 │\n",
       "│ 2       ┆ 214136.828125 ┆ 90146  │\n",
       "│ 2       ┆ 214841.296875 ┆ 107525 │\n",
       "│ …       ┆ …             ┆ …      │\n",
       "│ 424032  ┆ 296849.46875  ┆ 130783 │\n",
       "│ 424032  ┆ 305396.125    ┆ 73217  │\n",
       "│ 424042  ┆ 353179.625    ┆ 77237  │\n",
       "│ 424067  ┆ 258446.4375   ┆ 11163  │\n",
       "│ 424067  ┆ 260426.21875  ┆ 92495  │\n",
       "└─────────┴───────────────┴────────┘"
      ]
     },
     "execution_count": 41,
     "metadata": {},
     "output_type": "execute_result"
    }
   ],
   "source": [
    "res.sort(by=[\"item_id\", \"score\"])"
   ]
  },
  {
   "cell_type": "code",
   "execution_count": 42,
   "metadata": {},
   "outputs": [
    {
     "data": {
      "text/html": [
       "<div><style>\n",
       ".dataframe > thead > tr,\n",
       ".dataframe > tbody > tr {\n",
       "  text-align: right;\n",
       "  white-space: pre-wrap;\n",
       "}\n",
       "</style>\n",
       "<small>shape: (2_203_240, 3)</small><table border=\"1\" class=\"dataframe\"><thead><tr><th>item_id</th><th>score</th><th>cookie</th></tr><tr><td>i64</td><td>f64</td><td>i32</td></tr></thead><tbody><tr><td>227851</td><td>-254203.703125</td><td>0</td></tr><tr><td>306200</td><td>-249524.65625</td><td>0</td></tr><tr><td>118828</td><td>-248641.03125</td><td>0</td></tr><tr><td>318696</td><td>-247911.0625</td><td>0</td></tr><tr><td>140689</td><td>-245918.046875</td><td>0</td></tr><tr><td>&hellip;</td><td>&hellip;</td><td>&hellip;</td></tr><tr><td>152334</td><td>-277845.28125</td><td>149998</td></tr><tr><td>151741</td><td>-277104.0</td><td>149998</td></tr><tr><td>152538</td><td>-274664.03125</td><td>149998</td></tr><tr><td>152057</td><td>-274187.21875</td><td>149998</td></tr><tr><td>152599</td><td>-273466.25</td><td>149998</td></tr></tbody></table></div>"
      ],
      "text/plain": [
       "shape: (2_203_240, 3)\n",
       "┌─────────┬────────────────┬────────┐\n",
       "│ item_id ┆ score          ┆ cookie │\n",
       "│ ---     ┆ ---            ┆ ---    │\n",
       "│ i64     ┆ f64            ┆ i32    │\n",
       "╞═════════╪════════════════╪════════╡\n",
       "│ 227851  ┆ -254203.703125 ┆ 0      │\n",
       "│ 306200  ┆ -249524.65625  ┆ 0      │\n",
       "│ 118828  ┆ -248641.03125  ┆ 0      │\n",
       "│ 318696  ┆ -247911.0625   ┆ 0      │\n",
       "│ 140689  ┆ -245918.046875 ┆ 0      │\n",
       "│ …       ┆ …              ┆ …      │\n",
       "│ 152334  ┆ -277845.28125  ┆ 149998 │\n",
       "│ 151741  ┆ -277104.0      ┆ 149998 │\n",
       "│ 152538  ┆ -274664.03125  ┆ 149998 │\n",
       "│ 152057  ┆ -274187.21875  ┆ 149998 │\n",
       "│ 152599  ┆ -273466.25     ┆ 149998 │\n",
       "└─────────┴────────────────┴────────┘"
      ]
     },
     "execution_count": 42,
     "metadata": {},
     "output_type": "execute_result"
    }
   ],
   "source": [
    "res.with_columns(pl.col(\"score\").mul(-1))"
   ]
  },
  {
   "cell_type": "code",
   "execution_count": 43,
   "metadata": {},
   "outputs": [
    {
     "data": {
      "text/plain": [
       "0.0012325348781361566"
      ]
     },
     "execution_count": 43,
     "metadata": {},
     "output_type": "execute_result"
    }
   ],
   "source": [
    "from tools import recall_at\n",
    "df_pred = pl.DataFrame(\n",
    "    res.rename({\"cookie\": \"user_id\"})[[\"user_id\", \"item_id\"]],\n",
    "    schema={\"user_id\": pl.Int64, \"item_id\": pl.Int64}\n",
    "    ).rename({\"user_id\": \"cookie\", \"item_id\": \"node\"})\n",
    "recall_at(df_eval, df_pred, k=40)"
   ]
  },
  {
   "cell_type": "code",
   "execution_count": 22,
   "metadata": {},
   "outputs": [],
   "source": [
    "df_pred.group_by(\"cookie\").head(40)[\"cookie\",\"node\"].write_csv('data/first_stage_prediction_ANN_40.csv')"
   ]
  },
  {
   "cell_type": "code",
   "execution_count": null,
   "metadata": {},
   "outputs": [],
   "source": []
  },
  {
   "cell_type": "markdown",
   "metadata": {},
   "source": [
    "# Submission"
   ]
  },
  {
   "cell_type": "code",
   "execution_count": 8,
   "metadata": {},
   "outputs": [],
   "source": [
    "SEED = 42\n",
    "top_N = 40\n",
    "DATA_DIR = 'data/'\n",
    "\n",
    "df_test_users = pl.read_parquet(f'{DATA_DIR}/test_users.pq')\n",
    "df_clickstream = pl.read_parquet(f'{DATA_DIR}/clickstream.pq')\n",
    "\n",
    "df_cat_features = pl.read_parquet(f'{DATA_DIR}/cat_features_preproc_20.pq')\n",
    "df_text_features = pl.read_parquet(f'{DATA_DIR}/text_features.pq')\n",
    "df_event = pl.read_parquet(f'{DATA_DIR}/events.pq')"
   ]
  },
  {
   "cell_type": "code",
   "execution_count": null,
   "metadata": {},
   "outputs": [],
   "source": []
  },
  {
   "cell_type": "code",
   "execution_count": 9,
   "metadata": {},
   "outputs": [],
   "source": [
    "df_train = dataframe2rectools(df_clickstream)"
   ]
  },
  {
   "cell_type": "code",
   "execution_count": 10,
   "metadata": {},
   "outputs": [],
   "source": [
    "del df_clickstream\n",
    "del df_eval\n",
    "del df_cat_features\n",
    "del df_text_features\n",
    "del df_event"
   ]
  },
  {
   "cell_type": "code",
   "execution_count": 11,
   "metadata": {},
   "outputs": [],
   "source": [
    "from typing import Iterable, List, Any\n",
    "import pandas as pd\n",
    "\n",
    "def chunker(seq: List[Any], batch_size: int) -> Iterable[List[Any]]:\n",
    "    \"\"\"\n",
    "    Yield successive batch_size‐sized chunks from seq.\n",
    "    \"\"\"\n",
    "    for i in range(0, len(seq), batch_size):\n",
    "        yield seq[i : i + batch_size]"
   ]
  },
  {
   "cell_type": "code",
   "execution_count": 12,
   "metadata": {},
   "outputs": [
    {
     "data": {
      "text/html": [
       "<div>\n",
       "<style scoped>\n",
       "    .dataframe tbody tr th:only-of-type {\n",
       "        vertical-align: middle;\n",
       "    }\n",
       "\n",
       "    .dataframe tbody tr th {\n",
       "        vertical-align: top;\n",
       "    }\n",
       "\n",
       "    .dataframe thead th {\n",
       "        text-align: right;\n",
       "    }\n",
       "</style>\n",
       "<table border=\"1\" class=\"dataframe\">\n",
       "  <thead>\n",
       "    <tr style=\"text-align: right;\">\n",
       "      <th></th>\n",
       "      <th>user_id</th>\n",
       "      <th>item_id</th>\n",
       "      <th>datetime</th>\n",
       "      <th>weight</th>\n",
       "    </tr>\n",
       "  </thead>\n",
       "  <tbody>\n",
       "    <tr>\n",
       "      <th>0</th>\n",
       "      <td>0</td>\n",
       "      <td>115659</td>\n",
       "      <td>2025-02-05 02:30:59</td>\n",
       "      <td>1</td>\n",
       "    </tr>\n",
       "    <tr>\n",
       "      <th>1</th>\n",
       "      <td>0</td>\n",
       "      <td>115829</td>\n",
       "      <td>2025-01-24 21:16:57</td>\n",
       "      <td>1</td>\n",
       "    </tr>\n",
       "    <tr>\n",
       "      <th>2</th>\n",
       "      <td>1</td>\n",
       "      <td>7</td>\n",
       "      <td>2025-01-29 23:00:58</td>\n",
       "      <td>1</td>\n",
       "    </tr>\n",
       "    <tr>\n",
       "      <th>3</th>\n",
       "      <td>1</td>\n",
       "      <td>7</td>\n",
       "      <td>2025-02-17 14:55:17</td>\n",
       "      <td>1</td>\n",
       "    </tr>\n",
       "    <tr>\n",
       "      <th>4</th>\n",
       "      <td>1</td>\n",
       "      <td>214458</td>\n",
       "      <td>2025-01-17 19:23:29</td>\n",
       "      <td>1</td>\n",
       "    </tr>\n",
       "    <tr>\n",
       "      <th>...</th>\n",
       "      <td>...</td>\n",
       "      <td>...</td>\n",
       "      <td>...</td>\n",
       "      <td>...</td>\n",
       "    </tr>\n",
       "    <tr>\n",
       "      <th>68806147</th>\n",
       "      <td>149999</td>\n",
       "      <td>71511</td>\n",
       "      <td>2025-01-20 12:23:47</td>\n",
       "      <td>1</td>\n",
       "    </tr>\n",
       "    <tr>\n",
       "      <th>68806148</th>\n",
       "      <td>149999</td>\n",
       "      <td>71514</td>\n",
       "      <td>2025-01-24 14:26:57</td>\n",
       "      <td>1</td>\n",
       "    </tr>\n",
       "    <tr>\n",
       "      <th>68806149</th>\n",
       "      <td>149999</td>\n",
       "      <td>51162</td>\n",
       "      <td>2025-02-12 13:11:42</td>\n",
       "      <td>1</td>\n",
       "    </tr>\n",
       "    <tr>\n",
       "      <th>68806150</th>\n",
       "      <td>149999</td>\n",
       "      <td>71511</td>\n",
       "      <td>2025-02-16 12:35:35</td>\n",
       "      <td>1</td>\n",
       "    </tr>\n",
       "    <tr>\n",
       "      <th>68806151</th>\n",
       "      <td>149999</td>\n",
       "      <td>71524</td>\n",
       "      <td>2025-02-10 13:07:17</td>\n",
       "      <td>1</td>\n",
       "    </tr>\n",
       "  </tbody>\n",
       "</table>\n",
       "<p>68806152 rows × 4 columns</p>\n",
       "</div>"
      ],
      "text/plain": [
       "          user_id  item_id            datetime  weight\n",
       "0               0   115659 2025-02-05 02:30:59       1\n",
       "1               0   115829 2025-01-24 21:16:57       1\n",
       "2               1        7 2025-01-29 23:00:58       1\n",
       "3               1        7 2025-02-17 14:55:17       1\n",
       "4               1   214458 2025-01-17 19:23:29       1\n",
       "...           ...      ...                 ...     ...\n",
       "68806147   149999    71511 2025-01-20 12:23:47       1\n",
       "68806148   149999    71514 2025-01-24 14:26:57       1\n",
       "68806149   149999    51162 2025-02-12 13:11:42       1\n",
       "68806150   149999    71511 2025-02-16 12:35:35       1\n",
       "68806151   149999    71524 2025-02-10 13:07:17       1\n",
       "\n",
       "[68806152 rows x 4 columns]"
      ]
     },
     "execution_count": 12,
     "metadata": {},
     "output_type": "execute_result"
    }
   ],
   "source": [
    "df_train"
   ]
  },
  {
   "cell_type": "code",
   "execution_count": 30,
   "metadata": {},
   "outputs": [
    {
     "name": "stdout",
     "output_type": "stream",
     "text": [
      "23079\n"
     ]
    },
    {
     "name": "stderr",
     "output_type": "stream",
     "text": [
      "0it [00:00, ?it/s]/var/folders/1v/2njvtrl903s020_gk0tw647c0000gn/T/ipykernel_92494/2957007146.py:115: DeprecationWarning: The argument `streaming=True` is deprecated and is being replaced by the `engine` argument.\n",
      "  ).collect(streaming=True)\n",
      "/var/folders/1v/2njvtrl903s020_gk0tw647c0000gn/T/ipykernel_92494/2957007146.py:115: DeprecationWarning: The old streaming engine is being deprecated and will soon be replaced by the new streaming engine. Starting Polars version 1.23.0 and until the new streaming engine is released, the old streaming engine may become less usable. For people who rely on the old streaming engine, it is suggested to pin your version to before 1.23.0.\n",
      "\n",
      "More information on the new streaming engine: https://github.com/pola-rs/polars/issues/20947\n",
      "  ).collect(streaming=True)\n",
      "/var/folders/1v/2njvtrl903s020_gk0tw647c0000gn/T/ipykernel_92494/2957007146.py:118: DeprecationWarning: The argument `streaming=True` is deprecated and is being replaced by the `engine` argument.\n",
      "  self.item_mapping = df_text_vec.lazy().collect(streaming=True)\n",
      "/var/folders/1v/2njvtrl903s020_gk0tw647c0000gn/T/ipykernel_92494/2957007146.py:118: DeprecationWarning: The old streaming engine is being deprecated and will soon be replaced by the new streaming engine. Starting Polars version 1.23.0 and until the new streaming engine is released, the old streaming engine may become less usable. For people who rely on the old streaming engine, it is suggested to pin your version to before 1.23.0.\n",
      "\n",
      "More information on the new streaming engine: https://github.com/pola-rs/polars/issues/20947\n",
      "  self.item_mapping = df_text_vec.lazy().collect(streaming=True)\n",
      "100%|██████████| 23079/23079 [02:42<00:00, 141.62it/s]\n",
      "100%|██████████| 23079/23079 [02:40<00:00, 143.86it/s]\n",
      "100%|██████████| 23079/23079 [02:38<00:00, 145.17it/s]\n",
      "100%|██████████| 23079/23079 [02:51<00:00, 134.72it/s]\n",
      "100%|██████████| 3/3 [00:00<00:00, 157.09it/s]\n",
      "5it [11:15, 135.11s/it]\n"
     ]
    }
   ],
   "source": [
    "all_results = []\n",
    "batch_size = df_test_users.shape[0] // 4\n",
    "print(batch_size)\n",
    "for batch_users in tqdm(chunker(df_test_users, batch_size)):\n",
    "    batch_users = batch_users.to_numpy().flatten()\n",
    "    batch_df = df_train[df_train[\"user_id\"].isin(batch_users)]\n",
    "    recommender = LightweightRecommender()\n",
    "    recommender.fit(pl.DataFrame(batch_df), item_features.rename({\"id\": \"item_id\"}))\n",
    "\n",
    "    res = pl.DataFrame()\n",
    "    for u_id in tqdm(batch_users, total=batch_users.shape[0]):\n",
    "        r = recommender.recommend(u_id, 40)\n",
    "        r = r.with_columns(pl.lit(u_id).alias(\"cookie\"))\n",
    "        res = pl.concat([res, r])\n",
    "\n",
    "    all_results.append(res)"
   ]
  },
  {
   "cell_type": "code",
   "execution_count": 33,
   "metadata": {},
   "outputs": [],
   "source": [
    "final_rec = pl.concat(all_results)"
   ]
  },
  {
   "cell_type": "code",
   "execution_count": 34,
   "metadata": {},
   "outputs": [
    {
     "data": {
      "text/html": [
       "<div><style>\n",
       ".dataframe > thead > tr,\n",
       ".dataframe > tbody > tr {\n",
       "  text-align: right;\n",
       "  white-space: pre-wrap;\n",
       "}\n",
       "</style>\n",
       "<small>shape: (3_692_760, 3)</small><table border=\"1\" class=\"dataframe\"><thead><tr><th>item_id</th><th>score</th><th>cookie</th></tr><tr><td>i64</td><td>f64</td><td>i32</td></tr></thead><tbody><tr><td>259245</td><td>-4252.691298</td><td>52564</td></tr><tr><td>259288</td><td>-4621.843477</td><td>52564</td></tr><tr><td>166430</td><td>-4844.847181</td><td>52564</td></tr><tr><td>115669</td><td>-5668.684475</td><td>52564</td></tr><tr><td>170542</td><td>-5773.388956</td><td>52564</td></tr><tr><td>&hellip;</td><td>&hellip;</td><td>&hellip;</td></tr><tr><td>189742</td><td>-26028.694748</td><td>37487</td></tr><tr><td>231965</td><td>-26292.010587</td><td>37487</td></tr><tr><td>231962</td><td>-26386.805769</td><td>37487</td></tr><tr><td>120739</td><td>-26399.500323</td><td>37487</td></tr><tr><td>122389</td><td>-26449.873878</td><td>37487</td></tr></tbody></table></div>"
      ],
      "text/plain": [
       "shape: (3_692_760, 3)\n",
       "┌─────────┬───────────────┬────────┐\n",
       "│ item_id ┆ score         ┆ cookie │\n",
       "│ ---     ┆ ---           ┆ ---    │\n",
       "│ i64     ┆ f64           ┆ i32    │\n",
       "╞═════════╪═══════════════╪════════╡\n",
       "│ 259245  ┆ -4252.691298  ┆ 52564  │\n",
       "│ 259288  ┆ -4621.843477  ┆ 52564  │\n",
       "│ 166430  ┆ -4844.847181  ┆ 52564  │\n",
       "│ 115669  ┆ -5668.684475  ┆ 52564  │\n",
       "│ 170542  ┆ -5773.388956  ┆ 52564  │\n",
       "│ …       ┆ …             ┆ …      │\n",
       "│ 189742  ┆ -26028.694748 ┆ 37487  │\n",
       "│ 231965  ┆ -26292.010587 ┆ 37487  │\n",
       "│ 231962  ┆ -26386.805769 ┆ 37487  │\n",
       "│ 120739  ┆ -26399.500323 ┆ 37487  │\n",
       "│ 122389  ┆ -26449.873878 ┆ 37487  │\n",
       "└─────────┴───────────────┴────────┘"
      ]
     },
     "execution_count": 34,
     "metadata": {},
     "output_type": "execute_result"
    }
   ],
   "source": [
    "final_rec.rename({\"item_id\": \"node\"})"
   ]
  },
  {
   "cell_type": "code",
   "execution_count": 36,
   "metadata": {},
   "outputs": [],
   "source": [
    "final_rec.rename({\"item_id\": \"node\"}).group_by(\"cookie\").head(40)[\"cookie\",\"node\"].write_csv('data/test_prediction_ANN_40.csv')"
   ]
  },
  {
   "cell_type": "code",
   "execution_count": null,
   "metadata": {},
   "outputs": [],
   "source": []
  }
 ],
 "metadata": {
  "kernelspec": {
   "display_name": "recsys",
   "language": "python",
   "name": "python3"
  },
  "language_info": {
   "codemirror_mode": {
    "name": "ipython",
    "version": 3
   },
   "file_extension": ".py",
   "mimetype": "text/x-python",
   "name": "python",
   "nbconvert_exporter": "python",
   "pygments_lexer": "ipython3",
   "version": "3.1.undefined"
  }
 },
 "nbformat": 4,
 "nbformat_minor": 2
}
